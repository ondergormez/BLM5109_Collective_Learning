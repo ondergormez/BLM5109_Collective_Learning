{
 "cells": [
  {
   "cell_type": "markdown",
   "metadata": {},
   "source": [
    "# Homework 2: Temsillerin / Kararların Birleştirilmesi\n",
    "\n",
    "Ad Soyad: Önder Görmez  \n",
    "Öğrenci No: 21501035\n",
    "\n",
    "# Temsil Nedir? (Text Representation)\n",
    "\n",
    "Metin verilerini sayısal verilere dönüştürmek için çeşitli yöntemler geliştirilmiştir.\n",
    "\n",
    "- Bu yöntemler (temsiller), metin verilerini sayısal verilere dönüştürerek, metin verileri üzerinde makine öğrenmesi modellerinin çalıştırılabilmesini sağlar.\n",
    "- Kullanılan temsil yöntemlerinden bazıları şunlardır:\n",
    "  - Bag of Words (BoW): Bir önceki ödevde kullanılan **CountVectorizer** bu yöntemi uygular. Her kelimeyi ve frekansını bir vektörde tutar.\n",
    "  - N-gram\n",
    "  - TF-IDF: Term Frequency-Inverse Document Frequency\n",
    "  - Embeddings (Word2Vec, GloVe, FastText, BERT, vb.)\n",
    "    - Word Embeddings\n",
    "    - Sentence Embeddings\n",
    "    - Document Embeddings\n"
   ]
  },
  {
   "cell_type": "markdown",
   "metadata": {},
   "source": [
    "# Logger Kullanımı\n",
    "\n",
    "- Oluşturulan kod içerisinde loglama işlemleri için `logging` kütüphanesi kullanılmıştır.\n",
    "- Böylelikle geliştirme aşamasında debug için koyulan kodların çıktılarına bakılarak hata ayıklama işlemleri yapılabilir. Bu kodların çıktıları rapor sunulurken kaldırılacaktır.\n"
   ]
  },
  {
   "cell_type": "code",
   "execution_count": 1,
   "metadata": {},
   "outputs": [
    {
     "name": "stdout",
     "output_type": "stream",
     "text": [
      "[DEBUG] [2024-12-03T10:12:58.809Z] This is a debug message that will be wrapped after 140 characters. This is a debug\n",
      "    message that will be wrapped after 140 characters. This is a debug message that will be wrapped after 140 characters.\n",
      "    This is a debug message that will be wrapped after 140 characters. This is a debug message that will be wrapped after\n",
      "    140 characters. This is a debug message that will be wrapped after 140 characters. This is a debug message that will be\n",
      "    wrapped after 140 characters. This is a debug message that will be wrapped after 140 characters. This is a debug message\n",
      "    that will be wrapped after 140 characters. This is a debug message that will be wrapped after 140 characters.\n",
      "\n",
      "[INFO] [2024-12-03T10:12:58.810Z] Logging is configured successfully.\n"
     ]
    }
   ],
   "source": [
    "import logging\n",
    "import logging.config\n",
    "import yaml\n",
    "import textwrap\n",
    "\n",
    "\n",
    "class CustomFormatter(logging.Formatter):\n",
    "\n",
    "    def format(self, record):\n",
    "        wrapped_message = super().format(record)\n",
    "\n",
    "        # wrap the log messages to 120 characters to better fit the screen\n",
    "        if (len(wrapped_message) > 120):\n",
    "            wrapped_message = \"\\n\".join(textwrap.wrap(wrapped_message, width=120))\n",
    "\n",
    "            # indent the wrapped lines but not the first line\n",
    "            first_line, rest = wrapped_message.split('\\n', 1)\n",
    "            wrapped_message = first_line + '\\n' + textwrap.indent(rest, ' ' * 4) + '\\n'\n",
    "\n",
    "        return wrapped_message\n",
    "\n",
    "\n",
    "HOMEWORK_DIR = '/Users/ondergormez/Repos/BLM5109_Collective_Learning/02-Homeworks/Homework2/'\n",
    "LOGGER_CONFIG_FILE = HOMEWORK_DIR + 'logger_config.yaml'\n",
    "\n",
    "# Load the YAML configuration\n",
    "with open('logger_config.yaml', 'r') as file:\n",
    "    config = yaml.safe_load(file.read())\n",
    "    logging.config.dictConfig(config)\n",
    "\n",
    "# Apply the custom formatter to the selected handler\n",
    "logger = logging.getLogger(\"default_logger\")\n",
    "for handler in logger.handlers:\n",
    "    if isinstance(handler, logging.StreamHandler):\n",
    "        handler.setFormatter(CustomFormatter(handler.formatter._fmt, datefmt=handler.formatter.datefmt))\n",
    "\n",
    "# TODO: Set the log level to INFO\n",
    "logger.setLevel(logging.DEBUG)\n",
    "\n",
    "\n",
    "logger.debug(\"This is a debug message that will be wrapped after 140 characters. \" * 10)\n",
    "logger.info(\"Logging is configured successfully.\")"
   ]
  },
  {
   "cell_type": "markdown",
   "metadata": {},
   "source": [
    "# Sentence Transformers Kullanımı\n",
    "\n",
    "- Bu ödevde, [sentence-transformers](https://www.sbert.net/) kütüphanesini kullanarak, metin verilerini temsil etmeyi ve bu temsiller üzerinde çeşitli işlemler yapmayı öğreneceğiz.\n",
    "- Aşağıda listesi verilen sentence transformers lar kullanılacaktır.\n",
    "- Cosine similarity ile iki metin arasındaki benzerliği hesaplayacağız. Değerin 1'e yakın çıkması iki metin arasındaki benzerliğin yüksek olduğunu gösterir.\n"
   ]
  },
  {
   "cell_type": "markdown",
   "metadata": {},
   "source": [
    "## all-MiniLM-L12-v2\n",
    "\n",
    "https://huggingface.co/sentence-transformers/all-MiniLM-L12-v2\n"
   ]
  },
  {
   "cell_type": "code",
   "execution_count": 2,
   "metadata": {},
   "outputs": [
    {
     "name": "stderr",
     "output_type": "stream",
     "text": [
      "/Users/ondergormez/Repos/python_3_12_2_venv/lib/python3.12/site-packages/tqdm/auto.py:21: TqdmWarning: IProgress not found. Please update jupyter and ipywidgets. See https://ipywidgets.readthedocs.io/en/stable/user_install.html\n",
      "  from .autonotebook import tqdm as notebook_tqdm\n"
     ]
    },
    {
     "name": "stdout",
     "output_type": "stream",
     "text": [
      "[INFO] [2024-12-03T10:13:12.451Z] Cosine similarity between the two sentences: tensor([[0.9206]])\n",
      "[INFO] [2024-12-03T10:13:12.455Z] Shape of the embeddings: (2, 384)\n",
      "[INFO] [2024-12-03T10:13:12.455Z] [[-8.10444951e-02  9.24272686e-02  8.64970088e-02  1.88676696e-02   -5.59543893e-02\n",
      "    -8.02397579e-02  2.28537410e-01  3.58711407e-02    2.61702184e-02  1.26818772e-02  2.86389831e-02  1.48480048e-03\n",
      "    -6.02531731e-02 -7.17783719e-02 -3.08933407e-02 -8.82499386e-03    2.72491202e-02 -2.03576460e-02 -1.29113328e-02\n",
      "    3.74340527e-02   -4.28175479e-02  2.61448696e-02  8.74241367e-02 -1.50004886e-02   -4.75773439e-02  4.27038036e-02\n",
      "    -2.42109112e-02 -2.14731292e-04    2.29928493e-02  4.57353406e-02 -7.13719651e-02  1.92540400e-02    8.71856585e-02\n",
      "    -7.07256468e-03 -1.19195886e-01  4.48273011e-02   -3.94753516e-02 -4.89872843e-02  2.50797514e-02  1.08264359e-02\n",
      "    -3.53915291e-03  1.73944999e-02 -2.60432344e-03  5.29498644e-02    5.35016833e-03 -9.76016372e-02  5.28569445e-02\n",
      "    -5.15007973e-02    6.19342141e-02 -8.22573900e-03 -1.24791889e-02  1.00070266e-02   -1.01643518e-01  1.97086353e-02\n",
      "    3.65725048e-02 -6.00806661e-02    1.35835661e-02  2.65166331e-02 -9.25909635e-03  8.38446319e-02   -1.35013331e-02\n",
      "    7.69368932e-02  8.62629861e-02 -1.31040476e-02    8.18455070e-02 -4.50846041e-03  2.31212452e-02 -2.17016507e-02\n",
      "    3.29392217e-02 -5.43352403e-02  1.75266936e-02  6.61994098e-03    3.07337455e-02  7.38115981e-02  1.15458881e-02\n",
      "    -3.94923426e-02   -1.80346426e-02  3.40141430e-02 -1.17068524e-02  1.34403959e-01    2.13487037e-02 -2.51050536e-02\n",
      "    5.10535063e-03 -5.22026159e-02   -1.69240963e-02  3.67719568e-02  3.34925838e-02 -4.73374054e-02    3.29972133e-02\n",
      "    -5.10000158e-03 -5.51623106e-02  2.74302065e-02    7.86599889e-03  4.45035435e-02 -4.22084630e-02 -5.61575368e-02\n",
      "    -3.82139161e-02 -3.48537788e-02  2.78423186e-02  1.16035044e-01   -1.54434126e-02  1.09671066e-02  5.97425736e-02\n",
      "    4.28702123e-02   -2.64642853e-02  1.86247732e-02  7.16679823e-03  6.69912398e-02    6.20270297e-02 -6.26979470e-02\n",
      "    1.56067042e-02  9.36841220e-02    5.56137823e-02  3.25509384e-02 -3.23475152e-02  9.47507843e-03   -1.60615176e-01\n",
      "    1.10489890e-01 -4.60116677e-02  4.87746075e-02   -3.08342595e-02 -1.39448885e-02  1.18132560e-02  4.78217527e-02\n",
      "    1.12862103e-02 -1.45241618e-01  2.75925896e-03 -1.88321099e-02    1.95355937e-02  3.26225683e-02  7.82452151e-02\n",
      "    2.17822678e-02    5.87280877e-02  4.49172333e-02  2.14392431e-02  1.31293782e-03   -6.46872399e-03 -7.63322338e-02\n",
      "    -2.61692982e-02 -2.28186473e-02   -3.69920172e-02  5.95694110e-02 -2.37315074e-02  5.60088689e-03   -1.87974684e-02\n",
      "    1.70305334e-02  4.01298609e-03  6.23979457e-02    3.08625586e-02  6.28041849e-03  4.66082022e-02  1.22858882e-02\n",
      "    1.43108582e-02  4.60502766e-02  1.09532051e-01  7.94968940e-03    2.75180247e-02  5.13813552e-03 -2.41539646e-02\n",
      "    4.90655936e-02    2.90701371e-02 -3.46497782e-02  1.54648954e-03 -9.74591821e-02   -1.06462883e-02 -1.01553179e-01\n",
      "    4.61434573e-02  1.88425761e-02   -5.95413670e-02  2.21333522e-02 -6.29132846e-03  4.39364538e-02   -5.81338666e-02\n",
      "    2.26479787e-02  1.99454892e-02  2.85396855e-02    5.88841476e-02 -1.78363379e-02 -1.73547473e-02 -5.69917485e-02\n",
      "    -3.02835461e-02 -2.11651046e-02 -5.52495904e-02  2.75574978e-02    1.30948825e-02 -2.27487329e-02 -2.97979712e-02\n",
      "    1.51775852e-02   -1.57299414e-02  8.43417738e-03 -2.81573404e-02 -8.10191929e-02   -8.38566944e-02  2.11213864e-02\n",
      "    -2.27843914e-02  6.86043426e-02   -6.59060329e-02  4.65443321e-02  6.71674907e-02  7.42660388e-02    6.12199754e-02\n",
      "    -4.80646305e-02 -6.66656867e-02  7.86700111e-04    6.12512007e-02 -1.61285866e-02 -2.16254941e-03 -5.27231582e-02\n",
      "    -1.85393319e-02  7.70969763e-02 -7.27611557e-02 -3.86301242e-02   -1.98977292e-02 -3.72703038e-02 -8.53691399e-02\n",
      "    1.15931742e-02   -7.37575348e-03  2.89094895e-02  6.36383742e-02 -3.13628614e-02    2.11508907e-02  2.14583352e-02\n",
      "    1.56543348e-02  5.72975693e-33   -1.93606410e-02 -3.75300013e-02  2.81611979e-02  3.89080332e-03    1.05458815e-02\n",
      "    -7.83824734e-03  6.00794181e-02  6.87591881e-02   -6.99328259e-02  3.55715863e-04  2.90838312e-02 -7.50920177e-02\n",
      "    -1.06486026e-02 -1.41040906e-02  2.02954970e-02 -2.19567716e-02   -1.20715955e-02  5.67832123e-03  4.11878228e-02\n",
      "    3.60219367e-02   -9.34760571e-02  2.58192532e-02 -5.15198819e-02  5.93431219e-02   -4.00321223e-02 -1.68769974e-02\n",
      "    4.65729572e-02 -1.05105631e-01   -5.31785898e-02 -1.19739562e-01 -4.07414921e-02  1.65212862e-02   -6.52755350e-02\n",
      "    -3.58209014e-02  3.40643190e-02 -3.51345390e-02   -1.17405839e-01 -1.02810478e-02  4.17279676e-02 -4.18080963e-05\n",
      "    -1.34926913e-02 -7.11905509e-02 -4.00217762e-03 -4.62133763e-03   -3.62489261e-02  4.74946499e-02  3.01231556e-02\n",
      "    -5.44312894e-02    3.62384580e-02  8.26907530e-02 -9.64481160e-02  4.81627025e-02    1.47310579e-02  2.80671590e-03\n",
      "    8.85707233e-03  3.31416056e-02   -2.24983525e-02 -1.95112322e-02  8.59186053e-02  3.18003297e-02   -9.77605134e-02\n",
      "    4.16425914e-02 -1.50306690e-02  1.02098212e-01    8.81536826e-02  1.74550507e-02 -3.85625623e-02  9.90430824e-03\n",
      "    -3.74592654e-02  3.10755577e-02  2.58098915e-02 -4.80917133e-02   -6.42666146e-02  2.83456072e-02 -3.00485492e-02\n",
      "    -5.19734807e-02   -4.95126843e-02  5.14073931e-02 -6.41986122e-03 -5.01047820e-02   -2.76528988e-02 -5.65056968e-03\n",
      "    1.02905564e-01 -5.28837666e-02   -6.16761819e-02 -3.05784284e-03  6.70680776e-02 -5.47035448e-02    4.42262217e-02\n",
      "    2.40503866e-02  2.58071721e-02 -2.02418864e-02    2.63431892e-02  1.48773128e-02  3.68752852e-02  2.80748527e-34\n",
      "    -4.59647588e-02 -1.44475624e-01 -8.46001580e-02 -4.10106592e-02    3.31144966e-02 -6.25105528e-03  2.63179392e-02\n",
      "    -1.02810398e-01   -6.75351322e-02  5.35946600e-02  3.43724154e-02  3.06760799e-03   -5.37890755e-03  4.80891280e-02\n",
      "    1.16552440e-02 -7.71317333e-02   -3.91810276e-02 -3.38657275e-02 -8.80649909e-02  2.00754087e-02    9.26259905e-02\n",
      "    5.16836569e-02  1.16832271e-01  6.33866116e-02    1.12252366e-02  1.14586614e-02 -7.10796043e-02 -4.88391444e-02\n",
      "    -6.55123889e-02  9.56427585e-03  1.19585755e-04  8.44344404e-03   -7.26237446e-02 -9.57509968e-03  5.24511635e-02\n",
      "    -8.49398300e-02    8.32563564e-02 -8.41211975e-02  5.60982153e-02 -2.30144374e-02    2.53700156e-04  3.13970372e-02\n",
      "    3.04547530e-02  5.51269278e-02   -1.94873028e-02 -2.70161740e-02  6.01496510e-02 -9.93370116e-02   -9.52779141e-04\n",
      "    2.66992170e-02  7.59881586e-02  2.25695148e-02   -5.56591935e-02  7.31513724e-02  8.67888704e-03 -7.15937912e-02\n",
      "    2.12430190e-02  3.21734250e-02 -2.39003040e-02  1.07425516e-02    5.73589392e-02  3.16477865e-02 -2.25144736e-02\n",
      "    4.94580716e-02]  [-6.43662810e-02  8.54322314e-02  1.09407037e-01  3.18492111e-03   -5.77010214e-02 -9.26196799e-02\n",
      "    1.60790488e-01  1.61708537e-02    2.59022936e-02 -2.27864794e-02  1.84650216e-02 -2.97064539e-02   -3.99830639e-02\n",
      "    -3.53712365e-02 -4.99975234e-02 -1.38774905e-02    3.61326872e-03 -2.75190584e-02 -3.38191763e-02  2.88174301e-02\n",
      "    -3.92918549e-02  1.20671792e-02  7.22526684e-02 -3.60749625e-02   -4.97446135e-02  4.81281839e-02 -3.02287415e-02\n",
      "    -4.36901152e-02    6.01095445e-02  4.37675230e-02 -4.92149740e-02  1.68105140e-02    7.80281499e-02  2.91056698e-04\n",
      "    -1.22908279e-01  2.67706495e-02   -1.67420115e-02 -4.95154485e-02  2.78603621e-02 -5.37071936e-03    2.57401560e-02\n",
      "    1.93445180e-02 -1.24290753e-02  2.73087863e-02   -5.53644355e-03 -1.18075810e-01  4.20456268e-02 -6.21536188e-02\n",
      "    5.71346730e-02 -3.18000689e-02 -7.04841465e-02  1.78595893e-02   -8.51051882e-02  1.94967650e-02  2.86792889e-02\n",
      "    -4.17600423e-02    1.94521341e-02  2.88293678e-02 -1.02375401e-02  9.50937867e-02   -1.25463754e-02  6.74764588e-02\n",
      "    7.96424001e-02 -2.61102170e-02    8.27717930e-02 -3.61456797e-02  7.13587878e-03 -3.49845588e-02    1.09283067e-03\n",
      "    -7.21144527e-02  2.49782316e-02  3.48640792e-02    4.02185619e-02  3.64141129e-02 -7.47069810e-03 -5.91463707e-02\n",
      "    1.96544286e-02  6.63792938e-02 -1.90064013e-02  1.20183900e-01    3.03476024e-02 -3.56372409e-02  2.32255668e-03\n",
      "    -6.09188564e-02   -1.85586978e-02  3.95494960e-02  3.28485854e-02 -6.21429831e-02    6.53427318e-02 -1.42814117e-02\n",
      "    -2.19371226e-02  5.43359555e-02   -7.75861740e-03  6.11433424e-02 -9.64265689e-03 -4.14613225e-02   -4.21767756e-02\n",
      "    -1.70890857e-02  1.82333998e-02  8.91022682e-02    6.48146402e-03  7.98979402e-03  5.76780252e-02  4.92827669e-02\n",
      "    -3.23848948e-02  2.69837528e-02  1.33025199e-02  4.14497107e-02    4.41436730e-02 -5.65716177e-02  1.43225463e-02\n",
      "    1.04433231e-01    6.84718192e-02  3.99435423e-02 -9.64429695e-03  5.15758060e-02   -1.44927531e-01  1.26008898e-01\n",
      "    -4.00380753e-02  3.93698998e-02   -1.18334414e-02 -1.70856249e-02 -7.66188046e-03  1.72315855e-02   -2.19190097e-03\n",
      "    -1.27612427e-01 -9.67308506e-03  1.24090267e-02    5.74018061e-03  6.89969808e-02  7.83619732e-02  5.57986461e-02\n",
      "    7.66929537e-02  3.61906327e-02 -1.38098961e-02 -1.68827139e-02   -4.41183383e-03 -7.50159621e-02 -4.85147499e-02\n",
      "    -3.34609821e-02   -5.00466768e-03  7.72422329e-02 -5.10110147e-02 -1.67434663e-02   -3.84773612e-02 -2.00049132e-02\n",
      "    1.18192257e-02  8.40351507e-02    1.31243365e-02  3.85090858e-02  5.39459698e-02 -1.70715246e-03    2.07188707e-02\n",
      "    4.27684672e-02  7.16932043e-02  6.02421723e-03    3.53403538e-02  4.89699394e-02 -4.79374230e-02  2.82899272e-02\n",
      "    9.03874449e-03 -7.13606551e-02  3.31105813e-02 -6.33580238e-02   -1.88867301e-02 -1.06485747e-01  6.47545382e-02\n",
      "    9.06124990e-03   -3.74178737e-02  3.67262363e-02  2.50026677e-03  3.94890234e-02   -6.26254529e-02  2.31513777e-03\n",
      "    4.66216449e-03  3.25571261e-02    6.77088797e-02 -2.99070533e-02 -3.60664800e-02 -6.11931905e-02   -3.00886370e-02\n",
      "    -7.70214899e-03 -7.37589970e-02  1.07295038e-02    3.26117463e-02 -4.09444757e-02 -5.65943727e-03  3.03670242e-02\n",
      "    -5.97825227e-03 -2.08632573e-02 -4.54727821e-02 -4.33471762e-02   -8.05658251e-02 -5.75257558e-03 -2.61914302e-02\n",
      "    9.01783705e-02   -1.12177171e-01  6.32315278e-02  2.48368476e-02  4.63196710e-02    5.94863929e-02 -5.00290729e-02\n",
      "    -1.03734545e-01  1.88785717e-02    6.00096509e-02 -4.85017523e-02 -1.58415344e-02 -5.21034561e-02   -2.10227948e-02\n",
      "    9.36575085e-02 -6.51068613e-02 -2.33328734e-02   -7.88321812e-03 -5.03127910e-02 -8.59297290e-02 -1.09456871e-02\n",
      "    1.92067809e-02  2.39739660e-02  6.39510304e-02 -2.24264041e-02    4.32549901e-02  1.18750497e-03 -1.60865847e-03\n",
      "    3.62843404e-33    2.79861677e-04 -1.50603186e-02  5.76497540e-02  8.03816505e-03    1.76644195e-02 -2.18999907e-02\n",
      "    5.22692390e-02  6.00390360e-02   -5.89628927e-02  8.42357054e-03  5.82391657e-02 -5.33692949e-02   -3.56247611e-02\n",
      "    2.11461745e-02  3.31864543e-02 -1.41391726e-02   -8.52588657e-03  3.63509320e-02  1.31856585e-02  2.84343418e-02\n",
      "    -7.74626210e-02  1.98791306e-02 -7.39780739e-02  4.68774959e-02   -4.61253971e-02 -3.43067907e-02  4.96170446e-02\n",
      "    -5.96883111e-02   -8.17217603e-02 -9.86987576e-02 -4.15886417e-02  4.17252332e-02   -1.00344054e-01 -1.65905766e-02\n",
      "    3.05342171e-02 -1.99997835e-02   -1.31058723e-01 -3.26678604e-02  4.80893180e-02  6.62742276e-03   -3.02433334e-02\n",
      "    -1.05619147e-01 -2.59814002e-02 -2.50951108e-02   -1.65886804e-02  6.34960309e-02  2.42816638e-02 -5.71773909e-02\n",
      "    3.59649509e-02  7.38853663e-02 -9.77763310e-02  4.81614582e-02    3.43647785e-02 -8.69414862e-03  1.60239935e-02\n",
      "    4.84928302e-02    5.43138525e-03  1.23204878e-02  1.20039426e-01  7.57045448e-02   -1.03670701e-01  1.39697632e-02\n",
      "    -2.32560951e-02  7.75205642e-02    6.14343658e-02  2.57200897e-02  1.74898542e-02  1.78792682e-02   -2.14237422e-02\n",
      "    4.33379486e-02  6.98774029e-03 -5.76634258e-02   -5.34206852e-02  3.03003583e-02 -3.80939692e-02 -5.52198105e-02\n",
      "    -5.34384996e-02  5.69264479e-02  7.61176320e-03 -7.49197379e-02    1.47690661e-02 -4.46976759e-02  1.35918185e-01\n",
      "    -7.56118372e-02   -2.94576883e-02 -7.74026429e-03  7.61811063e-02 -6.14151098e-02    1.04458295e-02  5.34146503e-02\n",
      "    2.52769571e-02 -3.33570829e-03    7.26282457e-03 -2.02713441e-02  4.69308235e-02  7.71862725e-33   -3.99443284e-02\n",
      "    -1.10023491e-01 -6.81670308e-02 -1.52065707e-02    2.35316698e-02  1.93740614e-02  2.09973846e-02 -9.23100859e-02\n",
      "    -7.12708458e-02  3.14623006e-02  2.06717122e-02 -1.32388026e-02   -2.56149471e-03  3.87353115e-02  2.32282765e-02\n",
      "    -1.04343019e-01   -3.27322719e-04  4.86648554e-04 -4.14006114e-02 -1.05561977e-02    7.87744299e-02  3.86074139e-03\n",
      "    1.19579718e-01  5.80194667e-02    2.76025962e-02 -6.16284041e-03 -2.43130904e-02 -7.28026852e-02   -9.29956287e-02\n",
      "    3.25330310e-02  2.88901608e-02  6.36264728e-03   -7.05435425e-02 -1.50474003e-02  4.64453101e-02 -9.58614722e-02\n",
      "    8.62181261e-02 -7.34266713e-02  5.05507886e-02 -2.68880930e-02    1.88378468e-02  2.29593832e-02  3.86050669e-03\n",
      "    8.99444520e-02    2.30317633e-03 -3.68658938e-02  5.27676344e-02 -7.06110224e-02    8.83935578e-03  4.30217534e-02\n",
      "    4.79492433e-02  6.96520833e-03   -2.40214374e-02  7.00232089e-02  1.54419020e-02 -5.66854551e-02   -8.64740554e-03\n",
      "    2.51839329e-02  1.24133693e-03  4.41264920e-03    5.96561432e-02  5.03316112e-02 -4.83697765e-02  3.86675447e-02]]\n",
      "\n"
     ]
    }
   ],
   "source": [
    "import pandas as pd\n",
    "from sentence_transformers import SentenceTransformer\n",
    "from sentence_transformers.util import cos_sim\n",
    "sentences = ['That is a happy person', 'That is a very happy person']\n",
    "\n",
    "model = SentenceTransformer('sentence-transformers/all-MiniLM-L12-v2')\n",
    "embeddings = model.encode(sentences)\n",
    "\n",
    "all_MiniLM_L12_v2_cosine_similarity = cos_sim(embeddings[0], embeddings[1])\n",
    "logger.info(\"Cosine similarity between the two sentences: \" + str(all_MiniLM_L12_v2_cosine_similarity))\n",
    "\n",
    "df = pd.DataFrame(columns=['Model Name', 'Cosine Similarity', 'Embedding Shape'])\n",
    "df.loc[len(df)] = ['all-MiniLM-L12-v2', all_MiniLM_L12_v2_cosine_similarity, embeddings.shape]\n",
    "\n",
    "logger.info(\"Shape of the embeddings: \" + str(embeddings.shape))\n",
    "logger.info(embeddings)"
   ]
  },
  {
   "cell_type": "markdown",
   "metadata": {},
   "source": [
    "## gte-large\n",
    "\n",
    "https://huggingface.co/thenlper/gte-large\n"
   ]
  },
  {
   "cell_type": "code",
   "execution_count": 3,
   "metadata": {},
   "outputs": [
    {
     "name": "stdout",
     "output_type": "stream",
     "text": [
      "[INFO] [2024-12-03T09:49:03.436Z] Cosine similarity between the two sentences: tensor([[0.9812]])\n",
      "[INFO] [2024-12-03T09:49:03.438Z] Shape of the embeddings: (2, 1024)\n",
      "[INFO] [2024-12-03T09:49:03.438Z] [[-0.01598089  0.02115663 -0.01418988 ... -0.00528673 -0.01389631    0.00070975]\n",
      "    [-0.01099973  0.01510861 -0.01377776 ... -0.01796381 -0.01109363    0.00920461]]\n",
      "\n"
     ]
    }
   ],
   "source": [
    "\n",
    "model = SentenceTransformer('thenlper/gte-large')\n",
    "embeddings = model.encode(sentences)\n",
    "\n",
    "gte_large_cosine_similarity = cos_sim(embeddings[0], embeddings[1])\n",
    "logger.info(\"Cosine similarity between the two sentences: \" + str(gte_large_cosine_similarity))\n",
    "\n",
    "df.loc[len(df)] = ['gte-large', gte_large_cosine_similarity, embeddings.shape]\n",
    "\n",
    "logger.info(\"Shape of the embeddings: \" + str(embeddings.shape))\n",
    "logger.info(embeddings)"
   ]
  },
  {
   "cell_type": "markdown",
   "metadata": {},
   "source": [
    "## Multilingual-E5-large-instruct\n",
    "\n",
    "https://huggingface.co/intfloat/multilingual-e5-large-instruct\n"
   ]
  },
  {
   "cell_type": "code",
   "execution_count": 4,
   "metadata": {},
   "outputs": [
    {
     "name": "stdout",
     "output_type": "stream",
     "text": [
      "[INFO] [2024-12-03T09:49:08.649Z] Cosine similarity between the two sentences: tensor([[0.9825]])\n",
      "[INFO] [2024-12-03T09:49:08.650Z] Shape of the embeddings: (2, 1024)\n",
      "[INFO] [2024-12-03T09:49:08.651Z] [[ 0.03151183  0.0149784  -0.02529267 ... -0.02180212 -0.04127268    0.02211083]  [\n",
      "    0.03164333  0.02519069 -0.02216943 ... -0.02840343 -0.04432098    0.02578849]]\n",
      "\n"
     ]
    }
   ],
   "source": [
    "model = SentenceTransformer('intfloat/multilingual-e5-large-instruct')\n",
    "\n",
    "embeddings = model.encode(sentences)\n",
    "\n",
    "multilingual_e5_large_instruct_cosine_similarity = cos_sim(embeddings[0], embeddings[1])\n",
    "logger.info(\"Cosine similarity between the two sentences: \" + str(multilingual_e5_large_instruct_cosine_similarity))\n",
    "\n",
    "df.loc[len(df)] = ['multilingual-e5-large-instruct', multilingual_e5_large_instruct_cosine_similarity, embeddings.shape]\n",
    "\n",
    "logger.info(\"Shape of the embeddings: \" + str(embeddings.shape))\n",
    "logger.info(embeddings)"
   ]
  },
  {
   "cell_type": "markdown",
   "metadata": {},
   "source": [
    "# nomic-embed-text-v1\n",
    "\n",
    "https://huggingface.co/nomic-ai/nomic-embed-text-v1\n"
   ]
  },
  {
   "cell_type": "code",
   "execution_count": 5,
   "metadata": {},
   "outputs": [
    {
     "name": "stderr",
     "output_type": "stream",
     "text": [
      "/Users/ondergormez/.cache/huggingface/modules/transformers_modules/nomic-ai/nomic-bert-2048/eb02ceb48c1fdcc477ff1925c9732c379f0f0d1f/modeling_hf_nomic_bert.py:108: FutureWarning: You are using `torch.load` with `weights_only=False` (the current default value), which uses the default pickle module implicitly. It is possible to construct malicious pickle data which will execute arbitrary code during unpickling (See https://github.com/pytorch/pytorch/blob/main/SECURITY.md#untrusted-models for more details). In a future release, the default value for `weights_only` will be flipped to `True`. This limits the functions that could be executed during unpickling. Arbitrary objects will no longer be allowed to be loaded via this mode unless they are explicitly allowlisted by the user via `torch.serialization.add_safe_globals`. We recommend you start setting `weights_only=True` for any use case where you don't have full control of the loaded file. Please open an issue on GitHub for any issues related to this experimental feature.\n",
      "  state_dict = loader(resolved_archive_file)\n",
      "<All keys matched successfully>\n"
     ]
    },
    {
     "name": "stdout",
     "output_type": "stream",
     "text": [
      "[INFO] [2024-12-03T09:49:15.083Z] Cosine similarity between the two sentences: tensor([[0.9538]])\n",
      "[INFO] [2024-12-03T09:49:15.084Z] Shape of the embeddings: (2, 768)\n",
      "[INFO] [2024-12-03T09:49:15.085Z] [[ 0.04123023  0.06826035 -0.00916972 ...  0.03575844  0.01540036   -0.00475996]  [\n",
      "    0.03636549  0.08672782 -0.00809689 ...  0.02911957  0.00933331   -0.02031941]]\n",
      "\n"
     ]
    }
   ],
   "source": [
    "model = SentenceTransformer(\"nomic-ai/nomic-embed-text-v1\", trust_remote_code=True)\n",
    "\n",
    "embeddings = model.encode(sentences)\n",
    "\n",
    "nomic_embed_text_v1_cosine_similarity = cos_sim(embeddings[0], embeddings[1])\n",
    "logger.info(\"Cosine similarity between the two sentences: \" + str(nomic_embed_text_v1_cosine_similarity))\n",
    "\n",
    "df.loc[len(df)] = ['nomic-embed-text-v1', nomic_embed_text_v1_cosine_similarity, embeddings.shape]\n",
    "\n",
    "logger.info(\"Shape of the embeddings: \" + str(embeddings.shape))\n",
    "logger.info(embeddings)"
   ]
  },
  {
   "cell_type": "markdown",
   "metadata": {},
   "source": [
    "# all-mpnet-base-v2\n",
    "\n",
    "https://huggingface.co/sentence-transformers/all-mpnet-base-v2\n",
    "\n",
    "- It maps sentences & paragraphs to a 768 dimensional dense vector space and can be used for tasks like clustering or semantic search.\n"
   ]
  },
  {
   "cell_type": "code",
   "execution_count": 6,
   "metadata": {},
   "outputs": [
    {
     "name": "stdout",
     "output_type": "stream",
     "text": [
      "[INFO] [2024-12-03T09:49:17.948Z] Cosine similarity between the two sentences: tensor([[0.9666]])\n",
      "[INFO] [2024-12-03T09:49:17.950Z] Shape of the embeddings: (2, 768)\n",
      "[INFO] [2024-12-03T09:49:17.950Z] [[-0.02034429 -0.01042639  0.00858659 ... -0.01021324  0.0131486   -0.00532225]\n",
      "    [-0.0135762   0.00433917  0.00906899 ... -0.01409798  0.02066442   -0.00540235]]\n",
      "\n"
     ]
    }
   ],
   "source": [
    "model = SentenceTransformer('sentence-transformers/all-mpnet-base-v2')\n",
    "\n",
    "embeddings = model.encode(sentences)\n",
    "\n",
    "all_mpnet_base_v2_cosine_similarity = cos_sim(embeddings[0], embeddings[1])\n",
    "logger.info(\"Cosine similarity between the two sentences: \" + str(all_mpnet_base_v2_cosine_similarity))\n",
    "\n",
    "df.loc[len(df)] = ['all-mpnet-base-v2', all_mpnet_base_v2_cosine_similarity, embeddings.shape]\n",
    "\n",
    "logger.info(\"Shape of the embeddings: \" + str(embeddings.shape))\n",
    "logger.info(embeddings)"
   ]
  },
  {
   "cell_type": "markdown",
   "metadata": {},
   "source": [
    "## Temsillere Ait Özet Bilgiler\n"
   ]
  },
  {
   "cell_type": "code",
   "execution_count": 7,
   "metadata": {},
   "outputs": [
    {
     "data": {
      "text/html": [
       "<div>\n",
       "<style scoped>\n",
       "    .dataframe tbody tr th:only-of-type {\n",
       "        vertical-align: middle;\n",
       "    }\n",
       "\n",
       "    .dataframe tbody tr th {\n",
       "        vertical-align: top;\n",
       "    }\n",
       "\n",
       "    .dataframe thead th {\n",
       "        text-align: right;\n",
       "    }\n",
       "</style>\n",
       "<table border=\"1\" class=\"dataframe\">\n",
       "  <thead>\n",
       "    <tr style=\"text-align: right;\">\n",
       "      <th></th>\n",
       "      <th>Model Name</th>\n",
       "      <th>Cosine Similarity</th>\n",
       "      <th>Embedding Shape</th>\n",
       "    </tr>\n",
       "  </thead>\n",
       "  <tbody>\n",
       "    <tr>\n",
       "      <th>0</th>\n",
       "      <td>all-MiniLM-L12-v2</td>\n",
       "      <td>[[tensor(0.9206)]]</td>\n",
       "      <td>(2, 384)</td>\n",
       "    </tr>\n",
       "    <tr>\n",
       "      <th>1</th>\n",
       "      <td>gte-large</td>\n",
       "      <td>[[tensor(0.9812)]]</td>\n",
       "      <td>(2, 1024)</td>\n",
       "    </tr>\n",
       "    <tr>\n",
       "      <th>2</th>\n",
       "      <td>multilingual-e5-large-instruct</td>\n",
       "      <td>[[tensor(0.9825)]]</td>\n",
       "      <td>(2, 1024)</td>\n",
       "    </tr>\n",
       "    <tr>\n",
       "      <th>3</th>\n",
       "      <td>nomic-embed-text-v1</td>\n",
       "      <td>[[tensor(0.9538)]]</td>\n",
       "      <td>(2, 768)</td>\n",
       "    </tr>\n",
       "    <tr>\n",
       "      <th>4</th>\n",
       "      <td>all-mpnet-base-v2</td>\n",
       "      <td>[[tensor(0.9666)]]</td>\n",
       "      <td>(2, 768)</td>\n",
       "    </tr>\n",
       "  </tbody>\n",
       "</table>\n",
       "</div>"
      ],
      "text/plain": [
       "                       Model Name   Cosine Similarity Embedding Shape\n",
       "0               all-MiniLM-L12-v2  [[tensor(0.9206)]]        (2, 384)\n",
       "1                       gte-large  [[tensor(0.9812)]]       (2, 1024)\n",
       "2  multilingual-e5-large-instruct  [[tensor(0.9825)]]       (2, 1024)\n",
       "3             nomic-embed-text-v1  [[tensor(0.9538)]]        (2, 768)\n",
       "4               all-mpnet-base-v2  [[tensor(0.9666)]]        (2, 768)"
      ]
     },
     "metadata": {},
     "output_type": "display_data"
    }
   ],
   "source": [
    "display(df)"
   ]
  },
  {
   "cell_type": "markdown",
   "metadata": {},
   "source": [
    "# Dataset'in Seçimi\n",
    "\n",
    "https://github.com/selimfirat/bilkent-turkish-writings-dataset/blob/master/data/texts.csv\n",
    "\n",
    "- Özellikleri her Türkçe 101 ve Türkçe 102 öğrencilerinin yazdığı yazıları içeriyor.\n",
    "- 6844 yazı var ve 33.1 MB boyutunda.\n"
   ]
  },
  {
   "cell_type": "markdown",
   "metadata": {},
   "source": [
    "https://github.com/stefan-it/turkish-bert\n"
   ]
  },
  {
   "cell_type": "markdown",
   "metadata": {},
   "source": [
    "STS English dataset.\n"
   ]
  },
  {
   "cell_type": "markdown",
   "metadata": {},
   "source": [
    "## A Benchmark Data for Turkish Text Categorization\n",
    "\n",
    "https://www.kaggle.com/datasets/savasy/ttc4900/data\n",
    "\n",
    "- Veri seti içerisinde 4900 adet Türkçe metin bulunmaktadır.\n",
    "- Bu metinler 7 farklı kategoriye ayrılmıştır.\n",
    "- Çalışmanın yapıldığı klasöre veri seti indirildi.\n"
   ]
  },
  {
   "cell_type": "code",
   "execution_count": 3,
   "metadata": {},
   "outputs": [
    {
     "name": "stdout",
     "output_type": "stream",
     "text": [
      "[INFO] [2024-12-03T10:13:27.065Z] Shape of the dataframe: (4901, 2)\n"
     ]
    },
    {
     "data": {
      "text/html": [
       "<div>\n",
       "<style scoped>\n",
       "    .dataframe tbody tr th:only-of-type {\n",
       "        vertical-align: middle;\n",
       "    }\n",
       "\n",
       "    .dataframe tbody tr th {\n",
       "        vertical-align: top;\n",
       "    }\n",
       "\n",
       "    .dataframe thead th {\n",
       "        text-align: right;\n",
       "    }\n",
       "</style>\n",
       "<table border=\"1\" class=\"dataframe\">\n",
       "  <thead>\n",
       "    <tr style=\"text-align: right;\">\n",
       "      <th></th>\n",
       "      <th>label</th>\n",
       "      <th>sentence</th>\n",
       "    </tr>\n",
       "  </thead>\n",
       "  <tbody>\n",
       "    <tr>\n",
       "      <th>0</th>\n",
       "      <td>category</td>\n",
       "      <td>text</td>\n",
       "    </tr>\n",
       "    <tr>\n",
       "      <th>1</th>\n",
       "      <td>siyaset</td>\n",
       "      <td>3 milyon ile ön seçim vaadi mhp nin 10 olağan...</td>\n",
       "    </tr>\n",
       "    <tr>\n",
       "      <th>2</th>\n",
       "      <td>siyaset</td>\n",
       "      <td>mesut_yılmaz yüce_divan da ceza alabilirdi pr...</td>\n",
       "    </tr>\n",
       "    <tr>\n",
       "      <th>3</th>\n",
       "      <td>siyaset</td>\n",
       "      <td>disko lar kaldırılıyor başbakan_yardımcısı ar...</td>\n",
       "    </tr>\n",
       "    <tr>\n",
       "      <th>4</th>\n",
       "      <td>siyaset</td>\n",
       "      <td>sarıgül anayasa_mahkemesi ne gidiyor mustafa_...</td>\n",
       "    </tr>\n",
       "  </tbody>\n",
       "</table>\n",
       "</div>"
      ],
      "text/plain": [
       "      label                                           sentence\n",
       "0  category                                               text\n",
       "1  siyaset    3 milyon ile ön seçim vaadi mhp nin 10 olağan...\n",
       "2  siyaset    mesut_yılmaz yüce_divan da ceza alabilirdi pr...\n",
       "3  siyaset    disko lar kaldırılıyor başbakan_yardımcısı ar...\n",
       "4  siyaset    sarıgül anayasa_mahkemesi ne gidiyor mustafa_..."
      ]
     },
     "execution_count": 3,
     "metadata": {},
     "output_type": "execute_result"
    }
   ],
   "source": [
    "import pandas as pd\n",
    "\n",
    "FILE_PATH = HOMEWORK_DIR + '7allV03.csv'\n",
    "\n",
    "df = pd.read_csv(FILE_PATH, names=['label', 'sentence'], sep=',')\n",
    "\n",
    "logger.info(\"Shape of the dataframe: \" + str(df.shape))\n",
    "df.head()"
   ]
  },
  {
   "cell_type": "markdown",
   "metadata": {},
   "source": [
    "# Veri Setinin Dağılımı Hakkında Bilgi Edinilmesi\n",
    "\n",
    "- Veri setindeki sınıfların dağılımı bize veri setini nasıl parçalara ayıracağımız hakkında önemli bilgiler vermektedir.\n",
    "- Bu nedenle veri setini inceleyelim ve sınıfların dağılımını bar plot olarak görelim.\n",
    "\n",
    "## Bar Plot'un Oluşturulması\n",
    "\n",
    "- Bar plot için aşağıdaki şekilde bir fonksiyon oluşturulmuştır.\n"
   ]
  },
  {
   "cell_type": "code",
   "execution_count": null,
   "metadata": {},
   "outputs": [],
   "source": [
    "import matplotlib.pyplot as plt\n",
    "\n",
    "\n",
    "def plot_data_set(data_df, title):\n",
    "\n",
    "    # Plot a histogram of the acceptance status\n",
    "    labels = data_df['label'].value_counts()\n",
    "\n",
    "    total_count = len(data_df)\n",
    "    value_labels_array = []\n",
    "    catagory_counts = []\n",
    "    catagory_percentages_str = []\n",
    "    for label, count in labels.items():\n",
    "        logger.info(f\"Label: {label}, Count: {count}\")\n",
    "        value_labels_array.append(label)\n",
    "        catagory_counts.append(count)\n",
    "        catagory_percentages_str.append(f\"{(count / total_count) * 100:.2f}%\")\n",
    "\n",
    "    logger.debug(\"Total Count: \" + str(total_count))\n",
    "    logger.debug(value_labels_array)\n",
    "    logger.debug(catagory_counts)\n",
    "    logger.debug(catagory_percentages_str)\n",
    "\n",
    "    # Create a bar plot\n",
    "    plt.figure(figsize=(15, 7))\n",
    "    bars = plt.bar(range(len(catagory_counts)), catagory_counts)\n",
    "\n",
    "    # Add value over the bars\n",
    "    for bar in bars:\n",
    "        height = bar.get_height()\n",
    "\n",
    "        # ha: horizontal alignment\n",
    "        text_x_location = bar.get_x() + bar.get_width() / 2.0\n",
    "        text_y_location = height + 5\n",
    "\n",
    "        count_and_text = f\"{height} ({catagory_percentages_str.pop(0)})\"\n",
    "        plt.text(text_x_location, text_y_location, count_and_text, ha='center')\n",
    "\n",
    "    # Add titles and labels\n",
    "    plt.title(title)\n",
    "    # add acceptance status to the x-axis\n",
    "    plt.xticks(range(len(catagory_counts)), value_labels_array)\n",
    "    plt.xlabel('Acceptance Status')\n",
    "    plt.ylabel('Count')\n",
    "\n",
    "    # Show the plot\n",
    "    plt.show()"
   ]
  },
  {
   "cell_type": "code",
   "execution_count": 10,
   "metadata": {},
   "outputs": [
    {
     "name": "stdout",
     "output_type": "stream",
     "text": [
      "[INFO] [2024-12-03T09:49:18.422Z] Label: siyaset , Count: 700\n",
      "[INFO] [2024-12-03T09:49:18.422Z] Label: dunya , Count: 700\n",
      "[INFO] [2024-12-03T09:49:18.423Z] Label: ekonomi , Count: 700\n",
      "[INFO] [2024-12-03T09:49:18.424Z] Label: kultur , Count: 700\n",
      "[INFO] [2024-12-03T09:49:18.425Z] Label: saglik , Count: 700\n",
      "[INFO] [2024-12-03T09:49:18.426Z] Label: spor , Count: 700\n",
      "[INFO] [2024-12-03T09:49:18.426Z] Label: teknoloji , Count: 700\n",
      "[INFO] [2024-12-03T09:49:18.426Z] Label: category, Count: 1\n",
      "[DEBUG] [2024-12-03T09:49:18.427Z] Total Count: 4901\n",
      "[DEBUG] [2024-12-03T09:49:18.427Z] ['siyaset ', 'dunya ', 'ekonomi ', 'kultur ', 'saglik ', 'spor ', 'teknoloji ',\n",
      "    'category']\n",
      "\n",
      "[DEBUG] [2024-12-03T09:49:18.427Z] [700, 700, 700, 700, 700, 700, 700, 1]\n",
      "[DEBUG] [2024-12-03T09:49:18.427Z] ['14.28%', '14.28%', '14.28%', '14.28%', '14.28%', '14.28%', '14.28%', '0.02%']\n"
     ]
    },
    {
     "data": {
      "image/png": "[encoded data removed]",
      "text/plain": [
       "<Figure size 1500x700 with 1 Axes>"
      ]
     },
     "metadata": {},
     "output_type": "display_data"
    }
   ],
   "source": [
    "title = \"Distribution of Turkish Text Categorization Dataset\"\n",
    "plot_data_set(df, title)"
   ]
  },
  {
   "cell_type": "code",
   "execution_count": 11,
   "metadata": {},
   "outputs": [
    {
     "name": "stdout",
     "output_type": "stream",
     "text": [
      "[INFO] [2024-12-03T09:49:18.673Z] Sentences with the label 'catagory':\n",
      "[INFO] [2024-12-03T09:49:18.674Z] 0    text\n",
      "Name: sentence, dtype: object\n",
      "[INFO] [2024-12-03T09:49:18.679Z] Shape of the dataframe: (4900, 2)\n"
     ]
    },
    {
     "data": {
      "text/plain": [
       "label\n",
       "siyaset       700\n",
       "dunya         700\n",
       "ekonomi       700\n",
       "kultur        700\n",
       "saglik        700\n",
       "spor          700\n",
       "teknoloji     700\n",
       "Name: count, dtype: int64"
      ]
     },
     "execution_count": 11,
     "metadata": {},
     "output_type": "execute_result"
    }
   ],
   "source": [
    "# find label named 'catagory' and print the sentences\n",
    "category_sentences = df[df['label'] == 'category']['sentence']\n",
    "logger.info(\"Sentences with the label 'catagory':\")\n",
    "logger.info(category_sentences)\n",
    "\n",
    "# drop the rows with the label 'catagory'\n",
    "df = df[df['label'] != 'category']\n",
    "\n",
    "logger.info(\"Shape of the dataframe: \" + str(df.shape))\n",
    "df['label'].value_counts()"
   ]
  },
  {
   "cell_type": "code",
   "execution_count": 12,
   "metadata": {},
   "outputs": [
    {
     "name": "stdout",
     "output_type": "stream",
     "text": [
      "[INFO] [2024-12-03T09:49:18.692Z] Label: siyaset , Count: 700\n",
      "[INFO] [2024-12-03T09:49:18.693Z] Label: dunya , Count: 700\n",
      "[INFO] [2024-12-03T09:49:18.694Z] Label: ekonomi , Count: 700\n",
      "[INFO] [2024-12-03T09:49:18.694Z] Label: kultur , Count: 700\n",
      "[INFO] [2024-12-03T09:49:18.695Z] Label: saglik , Count: 700\n",
      "[INFO] [2024-12-03T09:49:18.695Z] Label: spor , Count: 700\n",
      "[INFO] [2024-12-03T09:49:18.695Z] Label: teknoloji , Count: 700\n",
      "[DEBUG] [2024-12-03T09:49:18.696Z] Total Count: 4900\n",
      "[DEBUG] [2024-12-03T09:49:18.696Z] ['siyaset ', 'dunya ', 'ekonomi ', 'kultur ', 'saglik ', 'spor ', 'teknoloji ']\n",
      "[DEBUG] [2024-12-03T09:49:18.696Z] [700, 700, 700, 700, 700, 700, 700]\n",
      "[DEBUG] [2024-12-03T09:49:18.697Z] ['14.29%', '14.29%', '14.29%', '14.29%', '14.29%', '14.29%', '14.29%']\n"
     ]
    },
    {
     "data": {
      "image/png": "[encoded data removed]",
      "text/plain": [
       "<Figure size 1500x700 with 1 Axes>"
      ]
     },
     "metadata": {},
     "output_type": "display_data"
    }
   ],
   "source": [
    "plot_data_set(df, title)"
   ]
  },
  {
   "cell_type": "markdown",
   "metadata": {},
   "source": [
    "# Support Vector Machines (SVM) Classifier\n",
    "\n",
    "![SVM](https://miro.medium.com/v2/resize:fit:600/1*Fjj7EblDs2J88GgJmyKL8w.png)\n"
   ]
  },
  {
   "cell_type": "markdown",
   "metadata": {},
   "source": [
    "# Random Forest Classifier\n",
    "\n",
    "- Tek sayı olmasına dikkat etmeliyiz.\n",
    "\n",
    "![Random Forest Classifier](https://miro.medium.com/v2/resize:fit:1400/1*hmtbIgxoflflJqMJ_UHwXw.jpeg)\n"
   ]
  },
  {
   "cell_type": "markdown",
   "metadata": {},
   "source": [
    "# Multi-Layer Perceptron (MLP) Classifier\n",
    "\n",
    "![MLP](https://media.geeksforgeeks.org/wp-content/uploads/nodeNeural.jpg)\n"
   ]
  },
  {
   "cell_type": "markdown",
   "metadata": {},
   "source": [
    "# Datanın Train ve Test Olarak Ayrılması\n"
   ]
  },
  {
   "cell_type": "code",
   "execution_count": 5,
   "metadata": {},
   "outputs": [
    {
     "name": "stdout",
     "output_type": "stream",
     "text": [
      "[INFO] [2024-12-03T10:13:54.412Z] Shape of the training set: (3920,)\n",
      "[INFO] [2024-12-03T10:13:54.413Z] Shape of the test set: (981,)\n"
     ]
    }
   ],
   "source": [
    "from sklearn.model_selection import train_test_split\n",
    "\n",
    "# Split the data into training and test sets\n",
    "X = df['sentence']\n",
    "y = df['label']\n",
    "X_train, X_test, y_train, y_test = train_test_split(X, y, test_size=0.2, random_state=42)\n",
    "\n",
    "logger.info(\"Shape of the training set: \" + str(X_train.shape))\n",
    "logger.info(\"Shape of the test set: \" + str(X_test.shape))"
   ]
  },
  {
   "cell_type": "code",
   "execution_count": 49,
   "metadata": {},
   "outputs": [],
   "source": [
    "from sklearn.ensemble import RandomForestClassifier\n",
    "from sklearn.neural_network import MLPClassifier\n",
    "from sklearn.svm import SVC\n",
    "\n",
    "embedding_models = {\n",
    "    # [INFO] [2024-12-03T11:48:21.644Z] Training the model with the embedding model: all-MiniLM-L12-v2 and classifier: SVM\n",
    "    # [INFO] [2024-12-03T11:48:54.666Z] Training the model with the embedding model: all-MiniLM-L12-v2 and classifier: RF\n",
    "    # [INFO] [2024-12-03T11:49:19.206Z] Training the model with the embedding model: all-MiniLM-L12-v2 and classifier: MLP\n",
    "    # Toplam: 2m\n",
    "    'all-MiniLM-L12-v2': 'sentence-transformers/all-MiniLM-L12-v2',\n",
    "\n",
    "    # TODO: Train uzun sürüyor\n",
    "    # 'gte-large': 'thenlper/gte-large',\n",
    "\n",
    "    # TODO: Train uzun sürüyor\n",
    "    # [INFO] [2024-12-03T11:55:30.852Z] Training the model with the embedding model: multilingual-e5-large-instruct and classifier: SVM\n",
    "    # 3m 30s geçmesine rağmen algoritma training i tamamlanmadı\n",
    "    # 'multilingual-e5-large-instruct': 'intfloat/multilingual-e5-large-instruct',\n",
    "\n",
    "    # TODO: RuntimeError: Invalid buffer size: 92.42 GB\n",
    "    # 'nomic-embed-text-v1': 'nomic-ai/nomic-embed-text-v1',\n",
    "\n",
    "    # [INFO] [2024-12-03T11:39:05.675Z] Training the model with the embedding model: all-mpnet-base-v2 and classifier: SVM\n",
    "    # [INFO] [2024-12-03T11:42:11.428Z] Training the model with the embedding model: all-mpnet-base-v2 and classifier: RF\n",
    "    # [INFO] [2024-12-03T11:44:43.193Z] Training the model with the embedding model: all-mpnet-base-v2 and classifier: MLP\n",
    "    # Toplam: 8m 12s\n",
    "    'all-mpnet-base-v2': 'sentence-transformers/all-mpnet-base-v2'\n",
    "}\n",
    "\n",
    "classifiers = {\n",
    "    'SVM': SVC(kernel='rbf', probability=True),\n",
    "    'RF': RandomForestClassifier(n_estimators=100),\n",
    "    'MLP': MLPClassifier(hidden_layer_sizes=(100, 50))\n",
    "}"
   ]
  },
  {
   "cell_type": "markdown",
   "metadata": {},
   "source": [
    "# Aynı Temsil Yöntemine Ait Sonuçları (5 Adet Ensemble) Birleştirmek\n"
   ]
  },
  {
   "cell_type": "markdown",
   "metadata": {},
   "source": [
    "## Demokrasi Usulü ile Karar Birleştirme\n"
   ]
  },
  {
   "cell_type": "code",
   "execution_count": null,
   "metadata": {},
   "outputs": [],
   "source": []
  },
  {
   "cell_type": "code",
   "execution_count": 24,
   "metadata": {},
   "outputs": [],
   "source": [
    "def ensemble_voting(y_preds):\n",
    "    # Example y_preds dimension: (3, 980)\n",
    "\n",
    "    number_of_predictions = len(y_preds)  # Example: 3\n",
    "    number_of_samples = len(y_preds[0])  # Example: 980\n",
    "\n",
    "    y_pred_sum = []\n",
    "    for i in range(number_of_samples):\n",
    "\n",
    "        ensemble_predictions = {}\n",
    "        for j in range(number_of_predictions):\n",
    "            if y_preds[j][i]not in ensemble_predictions:\n",
    "                ensemble_predictions[y_preds[j][i]] = 0\n",
    "\n",
    "            ensemble_predictions[y_preds[j][i]] = ensemble_predictions[y_preds[j][i]] + 1\n",
    "\n",
    "        max_value = max(ensemble_predictions.values())\n",
    "        for key, value in ensemble_predictions.items():\n",
    "            if value == max_value:\n",
    "                y_pred_sum.append(key)\n",
    "                break\n",
    "\n",
    "    return y_pred_sum"
   ]
  },
  {
   "cell_type": "code",
   "execution_count": null,
   "metadata": {},
   "outputs": [
    {
     "name": "stdout",
     "output_type": "stream",
     "text": [
      "[INFO] [2024-12-03T11:59:38.545Z] Training the model with the embedding model: all-MiniLM-L12-v2 and classifier: SVM\n",
      "[INFO] [2024-12-03T12:00:09.012Z] Training the model with the embedding model: all-MiniLM-L12-v2 and classifier: RF\n",
      "[INFO] [2024-12-03T12:00:30.107Z] Training the model with the embedding model: all-MiniLM-L12-v2 and classifier: MLP\n"
     ]
    },
    {
     "name": "stderr",
     "output_type": "stream",
     "text": [
      "/Users/ondergormez/Repos/python_3_12_2_venv/lib/python3.12/site-packages/sklearn/neural_network/_multilayer_perceptron.py:691: ConvergenceWarning: Stochastic Optimizer: Maximum iterations (200) reached and the optimization hasn't converged yet.\n",
      "  warnings.warn(\n"
     ]
    },
    {
     "data": {
      "text/html": [
       "<div>\n",
       "<style scoped>\n",
       "    .dataframe tbody tr th:only-of-type {\n",
       "        vertical-align: middle;\n",
       "    }\n",
       "\n",
       "    .dataframe tbody tr th {\n",
       "        vertical-align: top;\n",
       "    }\n",
       "\n",
       "    .dataframe thead th {\n",
       "        text-align: right;\n",
       "    }\n",
       "</style>\n",
       "<table border=\"1\" class=\"dataframe\">\n",
       "  <thead>\n",
       "    <tr style=\"text-align: right;\">\n",
       "      <th></th>\n",
       "      <th>Embedding Model</th>\n",
       "      <th>Classifier</th>\n",
       "      <th>Train Accuracy</th>\n",
       "      <th>Train F1</th>\n",
       "      <th>Test Accuracy</th>\n",
       "      <th>Test F1</th>\n",
       "    </tr>\n",
       "  </thead>\n",
       "  <tbody>\n",
       "    <tr>\n",
       "      <th>0</th>\n",
       "      <td>all-MiniLM-L12-v2</td>\n",
       "      <td>SVM</td>\n",
       "      <td>0.869388</td>\n",
       "      <td>0.869726</td>\n",
       "      <td>0.769623</td>\n",
       "      <td>0.770533</td>\n",
       "    </tr>\n",
       "    <tr>\n",
       "      <th>1</th>\n",
       "      <td>all-MiniLM-L12-v2</td>\n",
       "      <td>RF</td>\n",
       "      <td>0.999745</td>\n",
       "      <td>0.999745</td>\n",
       "      <td>0.703364</td>\n",
       "      <td>0.702280</td>\n",
       "    </tr>\n",
       "    <tr>\n",
       "      <th>2</th>\n",
       "      <td>all-MiniLM-L12-v2</td>\n",
       "      <td>MLP</td>\n",
       "      <td>0.999490</td>\n",
       "      <td>0.999490</td>\n",
       "      <td>0.731906</td>\n",
       "      <td>0.729676</td>\n",
       "    </tr>\n",
       "    <tr>\n",
       "      <th>3</th>\n",
       "      <td>all-MiniLM-L12-v2</td>\n",
       "      <td>ensemble_of_tree</td>\n",
       "      <td>0.999490</td>\n",
       "      <td>0.999490</td>\n",
       "      <td>0.782875</td>\n",
       "      <td>0.782575</td>\n",
       "    </tr>\n",
       "  </tbody>\n",
       "</table>\n",
       "</div>"
      ],
      "text/plain": [
       "     Embedding Model        Classifier  Train Accuracy  Train F1  \\\n",
       "0  all-MiniLM-L12-v2               SVM        0.869388  0.869726   \n",
       "1  all-MiniLM-L12-v2                RF        0.999745  0.999745   \n",
       "2  all-MiniLM-L12-v2               MLP        0.999490  0.999490   \n",
       "3  all-MiniLM-L12-v2  ensemble_of_tree        0.999490  0.999490   \n",
       "\n",
       "   Test Accuracy   Test F1  \n",
       "0       0.769623  0.770533  \n",
       "1       0.703364  0.702280  \n",
       "2       0.731906  0.729676  \n",
       "3       0.782875  0.782575  "
      ]
     },
     "metadata": {},
     "output_type": "display_data"
    },
    {
     "name": "stdout",
     "output_type": "stream",
     "text": [
      "[INFO] [2024-12-03T12:00:53.145Z] Training the model with the embedding model: all-mpnet-base-v2 and classifier: SVM\n",
      "[INFO] [2024-12-03T12:03:34.195Z] Training the model with the embedding model: all-mpnet-base-v2 and classifier: RF\n",
      "[INFO] [2024-12-03T12:05:59.741Z] Training the model with the embedding model: all-mpnet-base-v2 and classifier: MLP\n"
     ]
    },
    {
     "name": "stderr",
     "output_type": "stream",
     "text": [
      "/Users/ondergormez/Repos/python_3_12_2_venv/lib/python3.12/site-packages/sklearn/neural_network/_multilayer_perceptron.py:691: ConvergenceWarning: Stochastic Optimizer: Maximum iterations (200) reached and the optimization hasn't converged yet.\n",
      "  warnings.warn(\n"
     ]
    },
    {
     "data": {
      "text/html": [
       "<div>\n",
       "<style scoped>\n",
       "    .dataframe tbody tr th:only-of-type {\n",
       "        vertical-align: middle;\n",
       "    }\n",
       "\n",
       "    .dataframe tbody tr th {\n",
       "        vertical-align: top;\n",
       "    }\n",
       "\n",
       "    .dataframe thead th {\n",
       "        text-align: right;\n",
       "    }\n",
       "</style>\n",
       "<table border=\"1\" class=\"dataframe\">\n",
       "  <thead>\n",
       "    <tr style=\"text-align: right;\">\n",
       "      <th></th>\n",
       "      <th>Embedding Model</th>\n",
       "      <th>Classifier</th>\n",
       "      <th>Train Accuracy</th>\n",
       "      <th>Train F1</th>\n",
       "      <th>Test Accuracy</th>\n",
       "      <th>Test F1</th>\n",
       "    </tr>\n",
       "  </thead>\n",
       "  <tbody>\n",
       "    <tr>\n",
       "      <th>0</th>\n",
       "      <td>all-MiniLM-L12-v2</td>\n",
       "      <td>SVM</td>\n",
       "      <td>0.869388</td>\n",
       "      <td>0.869726</td>\n",
       "      <td>0.769623</td>\n",
       "      <td>0.770533</td>\n",
       "    </tr>\n",
       "    <tr>\n",
       "      <th>1</th>\n",
       "      <td>all-MiniLM-L12-v2</td>\n",
       "      <td>RF</td>\n",
       "      <td>0.999745</td>\n",
       "      <td>0.999745</td>\n",
       "      <td>0.703364</td>\n",
       "      <td>0.702280</td>\n",
       "    </tr>\n",
       "    <tr>\n",
       "      <th>2</th>\n",
       "      <td>all-MiniLM-L12-v2</td>\n",
       "      <td>MLP</td>\n",
       "      <td>0.999490</td>\n",
       "      <td>0.999490</td>\n",
       "      <td>0.731906</td>\n",
       "      <td>0.729676</td>\n",
       "    </tr>\n",
       "    <tr>\n",
       "      <th>3</th>\n",
       "      <td>all-MiniLM-L12-v2</td>\n",
       "      <td>ensemble_of_tree</td>\n",
       "      <td>0.999490</td>\n",
       "      <td>0.999490</td>\n",
       "      <td>0.782875</td>\n",
       "      <td>0.782575</td>\n",
       "    </tr>\n",
       "    <tr>\n",
       "      <th>4</th>\n",
       "      <td>all-mpnet-base-v2</td>\n",
       "      <td>SVM</td>\n",
       "      <td>0.838776</td>\n",
       "      <td>0.839710</td>\n",
       "      <td>0.798165</td>\n",
       "      <td>0.799121</td>\n",
       "    </tr>\n",
       "    <tr>\n",
       "      <th>5</th>\n",
       "      <td>all-mpnet-base-v2</td>\n",
       "      <td>RF</td>\n",
       "      <td>0.999745</td>\n",
       "      <td>0.999745</td>\n",
       "      <td>0.754332</td>\n",
       "      <td>0.755068</td>\n",
       "    </tr>\n",
       "    <tr>\n",
       "      <th>6</th>\n",
       "      <td>all-mpnet-base-v2</td>\n",
       "      <td>MLP</td>\n",
       "      <td>0.998214</td>\n",
       "      <td>0.998214</td>\n",
       "      <td>0.805301</td>\n",
       "      <td>0.805016</td>\n",
       "    </tr>\n",
       "    <tr>\n",
       "      <th>7</th>\n",
       "      <td>all-mpnet-base-v2</td>\n",
       "      <td>ensemble_of_tree</td>\n",
       "      <td>0.998214</td>\n",
       "      <td>0.998213</td>\n",
       "      <td>0.815494</td>\n",
       "      <td>0.816016</td>\n",
       "    </tr>\n",
       "  </tbody>\n",
       "</table>\n",
       "</div>"
      ],
      "text/plain": [
       "     Embedding Model        Classifier  Train Accuracy  Train F1  \\\n",
       "0  all-MiniLM-L12-v2               SVM        0.869388  0.869726   \n",
       "1  all-MiniLM-L12-v2                RF        0.999745  0.999745   \n",
       "2  all-MiniLM-L12-v2               MLP        0.999490  0.999490   \n",
       "3  all-MiniLM-L12-v2  ensemble_of_tree        0.999490  0.999490   \n",
       "4  all-mpnet-base-v2               SVM        0.838776  0.839710   \n",
       "5  all-mpnet-base-v2                RF        0.999745  0.999745   \n",
       "6  all-mpnet-base-v2               MLP        0.998214  0.998214   \n",
       "7  all-mpnet-base-v2  ensemble_of_tree        0.998214  0.998213   \n",
       "\n",
       "   Test Accuracy   Test F1  \n",
       "0       0.769623  0.770533  \n",
       "1       0.703364  0.702280  \n",
       "2       0.731906  0.729676  \n",
       "3       0.782875  0.782575  \n",
       "4       0.798165  0.799121  \n",
       "5       0.754332  0.755068  \n",
       "6       0.805301  0.805016  \n",
       "7       0.815494  0.816016  "
      ]
     },
     "metadata": {},
     "output_type": "display_data"
    }
   ],
   "source": [
    "import numpy as np\n",
    "from sklearn.metrics import accuracy_score, f1_score\n",
    "\n",
    "\n",
    "# create a data frame for holding the results\n",
    "results_df = pd.DataFrame(columns=['Embedding Model', 'Classifier',\n",
    "                          'Train Accuracy', 'Train F1', 'Test Accuracy', 'Test F1'])\n",
    "\n",
    "for embedding_model_name, embedding_model in embedding_models.items():\n",
    "\n",
    "    idx = 0\n",
    "\n",
    "    # Initialize a dictionary to store predictions\n",
    "    y_train_pred = {}\n",
    "    y_test_pred = {}\n",
    "\n",
    "    for classifier_name, classifier in classifiers.items():\n",
    "        logger.info(f\"Training the model with the embedding model: {\n",
    "                    embedding_model_name} and classifier: {classifier_name}\")\n",
    "\n",
    "        model = SentenceTransformer(embedding_model, trust_remote_code=True)\n",
    "        embeddings = model.encode(X_train.values)\n",
    "\n",
    "        classifier.fit(embeddings, y_train)\n",
    "\n",
    "        y_train_pred[idx] = classifier.predict(embeddings)\n",
    "        train_accuracy = accuracy_score(y_train, y_train_pred[idx])\n",
    "        train_f1 = f1_score(y_train, y_train_pred[idx], average='weighted')\n",
    "\n",
    "        test_embeddings = model.encode(X_test.values)\n",
    "        y_test_pred[idx] = classifier.predict(test_embeddings)\n",
    "        test_accuracy = accuracy_score(y_test, y_test_pred[idx])\n",
    "        test_f1 = f1_score(y_test, y_test_pred[idx], average='weighted')\n",
    "\n",
    "        results_df.loc[len(results_df)] = [embedding_model_name, classifier_name,\n",
    "                                           train_accuracy, train_f1, test_accuracy, test_f1]\n",
    "        idx += 1\n",
    "\n",
    "    y_train_ensemble_pred = ensemble_voting(y_train_pred)\n",
    "\n",
    "    train_accuracy = accuracy_score(y_train, y_train_ensemble_pred)\n",
    "    train_f1 = f1_score(y_train, y_train_ensemble_pred, average='weighted')\n",
    "\n",
    "    y_test_ensemble_pred = ensemble_voting(y_test_pred)\n",
    "\n",
    "    test_accuracy = accuracy_score(y_test, y_test_ensemble_pred)\n",
    "    test_f1 = f1_score(y_test, y_test_ensemble_pred, average='weighted')\n",
    "\n",
    "    results_df.loc[len(results_df)] = [embedding_model_name, \"ensemble_of_tree\",\n",
    "                                       train_accuracy, train_f1, test_accuracy, test_f1]\n",
    "    display(results_df)"
   ]
  },
  {
   "cell_type": "markdown",
   "metadata": {},
   "source": [
    "# Aynı Algoritmaya Ait Sonuçları (3 Adet Ensemble) Birleştirmek\n"
   ]
  },
  {
   "cell_type": "code",
   "execution_count": 51,
   "metadata": {},
   "outputs": [
    {
     "name": "stdout",
     "output_type": "stream",
     "text": [
      "[INFO] [2024-12-03T12:08:43.689Z] Training the model with the embedding model: all-MiniLM-L12-v2 and classifier: SVM\n",
      "[INFO] [2024-12-03T12:09:14.483Z] Training the model with the embedding model: all-mpnet-base-v2 and classifier: SVM\n"
     ]
    },
    {
     "data": {
      "text/html": [
       "<div>\n",
       "<style scoped>\n",
       "    .dataframe tbody tr th:only-of-type {\n",
       "        vertical-align: middle;\n",
       "    }\n",
       "\n",
       "    .dataframe tbody tr th {\n",
       "        vertical-align: top;\n",
       "    }\n",
       "\n",
       "    .dataframe thead th {\n",
       "        text-align: right;\n",
       "    }\n",
       "</style>\n",
       "<table border=\"1\" class=\"dataframe\">\n",
       "  <thead>\n",
       "    <tr style=\"text-align: right;\">\n",
       "      <th></th>\n",
       "      <th>Embedding Model</th>\n",
       "      <th>Classifier</th>\n",
       "      <th>Train Accuracy</th>\n",
       "      <th>Train F1</th>\n",
       "      <th>Test Accuracy</th>\n",
       "      <th>Test F1</th>\n",
       "    </tr>\n",
       "  </thead>\n",
       "  <tbody>\n",
       "    <tr>\n",
       "      <th>0</th>\n",
       "      <td>all-MiniLM-L12-v2</td>\n",
       "      <td>SVM</td>\n",
       "      <td>0.869388</td>\n",
       "      <td>0.869726</td>\n",
       "      <td>0.769623</td>\n",
       "      <td>0.770533</td>\n",
       "    </tr>\n",
       "    <tr>\n",
       "      <th>1</th>\n",
       "      <td>all-mpnet-base-v2</td>\n",
       "      <td>SVM</td>\n",
       "      <td>0.838776</td>\n",
       "      <td>0.839710</td>\n",
       "      <td>0.798165</td>\n",
       "      <td>0.799121</td>\n",
       "    </tr>\n",
       "    <tr>\n",
       "      <th>2</th>\n",
       "      <td>all-mpnet-base-v2</td>\n",
       "      <td>ensemble_of_five</td>\n",
       "      <td>0.869388</td>\n",
       "      <td>0.869726</td>\n",
       "      <td>0.769623</td>\n",
       "      <td>0.770533</td>\n",
       "    </tr>\n",
       "  </tbody>\n",
       "</table>\n",
       "</div>"
      ],
      "text/plain": [
       "     Embedding Model        Classifier  Train Accuracy  Train F1  \\\n",
       "0  all-MiniLM-L12-v2               SVM        0.869388  0.869726   \n",
       "1  all-mpnet-base-v2               SVM        0.838776  0.839710   \n",
       "2  all-mpnet-base-v2  ensemble_of_five        0.869388  0.869726   \n",
       "\n",
       "   Test Accuracy   Test F1  \n",
       "0       0.769623  0.770533  \n",
       "1       0.798165  0.799121  \n",
       "2       0.769623  0.770533  "
      ]
     },
     "metadata": {},
     "output_type": "display_data"
    },
    {
     "name": "stdout",
     "output_type": "stream",
     "text": [
      "[INFO] [2024-12-03T12:11:57.198Z] Training the model with the embedding model: all-MiniLM-L12-v2 and classifier: RF\n",
      "[INFO] [2024-12-03T12:12:18.968Z] Training the model with the embedding model: all-mpnet-base-v2 and classifier: RF\n"
     ]
    },
    {
     "data": {
      "text/html": [
       "<div>\n",
       "<style scoped>\n",
       "    .dataframe tbody tr th:only-of-type {\n",
       "        vertical-align: middle;\n",
       "    }\n",
       "\n",
       "    .dataframe tbody tr th {\n",
       "        vertical-align: top;\n",
       "    }\n",
       "\n",
       "    .dataframe thead th {\n",
       "        text-align: right;\n",
       "    }\n",
       "</style>\n",
       "<table border=\"1\" class=\"dataframe\">\n",
       "  <thead>\n",
       "    <tr style=\"text-align: right;\">\n",
       "      <th></th>\n",
       "      <th>Embedding Model</th>\n",
       "      <th>Classifier</th>\n",
       "      <th>Train Accuracy</th>\n",
       "      <th>Train F1</th>\n",
       "      <th>Test Accuracy</th>\n",
       "      <th>Test F1</th>\n",
       "    </tr>\n",
       "  </thead>\n",
       "  <tbody>\n",
       "    <tr>\n",
       "      <th>0</th>\n",
       "      <td>all-MiniLM-L12-v2</td>\n",
       "      <td>SVM</td>\n",
       "      <td>0.869388</td>\n",
       "      <td>0.869726</td>\n",
       "      <td>0.769623</td>\n",
       "      <td>0.770533</td>\n",
       "    </tr>\n",
       "    <tr>\n",
       "      <th>1</th>\n",
       "      <td>all-mpnet-base-v2</td>\n",
       "      <td>SVM</td>\n",
       "      <td>0.838776</td>\n",
       "      <td>0.839710</td>\n",
       "      <td>0.798165</td>\n",
       "      <td>0.799121</td>\n",
       "    </tr>\n",
       "    <tr>\n",
       "      <th>2</th>\n",
       "      <td>all-mpnet-base-v2</td>\n",
       "      <td>ensemble_of_five</td>\n",
       "      <td>0.869388</td>\n",
       "      <td>0.869726</td>\n",
       "      <td>0.769623</td>\n",
       "      <td>0.770533</td>\n",
       "    </tr>\n",
       "    <tr>\n",
       "      <th>3</th>\n",
       "      <td>all-MiniLM-L12-v2</td>\n",
       "      <td>RF</td>\n",
       "      <td>0.999745</td>\n",
       "      <td>0.999745</td>\n",
       "      <td>0.697248</td>\n",
       "      <td>0.696557</td>\n",
       "    </tr>\n",
       "    <tr>\n",
       "      <th>4</th>\n",
       "      <td>all-mpnet-base-v2</td>\n",
       "      <td>RF</td>\n",
       "      <td>0.999745</td>\n",
       "      <td>0.999745</td>\n",
       "      <td>0.748216</td>\n",
       "      <td>0.748914</td>\n",
       "    </tr>\n",
       "    <tr>\n",
       "      <th>5</th>\n",
       "      <td>all-mpnet-base-v2</td>\n",
       "      <td>ensemble_of_five</td>\n",
       "      <td>0.999745</td>\n",
       "      <td>0.999745</td>\n",
       "      <td>0.697248</td>\n",
       "      <td>0.696557</td>\n",
       "    </tr>\n",
       "  </tbody>\n",
       "</table>\n",
       "</div>"
      ],
      "text/plain": [
       "     Embedding Model        Classifier  Train Accuracy  Train F1  \\\n",
       "0  all-MiniLM-L12-v2               SVM        0.869388  0.869726   \n",
       "1  all-mpnet-base-v2               SVM        0.838776  0.839710   \n",
       "2  all-mpnet-base-v2  ensemble_of_five        0.869388  0.869726   \n",
       "3  all-MiniLM-L12-v2                RF        0.999745  0.999745   \n",
       "4  all-mpnet-base-v2                RF        0.999745  0.999745   \n",
       "5  all-mpnet-base-v2  ensemble_of_five        0.999745  0.999745   \n",
       "\n",
       "   Test Accuracy   Test F1  \n",
       "0       0.769623  0.770533  \n",
       "1       0.798165  0.799121  \n",
       "2       0.769623  0.770533  \n",
       "3       0.697248  0.696557  \n",
       "4       0.748216  0.748914  \n",
       "5       0.697248  0.696557  "
      ]
     },
     "metadata": {},
     "output_type": "display_data"
    },
    {
     "name": "stdout",
     "output_type": "stream",
     "text": [
      "[INFO] [2024-12-03T12:14:44.631Z] Training the model with the embedding model: all-MiniLM-L12-v2 and classifier: MLP\n"
     ]
    },
    {
     "name": "stderr",
     "output_type": "stream",
     "text": [
      "/Users/ondergormez/Repos/python_3_12_2_venv/lib/python3.12/site-packages/sklearn/neural_network/_multilayer_perceptron.py:691: ConvergenceWarning: Stochastic Optimizer: Maximum iterations (200) reached and the optimization hasn't converged yet.\n",
      "  warnings.warn(\n"
     ]
    },
    {
     "name": "stdout",
     "output_type": "stream",
     "text": [
      "[INFO] [2024-12-03T12:15:07.905Z] Training the model with the embedding model: all-mpnet-base-v2 and classifier: MLP\n"
     ]
    },
    {
     "name": "stderr",
     "output_type": "stream",
     "text": [
      "/Users/ondergormez/Repos/python_3_12_2_venv/lib/python3.12/site-packages/sklearn/neural_network/_multilayer_perceptron.py:691: ConvergenceWarning: Stochastic Optimizer: Maximum iterations (200) reached and the optimization hasn't converged yet.\n",
      "  warnings.warn(\n"
     ]
    },
    {
     "data": {
      "text/html": [
       "<div>\n",
       "<style scoped>\n",
       "    .dataframe tbody tr th:only-of-type {\n",
       "        vertical-align: middle;\n",
       "    }\n",
       "\n",
       "    .dataframe tbody tr th {\n",
       "        vertical-align: top;\n",
       "    }\n",
       "\n",
       "    .dataframe thead th {\n",
       "        text-align: right;\n",
       "    }\n",
       "</style>\n",
       "<table border=\"1\" class=\"dataframe\">\n",
       "  <thead>\n",
       "    <tr style=\"text-align: right;\">\n",
       "      <th></th>\n",
       "      <th>Embedding Model</th>\n",
       "      <th>Classifier</th>\n",
       "      <th>Train Accuracy</th>\n",
       "      <th>Train F1</th>\n",
       "      <th>Test Accuracy</th>\n",
       "      <th>Test F1</th>\n",
       "    </tr>\n",
       "  </thead>\n",
       "  <tbody>\n",
       "    <tr>\n",
       "      <th>0</th>\n",
       "      <td>all-MiniLM-L12-v2</td>\n",
       "      <td>SVM</td>\n",
       "      <td>0.869388</td>\n",
       "      <td>0.869726</td>\n",
       "      <td>0.769623</td>\n",
       "      <td>0.770533</td>\n",
       "    </tr>\n",
       "    <tr>\n",
       "      <th>1</th>\n",
       "      <td>all-mpnet-base-v2</td>\n",
       "      <td>SVM</td>\n",
       "      <td>0.838776</td>\n",
       "      <td>0.839710</td>\n",
       "      <td>0.798165</td>\n",
       "      <td>0.799121</td>\n",
       "    </tr>\n",
       "    <tr>\n",
       "      <th>2</th>\n",
       "      <td>all-mpnet-base-v2</td>\n",
       "      <td>ensemble_of_five</td>\n",
       "      <td>0.869388</td>\n",
       "      <td>0.869726</td>\n",
       "      <td>0.769623</td>\n",
       "      <td>0.770533</td>\n",
       "    </tr>\n",
       "    <tr>\n",
       "      <th>3</th>\n",
       "      <td>all-MiniLM-L12-v2</td>\n",
       "      <td>RF</td>\n",
       "      <td>0.999745</td>\n",
       "      <td>0.999745</td>\n",
       "      <td>0.697248</td>\n",
       "      <td>0.696557</td>\n",
       "    </tr>\n",
       "    <tr>\n",
       "      <th>4</th>\n",
       "      <td>all-mpnet-base-v2</td>\n",
       "      <td>RF</td>\n",
       "      <td>0.999745</td>\n",
       "      <td>0.999745</td>\n",
       "      <td>0.748216</td>\n",
       "      <td>0.748914</td>\n",
       "    </tr>\n",
       "    <tr>\n",
       "      <th>5</th>\n",
       "      <td>all-mpnet-base-v2</td>\n",
       "      <td>ensemble_of_five</td>\n",
       "      <td>0.999745</td>\n",
       "      <td>0.999745</td>\n",
       "      <td>0.697248</td>\n",
       "      <td>0.696557</td>\n",
       "    </tr>\n",
       "    <tr>\n",
       "      <th>6</th>\n",
       "      <td>all-MiniLM-L12-v2</td>\n",
       "      <td>MLP</td>\n",
       "      <td>0.999745</td>\n",
       "      <td>0.999745</td>\n",
       "      <td>0.733945</td>\n",
       "      <td>0.733585</td>\n",
       "    </tr>\n",
       "    <tr>\n",
       "      <th>7</th>\n",
       "      <td>all-mpnet-base-v2</td>\n",
       "      <td>MLP</td>\n",
       "      <td>0.999490</td>\n",
       "      <td>0.999490</td>\n",
       "      <td>0.797146</td>\n",
       "      <td>0.797504</td>\n",
       "    </tr>\n",
       "    <tr>\n",
       "      <th>8</th>\n",
       "      <td>all-mpnet-base-v2</td>\n",
       "      <td>ensemble_of_five</td>\n",
       "      <td>0.999745</td>\n",
       "      <td>0.999745</td>\n",
       "      <td>0.733945</td>\n",
       "      <td>0.733585</td>\n",
       "    </tr>\n",
       "  </tbody>\n",
       "</table>\n",
       "</div>"
      ],
      "text/plain": [
       "     Embedding Model        Classifier  Train Accuracy  Train F1  \\\n",
       "0  all-MiniLM-L12-v2               SVM        0.869388  0.869726   \n",
       "1  all-mpnet-base-v2               SVM        0.838776  0.839710   \n",
       "2  all-mpnet-base-v2  ensemble_of_five        0.869388  0.869726   \n",
       "3  all-MiniLM-L12-v2                RF        0.999745  0.999745   \n",
       "4  all-mpnet-base-v2                RF        0.999745  0.999745   \n",
       "5  all-mpnet-base-v2  ensemble_of_five        0.999745  0.999745   \n",
       "6  all-MiniLM-L12-v2               MLP        0.999745  0.999745   \n",
       "7  all-mpnet-base-v2               MLP        0.999490  0.999490   \n",
       "8  all-mpnet-base-v2  ensemble_of_five        0.999745  0.999745   \n",
       "\n",
       "   Test Accuracy   Test F1  \n",
       "0       0.769623  0.770533  \n",
       "1       0.798165  0.799121  \n",
       "2       0.769623  0.770533  \n",
       "3       0.697248  0.696557  \n",
       "4       0.748216  0.748914  \n",
       "5       0.697248  0.696557  \n",
       "6       0.733945  0.733585  \n",
       "7       0.797146  0.797504  \n",
       "8       0.733945  0.733585  "
      ]
     },
     "metadata": {},
     "output_type": "display_data"
    }
   ],
   "source": [
    "import numpy as np\n",
    "from sklearn.metrics import accuracy_score, f1_score\n",
    "\n",
    "# create a data frame for holding the results\n",
    "results_df_1 = pd.DataFrame(columns=['Embedding Model', 'Classifier',\n",
    "                                     'Train Accuracy', 'Train F1', 'Test Accuracy', 'Test F1'])\n",
    "\n",
    "for classifier_name, classifier in classifiers.items():\n",
    "\n",
    "    idx = 0\n",
    "\n",
    "    # Initialize a dictionary to store predictions\n",
    "    y_train_pred = {}\n",
    "    y_test_pred = {}\n",
    "\n",
    "    for embedding_model_name, embedding_model in embedding_models.items():\n",
    "\n",
    "        logger.info(f\"Training the model with the embedding model: {\n",
    "                    embedding_model_name} and classifier: {classifier_name}\")\n",
    "\n",
    "        model = SentenceTransformer(embedding_model, trust_remote_code=True)\n",
    "        embeddings = model.encode(X_train.values)\n",
    "\n",
    "        classifier.fit(embeddings, y_train)\n",
    "\n",
    "        y_train_pred[idx] = classifier.predict(embeddings)\n",
    "        train_accuracy = accuracy_score(y_train, y_train_pred[idx])\n",
    "        train_f1 = f1_score(y_train, y_train_pred[idx], average='weighted')\n",
    "\n",
    "        test_embeddings = model.encode(X_test.values)\n",
    "        y_test_pred[idx] = classifier.predict(test_embeddings)\n",
    "        test_accuracy = accuracy_score(y_test, y_test_pred[idx])\n",
    "        test_f1 = f1_score(y_test, y_test_pred[idx], average='weighted')\n",
    "\n",
    "        results_df_1.loc[len(results_df_1)] = [embedding_model_name, classifier_name,\n",
    "                                               train_accuracy, train_f1, test_accuracy, test_f1]\n",
    "        idx += 1\n",
    "\n",
    "    y_train_ensemble_pred = ensemble_voting(y_train_pred)\n",
    "\n",
    "    train_accuracy = accuracy_score(y_train, y_train_ensemble_pred)\n",
    "    train_f1 = f1_score(y_train, y_train_ensemble_pred, average='weighted')\n",
    "\n",
    "    y_test_ensemble_pred = ensemble_voting(y_test_pred)\n",
    "\n",
    "    test_accuracy = accuracy_score(y_test, y_test_ensemble_pred)\n",
    "    test_f1 = f1_score(y_test, y_test_ensemble_pred, average='weighted')\n",
    "\n",
    "    results_df_1.loc[len(results_df_1)] = [embedding_model_name, \"ensemble_of_five\",\n",
    "                                           train_accuracy, train_f1, test_accuracy, test_f1]\n",
    "    display(results_df_1)"
   ]
  },
  {
   "cell_type": "markdown",
   "metadata": {},
   "source": [
    "# 15 Sonucu Birleştirmek (1 Ensemble)\n"
   ]
  },
  {
   "cell_type": "markdown",
   "metadata": {},
   "source": [
    "# 13 sinifta 42 bin haber metni\n",
    "\n",
    "http://www.kemik.yildiz.edu.tr/data/File/42bin_haber.rar\n",
    "\n",
    "TODO: Veriyi incele ve açıkla\n"
   ]
  },
  {
   "cell_type": "markdown",
   "metadata": {},
   "source": [
    "# Referanslar\n",
    "\n",
    "- [From Traditional to Modern: A Comprehensive Guide to Text Representation Techniques in NLP](https://deysusovan93.medium.com/from-traditional-to-modern-a-comprehensive-guide-to-text-representation-techniques-in-nlp-369946f67497)\n"
   ]
  }
 ],
 "metadata": {
  "kernelspec": {
   "display_name": "python_3_12_2_venv",
   "language": "python",
   "name": "python3"
  },
  "language_info": {
   "codemirror_mode": {
    "name": "ipython",
    "version": 3
   },
   "file_extension": ".py",
   "mimetype": "text/x-python",
   "name": "python",
   "nbconvert_exporter": "python",
   "pygments_lexer": "ipython3",
   "version": "3.12.3"
  }
 },
 "nbformat": 4,
 "nbformat_minor": 2
}
