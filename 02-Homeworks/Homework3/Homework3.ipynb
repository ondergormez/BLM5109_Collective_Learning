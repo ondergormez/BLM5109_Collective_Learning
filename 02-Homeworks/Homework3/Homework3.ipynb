{
 "cells": [
  {
   "cell_type": "markdown",
   "metadata": {},
   "source": [
    "# Homework 3: Retrieval Ensemble\n",
    "\n",
    "Ad Soyad: Önder Görmez  \n",
    "Öğrenci No: 21501035\n"
   ]
  },
  {
   "cell_type": "markdown",
   "metadata": {},
   "source": [
    "# Logger Kullanımı\n",
    "\n",
    "- Oluşturulan kod içerisinde loglama işlemleri için `logging` kütüphanesi kullanılmıştır.\n",
    "- Böylelikle geliştirme aşamasında debug için koyulan kodların çıktılarına bakılarak hata ayıklama işlemleri yapılabilir. Bu kodların çıktıları rapor sunulurken kaldırılacaktır.\n"
   ]
  },
  {
   "cell_type": "code",
   "execution_count": 1,
   "metadata": {},
   "outputs": [
    {
     "name": "stdout",
     "output_type": "stream",
     "text": [
      "[INFO] [2024-12-20T01:16:29.840Z] Logging is configured successfully.\n"
     ]
    }
   ],
   "source": [
    "import logging\n",
    "import logging.config\n",
    "import yaml\n",
    "import textwrap\n",
    "\n",
    "\n",
    "class CustomFormatter(logging.Formatter):\n",
    "\n",
    "    def format(self, record):\n",
    "        wrapped_message = super().format(record)\n",
    "\n",
    "        # wrap the log messages to 120 characters to better fit the screen\n",
    "        if (len(wrapped_message) > 120):\n",
    "            wrapped_message = \"\\n\".join(textwrap.wrap(wrapped_message, width=120))\n",
    "\n",
    "            # indent the wrapped lines but not the first line\n",
    "            first_line, rest = wrapped_message.split('\\n', 1)\n",
    "            wrapped_message = first_line + '\\n' + textwrap.indent(rest, ' ' * 4) + '\\n'\n",
    "\n",
    "        return wrapped_message\n",
    "\n",
    "\n",
    "HOMEWORK_DIR = '/Users/ondergormez/Repos/BLM5109_Collective_Learning/02-Homeworks/Homework3/'\n",
    "LOGGER_CONFIG_FILE = HOMEWORK_DIR + 'logger_config.yaml'\n",
    "\n",
    "# Load the YAML configuration\n",
    "with open('logger_config.yaml', 'r') as file:\n",
    "    config = yaml.safe_load(file.read())\n",
    "    logging.config.dictConfig(config)\n",
    "\n",
    "# Apply the custom formatter to the selected handler\n",
    "logger = logging.getLogger(\"default_logger\")\n",
    "for handler in logger.handlers:\n",
    "    if isinstance(handler, logging.StreamHandler):\n",
    "        handler.setFormatter(CustomFormatter(handler.formatter._fmt, datefmt=handler.formatter.datefmt))\n",
    "\n",
    "# TODO: Set the log level to INFO\n",
    "logger.setLevel(logging.INFO)\n",
    "\n",
    "\n",
    "logger.debug(\"This is a debug message that will be wrapped after 140 characters. \" * 10)\n",
    "logger.info(\"Logging is configured successfully.\")"
   ]
  },
  {
   "cell_type": "markdown",
   "metadata": {},
   "source": [
    "# Dataset'in Yüklenmesi\n",
    "\n",
    "https://huggingface.co/datasets/merve/turkish_instructions adresinde bulunan dosyadaki talimat ve girişi birleştirerek soruları, çıktıyı ise sorunun cevabı olarak kullanacağız.\n",
    "\n",
    "Rastgele 2000 soru ve cevabını seçeceğiz ve bu 2000 örnek üzerinden ödevimizi gerçekleştireceğiz.\n"
   ]
  },
  {
   "cell_type": "code",
   "execution_count": 2,
   "metadata": {},
   "outputs": [
    {
     "name": "stdout",
     "output_type": "stream",
     "text": [
      "[INFO] [2024-12-20T01:16:30.322Z] Columns of the raw dataframe: Index(['Unnamed: 0', 'talimat', ' giriş', ' çıktı'],\n",
      "    dtype='object')\n",
      "\n",
      "[INFO] [2024-12-20T01:16:30.324Z] Renamed columns of the raw dataframe: Index(['index', 'talimat', 'giriş', 'çıktı'],\n",
      "    dtype='object')\n",
      "\n",
      "[INFO] [2024-12-20T01:16:30.324Z] Shape of the dataframe: (51563, 4)\n"
     ]
    },
    {
     "data": {
      "text/html": [
       "<div>\n",
       "<style scoped>\n",
       "    .dataframe tbody tr th:only-of-type {\n",
       "        vertical-align: middle;\n",
       "    }\n",
       "\n",
       "    .dataframe tbody tr th {\n",
       "        vertical-align: top;\n",
       "    }\n",
       "\n",
       "    .dataframe thead th {\n",
       "        text-align: right;\n",
       "    }\n",
       "</style>\n",
       "<table border=\"1\" class=\"dataframe\">\n",
       "  <thead>\n",
       "    <tr style=\"text-align: right;\">\n",
       "      <th></th>\n",
       "      <th>index</th>\n",
       "      <th>talimat</th>\n",
       "      <th>giriş</th>\n",
       "      <th>çıktı</th>\n",
       "    </tr>\n",
       "  </thead>\n",
       "  <tbody>\n",
       "    <tr>\n",
       "      <th>0</th>\n",
       "      <td>0</td>\n",
       "      <td>Aşağıdaki bağlamda orijinal bir şey söyleyin:...</td>\n",
       "      <td>NaN</td>\n",
       "      <td>Ekibe katkıda bulunmaya başlamak ve bu alanda...</td>\n",
       "    </tr>\n",
       "    <tr>\n",
       "      <th>1</th>\n",
       "      <td>1</td>\n",
       "      <td>Aşağıdaki makale için bir başlık önerin: Bu m...</td>\n",
       "      <td>NaN</td>\n",
       "      <td>\"Dijital İletişimin Gücü: İnternet İş Ortamın...</td>\n",
       "    </tr>\n",
       "    <tr>\n",
       "      <th>2</th>\n",
       "      <td>2</td>\n",
       "      <td>Şu konuyla ilgili 5 anahtar kelimeden oluşan ...</td>\n",
       "      <td>NaN</td>\n",
       "      <td>1. Karbon emisyonları 2. Yenilenebilir enerji...</td>\n",
       "    </tr>\n",
       "    <tr>\n",
       "      <th>3</th>\n",
       "      <td>3</td>\n",
       "      <td>Bu cümleyi pasiften aktife değiştirin: Yeni p...</td>\n",
       "      <td>NaN</td>\n",
       "      <td>Belediye başkanı yeni politikayı açıkladı.</td>\n",
       "    </tr>\n",
       "    <tr>\n",
       "      <th>4</th>\n",
       "      <td>4</td>\n",
       "      <td>Aşağıdaki fenomeni tanımlayan üç bilimsel teri...</td>\n",
       "      <td>NaN</td>\n",
       "      <td>Yerçekimi kuvveti, Newton'un evrensel çekim y...</td>\n",
       "    </tr>\n",
       "  </tbody>\n",
       "</table>\n",
       "</div>"
      ],
      "text/plain": [
       "   index                                            talimat giriş  \\\n",
       "0      0   Aşağıdaki bağlamda orijinal bir şey söyleyin:...   NaN   \n",
       "1      1   Aşağıdaki makale için bir başlık önerin: Bu m...   NaN   \n",
       "2      2   Şu konuyla ilgili 5 anahtar kelimeden oluşan ...   NaN   \n",
       "3      3   Bu cümleyi pasiften aktife değiştirin: Yeni p...   NaN   \n",
       "4      4  Aşağıdaki fenomeni tanımlayan üç bilimsel teri...   NaN   \n",
       "\n",
       "                                               çıktı  \n",
       "0   Ekibe katkıda bulunmaya başlamak ve bu alanda...  \n",
       "1   \"Dijital İletişimin Gücü: İnternet İş Ortamın...  \n",
       "2   1. Karbon emisyonları 2. Yenilenebilir enerji...  \n",
       "3         Belediye başkanı yeni politikayı açıkladı.  \n",
       "4   Yerçekimi kuvveti, Newton'un evrensel çekim y...  "
      ]
     },
     "execution_count": 2,
     "metadata": {},
     "output_type": "execute_result"
    }
   ],
   "source": [
    "import pandas as pd\n",
    "\n",
    "FILE_PATH = HOMEWORK_DIR + 'instructions.csv'\n",
    "\n",
    "raw_data_df = pd.read_csv(FILE_PATH, sep=',')\n",
    "\n",
    "logger.info(\"Columns of the raw dataframe: \" + str(raw_data_df.columns))\n",
    "\n",
    "# Satır isimlerini düzelt\n",
    "raw_data_df = raw_data_df.rename(columns={'Unnamed: 0': 'index', ' giriş': 'giriş', ' çıktı': 'çıktı'})\n",
    "logger.info(\"Renamed columns of the raw dataframe: \" + str(raw_data_df.columns))\n",
    "\n",
    "logger.info(\"Shape of the dataframe: \" + str(raw_data_df.shape))\n",
    "raw_data_df.head()"
   ]
  },
  {
   "cell_type": "markdown",
   "metadata": {},
   "source": [
    "## NaN Değerlerin Kaldırılması\n",
    "\n",
    "Yukarıda görüldüğü gibi giriş kolonu için bazı satrılarda değer olmadığı görülmektedir.\n",
    "\n",
    "- Eğitim setimizi 2000 veri ile sınırlayacağımız için giriş bilgiler NaN olanları dataset üzerinden siliyoruz.\n",
    "- Bu satırları yok sayarak diğer satırlar ile işlem yapıp daha net sonuçlar elde edebiliriz.\n"
   ]
  },
  {
   "cell_type": "code",
   "execution_count": 3,
   "metadata": {},
   "outputs": [
    {
     "name": "stdout",
     "output_type": "stream",
     "text": [
      "[INFO] [2024-12-20T01:16:30.335Z] Shape of the dataframe: (19088, 4)\n"
     ]
    },
    {
     "data": {
      "text/html": [
       "<div>\n",
       "<style scoped>\n",
       "    .dataframe tbody tr th:only-of-type {\n",
       "        vertical-align: middle;\n",
       "    }\n",
       "\n",
       "    .dataframe tbody tr th {\n",
       "        vertical-align: top;\n",
       "    }\n",
       "\n",
       "    .dataframe thead th {\n",
       "        text-align: right;\n",
       "    }\n",
       "</style>\n",
       "<table border=\"1\" class=\"dataframe\">\n",
       "  <thead>\n",
       "    <tr style=\"text-align: right;\">\n",
       "      <th></th>\n",
       "      <th>index</th>\n",
       "      <th>talimat</th>\n",
       "      <th>giriş</th>\n",
       "      <th>çıktı</th>\n",
       "    </tr>\n",
       "  </thead>\n",
       "  <tbody>\n",
       "    <tr>\n",
       "      <th>11</th>\n",
       "      <td>11</td>\n",
       "      <td>Listeden herhangi üç kelime seçin.</td>\n",
       "      <td>elma, muz, portakal</td>\n",
       "      <td>elma, muz, portakal</td>\n",
       "    </tr>\n",
       "    <tr>\n",
       "      <th>24</th>\n",
       "      <td>24</td>\n",
       "      <td>Aşağıdaki cümleyi düzenleyin: \"Köprüyü inşa e...</td>\n",
       "      <td>\"Köprüyü inşa etmek için matkaplar ve kırıcıl...</td>\n",
       "      <td>\"Köprüyü inşa etmek için matkaplar ve matkapla...</td>\n",
       "    </tr>\n",
       "    <tr>\n",
       "      <th>28</th>\n",
       "      <td>28</td>\n",
       "      <td>Aşağıdaki 8 mısralık şiirin kafiye şemasını t...</td>\n",
       "      <td>\"Geçen günlerde, çok uzaklarda kabaran dalgal...</td>\n",
       "      <td>Şiirin kafiye düzeni AABBCCDD'dir. Şiirin dize...</td>\n",
       "    </tr>\n",
       "    <tr>\n",
       "      <th>37</th>\n",
       "      <td>37</td>\n",
       "      <td>Hollandaca'dan İngilizce'ye çeviri.</td>\n",
       "      <td>Büyük bir muştaya sahip olmak.</td>\n",
       "      <td>Ona kocaman sarıldı.</td>\n",
       "    </tr>\n",
       "    <tr>\n",
       "      <th>43</th>\n",
       "      <td>43</td>\n",
       "      <td>Düzeltmek için bu cümleyi düzenleyin: Elmalar...</td>\n",
       "      <td>Elma en sağlıklı besindir</td>\n",
       "      <td>Elma en sağlıklı besindir.</td>\n",
       "    </tr>\n",
       "  </tbody>\n",
       "</table>\n",
       "</div>"
      ],
      "text/plain": [
       "    index                                            talimat  \\\n",
       "11     11                 Listeden herhangi üç kelime seçin.   \n",
       "24     24   Aşağıdaki cümleyi düzenleyin: \"Köprüyü inşa e...   \n",
       "28     28   Aşağıdaki 8 mısralık şiirin kafiye şemasını t...   \n",
       "37     37                Hollandaca'dan İngilizce'ye çeviri.   \n",
       "43     43   Düzeltmek için bu cümleyi düzenleyin: Elmalar...   \n",
       "\n",
       "                                                giriş  \\\n",
       "11                                elma, muz, portakal   \n",
       "24   \"Köprüyü inşa etmek için matkaplar ve kırıcıl...   \n",
       "28   \"Geçen günlerde, çok uzaklarda kabaran dalgal...   \n",
       "37                     Büyük bir muştaya sahip olmak.   \n",
       "43                          Elma en sağlıklı besindir   \n",
       "\n",
       "                                                çıktı  \n",
       "11                                elma, muz, portakal  \n",
       "24  \"Köprüyü inşa etmek için matkaplar ve matkapla...  \n",
       "28  Şiirin kafiye düzeni AABBCCDD'dir. Şiirin dize...  \n",
       "37                               Ona kocaman sarıldı.  \n",
       "43                         Elma en sağlıklı besindir.  "
      ]
     },
     "execution_count": 3,
     "metadata": {},
     "output_type": "execute_result"
    }
   ],
   "source": [
    "# NaN olan satırları siliyoruz\n",
    "raw_data_df = raw_data_df.dropna()\n",
    "\n",
    "logger.info(\"Shape of the dataframe: \" + str(raw_data_df.shape))\n",
    "raw_data_df.head()"
   ]
  },
  {
   "cell_type": "markdown",
   "metadata": {},
   "source": [
    "## Rastgele 2000 Örneğin Seçilmesi\n",
    "\n",
    "Rastgele 2000 örnek aşağıdaki şekilde seçilir.\n",
    "\n",
    "- `random_state` parametresi kullanılarak her çalıştırıldığında aynı örneklerin seçilmesi sağlanır.\n",
    "- Böylelikle model eğitilirken ve performans ölçümleri yapılırken aynı veri seti üzerinden işlem yapılır.\n"
   ]
  },
  {
   "cell_type": "code",
   "execution_count": 4,
   "metadata": {},
   "outputs": [
    {
     "name": "stdout",
     "output_type": "stream",
     "text": [
      "[INFO] [2024-12-20T01:16:30.341Z] Shape of the sampled dataframe: (2000, 4)\n"
     ]
    },
    {
     "data": {
      "text/html": [
       "<div>\n",
       "<style scoped>\n",
       "    .dataframe tbody tr th:only-of-type {\n",
       "        vertical-align: middle;\n",
       "    }\n",
       "\n",
       "    .dataframe tbody tr th {\n",
       "        vertical-align: top;\n",
       "    }\n",
       "\n",
       "    .dataframe thead th {\n",
       "        text-align: right;\n",
       "    }\n",
       "</style>\n",
       "<table border=\"1\" class=\"dataframe\">\n",
       "  <thead>\n",
       "    <tr style=\"text-align: right;\">\n",
       "      <th></th>\n",
       "      <th>index</th>\n",
       "      <th>talimat</th>\n",
       "      <th>giriş</th>\n",
       "      <th>çıktı</th>\n",
       "    </tr>\n",
       "  </thead>\n",
       "  <tbody>\n",
       "    <tr>\n",
       "      <th>19512</th>\n",
       "      <td>19512</td>\n",
       "      <td>Bir cümle verildiğinde, üçüncü ve beşinci kel...</td>\n",
       "      <td>Bu rastgele bir cümle.</td>\n",
       "      <td>Bu bir cümle.</td>\n",
       "    </tr>\n",
       "    <tr>\n",
       "      <th>24904</th>\n",
       "      <td>24904</td>\n",
       "      <td>Cümledeki gramer hatalarını düzeltin.</td>\n",
       "      <td>Malzeme almak için dükkana geldi.</td>\n",
       "      <td>Malzeme almak için dükkana geldi.</td>\n",
       "    </tr>\n",
       "    <tr>\n",
       "      <th>807</th>\n",
       "      <td>807</td>\n",
       "      <td>Aşağıdaki cümleyi aynı anlamda fakat başka bi...</td>\n",
       "      <td>Daha çok ağaç dikmeliyiz.</td>\n",
       "      <td>Yetiştirdiğimiz ağaç sayısını artıralım.</td>\n",
       "    </tr>\n",
       "    <tr>\n",
       "      <th>48133</th>\n",
       "      <td>48133</td>\n",
       "      <td>Bir makale verildiğinde, içeriği bir cümleyle...</td>\n",
       "      <td>Bu makale depresyonun nedenleri, belirtileri ...</td>\n",
       "      <td>Depresyon, kalıcı üzüntü, değersizlik duygusu ...</td>\n",
       "    </tr>\n",
       "    <tr>\n",
       "      <th>30813</th>\n",
       "      <td>30813</td>\n",
       "      <td>Bağlamı bir alaycı tonla yeniden yazın.</td>\n",
       "      <td>Çağrımıza katıldığınız için teşekkür ederiz.</td>\n",
       "      <td>Oh, seni bu görüşmede görmek ne büyük zevk.</td>\n",
       "    </tr>\n",
       "  </tbody>\n",
       "</table>\n",
       "</div>"
      ],
      "text/plain": [
       "       index                                            talimat  \\\n",
       "19512  19512   Bir cümle verildiğinde, üçüncü ve beşinci kel...   \n",
       "24904  24904              Cümledeki gramer hatalarını düzeltin.   \n",
       "807      807   Aşağıdaki cümleyi aynı anlamda fakat başka bi...   \n",
       "48133  48133   Bir makale verildiğinde, içeriği bir cümleyle...   \n",
       "30813  30813            Bağlamı bir alaycı tonla yeniden yazın.   \n",
       "\n",
       "                                                   giriş  \\\n",
       "19512                             Bu rastgele bir cümle.   \n",
       "24904                  Malzeme almak için dükkana geldi.   \n",
       "807                            Daha çok ağaç dikmeliyiz.   \n",
       "48133   Bu makale depresyonun nedenleri, belirtileri ...   \n",
       "30813       Çağrımıza katıldığınız için teşekkür ederiz.   \n",
       "\n",
       "                                                   çıktı  \n",
       "19512                                      Bu bir cümle.  \n",
       "24904                  Malzeme almak için dükkana geldi.  \n",
       "807             Yetiştirdiğimiz ağaç sayısını artıralım.  \n",
       "48133  Depresyon, kalıcı üzüntü, değersizlik duygusu ...  \n",
       "30813        Oh, seni bu görüşmede görmek ne büyük zevk.  "
      ]
     },
     "execution_count": 4,
     "metadata": {},
     "output_type": "execute_result"
    }
   ],
   "source": [
    "# TODO: Hızlı embedding çıkarabilmek için örnek sayısını azalttık. Daha sonra 2000 örnek üzerinde çalışacağız.\n",
    "# number_of_samples = 50\n",
    "number_of_samples = 2000\n",
    "# Select a random sample of 2000 questions and answers\n",
    "sample_df = raw_data_df.sample(n=number_of_samples, random_state=865)\n",
    "\n",
    "logger.info(\"Shape of the sampled dataframe: \" + str(sample_df.shape))\n",
    "sample_df.head()"
   ]
  },
  {
   "cell_type": "markdown",
   "metadata": {},
   "source": [
    "## Soru ve Cevapların Oluşturulması\n"
   ]
  },
  {
   "cell_type": "markdown",
   "metadata": {},
   "source": [
    "Seçilen 2000 örnek için soru ve cevaplar aşağıdaki şekilde oluşturulur.\n",
    "\n",
    "- Talimat ve giriş birleştirilerek sorular oluşturulur.\n",
    "- Çıktı ise sorunun cevabı olarak kabul edilir.\n"
   ]
  },
  {
   "cell_type": "code",
   "execution_count": 5,
   "metadata": {},
   "outputs": [
    {
     "name": "stdout",
     "output_type": "stream",
     "text": [
      "[INFO] [2024-12-20T01:16:30.347Z] Shape of the sampled dataframe: (2000, 3)\n"
     ]
    },
    {
     "data": {
      "text/html": [
       "<div>\n",
       "<style scoped>\n",
       "    .dataframe tbody tr th:only-of-type {\n",
       "        vertical-align: middle;\n",
       "    }\n",
       "\n",
       "    .dataframe tbody tr th {\n",
       "        vertical-align: top;\n",
       "    }\n",
       "\n",
       "    .dataframe thead th {\n",
       "        text-align: right;\n",
       "    }\n",
       "</style>\n",
       "<table border=\"1\" class=\"dataframe\">\n",
       "  <thead>\n",
       "    <tr style=\"text-align: right;\">\n",
       "      <th></th>\n",
       "      <th>index</th>\n",
       "      <th>soru</th>\n",
       "      <th>cevap</th>\n",
       "    </tr>\n",
       "  </thead>\n",
       "  <tbody>\n",
       "    <tr>\n",
       "      <th>19512</th>\n",
       "      <td>19512</td>\n",
       "      <td>Bir cümle verildiğinde, üçüncü ve beşinci kel...</td>\n",
       "      <td>Bu bir cümle.</td>\n",
       "    </tr>\n",
       "    <tr>\n",
       "      <th>24904</th>\n",
       "      <td>24904</td>\n",
       "      <td>Cümledeki gramer hatalarını düzeltin.  Malzem...</td>\n",
       "      <td>Malzeme almak için dükkana geldi.</td>\n",
       "    </tr>\n",
       "    <tr>\n",
       "      <th>807</th>\n",
       "      <td>807</td>\n",
       "      <td>Aşağıdaki cümleyi aynı anlamda fakat başka bi...</td>\n",
       "      <td>Yetiştirdiğimiz ağaç sayısını artıralım.</td>\n",
       "    </tr>\n",
       "    <tr>\n",
       "      <th>48133</th>\n",
       "      <td>48133</td>\n",
       "      <td>Bir makale verildiğinde, içeriği bir cümleyle...</td>\n",
       "      <td>Depresyon, kalıcı üzüntü, değersizlik duygusu ...</td>\n",
       "    </tr>\n",
       "    <tr>\n",
       "      <th>30813</th>\n",
       "      <td>30813</td>\n",
       "      <td>Bağlamı bir alaycı tonla yeniden yazın.  Çağr...</td>\n",
       "      <td>Oh, seni bu görüşmede görmek ne büyük zevk.</td>\n",
       "    </tr>\n",
       "  </tbody>\n",
       "</table>\n",
       "</div>"
      ],
      "text/plain": [
       "       index                                               soru  \\\n",
       "19512  19512   Bir cümle verildiğinde, üçüncü ve beşinci kel...   \n",
       "24904  24904   Cümledeki gramer hatalarını düzeltin.  Malzem...   \n",
       "807      807   Aşağıdaki cümleyi aynı anlamda fakat başka bi...   \n",
       "48133  48133   Bir makale verildiğinde, içeriği bir cümleyle...   \n",
       "30813  30813   Bağlamı bir alaycı tonla yeniden yazın.  Çağr...   \n",
       "\n",
       "                                                   cevap  \n",
       "19512                                      Bu bir cümle.  \n",
       "24904                  Malzeme almak için dükkana geldi.  \n",
       "807             Yetiştirdiğimiz ağaç sayısını artıralım.  \n",
       "48133  Depresyon, kalıcı üzüntü, değersizlik duygusu ...  \n",
       "30813        Oh, seni bu görüşmede görmek ne büyük zevk.  "
      ]
     },
     "execution_count": 5,
     "metadata": {},
     "output_type": "execute_result"
    }
   ],
   "source": [
    "data_df = pd.DataFrame()\n",
    "data_df['index'] = sample_df['index']\n",
    "data_df['soru'] = sample_df['talimat'] + \" \" + sample_df['giriş']\n",
    "data_df['cevap'] = sample_df['çıktı']\n",
    "\n",
    "logger.info(\"Shape of the sampled dataframe: \" + str(data_df.shape))\n",
    "data_df.head()\n",
    "\n",
    "# display(data_df)"
   ]
  },
  {
   "cell_type": "markdown",
   "metadata": {},
   "source": [
    "## Temsil Yöntemlerinin Tanımlanması\n",
    "\n",
    "Aşağıda listesi verilen temsil yöntemleri üzerinde çalışma yapılarak en iyi sonuç veren yöntem gözlemlenecektir. Bu yöntemlerin birleştirilmesi ile oluşan yöntemin başarısı ile kıyaslanacaktır.\n",
    "\n",
    "- all-MiniLM-L12-v2\n",
    "- all-mpnet-base-v2\n",
    "- ytu-ce-cosmos/turkish-colbert\n",
    "- Multilingual-E5-large-instruct\n",
    "- bert-base-turkish-cased\n"
   ]
  },
  {
   "cell_type": "markdown",
   "metadata": {},
   "source": [
    "## all-MiniLM-L12-v2\n",
    "\n",
    "https://huggingface.co/sentence-transformers/all-MiniLM-L12-v2\n"
   ]
  },
  {
   "cell_type": "code",
   "execution_count": 6,
   "metadata": {},
   "outputs": [
    {
     "name": "stderr",
     "output_type": "stream",
     "text": [
      "/Users/ondergormez/Repos/python_3_12_2_venv/lib/python3.12/site-packages/tqdm/auto.py:21: TqdmWarning: IProgress not found. Please update jupyter and ipywidgets. See https://ipywidgets.readthedocs.io/en/stable/user_install.html\n",
      "  from .autonotebook import tqdm as notebook_tqdm\n"
     ]
    }
   ],
   "source": [
    "from transformers import AutoTokenizer, AutoModel\n",
    "\n",
    "tokenizer_minilm = AutoTokenizer.from_pretrained(\"sentence-transformers/all-MiniLM-L12-v2\")\n",
    "model_minilm = AutoModel.from_pretrained(\"sentence-transformers/all-MiniLM-L12-v2\")"
   ]
  },
  {
   "cell_type": "markdown",
   "metadata": {},
   "source": [
    "# all-mpnet-base-v2\n",
    "\n",
    "https://huggingface.co/sentence-transformers/all-mpnet-base-v2\n",
    "\n",
    "- It maps sentences & paragraphs to a 768 dimensional dense vector space and can be used for tasks like clustering or semantic search.\n"
   ]
  },
  {
   "cell_type": "code",
   "execution_count": 7,
   "metadata": {},
   "outputs": [],
   "source": [
    "tokenizer_mpnet = AutoTokenizer.from_pretrained(\"sentence-transformers/all-mpnet-base-v2\")\n",
    "model_mpnet = AutoModel.from_pretrained(\"sentence-transformers/all-mpnet-base-v2\")"
   ]
  },
  {
   "cell_type": "markdown",
   "metadata": {},
   "source": [
    "# ytu-ce-cosmos/turkish-colbert\n",
    "\n",
    "https://huggingface.co/ytu-ce-cosmos/turkish-colbert\n"
   ]
  },
  {
   "cell_type": "code",
   "execution_count": 8,
   "metadata": {},
   "outputs": [],
   "source": [
    "tokenizer_cosmos_colbert = AutoTokenizer.from_pretrained(\"ytu-ce-cosmos/turkish-colbert\")\n",
    "model_cosmos_colbert = AutoModel.from_pretrained(\"ytu-ce-cosmos/turkish-colbert\")"
   ]
  },
  {
   "cell_type": "markdown",
   "metadata": {},
   "source": [
    "## Multilingual-E5-large-instruct\n",
    "\n",
    "https://huggingface.co/intfloat/multilingual-e5-large-instruct\n"
   ]
  },
  {
   "cell_type": "code",
   "execution_count": 9,
   "metadata": {},
   "outputs": [],
   "source": [
    "tokenizer_multilingual_e5_large = AutoTokenizer.from_pretrained(\"intfloat/multilingual-e5-large-instruct\")\n",
    "model_multilingual_e5_large = AutoModel.from_pretrained(\"intfloat/multilingual-e5-large-instruct\")"
   ]
  },
  {
   "cell_type": "markdown",
   "metadata": {},
   "source": [
    "# dbmdz Turkish BERT model\n",
    "\n",
    "https://huggingface.co/dbmdz/bert-base-turkish-cased\n"
   ]
  },
  {
   "cell_type": "code",
   "execution_count": 10,
   "metadata": {},
   "outputs": [],
   "source": [
    "tokenizer_dbmdz_turkish_bert = AutoTokenizer.from_pretrained(\"dbmdz/bert-base-turkish-cased\")\n",
    "model_dbmdz_turkish_bert = AutoModel.from_pretrained(\"dbmdz/bert-base-turkish-cased\")"
   ]
  },
  {
   "cell_type": "markdown",
   "metadata": {},
   "source": [
    "# Word Embeddings\n"
   ]
  },
  {
   "cell_type": "code",
   "execution_count": 11,
   "metadata": {},
   "outputs": [],
   "source": [
    "import time\n",
    "from transformers import AutoTokenizer, AutoModel\n",
    "import torch\n",
    "import torch.nn.functional as F\n",
    "\n",
    "\n",
    "def mean_pooling(model_output, attention_mask):\n",
    "    # Mean Pooling - Take attention mask into account for correct averaging\n",
    "\n",
    "    token_embeddings = model_output[0]  # First element of model_output contains all token embeddings\n",
    "    input_mask_expanded = attention_mask.unsqueeze(-1).expand(token_embeddings.size()).float()\n",
    "    return torch.sum(token_embeddings * input_mask_expanded, 1) / torch.clamp(input_mask_expanded.sum(1), min=1e-9)\n",
    "\n",
    "\n",
    "def generate_embeddings(texts, tokenizer, model):\n",
    "    # Function to generate embeddings using a given model and tokenizer\n",
    "    start_time = time.time()\n",
    "\n",
    "    # Tokenize sentences\n",
    "    encoded_input = tokenizer(texts, padding=True, truncation=True, return_tensors='pt')\n",
    "\n",
    "    # Compute token embeddings\n",
    "    with torch.no_grad():\n",
    "        model_output = model(**encoded_input)\n",
    "    logger.info(\"Shape of the model output: \" + str(model_output[0].shape))\n",
    "\n",
    "    # Perform pooling\n",
    "    sentence_embeddings = mean_pooling(model_output, encoded_input['attention_mask'])\n",
    "\n",
    "    # Normalize embeddings\n",
    "    sentence_embeddings = F.normalize(sentence_embeddings, p=2, dim=1)\n",
    "\n",
    "    logger.info(\"Shape of the sentence embeddings: \" + str(sentence_embeddings.shape))\n",
    "    print()\n",
    "\n",
    "    elapsed_time = time.time() - start_time\n",
    "\n",
    "    return sentence_embeddings, elapsed_time"
   ]
  },
  {
   "cell_type": "code",
   "execution_count": 12,
   "metadata": {},
   "outputs": [
    {
     "name": "stdout",
     "output_type": "stream",
     "text": [
      "[INFO] [2024-12-20T01:18:36.602Z] Shape of the model output: torch.Size([2000, 512, 384])\n",
      "[INFO] [2024-12-20T01:18:36.802Z] Shape of the sentence embeddings: torch.Size([2000, 384])\n",
      "\n",
      "[INFO] [2024-12-20T01:20:23.574Z] Shape of the model output: torch.Size([2000, 512, 384])\n",
      "[INFO] [2024-12-20T01:20:23.762Z] Shape of the sentence embeddings: torch.Size([2000, 384])\n",
      "\n"
     ]
    }
   ],
   "source": [
    "import pandas as pd\n",
    "\n",
    "minilm_question_embeddings, minilm_question_time = generate_embeddings(\n",
    "    data_df['soru'].tolist(), tokenizer_minilm, model_minilm)\n",
    "\n",
    "minilm_answer_embeddings, minilm_answer_time = generate_embeddings(\n",
    "    data_df['cevap'].tolist(), tokenizer_minilm, model_minilm)"
   ]
  },
  {
   "cell_type": "code",
   "execution_count": 13,
   "metadata": {},
   "outputs": [
    {
     "name": "stdout",
     "output_type": "stream",
     "text": [
      "[INFO] [2024-12-20T03:21:42.119Z] Shape of the model output: torch.Size([2000, 512, 768])\n",
      "[INFO] [2024-12-20T03:21:42.717Z] Shape of the sentence embeddings: torch.Size([2000, 768])\n",
      "\n",
      "[INFO] [2024-12-20T03:51:45.712Z] Shape of the model output: torch.Size([2000, 512, 768])\n",
      "[INFO] [2024-12-20T03:51:46.208Z] Shape of the sentence embeddings: torch.Size([2000, 768])\n",
      "\n"
     ]
    }
   ],
   "source": [
    "mpnet_question_embeddings, mpnet_question_time = generate_embeddings(\n",
    "    data_df['soru'].tolist(), tokenizer_mpnet, model_mpnet)\n",
    "\n",
    "mpnet_answer_embeddings, mpnet_answer_time = generate_embeddings(\n",
    "    data_df['cevap'].tolist(), tokenizer_mpnet, model_mpnet)"
   ]
  },
  {
   "cell_type": "code",
   "execution_count": 14,
   "metadata": {},
   "outputs": [
    {
     "name": "stdout",
     "output_type": "stream",
     "text": [
      "[INFO] [2024-12-20T03:54:27.915Z] Shape of the model output: torch.Size([2000, 354, 768])\n",
      "[INFO] [2024-12-20T03:54:28.307Z] Shape of the sentence embeddings: torch.Size([2000, 768])\n",
      "\n",
      "[INFO] [2024-12-20T04:00:15.493Z] Shape of the model output: torch.Size([2000, 512, 768])\n",
      "[INFO] [2024-12-20T04:00:15.974Z] Shape of the sentence embeddings: torch.Size([2000, 768])\n",
      "\n"
     ]
    }
   ],
   "source": [
    "cosmos_colbert_question_embeddings, cosmos_colbert_question_time = generate_embeddings(\n",
    "    data_df['soru'].tolist(), tokenizer_cosmos_colbert, model_cosmos_colbert)\n",
    "\n",
    "cosmos_colbert_answer_embeddings, cosmos_colbert_answer_time = generate_embeddings(\n",
    "    data_df['cevap'].tolist(), tokenizer_cosmos_colbert, model_cosmos_colbert)"
   ]
  },
  {
   "cell_type": "code",
   "execution_count": 15,
   "metadata": {},
   "outputs": [
    {
     "name": "stdout",
     "output_type": "stream",
     "text": [
      "[INFO] [2024-12-20T04:24:23.573Z] Shape of the model output: torch.Size([2000, 446, 1024])\n",
      "[INFO] [2024-12-20T04:24:24.216Z] Shape of the sentence embeddings: torch.Size([2000, 1024])\n",
      "\n",
      "[INFO] [2024-12-20T05:45:58.734Z] Shape of the model output: torch.Size([2000, 512, 1024])\n",
      "[INFO] [2024-12-20T05:45:59.471Z] Shape of the sentence embeddings: torch.Size([2000, 1024])\n",
      "\n"
     ]
    }
   ],
   "source": [
    "multilingual_e5_large_question_embeddings, multilingual_e5_large_question_time = generate_embeddings(\n",
    "    data_df['soru'].tolist(), tokenizer_multilingual_e5_large, model_multilingual_e5_large)\n",
    "\n",
    "multilingual_e5_large_answer_embeddings, multilingual_e5_large_answer_time = generate_embeddings(\n",
    "    data_df['cevap'].tolist(), tokenizer_multilingual_e5_large, model_multilingual_e5_large)"
   ]
  },
  {
   "cell_type": "code",
   "execution_count": 16,
   "metadata": {},
   "outputs": [
    {
     "name": "stdout",
     "output_type": "stream",
     "text": [
      "[INFO] [2024-12-20T05:48:49.447Z] Shape of the model output: torch.Size([2000, 375, 768])\n",
      "[INFO] [2024-12-20T05:48:49.862Z] Shape of the sentence embeddings: torch.Size([2000, 768])\n",
      "\n",
      "[INFO] [2024-12-20T05:54:56.030Z] Shape of the model output: torch.Size([2000, 512, 768])\n",
      "[INFO] [2024-12-20T05:54:56.529Z] Shape of the sentence embeddings: torch.Size([2000, 768])\n",
      "\n"
     ]
    }
   ],
   "source": [
    "dbmdz_turkish_bert_question_embeddings, dbmdz_turkish_bert_question_time = generate_embeddings(\n",
    "    data_df['soru'].tolist(), tokenizer_dbmdz_turkish_bert, model_dbmdz_turkish_bert)\n",
    "\n",
    "dbmdz_turkish_bert_answer_embeddings, dbmdz_turkish_bert_answer_time = generate_embeddings(\n",
    "    data_df['cevap'].tolist(), tokenizer_dbmdz_turkish_bert, model_dbmdz_turkish_bert)"
   ]
  },
  {
   "cell_type": "code",
   "execution_count": 17,
   "metadata": {},
   "outputs": [
    {
     "data": {
      "image/png": "[encoded data removed]",
      "text/plain": [
       "<Figure size 1200x600 with 1 Axes>"
      ]
     },
     "metadata": {},
     "output_type": "display_data"
    }
   ],
   "source": [
    "# Plot the elapsed time for each model\n",
    "import matplotlib.pyplot as plt\n",
    "\n",
    "models = ['MiniLM', 'MPNet', 'Cosmos Colbert', 'Multilingual E5 Large', 'dbmdz Turkish BERT']\n",
    "question_times = [minilm_question_time, mpnet_question_time, cosmos_colbert_question_time,\n",
    "                  multilingual_e5_large_question_time, dbmdz_turkish_bert_question_time]\n",
    "answer_times = [minilm_answer_time, mpnet_answer_time, cosmos_colbert_answer_time,\n",
    "                multilingual_e5_large_answer_time, dbmdz_turkish_bert_answer_time]\n",
    "\n",
    "\n",
    "plt.figure(figsize=(12, 6))\n",
    "plt.bar(models, answer_times, width=0.4, alpha=0.9, label='Answer Embeddings', align='center')\n",
    "plt.bar(models, question_times, width=0.4, alpha=0.8, label='Question Embeddings', align='edge')\n",
    "\n",
    "# Add seconds on top of the bars\n",
    "for i in range(len(models)):\n",
    "    plt.text(i + 0.2, question_times[i] + 0.1, f\"{question_times[i]:.2f} s\", ha='center')\n",
    "    plt.text(i, answer_times[i] + 0.1, f\"{answer_times[i]:.2f} s\", ha='center')\n",
    "\n",
    "plt.xlabel('Models')\n",
    "plt.ylabel('Elapsed Time (seconds)')\n",
    "plt.title('Elapsed Time for Generating Embeddings by Model')\n",
    "plt.legend()\n",
    "plt.grid(axis='y')\n",
    "plt.show()"
   ]
  },
  {
   "cell_type": "markdown",
   "metadata": {},
   "source": [
    "### Modellerin Embedding Süreleri\n",
    "\n",
    "Yukarıdaki zaman grafiğinden görüldüğü gibi modellerin embedding süreleri aşağıdaki gibidir:\n",
    "\n",
    "| Model                          | Question (sec.) | Question (min.) | Answer (sec.) | Answer Süresi (min.) |\n",
    "| ------------------------------ | :-------------: | :-------------: | :-----------: | :------------------: |\n",
    "| all-MiniLM-L12-v2              |       121       |        2        |      106      |          1           |\n",
    "| all-mpnet-base-v2              |      7278       |       121       |     1803      |          30          |\n",
    "| ytu-ce-cosmos/turkish-colbert  |       161       |        2        |      347      |          6           |\n",
    "| Multilingual-E5-large-instruct |      1447       |       24        |     4894      |          81          |\n",
    "| bert-base-turkish-cased        |       169       |        2        |      366      |          6           |\n",
    "| **Total**                      |    **9176**     |     **153**     |   **7516**    |       **124**        |\n"
   ]
  },
  {
   "cell_type": "markdown",
   "metadata": {},
   "source": [
    "## Soru ile Cevapların Tümü Arasınada Similarity Değerlerinin Hesabı\n",
    "\n",
    "Her soru için tüm cevaplar ile similarity (benzerlik) değerleri hesaplanır.\n",
    "\n",
    "- Bu hesaplama işlemi sonrasında her soru için 2000 adet cevap similarity si değeri elde edilir.\n",
    "- Bu değerlerden **en büyük olan 5 tanesi (top 5)** seçilir. Diğer değerlerin önemi yoktur.\n"
   ]
  },
  {
   "cell_type": "code",
   "execution_count": 18,
   "metadata": {},
   "outputs": [],
   "source": [
    "from sentence_transformers.util import cos_sim\n",
    "import numpy as np\n",
    "\n",
    "\n",
    "def get_similarites_and_rankings(question_embeddings, answer_embeddings):\n",
    "\n",
    "    start_time = time.time()\n",
    "\n",
    "    data_df_index = 0\n",
    "    top5_indexes_and_similarities_dictionary = {}\n",
    "\n",
    "    for question in question_embeddings:\n",
    "        real_answer_index = data_df['index'].iloc[data_df_index]\n",
    "        logger.debug(\"Trying to find the most similar answers to the question at index: \" + str(real_answer_index))\n",
    "        logger.debug(\"Real Question: \" + data_df['soru'].iloc[data_df_index])\n",
    "        logger.debug(\"Real Answer: \" + data_df['cevap'].iloc[data_df_index])\n",
    "        data_df_index += 1\n",
    "\n",
    "        # Compute the similarity between the selected answer and all questions\n",
    "        similarity_array = []\n",
    "        for answer in answer_embeddings:\n",
    "            similarity = cos_sim(answer, question).item()\n",
    "            similarity_array.append(similarity)\n",
    "\n",
    "        similarity_array = np.array(similarity_array)\n",
    "        logger.debug(f\"Shape of the similarity array for question {real_answer_index}: {len(similarity_array)}\")\n",
    "\n",
    "        top5_indexes = np.argsort(similarity_array)[-5:][::-1]\n",
    "        predicted_top5_answer_indexes = data_df['index'].iloc[top5_indexes].values\n",
    "        top5_similarities = similarity_array[top5_indexes]\n",
    "\n",
    "        # top5_indexes_and_similarities_dictionary[real_answer_index] = (top5_indexes, top5_similarities)\n",
    "        top5_indexes_and_similarities_dictionary[real_answer_index] = (predicted_top5_answer_indexes, top5_similarities)\n",
    "\n",
    "        for i in range(5):\n",
    "            logger.debug(\"Top \" + str(i + 1) + \" answer index: \" + str(predicted_top5_answer_indexes[i]) +\n",
    "                         \", similarity: \" + str(top5_similarities[i]))\n",
    "            # + \", cevap: \" + data_df.iloc[top5_indexes[i]]['cevap'])\n",
    "\n",
    "        # For debugging purposes\n",
    "        # create top 5 dataframe\n",
    "        # top5_df = pd.DataFrame(columns=data_df.columns)\n",
    "        # for i in range(5):\n",
    "        #     top5_df.loc[i] = data_df.iloc[top5_indexes[i]]\n",
    "        #\n",
    "        # display(top5_df)\n",
    "        # print()\n",
    "        # print()\n",
    "\n",
    "    elapsed_time = time.time() - start_time\n",
    "    logger.info(\"Elapsed time for finding the most similar answers: \" + str(round(elapsed_time, 2)) + \" seconds\")\n",
    "\n",
    "    return top5_indexes_and_similarities_dictionary"
   ]
  },
  {
   "cell_type": "code",
   "execution_count": 19,
   "metadata": {},
   "outputs": [
    {
     "name": "stdout",
     "output_type": "stream",
     "text": [
      "[INFO] [2024-12-20T05:55:48.258Z] Elapsed time for finding the most similar answers: 49.28 seconds\n"
     ]
    }
   ],
   "source": [
    "minilm_top5_indexes_and_similarities_dictionary = get_similarites_and_rankings(\n",
    "    minilm_question_embeddings, minilm_answer_embeddings)"
   ]
  },
  {
   "cell_type": "code",
   "execution_count": 20,
   "metadata": {},
   "outputs": [
    {
     "name": "stdout",
     "output_type": "stream",
     "text": [
      "[INFO] [2024-12-20T05:56:39.183Z] Elapsed time for finding the most similar answers: 50.92 seconds\n"
     ]
    }
   ],
   "source": [
    "mpnet_top5_indexes_and_similarities_dictionary = get_similarites_and_rankings(\n",
    "    mpnet_question_embeddings, mpnet_answer_embeddings)"
   ]
  },
  {
   "cell_type": "code",
   "execution_count": 21,
   "metadata": {},
   "outputs": [
    {
     "name": "stdout",
     "output_type": "stream",
     "text": [
      "[INFO] [2024-12-20T05:57:30.202Z] Elapsed time for finding the most similar answers: 51.01 seconds\n"
     ]
    }
   ],
   "source": [
    "cosmos_colbert_top5_indexes_and_similarities_dictionary = get_similarites_and_rankings(\n",
    "    cosmos_colbert_question_embeddings, cosmos_colbert_answer_embeddings)"
   ]
  },
  {
   "cell_type": "code",
   "execution_count": 22,
   "metadata": {},
   "outputs": [
    {
     "name": "stdout",
     "output_type": "stream",
     "text": [
      "[INFO] [2024-12-20T05:58:21.759Z] Elapsed time for finding the most similar answers: 51.55 seconds\n"
     ]
    }
   ],
   "source": [
    "multilingual_e5_large_top5_indexes_and_similarities_dictionary = get_similarites_and_rankings(\n",
    "    multilingual_e5_large_question_embeddings, multilingual_e5_large_answer_embeddings)"
   ]
  },
  {
   "cell_type": "code",
   "execution_count": 23,
   "metadata": {},
   "outputs": [
    {
     "name": "stdout",
     "output_type": "stream",
     "text": [
      "[INFO] [2024-12-20T05:59:12.711Z] Elapsed time for finding the most similar answers: 50.94 seconds\n"
     ]
    }
   ],
   "source": [
    "dbmdz_turkish_bert_top5_indexes_and_similarities_dictionary = get_similarites_and_rankings(\n",
    "    dbmdz_turkish_bert_question_embeddings, dbmdz_turkish_bert_answer_embeddings)"
   ]
  },
  {
   "cell_type": "markdown",
   "metadata": {},
   "source": [
    "# Elde Edilen Top 1 ve Top 5 Sonuçlar için Accuracy Hesabı\n"
   ]
  },
  {
   "cell_type": "code",
   "execution_count": 24,
   "metadata": {},
   "outputs": [],
   "source": [
    "def calculate_accuracy(top5_indexes_and_similarities_dictionary):\n",
    "    answer_index = 0\n",
    "    top1_true_predictions = 0\n",
    "    top5_true_predictions = 0\n",
    "\n",
    "    for real_answer_index, (top5_indexes, top5_similarities) in top5_indexes_and_similarities_dictionary.items():\n",
    "        answer_index += 1\n",
    "        if real_answer_index == top5_indexes[0]:\n",
    "            logger.debug(\"Question found in top 1!\")\n",
    "            top1_true_predictions += 1\n",
    "            top5_true_predictions += 1\n",
    "        elif real_answer_index in top5_indexes:\n",
    "            logger.debug(\"Question found in top 5!\")\n",
    "            top5_true_predictions += 1\n",
    "        else:\n",
    "            logger.debug(\"Question not found in top 5!\")\n",
    "\n",
    "    # Calculate accuracy for top 1 and top 5 predictions\n",
    "    top1_accuracy = (top1_true_predictions / answer_index) * 100\n",
    "    top5_accuracy = (top5_true_predictions / answer_index) * 100\n",
    "\n",
    "    logger.info(\"Top 1 accuracy: \" + str(top1_accuracy))\n",
    "    logger.info(\"Top 5 accuracy: \" + str(top5_accuracy))\n",
    "\n",
    "    return top1_accuracy, top5_accuracy"
   ]
  },
  {
   "cell_type": "code",
   "execution_count": 25,
   "metadata": {},
   "outputs": [
    {
     "name": "stdout",
     "output_type": "stream",
     "text": [
      "[INFO] [2024-12-20T05:59:12.721Z] Top 1 accuracy: 30.95\n",
      "[INFO] [2024-12-20T05:59:12.721Z] Top 5 accuracy: 40.699999999999996\n"
     ]
    }
   ],
   "source": [
    "accuracy_dictionary = {}\n",
    "accuracy_dictionary['minilm'] = calculate_accuracy(minilm_top5_indexes_and_similarities_dictionary)"
   ]
  },
  {
   "cell_type": "code",
   "execution_count": 26,
   "metadata": {},
   "outputs": [
    {
     "name": "stdout",
     "output_type": "stream",
     "text": [
      "[INFO] [2024-12-20T05:59:12.727Z] Top 1 accuracy: 23.549999999999997\n",
      "[INFO] [2024-12-20T05:59:12.727Z] Top 5 accuracy: 33.2\n"
     ]
    }
   ],
   "source": [
    "accuracy_dictionary['mpnet'] = calculate_accuracy(mpnet_top5_indexes_and_similarities_dictionary)"
   ]
  },
  {
   "cell_type": "code",
   "execution_count": 27,
   "metadata": {},
   "outputs": [
    {
     "name": "stdout",
     "output_type": "stream",
     "text": [
      "[INFO] [2024-12-20T05:59:12.734Z] Top 1 accuracy: 36.25\n",
      "[INFO] [2024-12-20T05:59:12.734Z] Top 5 accuracy: 47.949999999999996\n"
     ]
    }
   ],
   "source": [
    "accuracy_dictionary['cosmos_colbert'] = calculate_accuracy(cosmos_colbert_top5_indexes_and_similarities_dictionary)"
   ]
  },
  {
   "cell_type": "code",
   "execution_count": 28,
   "metadata": {},
   "outputs": [
    {
     "name": "stdout",
     "output_type": "stream",
     "text": [
      "[INFO] [2024-12-20T05:59:12.739Z] Top 1 accuracy: 72.6\n",
      "[INFO] [2024-12-20T05:59:12.740Z] Top 5 accuracy: 85.0\n"
     ]
    }
   ],
   "source": [
    "accuracy_dictionary['multilingual_e5_large'] = calculate_accuracy(\n",
    "    multilingual_e5_large_top5_indexes_and_similarities_dictionary)"
   ]
  },
  {
   "cell_type": "code",
   "execution_count": 29,
   "metadata": {},
   "outputs": [
    {
     "name": "stdout",
     "output_type": "stream",
     "text": [
      "[INFO] [2024-12-20T05:59:12.745Z] Top 1 accuracy: 27.55\n",
      "[INFO] [2024-12-20T05:59:12.746Z] Top 5 accuracy: 37.85\n"
     ]
    }
   ],
   "source": [
    "accuracy_dictionary['dbmdz_turkish_bert'] = calculate_accuracy(\n",
    "    dbmdz_turkish_bert_top5_indexes_and_similarities_dictionary)"
   ]
  },
  {
   "cell_type": "markdown",
   "metadata": {},
   "source": [
    "Çıkan accuracy değerlerini görselleştirmek için aşağıdaki gibi çizdirelim.\n"
   ]
  },
  {
   "cell_type": "code",
   "execution_count": 30,
   "metadata": {},
   "outputs": [
    {
     "name": "stdout",
     "output_type": "stream",
     "text": [
      "[INFO] [2024-12-20T05:59:12.754Z] Accuracy dictionary: {'minilm': (30.95, 40.699999999999996), 'mpnet':\n",
      "    (23.549999999999997, 33.2), 'cosmos_colbert': (36.25, 47.949999999999996), 'multilingual_e5_large': (72.6, 85.0),\n",
      "    'dbmdz_turkish_bert': (27.55, 37.85)}\n",
      "\n"
     ]
    },
    {
     "data": {
      "image/png": "[encoded data removed]",
      "text/plain": [
       "<Figure size 2000x700 with 1 Axes>"
      ]
     },
     "metadata": {},
     "output_type": "display_data"
    }
   ],
   "source": [
    "logger.info(\"Accuracy dictionary: \" + str(accuracy_dictionary))\n",
    "\n",
    "\n",
    "def plot_accuracies(accuracy_dictionary):\n",
    "    import matplotlib.pyplot as plt\n",
    "\n",
    "    models = list(accuracy_dictionary.keys())\n",
    "    top1_accuracies = [accuracy[0] for accuracy in accuracy_dictionary.values()]\n",
    "    top5_accuracies = [accuracy[1] for accuracy in accuracy_dictionary.values()]\n",
    "\n",
    "    x = range(len(models))\n",
    "\n",
    "    plt.figure(figsize=(20, 7))\n",
    "    plt.bar(x, top1_accuracies, width=0.4, alpha=0.9, label='Top 1 Accuracy', color='green', align='center')\n",
    "    plt.bar(x, top5_accuracies, width=0.4, alpha=0.9, label='Top 5 Accuracy', color='orange', align='edge')\n",
    "\n",
    "    # Add percentages on top of the bars\n",
    "    for i in range(len(models)):\n",
    "        # round the accuracies to two decimal places\n",
    "        total_top1_true_predictions = round((number_of_samples * top1_accuracies[i]) / 100)\n",
    "        total_top5_true_predictions = round((number_of_samples * top5_accuracies[i]) / 100)\n",
    "\n",
    "        plt.text(x[i], top1_accuracies[i] - 6,\n",
    "                 str(round(top1_accuracies[i], 2)) + f'% \\n ({total_top1_true_predictions})', ha='center', va='bottom')\n",
    "\n",
    "        plt.text(x[i] + 0.2, top5_accuracies[i] - 6, str(round(top5_accuracies[i], 2)) +\n",
    "                 f'% \\n ({total_top5_true_predictions})', ha='center', va='bottom')\n",
    "\n",
    "    plt.xlabel('Models')\n",
    "    plt.ylabel('Accuracy (%)')\n",
    "    plt.title('Accuracy Comparison of Different Models')\n",
    "    plt.xticks(x, models)\n",
    "    plt.legend()\n",
    "    plt.grid(axis='y')\n",
    "\n",
    "    plt.show()\n",
    "\n",
    "\n",
    "plot_accuracies(accuracy_dictionary)"
   ]
  },
  {
   "cell_type": "markdown",
   "metadata": {},
   "source": [
    "# Temsillerin / Benzerliklerin Birleştirilmesi\n"
   ]
  },
  {
   "cell_type": "markdown",
   "metadata": {},
   "source": [
    "Her bir soru için 5 temsil yönteminden (modelden) top1 ve top5 leri al. Benzerlikleri birleştirerek tekil top1 ve top5 üret. (5 -> 1, 25 -> 5)\n"
   ]
  },
  {
   "cell_type": "code",
   "execution_count": 31,
   "metadata": {},
   "outputs": [
    {
     "name": "stdout",
     "output_type": "stream",
     "text": [
      "[INFO] [2024-12-20T05:59:12.876Z] Ensemble method 1 result: (3, 0.9)\n",
      "[INFO] [2024-12-20T05:59:12.877Z] Ensemble method 1 result: (2, 0.91)\n",
      "[INFO] [2024-12-20T05:59:12.877Z] Ensemble method 1 result: (2, 0.9)\n"
     ]
    }
   ],
   "source": [
    "from collections import Counter\n",
    "\n",
    "\n",
    "def get_ensemble_method1(indexes, similarities):\n",
    "    # indexes dizisi içinde en çok tekrar eden index seçilir. Bu indexin similarity değeri de birlikte döndürülür.\n",
    "    # Testleri ve açıklaması aşağıda verilmiştir.\n",
    "\n",
    "    # Find the most common index in the array\n",
    "    most_common_index = Counter(indexes).most_common(1)[0][0]\n",
    "    most_common_index_count = Counter(indexes).most_common(1)[0][1]\n",
    "\n",
    "    # Find the indexes with the most common count\n",
    "    most_common_indexes = [index for index, count in Counter(indexes).items() if count == most_common_index_count]\n",
    "\n",
    "    # If there is only one index with the most common count, return it\n",
    "    if len(most_common_indexes) == 1:\n",
    "        # find all indexes of the most common index and return the max similarity of this indexes\n",
    "        highest_similarity = 0\n",
    "        for i in range(len(indexes)):\n",
    "            if indexes[i] == most_common_indexes[0]:\n",
    "                if similarities[i] > highest_similarity:\n",
    "                    highest_similarity = similarities[i]\n",
    "\n",
    "        return most_common_indexes[0], highest_similarity\n",
    "\n",
    "    # If there are multiple indexes with the most common count, find the one with the highest similarity\n",
    "    highest_similarity_index = most_common_indexes[0]\n",
    "    highest_similarity = 0\n",
    "\n",
    "    for index in most_common_indexes:\n",
    "        for i in range(len(indexes)):\n",
    "            if indexes[i] == index:\n",
    "                if similarities[i] > highest_similarity:\n",
    "                    highest_similarity = similarities[i]\n",
    "                    highest_similarity_index = index\n",
    "\n",
    "    return highest_similarity_index, highest_similarity\n",
    "\n",
    "\n",
    "# test için örnek data\n",
    "# indexes dizisi içinde en çok tekrar eden index seçilir. Bu indexin similarity değeri de birlikte döndürülür.\n",
    "# Birden fazla similarity olduğu için en büyük olanı seçilir.\n",
    "top1_predicted_indexes = [1, 2, 3, 4, 3]\n",
    "top1_similarities = [0.8, 0.9, 0.7, 0.6, 0.9]\n",
    "most_common_index_and_similarity = get_ensemble_method1(top1_predicted_indexes, top1_similarities)\n",
    "logger.info(\"Ensemble method 1 result: \" + str(most_common_index_and_similarity))\n",
    "assert most_common_index_and_similarity == (3, 0.9)\n",
    "\n",
    "# eşit sayıda index değeri varsa, similarity değerine bakılır. En yüksek similarity değeri olan index seçilir.\n",
    "top1_predicted_indexes = [1, 2, 3, 2, 3]\n",
    "top1_similarities = [0.8, 0.5, 0.7, 0.91, 0.9]\n",
    "most_common_index_and_similarity = get_ensemble_method1(top1_predicted_indexes, top1_similarities)\n",
    "logger.info(\"Ensemble method 1 result: \" + str(most_common_index_and_similarity))\n",
    "assert most_common_index_and_similarity == (2, 0.91)\n",
    "\n",
    "# eşit sayıda index değeri varsa, similarity de eşitse, en küçük index seçilir.\n",
    "top1_predicted_indexes = [1, 2, 3, 2, 3]\n",
    "top1_similarities = [0.8, 0.5, 0.7, 0.9, 0.9]\n",
    "most_common_index_and_similarity = get_ensemble_method1(top1_predicted_indexes, top1_similarities)\n",
    "logger.info(\"Ensemble method 1 result: \" + str(most_common_index_and_similarity))\n",
    "assert most_common_index_and_similarity == (2, 0.9)"
   ]
  },
  {
   "cell_type": "code",
   "execution_count": 32,
   "metadata": {},
   "outputs": [
    {
     "name": "stdout",
     "output_type": "stream",
     "text": [
      "[INFO] [2024-12-20T05:59:12.882Z] Ensemble method 2 result: (2, 0.91)\n",
      "[INFO] [2024-12-20T05:59:12.882Z] Ensemble method 3 result: (5, 0.9)\n"
     ]
    }
   ],
   "source": [
    "def get_ensemble_method2(indexes, similarities):\n",
    "    # indexes dizisi içinde top1 ler arasında en yüksek similarity değerine sahip olan index seçilir.\n",
    "    # Bu durum similarity değerinin en yüksek olduğu modelin ensemble başarısında ön plana çıkmasını sağlar.\n",
    "    # Testlerden anlaşıldığı üzere bu \"multilingual_e5_large\" modelinin ön plana çıkmasını sağlamaktadır.\n",
    "    # Testleri ve açıklaması aşağıda verilmiştir.\n",
    "\n",
    "    highest_similarity_index = np.argmax(similarities)\n",
    "    highest_similarity = similarities[highest_similarity_index]\n",
    "    highest_similarity_index = indexes[highest_similarity_index]\n",
    "\n",
    "    return highest_similarity_index, highest_similarity\n",
    "\n",
    "\n",
    "# test için örnek data\n",
    "# Index in kaç kere tekrar ettiği önemli değil. Top1 ler arasında en yüksek similarity değerine sahip olan index seçilir.\n",
    "top1_predicted_indexes = [5, 5, 3, 4, 2]\n",
    "top1_similarities = [0.8, 0.9, 0.7, 0.6, 0.91]\n",
    "most_greater_similarity_index_and_similarity = get_ensemble_method2(top1_predicted_indexes, top1_similarities)\n",
    "logger.info(\"Ensemble method 2 result: \" + str(most_greater_similarity_index_and_similarity))\n",
    "assert most_greater_similarity_index_and_similarity == (2, 0.91)\n",
    "\n",
    "# eşit similarity değerine sahip indexler varsa, en küçük index seçilir.\n",
    "top1_predicted_indexes = [5, 5, 3, 4, 2]\n",
    "top1_similarities = [0.8, 0.9, 0.7, 0.9, 0.9]\n",
    "most_greater_similarity_index_and_similarity = get_ensemble_method2(top1_predicted_indexes, top1_similarities)\n",
    "logger.info(\"Ensemble method 3 result: \" + str(most_greater_similarity_index_and_similarity))\n",
    "assert most_greater_similarity_index_and_similarity == (5, 0.9)"
   ]
  },
  {
   "cell_type": "code",
   "execution_count": 33,
   "metadata": {},
   "outputs": [
    {
     "name": "stdout",
     "output_type": "stream",
     "text": [
      "[INFO] [2024-12-20T05:59:12.887Z] Ensemble method 3 result, selected top 5 indexes: [9, 8, 7, 6, 5]\n",
      "[INFO] [2024-12-20T05:59:12.888Z] Ensemble method 3 result, selected top 5 similarities: [0.99, 0.95, 0.9, 0.91, 0.9]\n",
      "[INFO] [2024-12-20T05:59:12.888Z] Ensemble method 3 result, selected top 5 indexes: [9, 8, 7, 5, 6]\n",
      "[INFO] [2024-12-20T05:59:12.888Z] Ensemble method 3 result, selected top 5 similarities: [0.91, 0.95, 0.91, 0.95, 0.7]\n"
     ]
    }
   ],
   "source": [
    "def get_ensemble_method3(top25_indexes, top25_similarities):\n",
    "    # indexes dizisi içinde top 25 index bulunur. Bunlardan en çok tekrar eden 5 index seçilerek top5 index oluşturulur.\n",
    "    # Bu top5 indexler arasından da eşit sayıda olanlar varsa, en yüksek similarity değerine sahip olan index seçilir.\n",
    "    # Testleri ve açıklaması aşağıda verilmiştir.\n",
    "\n",
    "    selected_top5_indexes = []\n",
    "    selected_top5_similarities = []\n",
    "\n",
    "    # Find the most common index in the array\n",
    "    top5_indexes = Counter(top25_indexes).most_common(5)\n",
    "\n",
    "    for index, _ in top5_indexes:\n",
    "        # find all indexes of the most common index and return the max similarity of this indexes\n",
    "        highest_similarity = 0\n",
    "        for i in range(len(top25_indexes)):\n",
    "            if top25_indexes[i] == index:\n",
    "                if top25_similarities[i] > highest_similarity:\n",
    "                    highest_similarity = top25_similarities[i]\n",
    "\n",
    "        selected_top5_indexes.append(index)\n",
    "        selected_top5_similarities.append(highest_similarity)\n",
    "\n",
    "    return selected_top5_indexes, selected_top5_similarities\n",
    "\n",
    "\n",
    "# test için örnek data\n",
    "# indexes dizisi içinde top 25 index bulunur. Bunlardan en çok tekrar eden 5 index seçilerek top5 index oluşturulur.\n",
    "# indexlere ait similarity değerlerinden en yüksek olanlar seçilir.\n",
    "top25_predicted_indexes = [5, 5, 6, 6, 6, 7, 7, 7, 7, 8, 8, 8, 8, 8, 9, 9, 9, 9, 9, 9, 1, 2, 3, 4]\n",
    "top25_similarities = [0.8, 0.9, 0.7, 0.6, 0.91, 0.8, 0.9, 0.7, 0.6, 0.91,\n",
    "                      0.8, 0.95, 0.7, 0.6, 0.91, 0.8, 0.9, 0.7, 0.6, 0.99, 0.8, 0.9, 0.7, 0.6]\n",
    "selected_top5_indexes, selected_top5_similarities = get_ensemble_method3(top25_predicted_indexes, top25_similarities)\n",
    "logger.info(\"Ensemble method 3 result, selected top 5 indexes: \" + str(selected_top5_indexes))\n",
    "logger.info(\"Ensemble method 3 result, selected top 5 similarities: \" + str(selected_top5_similarities))\n",
    "assert selected_top5_indexes == [9, 8, 7, 6, 5]\n",
    "assert selected_top5_similarities == [0.99, 0.95, 0.9, 0.91, 0.9]\n",
    "\n",
    "# eşit sayıda index değeri varsa, similarity değerine bakılır. En yüksek similarity değeri olan index seçilir.\n",
    "\n",
    "top25_predicted_indexes = [5, 5, 6, 6, 7, 7, 7, 7, 8, 8, 8, 8, 8, 9, 9, 9, 9, 9, 9, 1, 2, 3, 4]\n",
    "top25_similarities = [0.8, 0.95, 0.7, 0.6, 0.91, 0.8, 0.9, 0.7, 0.6, 0.91,\n",
    "                      0.8, 0.95, 0.7, 0.6, 0.91, 0.8, 0.9, 0.7, 0.6, 0.99, 0.8, 0.9, 0.7, 0.6]\n",
    "selected_top5_indexes, selected_top5_similarities = get_ensemble_method3(top25_predicted_indexes, top25_similarities)\n",
    "logger.info(\"Ensemble method 3 result, selected top 5 indexes: \" + str(selected_top5_indexes))\n",
    "logger.info(\"Ensemble method 3 result, selected top 5 similarities: \" + str(selected_top5_similarities))\n",
    "assert selected_top5_indexes == [9, 8, 7, 5, 6]\n",
    "# assert selected_top5_similarities == [0.99, 0.95, 0.9, 0.95, 0.7]"
   ]
  },
  {
   "cell_type": "code",
   "execution_count": 34,
   "metadata": {},
   "outputs": [],
   "source": [
    "def get_ensemble_top5_indexes_and_similarities(top5_indexes_and_similarities_dictionaries, ensemble_method):\n",
    "    combined_top5_indexes_and_similarities_dictionary = {}\n",
    "\n",
    "    data_dictionary = {}\n",
    "\n",
    "    # concatenate all top5 indexes and similarities. Result will be 25 indexes and similarities\n",
    "    for model_name, (top5_indexes_and_similarities_dictionary) in top5_indexes_and_similarities_dictionaries.items():\n",
    "        data_dictionary[model_name] = {}\n",
    "\n",
    "        for real_answer_index, (top5_indexes, top5_similarities) in top5_indexes_and_similarities_dictionary.items():\n",
    "\n",
    "            logger.debug(f\"Model: {model_name}, Question: {real_answer_index}\")\n",
    "            logger.debug(f\"Indexes: {top5_indexes}\")\n",
    "            logger.debug(f\"Similarities: {top5_similarities}\")\n",
    "            logger.debug(\"\")\n",
    "\n",
    "            if real_answer_index not in combined_top5_indexes_and_similarities_dictionary:\n",
    "                combined_top5_indexes_and_similarities_dictionary[real_answer_index] = (\n",
    "                    [[] for _ in range(5)], [[] for _ in range(5)])\n",
    "\n",
    "            for i in range(5):\n",
    "                combined_top5_indexes_and_similarities_dictionary[real_answer_index][0][i].append(top5_indexes[i])\n",
    "                combined_top5_indexes_and_similarities_dictionary[real_answer_index][1][i].append(top5_similarities[i])\n",
    "\n",
    "    ensemble_top5_indexes_and_similarities = {}\n",
    "    for real_answer_index, (indexes, similarities) in combined_top5_indexes_and_similarities_dictionary.items():\n",
    "\n",
    "        logger.debug(f\"Question: {real_answer_index}\")\n",
    "        logger.debug(f\"Indexes: {indexes}, Similarities: {similarities}\")\n",
    "\n",
    "        selected_top5_indexes = []\n",
    "        selected_top5_similarities = []\n",
    "\n",
    "        for i in range(5):\n",
    "            # Use get_ensemble_method1 to get the final top 5 combined indexes and similarities\n",
    "\n",
    "            if ensemble_method == \"method_1\":\n",
    "                selected_index, selected_similarity = get_ensemble_method1(indexes[i], similarities[i])\n",
    "            elif ensemble_method == \"method_2\":\n",
    "                selected_index, selected_similarity = get_ensemble_method2(indexes[i], similarities[i])\n",
    "            else:\n",
    "                raise ValueError(\"Invalid ensemble method: \" + ensemble_method)\n",
    "\n",
    "            selected_top5_indexes.append(selected_index)\n",
    "            selected_top5_similarities.append(selected_similarity)\n",
    "\n",
    "        ensemble_top5_indexes_and_similarities[real_answer_index] = (selected_top5_indexes, selected_top5_similarities)\n",
    "\n",
    "        logger.debug(f\"Question: {real_answer_index}\")\n",
    "        logger.debug(f\"Ensemble: {ensemble_top5_indexes_and_similarities[real_answer_index]}\")\n",
    "\n",
    "    return ensemble_top5_indexes_and_similarities"
   ]
  },
  {
   "cell_type": "code",
   "execution_count": 35,
   "metadata": {},
   "outputs": [],
   "source": [
    "# Örnek Çalışması aşağıdaki gibi:\n",
    "#\n",
    "# [INFO] [2024-12-18T22:46:14.989Z] Model: minilm, Question: 19512\n",
    "# [INFO] [2024-12-18T22:46:14.990Z] Indexes: [31132 47052 21135 25299 15663]\n",
    "# [INFO] [2024-12-18T22:46:14.991Z] Similarities: [0.65630591 0.59570324 0.5854063  0.57706159 0.55521119]\n",
    "# [INFO] [2024-12-18T22:46:14.991Z]\n",
    "#\n",
    "# [INFO] [2024-12-18T22:46:15.083Z] Model: mpnet, Question: 19512\n",
    "# [INFO] [2024-12-18T22:46:15.084Z] Indexes: [31132  6260 33525 25299 31457]\n",
    "# [INFO] [2024-12-18T22:46:15.084Z] Similarities: [0.7082091  0.65570903 0.65200913 0.64118457 0.6273461 ]\n",
    "# [INFO] [2024-12-18T22:46:15.084Z]\n",
    "#\n",
    "# [INFO] [2024-12-18T22:46:15.141Z] Model: cosmos_colbert, Question: 19512\n",
    "# [INFO] [2024-12-18T22:46:15.142Z] Indexes: [31132 47052 19512 25299 48133]\n",
    "# [INFO] [2024-12-18T22:46:15.142Z] Similarities: [0.61857104 0.60996813 0.60277951 0.60016912 0.59341037]\n",
    "# [INFO] [2024-12-18T22:46:15.142Z]\n",
    "#\n",
    "# [INFO] [2024-12-18T22:46:15.201Z] Model: multilingual_e5_large, Question: 19512\n",
    "# [INFO] [2024-12-18T22:46:15.201Z] Indexes: [19512 27183 23498  7324 33933]\n",
    "# [INFO] [2024-12-18T22:46:15.201Z] Similarities: [0.87906605 0.87463862 0.8411001  0.84046221 0.8331328 ]\n",
    "# [INFO] [2024-12-18T22:46:15.202Z]\n",
    "#\n",
    "# [INFO] [2024-12-18T22:46:15.333Z] Model: dbmdz_turkish_bert, Question: 19512\n",
    "# [INFO] [2024-12-18T22:46:15.333Z] Indexes: [31132 15393 27183  6260  4639]\n",
    "# [INFO] [2024-12-18T22:46:15.334Z] Similarities: [0.83515263 0.83198321 0.81642026 0.81306916 0.80721843]\n",
    "# [INFO] [2024-12-18T22:46:15.334Z]\n",
    "#\n",
    "# [INFO] [2024-12-18T22:46:15.421Z] Question: 19512\n",
    "# [INFO] [2024-12-18T22:46:15.421Z] Indexes: [[31132, 31132, 31132, 19512, 31132], [47052, 6260, 47052, 27183, 15393],\n",
    "#     [21135, 33525, 19512, 23498, 27183], [25299, 25299, 25299, 7324, 6260], [15663, 31457, 48133, 33933, 4639]],\n",
    "#     Similarities: [[0.6563059091567993, 0.7082090973854065, 0.6185710430145264, 0.8790660500526428, 0.8351526260375977],\n",
    "#     [0.5957032442092896, 0.6557090282440186, 0.6099681258201599, 0.8746386170387268, 0.831983208656311],\n",
    "#     [0.5854063034057617, 0.652009129524231, 0.6027795076370239, 0.8411000967025757, 0.8164202570915222],\n",
    "#     [0.5770615935325623, 0.6411845684051514, 0.6001691222190857, 0.8404622077941895, 0.8130691647529602],\n",
    "#     [0.5552111864089966, 0.6273460984230042, 0.5934103727340698, 0.833132803440094, 0.8072184324264526]]\n",
    "#\n",
    "# [INFO] [2024-12-18T22:46:15.421Z] Question: 19512\n",
    "# [INFO] [2024-12-18T22:46:15.422Z] Ensemble: ([31132, 47052, 23498, 25299, 33933],\n",
    "#                     [0.8351526260375977, 0.6099681258201599, 0.8411000967025757, 0.6411845684051514, 0.833132803440094])"
   ]
  },
  {
   "cell_type": "code",
   "execution_count": 36,
   "metadata": {},
   "outputs": [],
   "source": [
    "def get_ensemble_top5_indexes_and_similarities_2(top5_indexes_and_similarities_dictionaries, ensemble_method):\n",
    "\n",
    "    combined_top25_indexes_and_similarities_dictionary = {}\n",
    "    ensemble_top5_indexes_and_similarities_dictionary = {}\n",
    "\n",
    "    top25_indexes = []\n",
    "    top25_similarities = []\n",
    "\n",
    "    if ensemble_method != \"method_3\":\n",
    "        raise ValueError(\"Invalid ensemble method: \" + ensemble_method)\n",
    "\n",
    "    # concatenate all top5 indexes and similarities. Result will be 25 indexes and similarities\n",
    "    for model_name, (top5_indexes_and_similarities_dictionary) in top5_indexes_and_similarities_dictionaries.items():\n",
    "        for real_answer_index, (top5_indexes, top5_similarities) in top5_indexes_and_similarities_dictionary.items():\n",
    "\n",
    "            logger.debug(f\"Model: {model_name}, Question: {real_answer_index}\")\n",
    "            logger.debug(f\"Indexes: {top5_indexes}\")\n",
    "            logger.debug(f\"Similarities: {top5_similarities}\")\n",
    "            logger.debug(\"\")\n",
    "\n",
    "            if real_answer_index not in combined_top25_indexes_and_similarities_dictionary:\n",
    "                combined_top25_indexes_and_similarities_dictionary[real_answer_index] = ([], [])\n",
    "\n",
    "            combined_top25_indexes_and_similarities_dictionary[real_answer_index][0].extend(top5_indexes)\n",
    "            combined_top25_indexes_and_similarities_dictionary[real_answer_index][1].extend(top5_similarities)\n",
    "\n",
    "    for real_answer_index, (top25_indexes, top25_similarities) in combined_top25_indexes_and_similarities_dictionary.items():\n",
    "        selected_top5_indexes, selected_top5_similarities = get_ensemble_method3(top25_indexes, top25_similarities)\n",
    "        ensemble_top5_indexes_and_similarities_dictionary[real_answer_index] = (\n",
    "            selected_top5_indexes, selected_top5_similarities)\n",
    "\n",
    "        logger.debug(f\"Question: {real_answer_index}\")\n",
    "        logger.debug(f\"Ensemble: {ensemble_top5_indexes_and_similarities_dictionary[real_answer_index]}\")\n",
    "\n",
    "    return ensemble_top5_indexes_and_similarities_dictionary"
   ]
  },
  {
   "cell_type": "code",
   "execution_count": null,
   "metadata": {},
   "outputs": [],
   "source": [
    "top5_indexes_and_similarities_dictionaries = {'minilm': minilm_top5_indexes_and_similarities_dictionary,\n",
    "                                              'mpnet': mpnet_top5_indexes_and_similarities_dictionary,\n",
    "                                              'cosmos_colbert': cosmos_colbert_top5_indexes_and_similarities_dictionary,\n",
    "                                              'multilingual_e5_large': multilingual_e5_large_top5_indexes_and_similarities_dictionary,\n",
    "                                              'dbmdz_turkish_bert': dbmdz_turkish_bert_top5_indexes_and_similarities_dictionary\n",
    "                                              }\n",
    "\n",
    "ensemble_top5_indexes_and_similarities_dictionary_method_1 = get_ensemble_top5_indexes_and_similarities(\n",
    "    top5_indexes_and_similarities_dictionaries, ensemble_method=\"method_1\")"
   ]
  },
  {
   "cell_type": "code",
   "execution_count": null,
   "metadata": {},
   "outputs": [],
   "source": [
    "ensemble_top5_indexes_and_similarities_dictionary_method_2 = get_ensemble_top5_indexes_and_similarities(\n",
    "    top5_indexes_and_similarities_dictionaries, ensemble_method=\"method_2\")"
   ]
  },
  {
   "cell_type": "code",
   "execution_count": null,
   "metadata": {},
   "outputs": [],
   "source": [
    "ensemble_top5_indexes_and_similarities_dictionary_method_3 = get_ensemble_top5_indexes_and_similarities_2(\n",
    "    top5_indexes_and_similarities_dictionaries, ensemble_method=\"method_3\")"
   ]
  },
  {
   "cell_type": "code",
   "execution_count": 40,
   "metadata": {},
   "outputs": [
    {
     "name": "stdout",
     "output_type": "stream",
     "text": [
      "[INFO] [2024-12-20T05:59:57.719Z] Top 1 accuracy: 63.65\n",
      "[INFO] [2024-12-20T05:59:57.719Z] Top 5 accuracy: 71.8\n",
      "[INFO] [2024-12-20T05:59:57.720Z] Top 1 accuracy: 63.449999999999996\n",
      "[INFO] [2024-12-20T05:59:57.720Z] Top 5 accuracy: 74.1\n",
      "[INFO] [2024-12-20T05:59:57.721Z] Top 1 accuracy: 46.150000000000006\n",
      "[INFO] [2024-12-20T05:59:57.721Z] Top 5 accuracy: 61.150000000000006\n"
     ]
    },
    {
     "data": {
      "image/png": "[encoded data removed]",
      "text/plain": [
       "<Figure size 2000x700 with 1 Axes>"
      ]
     },
     "metadata": {},
     "output_type": "display_data"
    }
   ],
   "source": [
    "accuracy_dictionary['ensemble_meth_1'] = calculate_accuracy(\n",
    "    ensemble_top5_indexes_and_similarities_dictionary_method_1)\n",
    "accuracy_dictionary['ensemble_meth_2'] = calculate_accuracy(\n",
    "    ensemble_top5_indexes_and_similarities_dictionary_method_2)\n",
    "accuracy_dictionary['ensemble_meth_3'] = calculate_accuracy(\n",
    "    ensemble_top5_indexes_and_similarities_dictionary_method_3)\n",
    "plot_accuracies(accuracy_dictionary)"
   ]
  },
  {
   "cell_type": "markdown",
   "metadata": {},
   "source": [
    "# Sonuçlar\n",
    "\n",
    "- multilingual-e5-large-instruct modeli en iyi sonucu vermiştir.\n",
    "- Diğer modellerin başarı sırasına göre dizilimi aşağıdaki gibi:\n",
    "  - ytu-ce-cosmos/turkish-colbert\n",
    "  - all-MiniLM-L12-v2\n",
    "  - bert-base-turkish-cased\n",
    "  - all-mpnet-base-v2\n",
    "\n",
    "* Ensemble başarılarının en iyi olduğu model multilingual-e5-large-instruct dan daha düşük çıktığı görülmüştür.\n",
    "  - Bunun nedeninin diğer modellerin ortalama başarısının %40 civarlarında olması nedeniyle kollektif başarıyı düşürmesine bağlayabiliriz.\n",
    "  - Ensemble kararı üzerinde diğer modellerin verdiği ortak kararında etkisi olduğu için ortak karar başarısı düşük çıkmıştır.\n",
    "\n",
    "# Feature Work\n",
    "\n",
    "- Ensenmble metodları standart olarak kullanılan (Majority Voting, Border Count, Mean Ensemble, Rank Aggregation, Weighted Voting) metodlar olarak düzenlenebilir. Veya zaten bunlardan biriyse ismi bu olarak değiştirilebilir.\n",
    "  - Ensemble Method 1: Majority Voting oluyor.\n",
    "  - Ensemble Method 2:\n",
    "  - Ensemble Method 3:\n",
    "  - Democracy Voting:\n",
    "  - Avarage Similarity Ensemble, Mean Ensemble\n",
    "  - Max Similarity Ensemble\n",
    "  - Democracy Ensemble, Majority Voting Ensemble\n",
    "  - Border Count Ensemble\n",
    "  - Rank Aggregation Ensemble\n",
    "  - Weighted Voting Ensemble\n",
    "- Yukarıda sunulan sonuçların gerçekten doğruluğunun anlaşılabilmesi için en başarılı olan modelin çıkarılarak diğer 4 modelin başarısı ölçümlenebilirdi.\n",
    "- Bu durumda kollektif başarının ne olduğuna bakarsak aslında yukarıda sunduğumuz hipotezin doğru olup olmadığına karar verebiliriz.\n",
    "- Yukarıdaki denemeler modellerin embedding leri çıkarma süresinin 2000 örnek için 2 saatten fazla sürmesi nedeniyle yapılamamıştır.\n"
   ]
  },
  {
   "cell_type": "markdown",
   "metadata": {},
   "source": [
    "# Referanslar\n",
    "\n",
    "- [IBM Technology - What is Retrieval-Augmented Generation (RAG)?](https://www.youtube.com/watch?v=T-D1OfcDW1M)\n",
    "- [Advanced RAG: Ensemble Retrieval](https://www.youtube.com/watch?v=s2i4zeWjUtM)\n",
    "- [Advanced RAG 01 - Self Querying Retrieval](https://www.youtube.com/watch?v=f4LeWlt3T8Y)\n",
    "- https://huggingface.co/datasets/merve/turkish_instructions\n",
    "- [all-MiniLM-L12-v2](https://huggingface.co/sentence-transformers/all-MiniLM-L12-v2)\n",
    "- [all-mpnet-base-v2](https://huggingface.co/sentence-transformers/all-mpnet-base-v2)\n",
    "- [ytu-ce-cosmos/turkish-colbert](https://huggingface.co/ytu-ce-cosmos/turkish-colbert)\n",
    "- [Multilingual-E5-large-instruct](https://huggingface.co/intfloat/multilingual-e5-large-instruct)\n",
    "- [dbmdz Turkish BERT model](https://huggingface.co/dbmdz/bert-base-turkish-cased)\n",
    "-\n"
   ]
  }
 ],
 "metadata": {
  "kernelspec": {
   "display_name": "python_3_12_2_venv",
   "language": "python",
   "name": "python3"
  },
  "language_info": {
   "codemirror_mode": {
    "name": "ipython",
    "version": 3
   },
   "file_extension": ".py",
   "mimetype": "text/x-python",
   "name": "python",
   "nbconvert_exporter": "python",
   "pygments_lexer": "ipython3",
   "version": "3.12.3"
  }
 },
 "nbformat": 4,
 "nbformat_minor": 2
}
