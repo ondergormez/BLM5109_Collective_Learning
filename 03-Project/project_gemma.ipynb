{
 "cells": [
  {
   "cell_type": "markdown",
   "metadata": {},
   "source": [
    "# Project: R2 - RAGAS (Retrieval-Augmented Generation for Answer Selection) Evaluation\n",
    "\n",
    "Ad Soyad: Önder Görmez  \n",
    "Öğrenci No: 21501035\n"
   ]
  },
  {
   "cell_type": "markdown",
   "metadata": {},
   "source": [
    "# RAGAS Evaluation\n",
    "\n",
    "RAGAS (Retrieval-Augmented Generation for Answer Selection) is an evaluation framework designed to assess the performance of retrieval-augmented generation models. These models combine information retrieval techniques with generative models to produce more accurate and contextually relevant answers to queries.\n",
    "\n",
    "## Key Components of RAGAS Evaluation\n",
    "\n",
    "1. **Retrieval Component**:\n",
    "\n",
    "   - The retrieval component is responsible for fetching relevant documents or passages from a large corpus based on the input query.\n",
    "   - The quality of the retrieval component is evaluated based on metrics such as precision, recall, and F1-score, which measure how well the retrieved documents match the relevant documents.\n",
    "\n",
    "2. **Generation Component**:\n",
    "\n",
    "   - The generation component uses the retrieved documents to generate a coherent and contextually appropriate answer to the query.\n",
    "   - The quality of the generation component is evaluated based on metrics such as BLEU, ROUGE, and METEOR, which measure the similarity between the generated answer and the reference answer.\n",
    "\n",
    "3. **Combined Evaluation**:\n",
    "   - RAGAS evaluates the combined performance of the retrieval and generation components.\n",
    "   - This involves assessing how well the retrieved documents support the generation of accurate and relevant answers.\n",
    "   - Metrics such as Exact Match (EM) and F1-score are used to evaluate the overall performance of the system.\n",
    "\n",
    "## Evaluation Metrics\n",
    "\n",
    "- **Precision**: Measures the proportion of relevant documents among the retrieved documents.\n",
    "- **Recall**: Measures the proportion of relevant documents that were retrieved from the total relevant documents.\n",
    "- **F1-Score**: The harmonic mean of precision and recall, providing a single metric that balances both.\n",
    "- **BLEU (Bilingual Evaluation Understudy)**: Measures the n-gram overlap between the generated answer and the reference answer.\n",
    "- **ROUGE (Recall-Oriented Understudy for Gisting Evaluation)**: Measures the overlap of n-grams, word sequences, and word pairs between the generated answer and the reference answer.\n",
    "- **METEOR (Metric for Evaluation of Translation with Explicit ORdering)**: Considers synonyms, stemming, and paraphrasing in addition to n-gram overlap.\n",
    "- **Exact Match (EM)**: Measures the percentage of generated answers that exactly match the reference answers.\n",
    "- **Combined F1-Score**: Evaluates the overall performance by considering both retrieval and generation quality.\n",
    "\n",
    "## Example Workflow\n",
    "\n",
    "1. **Query Input**: A user inputs a query.\n",
    "2. **Document Retrieval**: The retrieval component fetches relevant documents from a corpus.\n",
    "3. **Answer Generation**: The generation component uses the retrieved documents to generate an answer.\n",
    "4. **Evaluation**: The generated answer is compared to the reference answer using the evaluation metrics.\n",
    "\n",
    "## Conclusion\n",
    "\n",
    "RAGAS evaluation provides a comprehensive framework for assessing the performance of retrieval-augmented generation models. By combining retrieval and generation metrics, it ensures that the models are evaluated holistically, considering both the relevance of the retrieved documents and the quality of the generated answers. This approach helps in developing more effective and accurate models for tasks such as question answering and information retrieval.\n"
   ]
  },
  {
   "cell_type": "markdown",
   "metadata": {},
   "source": [
    "# Colab İle Çalışmanın Ayarlanması\n",
    "\n",
    "Colab üzerinde çalışırken, bazı directory lerin değiştirilmesi ve bunlar üzerinde kodun çalıştırılması gerekmektedir. Aşağıdaki şekilde yapılır.\n"
   ]
  },
  {
   "cell_type": "code",
   "execution_count": 12,
   "metadata": {},
   "outputs": [
    {
     "name": "stdout",
     "output_type": "stream",
     "text": [
      "Google Colab is not enabled. Running locally.\n"
     ]
    }
   ],
   "source": [
    "import os\n",
    "\n",
    "PROJECT_DIR = ''\n",
    "\n",
    "IS_GOOGLE_COLAB_ENABLED = False\n",
    "\n",
    "if IS_GOOGLE_COLAB_ENABLED:\n",
    "    print('Google Colab is enabled. Running on Google Colab.')\n",
    "\n",
    "    from google.colab import drive\n",
    "    # Mount Google Drive\n",
    "    drive.mount('/content/drive', force_remount=True)\n",
    "\n",
    "    PROJECT_DIR = '/content/drive/MyDrive/Colab/'\n",
    "\n",
    "    # Ensure the directory exists\n",
    "    os.makedirs(PROJECT_DIR, exist_ok=True)\n",
    "\n",
    "else:\n",
    "    print('Google Colab is not enabled. Running locally.')\n",
    "\n",
    "    # Local configuration and folder setup\n",
    "    PROJECT_DIR = '/Users/ondergormez/Repos/BLM5109_Collective_Learning/03-Project/'\n",
    "\n",
    "LLM_ANSWERS_DIR = PROJECT_DIR + 'llm_answers'\n",
    "RAGAS_SCORES_DIR = PROJECT_DIR + 'ragas_scores'\n",
    "\n",
    "# Ensure the directory exists\n",
    "os.makedirs(LLM_ANSWERS_DIR, exist_ok=True)\n",
    "os.makedirs(RAGAS_SCORES_DIR, exist_ok=True)"
   ]
  },
  {
   "cell_type": "markdown",
   "metadata": {},
   "source": [
    "# Logger Kullanımı\n",
    "\n",
    "- Oluşturulan kod içerisinde loglama işlemleri için `logging` kütüphanesi kullanılmıştır.\n",
    "- Böylelikle geliştirme aşamasında debug için koyulan kodların çıktılarına bakılarak hata ayıklama işlemleri yapılabilir. Bu kodların çıktıları rapor sunulurken kaldırılacaktır.\n"
   ]
  },
  {
   "cell_type": "code",
   "execution_count": 13,
   "metadata": {},
   "outputs": [
    {
     "name": "stdout",
     "output_type": "stream",
     "text": [
      "[INFO] [2025-01-28T10:42:05.105Z] Logging is configured successfully.\n"
     ]
    }
   ],
   "source": [
    "import logging\n",
    "import logging.config\n",
    "import yaml\n",
    "import textwrap\n",
    "\n",
    "\n",
    "class CustomFormatter(logging.Formatter):\n",
    "\n",
    "    def format(self, record):\n",
    "        wrapped_message = super().format(record)\n",
    "\n",
    "        # wrap the log messages to 120 characters to better fit the screen\n",
    "        if (len(wrapped_message) > 120):\n",
    "            wrapped_message = \"\\n\".join(textwrap.wrap(wrapped_message, width=120))\n",
    "\n",
    "            # indent the wrapped lines but not the first line\n",
    "            first_line, rest = wrapped_message.split('\\n', 1)\n",
    "            wrapped_message = first_line + '\\n' + textwrap.indent(rest, ' ' * 4) + '\\n'\n",
    "\n",
    "        return wrapped_message\n",
    "\n",
    "\n",
    "LOGGER_CONFIG_FILE = PROJECT_DIR + 'logger_config.yaml'\n",
    "\n",
    "# Load the YAML configuration\n",
    "with open(LOGGER_CONFIG_FILE, 'r') as file:\n",
    "    config = yaml.safe_load(file.read())\n",
    "    logging.config.dictConfig(config)\n",
    "\n",
    "# Apply the custom formatter to the selected handler\n",
    "logger = logging.getLogger(\"default_logger\")\n",
    "for handler in logger.handlers:\n",
    "    if isinstance(handler, logging.StreamHandler):\n",
    "        handler.setFormatter(CustomFormatter(handler.formatter._fmt, datefmt=handler.formatter.datefmt))\n",
    "\n",
    "# TODO: Set the log level to INFO\n",
    "# logger.setLevel(logging.DEBUG)\n",
    "logger.setLevel(logging.INFO)\n",
    "\n",
    "\n",
    "logger.debug(\"This is a debug message that will be wrapped after 140 characters. \" * 10)\n",
    "logger.info(\"Logging is configured successfully.\")"
   ]
  },
  {
   "cell_type": "markdown",
   "metadata": {},
   "source": [
    "# Çalıştırılmayacak Kodlar\n",
    "\n",
    "- Bazı kodların geçici olarak tutulması falan çalıştırılmaması gerekebilir.\n",
    "- Bunun için aşağıdaki gibi bir işlem yapılabilir.\n"
   ]
  },
  {
   "cell_type": "code",
   "execution_count": 14,
   "metadata": {},
   "outputs": [],
   "source": [
    "from IPython.core.magic import register_cell_magic\n",
    "\n",
    "\n",
    "@register_cell_magic\n",
    "def skip(line, cell):\n",
    "    logger.info(f\"TODO: Bu hücre çalıştırılmayacak!\")\n",
    "    logger.info(f\" Extra comment: {line}\")\n",
    "    pass"
   ]
  },
  {
   "cell_type": "code",
   "execution_count": 15,
   "metadata": {},
   "outputs": [
    {
     "name": "stdout",
     "output_type": "stream",
     "text": [
      "[INFO] [2025-01-28T10:42:05.134Z] TODO: Bu hücre çalıştırılmayacak!\n",
      "[INFO] [2025-01-28T10:42:05.134Z]  Extra comment: TODO: Bu hücre kullanılmıyorsa silinebilibir.\n"
     ]
    }
   ],
   "source": [
    "%%skip TODO: Bu hücre kullanılmıyorsa silinebilibir.\n",
    "logger.info(\"Hello world!\")"
   ]
  },
  {
   "cell_type": "markdown",
   "metadata": {},
   "source": [
    "# Dataset'in Yüklenmesi\n",
    "\n",
    "https://huggingface.co/datasets/Metin/WikiRAG-TR adresinde bulunan dosyadaki bilgileri kullanacağız. Bunun için dataseti parquet formatında indirip, yükledik.\n",
    "\n",
    "- https://huggingface.co/datasets/Metin/WikiRAG-TR/tree/refs%2Fconvert%2Fparquet/default/train\n",
    "- [Download 0000.parquet](https://huggingface.co/datasets/Metin/WikiRAG-TR/resolve/refs%2Fconvert%2Fparquet/default/train/0000.parquet?download=true)\n"
   ]
  },
  {
   "cell_type": "code",
   "execution_count": 16,
   "metadata": {},
   "outputs": [
    {
     "name": "stdout",
     "output_type": "stream",
     "text": [
      "[INFO] [2025-01-28T10:42:05.196Z] Columns of the raw dataframe: Index(['id', 'question', 'answer', 'context',\n",
      "    'is_negative_response',        'number_of_articles', 'ctx_split_points', 'correct_intro_idx'],       dtype='object')\n",
      "\n",
      "[INFO] [2025-01-28T10:42:05.196Z] Shape of the dataframe: (5999, 8)\n"
     ]
    },
    {
     "data": {
      "text/html": [
       "<div>\n",
       "<style scoped>\n",
       "    .dataframe tbody tr th:only-of-type {\n",
       "        vertical-align: middle;\n",
       "    }\n",
       "\n",
       "    .dataframe tbody tr th {\n",
       "        vertical-align: top;\n",
       "    }\n",
       "\n",
       "    .dataframe thead th {\n",
       "        text-align: right;\n",
       "    }\n",
       "</style>\n",
       "<table border=\"1\" class=\"dataframe\">\n",
       "  <thead>\n",
       "    <tr style=\"text-align: right;\">\n",
       "      <th></th>\n",
       "      <th>id</th>\n",
       "      <th>question</th>\n",
       "      <th>answer</th>\n",
       "      <th>context</th>\n",
       "      <th>is_negative_response</th>\n",
       "      <th>number_of_articles</th>\n",
       "      <th>ctx_split_points</th>\n",
       "      <th>correct_intro_idx</th>\n",
       "    </tr>\n",
       "  </thead>\n",
       "  <tbody>\n",
       "    <tr>\n",
       "      <th>0</th>\n",
       "      <td>fdb9e733-8b3f-430e-93d4-72c563f2d00c</td>\n",
       "      <td>Bermuda Adaları'nın Birleşik Krallık'a bağlı b...</td>\n",
       "      <td>Bermuda Adaları, 1609 yılında İngiliz denizci ...</td>\n",
       "      <td>Thingspiel (çoğulu Thingspiele), 1930'larda sa...</td>\n",
       "      <td>0</td>\n",
       "      <td>6</td>\n",
       "      <td>[374, 1916, 3860, 4309, 4775, 5443]</td>\n",
       "      <td>3</td>\n",
       "    </tr>\n",
       "    <tr>\n",
       "      <th>1</th>\n",
       "      <td>cb5dacdf-cb15-49c5-b0a5-8de9bb77cb48</td>\n",
       "      <td>.bm uzantısının kullanımı ne zaman başladı?</td>\n",
       "      <td>.bm uzantısı 2007 yılında kullanıma açıldı.</td>\n",
       "      <td>Kabulgan – Türk, Altay ve Moğol mitolojisinde ...</td>\n",
       "      <td>0</td>\n",
       "      <td>2</td>\n",
       "      <td>[266, 398]</td>\n",
       "      <td>1</td>\n",
       "    </tr>\n",
       "    <tr>\n",
       "      <th>2</th>\n",
       "      <td>0b827c00-160b-4a1c-9e8f-096208a73892</td>\n",
       "      <td>NKVD'nin Sovyetler Birliği içindeki siyasi bas...</td>\n",
       "      <td>NKVD, Joseph Stalin yönetimindeki Büyük Temizl...</td>\n",
       "      <td>NKVD (Narodnıy komissariyat vnutrennnih del) (...</td>\n",
       "      <td>0</td>\n",
       "      <td>3</td>\n",
       "      <td>[1973, 3027, 3095]</td>\n",
       "      <td>0</td>\n",
       "    </tr>\n",
       "    <tr>\n",
       "      <th>3</th>\n",
       "      <td>0fb1e793-3744-4b29-ba49-cdec7fb66cd2</td>\n",
       "      <td>Blohin'in Stalin rejimi sırasında infazları ge...</td>\n",
       "      <td>Vasili Blohin, Stalin rejimi sırasında infazla...</td>\n",
       "      <td>1973 yılında imzalanan 1978 yılında değiştiril...</td>\n",
       "      <td>0</td>\n",
       "      <td>6</td>\n",
       "      <td>[825, 968, 1319, 1532, 2303, 2884]</td>\n",
       "      <td>4</td>\n",
       "    </tr>\n",
       "    <tr>\n",
       "      <th>4</th>\n",
       "      <td>764a2ff6-053e-49e1-8274-a5dee96f0392</td>\n",
       "      <td>Cengel Operasyonu'nun amacı neydi?</td>\n",
       "      <td>Cengel Operasyonu, Soğuk Savaş sırasında İngil...</td>\n",
       "      <td>Waffenamt (WaA) Alman Ordusu Silah Ajansı idi....</td>\n",
       "      <td>0</td>\n",
       "      <td>3</td>\n",
       "      <td>[1949, 2321, 3138]</td>\n",
       "      <td>2</td>\n",
       "    </tr>\n",
       "  </tbody>\n",
       "</table>\n",
       "</div>"
      ],
      "text/plain": [
       "                                     id  \\\n",
       "0  fdb9e733-8b3f-430e-93d4-72c563f2d00c   \n",
       "1  cb5dacdf-cb15-49c5-b0a5-8de9bb77cb48   \n",
       "2  0b827c00-160b-4a1c-9e8f-096208a73892   \n",
       "3  0fb1e793-3744-4b29-ba49-cdec7fb66cd2   \n",
       "4  764a2ff6-053e-49e1-8274-a5dee96f0392   \n",
       "\n",
       "                                            question  \\\n",
       "0  Bermuda Adaları'nın Birleşik Krallık'a bağlı b...   \n",
       "1        .bm uzantısının kullanımı ne zaman başladı?   \n",
       "2  NKVD'nin Sovyetler Birliği içindeki siyasi bas...   \n",
       "3  Blohin'in Stalin rejimi sırasında infazları ge...   \n",
       "4                 Cengel Operasyonu'nun amacı neydi?   \n",
       "\n",
       "                                              answer  \\\n",
       "0  Bermuda Adaları, 1609 yılında İngiliz denizci ...   \n",
       "1        .bm uzantısı 2007 yılında kullanıma açıldı.   \n",
       "2  NKVD, Joseph Stalin yönetimindeki Büyük Temizl...   \n",
       "3  Vasili Blohin, Stalin rejimi sırasında infazla...   \n",
       "4  Cengel Operasyonu, Soğuk Savaş sırasında İngil...   \n",
       "\n",
       "                                             context  is_negative_response  \\\n",
       "0  Thingspiel (çoğulu Thingspiele), 1930'larda sa...                     0   \n",
       "1  Kabulgan – Türk, Altay ve Moğol mitolojisinde ...                     0   \n",
       "2  NKVD (Narodnıy komissariyat vnutrennnih del) (...                     0   \n",
       "3  1973 yılında imzalanan 1978 yılında değiştiril...                     0   \n",
       "4  Waffenamt (WaA) Alman Ordusu Silah Ajansı idi....                     0   \n",
       "\n",
       "   number_of_articles                     ctx_split_points  correct_intro_idx  \n",
       "0                   6  [374, 1916, 3860, 4309, 4775, 5443]                  3  \n",
       "1                   2                           [266, 398]                  1  \n",
       "2                   3                   [1973, 3027, 3095]                  0  \n",
       "3                   6   [825, 968, 1319, 1532, 2303, 2884]                  4  \n",
       "4                   3                   [1949, 2321, 3138]                  2  "
      ]
     },
     "execution_count": 16,
     "metadata": {},
     "output_type": "execute_result"
    }
   ],
   "source": [
    "import pandas as pd\n",
    "\n",
    "FILE_PATH = PROJECT_DIR + '0000.parquet'\n",
    "\n",
    "# Read the Parquet file into a DataFrame\n",
    "raw_data_df = pd.read_parquet(FILE_PATH)\n",
    "\n",
    "logger.info(\"Columns of the raw dataframe: \" + str(raw_data_df.columns))\n",
    "\n",
    "logger.info(\"Shape of the dataframe: \" + str(raw_data_df.shape))\n",
    "raw_data_df.head()"
   ]
  },
  {
   "cell_type": "markdown",
   "metadata": {},
   "source": [
    "Dataset içerisindeki kolonlar aşağıdaki gibidir:\n",
    "\n",
    "- id: Unique identifier for each sample\n",
    "- question: The query or question\n",
    "- answer: The correct answer to the question\n",
    "- context: The context or passage from which the answer is derived\n",
    "- is_negative_response: Indicates whether the answer is a negative response\n",
    "- number_of_articles: Number of articles in the context\n",
    "- ctx_split_points: Split points for the context.\n",
    "- correct_intro_idx: Start index of the correct answer in the context\n"
   ]
  },
  {
   "cell_type": "markdown",
   "metadata": {},
   "source": [
    "## Null Değerlerin Kontrolü\n",
    "\n",
    "Veri seti üzerinde null değer olan satırların kontrolü yapılacaktır. Eğer varsa silinecektir.\n"
   ]
  },
  {
   "cell_type": "code",
   "execution_count": 17,
   "metadata": {},
   "outputs": [
    {
     "name": "stdout",
     "output_type": "stream",
     "text": [
      "[INFO] [2025-01-28T10:42:05.205Z] Shape of the dataframe with null values: (0, 8)\n"
     ]
    }
   ],
   "source": [
    "null_data_df = raw_data_df[raw_data_df.isnull().any(axis=1)]\n",
    "\n",
    "logger.info(\"Shape of the dataframe with null values: \" + str(null_data_df.shape))"
   ]
  },
  {
   "cell_type": "markdown",
   "metadata": {},
   "source": [
    "Yukarıda görüldüğü gibi değeri null olan satır bulunmamaktadır. Bu nedenle veri seti üzerinde herhangi bir işlem yapılmasına gerek yoktur.\n"
   ]
  },
  {
   "cell_type": "markdown",
   "metadata": {},
   "source": [
    "## Unique Olmayanların Tespiti ve Verisetinden Silinmesi\n",
    "\n",
    "Veri seti içerisinde unique olmayan veriler olup olmadığı kontrol edilecektir. Eğer varsa bu verilerin silinmesi modelin doğru çalışması için önemlidir.\n"
   ]
  },
  {
   "cell_type": "code",
   "execution_count": 18,
   "metadata": {},
   "outputs": [
    {
     "name": "stdout",
     "output_type": "stream",
     "text": [
      "[INFO] [2025-01-28T10:42:05.210Z] Shape of the dataframe after removing duplicates: (5451, 8)\n",
      "[INFO] [2025-01-28T10:42:05.211Z] Shape of the dataframe with duplicates: (548, 8)\n"
     ]
    }
   ],
   "source": [
    "duplicates_df = raw_data_df[raw_data_df.duplicated(subset='id', keep=False)]\n",
    "raw_data_df = raw_data_df.drop_duplicates(subset='id', keep=False)\n",
    "\n",
    "logger.info(\"Shape of the dataframe after removing duplicates: \" + str(raw_data_df.shape))\n",
    "logger.info(\"Shape of the dataframe with duplicates: \" + str(duplicates_df.shape))"
   ]
  },
  {
   "cell_type": "markdown",
   "metadata": {},
   "source": [
    "548 tane duplicate veri bulunmaktadır. Bu verileri görmek id ye göre sıralanmıştır.\n",
    "\n",
    "- Aşağıda elde edilen değerlere bakıldığında id si duplicate olanları biri negatif response diğeri pozitif response olmak üzere aynı soruların farklı cevapları olduğu görülmektedir.\n",
    "- Bunun muhtemelen doğru cevabın context in içerisinde bulunmadığı bir durumda modelin nasıl davranacağını test etmek için yapılmış bir işlem olduğu düşünülebilir.\n",
    "- Bizim çalışmamızde böyle bir durum olmadığı için bu verileri silebiliriz.\n"
   ]
  },
  {
   "cell_type": "code",
   "execution_count": 19,
   "metadata": {},
   "outputs": [
    {
     "data": {
      "text/html": [
       "<div>\n",
       "<style scoped>\n",
       "    .dataframe tbody tr th:only-of-type {\n",
       "        vertical-align: middle;\n",
       "    }\n",
       "\n",
       "    .dataframe tbody tr th {\n",
       "        vertical-align: top;\n",
       "    }\n",
       "\n",
       "    .dataframe thead th {\n",
       "        text-align: right;\n",
       "    }\n",
       "</style>\n",
       "<table border=\"1\" class=\"dataframe\">\n",
       "  <thead>\n",
       "    <tr style=\"text-align: right;\">\n",
       "      <th></th>\n",
       "      <th>id</th>\n",
       "      <th>question</th>\n",
       "      <th>answer</th>\n",
       "      <th>context</th>\n",
       "      <th>is_negative_response</th>\n",
       "      <th>number_of_articles</th>\n",
       "      <th>ctx_split_points</th>\n",
       "      <th>correct_intro_idx</th>\n",
       "    </tr>\n",
       "  </thead>\n",
       "  <tbody>\n",
       "    <tr>\n",
       "      <th>5902</th>\n",
       "      <td>00694f6c-ffce-463a-9f17-71043665d751</td>\n",
       "      <td>SQL Server Compact'in en yeni sürümü hangi işl...</td>\n",
       "      <td>Üzgünüm, bu konuda yardımcı olamam. Başka bir ...</td>\n",
       "      <td>Besin piramidi, temel besin gruplarının her bi...</td>\n",
       "      <td>1</td>\n",
       "      <td>1</td>\n",
       "      <td>[860]</td>\n",
       "      <td>-1</td>\n",
       "    </tr>\n",
       "    <tr>\n",
       "      <th>3736</th>\n",
       "      <td>00694f6c-ffce-463a-9f17-71043665d751</td>\n",
       "      <td>SQL Server Compact'in en yeni sürümü hangi işl...</td>\n",
       "      <td>SQL Server Compact'in en yeni sürümü olan 4.0,...</td>\n",
       "      <td>SQL Server Compact  veya SQL CE Mobil cihazlar...</td>\n",
       "      <td>0</td>\n",
       "      <td>2</td>\n",
       "      <td>[686, 1546]</td>\n",
       "      <td>0</td>\n",
       "    </tr>\n",
       "    <tr>\n",
       "      <th>5158</th>\n",
       "      <td>007cc456-3ef2-4bcd-8263-5719c7683341</td>\n",
       "      <td>Mundilfari'nin adı ne anlama geliyor?</td>\n",
       "      <td>Mundilfari isminin Eski İskandinav kökenli old...</td>\n",
       "      <td>Foton polarizasyonu (foton kutuplanımı) klasik...</td>\n",
       "      <td>0</td>\n",
       "      <td>5</td>\n",
       "      <td>[1743, 2000, 2124, 3633, 4066]</td>\n",
       "      <td>1</td>\n",
       "    </tr>\n",
       "    <tr>\n",
       "      <th>5979</th>\n",
       "      <td>007cc456-3ef2-4bcd-8263-5719c7683341</td>\n",
       "      <td>Mundilfari'nin adı ne anlama geliyor?</td>\n",
       "      <td>Bu soruyu cevaplamak için yeterli bilgiye sahi...</td>\n",
       "      <td>Kayadan, Yakutların Tengricilik inancında gücl...</td>\n",
       "      <td>1</td>\n",
       "      <td>4</td>\n",
       "      <td>[124, 1633, 3376, 3809]</td>\n",
       "      <td>-1</td>\n",
       "    </tr>\n",
       "    <tr>\n",
       "      <th>3805</th>\n",
       "      <td>01488eb1-ca5b-443b-914c-b1fb38934629</td>\n",
       "      <td>Farklı jeodezik datumlar arasındaki veri değiş...</td>\n",
       "      <td>Farklı jeodezik datumlar, Dünya'nın şeklini ve...</td>\n",
       "      <td>Beklenti etkisi, edebiyat ve psikolojide bir o...</td>\n",
       "      <td>0</td>\n",
       "      <td>4</td>\n",
       "      <td>[1832, 2517, 3295, 4991]</td>\n",
       "      <td>2</td>\n",
       "    </tr>\n",
       "    <tr>\n",
       "      <th>5905</th>\n",
       "      <td>01488eb1-ca5b-443b-914c-b1fb38934629</td>\n",
       "      <td>Farklı jeodezik datumlar arasındaki veri değiş...</td>\n",
       "      <td>Bu soruyu cevaplamak için yeterli bilgiye sahi...</td>\n",
       "      <td>Beklenti etkisi, edebiyat ve psikolojide bir o...</td>\n",
       "      <td>1</td>\n",
       "      <td>3</td>\n",
       "      <td>[1832, 2517, 4213]</td>\n",
       "      <td>-1</td>\n",
       "    </tr>\n",
       "    <tr>\n",
       "      <th>5736</th>\n",
       "      <td>0284558b-b4c6-42e6-80e6-61d97b275253</td>\n",
       "      <td>Guano gübre olarak kullanılmaya başlamadan önc...</td>\n",
       "      <td>Bu konuda daha fazla bilgi edinmem gerekiyor.</td>\n",
       "      <td>Su bilimleri (İngilizce: Aquatic science), su ...</td>\n",
       "      <td>1</td>\n",
       "      <td>4</td>\n",
       "      <td>[577, 1516, 2197, 2459]</td>\n",
       "      <td>-1</td>\n",
       "    </tr>\n",
       "    <tr>\n",
       "      <th>266</th>\n",
       "      <td>0284558b-b4c6-42e6-80e6-61d97b275253</td>\n",
       "      <td>Guano gübre olarak kullanılmaya başlamadan önc...</td>\n",
       "      <td>Yazıda belirtilmediği için kesin bir cevap ver...</td>\n",
       "      <td>Guano, esasen penguen ya da karabatak gibi den...</td>\n",
       "      <td>0</td>\n",
       "      <td>5</td>\n",
       "      <td>[413, 1352, 2033, 2295, 2872]</td>\n",
       "      <td>0</td>\n",
       "    </tr>\n",
       "    <tr>\n",
       "      <th>5659</th>\n",
       "      <td>02d45da4-47e8-4f52-8889-26b82705629c</td>\n",
       "      <td>Stabschef rütbesi SA içinde ne kadar etkiliydi...</td>\n",
       "      <td>Stabschef, SA'nın operasyon şefiydi ve bu da o...</td>\n",
       "      <td>Stabschef Nazi Partisi ile ilişkili paramilite...</td>\n",
       "      <td>0</td>\n",
       "      <td>4</td>\n",
       "      <td>[292, 857, 1815, 2075]</td>\n",
       "      <td>0</td>\n",
       "    </tr>\n",
       "    <tr>\n",
       "      <th>5995</th>\n",
       "      <td>02d45da4-47e8-4f52-8889-26b82705629c</td>\n",
       "      <td>Stabschef rütbesi SA içinde ne kadar etkiliydi...</td>\n",
       "      <td>Sorunuzu yanıtlamak için yeterli bilgiye sahip...</td>\n",
       "      <td>Gıda Paketi, Uzun Menzilli Devriye veya \"LRP r...</td>\n",
       "      <td>1</td>\n",
       "      <td>3</td>\n",
       "      <td>[260, 1218, 1783]</td>\n",
       "      <td>-1</td>\n",
       "    </tr>\n",
       "  </tbody>\n",
       "</table>\n",
       "</div>"
      ],
      "text/plain": [
       "                                        id  \\\n",
       "5902  00694f6c-ffce-463a-9f17-71043665d751   \n",
       "3736  00694f6c-ffce-463a-9f17-71043665d751   \n",
       "5158  007cc456-3ef2-4bcd-8263-5719c7683341   \n",
       "5979  007cc456-3ef2-4bcd-8263-5719c7683341   \n",
       "3805  01488eb1-ca5b-443b-914c-b1fb38934629   \n",
       "5905  01488eb1-ca5b-443b-914c-b1fb38934629   \n",
       "5736  0284558b-b4c6-42e6-80e6-61d97b275253   \n",
       "266   0284558b-b4c6-42e6-80e6-61d97b275253   \n",
       "5659  02d45da4-47e8-4f52-8889-26b82705629c   \n",
       "5995  02d45da4-47e8-4f52-8889-26b82705629c   \n",
       "\n",
       "                                               question  \\\n",
       "5902  SQL Server Compact'in en yeni sürümü hangi işl...   \n",
       "3736  SQL Server Compact'in en yeni sürümü hangi işl...   \n",
       "5158              Mundilfari'nin adı ne anlama geliyor?   \n",
       "5979              Mundilfari'nin adı ne anlama geliyor?   \n",
       "3805  Farklı jeodezik datumlar arasındaki veri değiş...   \n",
       "5905  Farklı jeodezik datumlar arasındaki veri değiş...   \n",
       "5736  Guano gübre olarak kullanılmaya başlamadan önc...   \n",
       "266   Guano gübre olarak kullanılmaya başlamadan önc...   \n",
       "5659  Stabschef rütbesi SA içinde ne kadar etkiliydi...   \n",
       "5995  Stabschef rütbesi SA içinde ne kadar etkiliydi...   \n",
       "\n",
       "                                                 answer  \\\n",
       "5902  Üzgünüm, bu konuda yardımcı olamam. Başka bir ...   \n",
       "3736  SQL Server Compact'in en yeni sürümü olan 4.0,...   \n",
       "5158  Mundilfari isminin Eski İskandinav kökenli old...   \n",
       "5979  Bu soruyu cevaplamak için yeterli bilgiye sahi...   \n",
       "3805  Farklı jeodezik datumlar, Dünya'nın şeklini ve...   \n",
       "5905  Bu soruyu cevaplamak için yeterli bilgiye sahi...   \n",
       "5736      Bu konuda daha fazla bilgi edinmem gerekiyor.   \n",
       "266   Yazıda belirtilmediği için kesin bir cevap ver...   \n",
       "5659  Stabschef, SA'nın operasyon şefiydi ve bu da o...   \n",
       "5995  Sorunuzu yanıtlamak için yeterli bilgiye sahip...   \n",
       "\n",
       "                                                context  is_negative_response  \\\n",
       "5902  Besin piramidi, temel besin gruplarının her bi...                     1   \n",
       "3736  SQL Server Compact  veya SQL CE Mobil cihazlar...                     0   \n",
       "5158  Foton polarizasyonu (foton kutuplanımı) klasik...                     0   \n",
       "5979  Kayadan, Yakutların Tengricilik inancında gücl...                     1   \n",
       "3805  Beklenti etkisi, edebiyat ve psikolojide bir o...                     0   \n",
       "5905  Beklenti etkisi, edebiyat ve psikolojide bir o...                     1   \n",
       "5736  Su bilimleri (İngilizce: Aquatic science), su ...                     1   \n",
       "266   Guano, esasen penguen ya da karabatak gibi den...                     0   \n",
       "5659  Stabschef Nazi Partisi ile ilişkili paramilite...                     0   \n",
       "5995  Gıda Paketi, Uzun Menzilli Devriye veya \"LRP r...                     1   \n",
       "\n",
       "      number_of_articles                ctx_split_points  correct_intro_idx  \n",
       "5902                   1                           [860]                 -1  \n",
       "3736                   2                     [686, 1546]                  0  \n",
       "5158                   5  [1743, 2000, 2124, 3633, 4066]                  1  \n",
       "5979                   4         [124, 1633, 3376, 3809]                 -1  \n",
       "3805                   4        [1832, 2517, 3295, 4991]                  2  \n",
       "5905                   3              [1832, 2517, 4213]                 -1  \n",
       "5736                   4         [577, 1516, 2197, 2459]                 -1  \n",
       "266                    5   [413, 1352, 2033, 2295, 2872]                  0  \n",
       "5659                   4          [292, 857, 1815, 2075]                  0  \n",
       "5995                   3               [260, 1218, 1783]                 -1  "
      ]
     },
     "execution_count": 19,
     "metadata": {},
     "output_type": "execute_result"
    }
   ],
   "source": [
    "duplicates_df = duplicates_df.sort_values(by='id')\n",
    "\n",
    "duplicates_df.head(10)"
   ]
  },
  {
   "cell_type": "markdown",
   "metadata": {},
   "source": [
    "## Utility Functions\n"
   ]
  },
  {
   "cell_type": "markdown",
   "metadata": {},
   "source": [
    "### Get Question with Chunk Unique ID\n"
   ]
  },
  {
   "cell_type": "code",
   "execution_count": 20,
   "metadata": {},
   "outputs": [],
   "source": [
    "def get_question(data_df, chunk_unique_id):\n",
    "    return data_df[data_df['id'] == chunk_unique_id]['question'].values[0]"
   ]
  },
  {
   "cell_type": "code",
   "execution_count": 21,
   "metadata": {},
   "outputs": [
    {
     "name": "stdout",
     "output_type": "stream",
     "text": [
      "[INFO] [2025-01-28T10:42:05.225Z] Question for the chunk 'fdb9e733-8b3f-430e-93d4-72c563f2d00c':\n",
      "[INFO] [2025-01-28T10:42:05.226Z] Bermuda Adaları'nın Birleşik Krallık'a bağlı bir bölge olmasının tarihi sebepleri\n",
      "    nelerdir?\n",
      "\n"
     ]
    }
   ],
   "source": [
    "chunk_bermuda_unique_id = 'fdb9e733-8b3f-430e-93d4-72c563f2d00c'\n",
    "logger.info(f\"Question for the chunk '{chunk_bermuda_unique_id}':\")\n",
    "logger.info(get_question(raw_data_df, chunk_bermuda_unique_id))"
   ]
  },
  {
   "cell_type": "markdown",
   "metadata": {},
   "source": [
    "### Get Expected Answer with Chunk Unique ID\n"
   ]
  },
  {
   "cell_type": "code",
   "execution_count": 22,
   "metadata": {},
   "outputs": [],
   "source": [
    "def get_expected_answer(data_df, chunk_unique_id):\n",
    "    return data_df[data_df['id'] == chunk_unique_id]['answer'].values[0]"
   ]
  },
  {
   "cell_type": "code",
   "execution_count": 23,
   "metadata": {},
   "outputs": [
    {
     "name": "stdout",
     "output_type": "stream",
     "text": [
      "[INFO] [2025-01-28T10:42:05.234Z] Bermuda Adaları, 1609 yılında İngiliz denizci George Somers tarafından keşfedilmiştir.\n",
      "    O zamandan beri İngiltere'nin kontrolü altındadır ve 17. yüzyıldan itibaren Birleşik Krallık'ın bir kolonisi olmuştur.\n",
      "    Günümüzde ise Birleşik Krallık'ın denizaşırı topraklarından biri olarak kabul edilmektedir.\n",
      "\n"
     ]
    }
   ],
   "source": [
    "logger.info(get_expected_answer(raw_data_df, chunk_bermuda_unique_id))"
   ]
  },
  {
   "cell_type": "markdown",
   "metadata": {},
   "source": [
    "### Get Context with Chunk Unique ID\n"
   ]
  },
  {
   "cell_type": "code",
   "execution_count": 24,
   "metadata": {},
   "outputs": [],
   "source": [
    "def get_context(data_df, chunk_unique_id):\n",
    "    return data_df[data_df['id'] == chunk_unique_id]['context'].values[0]"
   ]
  },
  {
   "cell_type": "code",
   "execution_count": 25,
   "metadata": {},
   "outputs": [
    {
     "name": "stdout",
     "output_type": "stream",
     "text": [
      "[INFO] [2025-01-28T10:42:05.241Z] Context for the chunk 'fdb9e733-8b3f-430e-93d4-72c563f2d00c':\n",
      "[INFO] [2025-01-28T10:42:05.242Z] Thingspiel (çoğulu Thingspiele), 1930'larda savaş öncesi Nazi Almanyası'nda kısa\n",
      "    süreli popülerlik kazanmış çok disiplinli bir açık hava tiyatrosu performansıydı. Thingplatz veya Thingstätte, bu tür\n",
      "    performanslar için özel olarak inşa edilmiş bir açık hava amfitiyatrosuydu. Yaklaşık 400 adet planlanmıştı, ancak 1933\n",
      "    ile 1939 yılları arasında sadece 40 tanesi inşa edildi. American Horror Story: Asylum (Türkçesi: Amerikan Korku\n",
      "    Hikayesi: Akıl Hastanesi), FX tarafından yayınlanan korku-gerilim dizisi American Horror Story'nin ikinci sezonudur. 17\n",
      "    Ekim 2012 - 23 Ocak 2013 tarihleri arasında yayınlanmıştır. İkinci sezonda konu gidişatı ve karakterler ilk sezondan\n",
      "    bağımsız olduğu için, dizi American Horror Story başlığı altında bir antoloji serisi olmuştur. Sezon, 1964 yılında\n",
      "    kurgusal bir akıl hastanesi olan Briarcliff Hastanesi'ndeki hastaların, görevlilerin geçmişteki ve gelecekteki hallerini\n",
      "    işler. İlk sezondaki karakterlerden Frances Conroy, Jessica Lange, Dylan McDermott, Sarah Paulson, Evan Peters, Zachary\n",
      "    Quinto ve Lily Rabe bu sezonda ana karakterleri canlandırmaktadır. İlk sezon gibi Asylum da eleştirmenlerden ve\n",
      "    hayranlardan olumlu eleştiriler aldı. Jessica Lange'in, James Cromwell'in, Zachary Quinto'nun, Sarah Paulson'un ve Lily\n",
      "    Rabe'in oyunculukları yer yer çok övüldü. İkinci sezon, Emmy Ödüllerinden toplamda 17 ödül kazandı. Ödüller arasında En\n",
      "    İyi TV Dizisi Performansları ve Jessica Lange'in, Sarah Paulson'un, James Cromwell'in ve Zachary Quinto'nun oyunculuk\n",
      "    dalında aday oldukları dallarda Cromwell, En İyi Dizi veya Film dalındaki En İyi Yardımcı Oyuncu ödülünü aldı. 3.\n",
      "    Eleştirmenlerin Seçimi Televizyon Ödüllerinde ise Quinto ve Paulson, Yardımcı Oyuncu ödüllerini aldılar. Antoloji serisi\n",
      "    olması dışında Lily Rabe, Naomi Grossman ve John Cromwell gibi bazı kadro oyuncularının, dizinin dördüncü sezonu\n",
      "    American Horror Story: Freak Show'daki karakterlerle bağlantısı da vardır. TARDIS (Time And Relative Dimension In Space)\n",
      "    (Türkçe: Uzaydaki zaman ve izafi boyut), İngiliz bilimkurgu dizisi Doctor Who'daki uzay ve zamanda herhangi bir yere\n",
      "    gidebilen, Gallifrey adlı bir gezegende yaşayan Zaman Lordları tarafından yaratılan bir zaman makinesidir. Bazen adı\n",
      "    \"The Blue Box\" yani \"Mavi Kulübe\" olarak da geçer. Asıl şekli olmasa da dışarıdan 1963 yılı Londrasından kalma bir polis\n",
      "    telefon kulübesi olarak görünmektedir. Şekil değiştirmesini sağlayan kamuflaj ünitesi bozulduktan sonra Doktor onu tamir\n",
      "    etmemiş, öyle bırakmıştır. Aynı anda 6 kişinin kullanabilme kapasitesi olan bu zaman makinesinin aynı zamanda içi\n",
      "    dışından daha büyüktür. TARDIS'in içinde uyuma bölümleri, özel ihtiyaç odaları, gardırop, kütüphane, havuz, inziva odası\n",
      "    ve kontrol odası bulunuyor. TARDIS içini kontrol edebilir, yeni odalar ekleyebilir ve bazı odaları silebilir. TARDIS,\n",
      "    taşıdığı yolculara farklı dilleri anlama ve konuşma yetisi veren bir sisteme sahiptir. Ayrıca her TARDIS'in kendine has\n",
      "    bir zekası ve kişiliği vardır. Doktor onu çalmıştır ya da kendi söylediğine göre ödünç almıştır ve onunla birlikte son\n",
      "    büyük zaman savaşından kaçmayı başarmıştır. \"The Doctor's Wife\" bölümünde TARDIS insan görünümündedir ve Doktor'un\n",
      "    kendisini çaldığını değil de kendisinin Doktor'u çaldığını iddia eder. Doctor Who dizisi İngiltere'nin her yerine\n",
      "    yayıldıktan sonra popüler kültür arasına girmeyi de başarmıştır. \"TARDIS\" kelimesi artık içi dışından büyük görünen\n",
      "    herhangi bir şeyin adı olmuştur. Kavramsal tarihi 1963'te Doctor Who dizisi yazılırken, yazan kişiler Doktor'un zaman\n",
      "    makinesinin neye benzemesi gerektiğini tartışmaktaydılar. Belli bir şekilde tutmak için \"Police Box\" olarak yapılmasına\n",
      "    karar verilmişti. Ve the ship's \"chameleon circuit\" adlı bölümde şeklinin aynı olmasının nedeni açıklanmıştı. Diğer\n",
      "    Zaman Lordları TARDIS'in bir diğer adı olan TT Kapsülü yani Time Travel Capsule (Zaman Yolculuğu Kapsülü) adını\n",
      "    kullanmaktadırlar. Bermuda, tam adıyla Bermuda Adaları (diğer adıyla Somers Adaları), Atlas Okyanusu'nda, ABD'nin doğu\n",
      "    (Kuzey Carolina eyaletindeki Hatteras Burnu'nun yaklaşık 900 km doğusunda) ve Karayipler'in kuzey açıklarında bir\n",
      "    takımadadır. Birleşik Krallık'ın denizaşırı topraklarından biridir. Ana ada olan Bermuda adası dâhil yedi ana ada ile\n",
      "    150 küçük ada ve kayalıktan oluşur. Toplam yüzölçümü 53,3 km²'dir. Başkenti Hamilton'dur, nüfus 65.000 civarındadır.\n",
      "    Ekonomi tarihi veya iktisat tarihi, geçmişte yaşanan ekonomik olguların nasıl geliştiği konusunda çalışan bilim dalı.\n",
      "    Ekonomi tarihinin analizi; tarihsel durumlara ekonomik teorilerin uygulanması, tarihsel yöntemler ve istatistiksel\n",
      "    yöntemlerin bir kombinasyonu kullanılarak ele alınır. Bu başlık, sosyal tarihin örtüşen bazı alanları (demografik tarih\n",
      "    gibi) ve işletme tarihi konularını içerir. Ekonomi tarihinin kantitatif incelenmesine, cliometri de denmektedir.\n",
      "    Yoshiwara (Japonca: 吉原), Japonya'da Edo'da bulunan bir yūkaku idi. 1617'de kurulmuş olup Tokugawa şogunluğu tarafından\n",
      "    17. yüzyılın başlarında, Kyoto'daki Shimabara ve Osaka'daki Shinmachi'nin yanı sıra 17. yüzyılın başlarında kurulan üç\n",
      "    lisanslı ve tanınmış kırmızı fener mahallesinden biriydi. Şogunluk tarafından, yeni zengin chōnin (tüccar) sınıflarının\n",
      "    zevklerini azaltmak ve tecrit etmek için yaratılan, Yoshiwara'da sunulan eğlence, diğer lisanslı bölgelerin yanı sıra,\n",
      "    sonunda, moda yoldaşları olarak tanınacak geyşaların ortaya çıkardı. Chōnin sınıfları ve aynı zamanda kırmızı ışıklı\n",
      "    bölgelerin üst sınıf nezaketçileri olan oiranların azalmasına neden oldu.\n",
      "\n"
     ]
    }
   ],
   "source": [
    "logger.info(f\"Context for the chunk '{chunk_bermuda_unique_id}':\")\n",
    "logger.info(get_context(raw_data_df, chunk_bermuda_unique_id))"
   ]
  },
  {
   "cell_type": "markdown",
   "metadata": {},
   "source": [
    "### Check Number of Articles in Context and Split Points Match\n"
   ]
  },
  {
   "cell_type": "code",
   "execution_count": 26,
   "metadata": {},
   "outputs": [],
   "source": [
    "def check_number_of_articles_and_split_points_match(data_df, chunk_unique_id):\n",
    "    chunk_df = data_df[data_df['id'] == chunk_unique_id]\n",
    "    number_of_articles = chunk_df['number_of_articles'].values[0]\n",
    "    context_split_points_array = [int(x) for x in chunk_df['ctx_split_points'].values[0][1:-1].split(\",\")]\n",
    "\n",
    "    if (number_of_articles) != len(context_split_points_array):\n",
    "        logger.error(f\"Number of articles in context: {number_of_articles}\")\n",
    "        logger.error(f\"Number of articles in split points: {len(context_split_points_array)}\")\n",
    "        logger.error(f\"Number of articles in context and split points do not match for the chunk '{chunk_unique_id}'.\")\n",
    "        assert False"
   ]
  },
  {
   "cell_type": "markdown",
   "metadata": {},
   "source": [
    "### Printing the Chunk of Data\n"
   ]
  },
  {
   "cell_type": "code",
   "execution_count": 27,
   "metadata": {},
   "outputs": [],
   "source": [
    "def pretty_print_chunk(data_df, chunk_unique_id):\n",
    "    chunk_df = data_df[data_df['id'] == chunk_unique_id]\n",
    "    number_of_articles = chunk_df['number_of_articles'].values[0]\n",
    "    context_split_points_array = [int(x) for x in chunk_df['ctx_split_points'].values[0][1:-1].split(\",\")]\n",
    "\n",
    "    logger.info(\"Chunk Unique ID: \" + chunk_unique_id)\n",
    "    logger.info(\"Quesiton in the chunk: \" + chunk_df['question'].values[0])\n",
    "    logger.info(\"Expected answer: \" + chunk_df['answer'].values[0])\n",
    "\n",
    "    logger.info(\"Is response negative: \" + str(chunk_df['is_negative_response'].values[0] == 1))\n",
    "    logger.info(\"Number of articles in the chunk: \" + str(number_of_articles))\n",
    "    logger.info(\"Context split points: \" + str(chunk_df['ctx_split_points'].values[0]))\n",
    "    corrret_article_index = chunk_df['correct_intro_idx'].values[0]\n",
    "    logger.info(\"Correct article index: \" + str(corrret_article_index))\n",
    "    print()\n",
    "\n",
    "    check_number_of_articles_and_split_points_match(chunk_df, chunk_unique_id)\n",
    "\n",
    "    # print the correct article first\n",
    "    context_start_idx = 0\n",
    "    for i in range(number_of_articles):\n",
    "        context_end_idx = context_split_points_array[i]\n",
    "\n",
    "        if i == corrret_article_index:\n",
    "            logger.info(\"Related Article Index \" + str(i) + \":\")\n",
    "            logger.info(chunk_df['context'].values[0][context_start_idx:context_end_idx])\n",
    "            break\n",
    "\n",
    "        context_start_idx = context_end_idx\n",
    "\n",
    "    context_start_idx = 0\n",
    "    for i in range(number_of_articles):\n",
    "        context_end_idx = context_split_points_array[i]\n",
    "\n",
    "        if i != corrret_article_index:\n",
    "            logger.info(\"Unrelated Article Index \" + str(i) + \":\")\n",
    "            logger.info(chunk_df['context'].values[0][context_start_idx:context_end_idx])\n",
    "\n",
    "        context_start_idx = context_end_idx"
   ]
  },
  {
   "cell_type": "markdown",
   "metadata": {},
   "source": [
    "Bir tane örnek için datasetin her kolonunu yazdıralım.\n"
   ]
  },
  {
   "cell_type": "code",
   "execution_count": 28,
   "metadata": {},
   "outputs": [
    {
     "name": "stdout",
     "output_type": "stream",
     "text": [
      "[INFO] [2025-01-28T10:42:05.276Z] Chunk Unique ID: fdb9e733-8b3f-430e-93d4-72c563f2d00c\n",
      "[INFO] [2025-01-28T10:42:05.278Z] Quesiton in the chunk: Bermuda Adaları'nın Birleşik Krallık'a bağlı bir bölge\n",
      "    olmasının tarihi sebepleri nelerdir?\n",
      "\n",
      "[INFO] [2025-01-28T10:42:05.278Z] Expected answer: Bermuda Adaları, 1609 yılında İngiliz denizci George Somers\n",
      "    tarafından keşfedilmiştir. O zamandan beri İngiltere'nin kontrolü altındadır ve 17. yüzyıldan itibaren Birleşik\n",
      "    Krallık'ın bir kolonisi olmuştur. Günümüzde ise Birleşik Krallık'ın denizaşırı topraklarından biri olarak kabul\n",
      "    edilmektedir.\n",
      "\n",
      "[INFO] [2025-01-28T10:42:05.280Z] Is response negative: False\n",
      "[INFO] [2025-01-28T10:42:05.280Z] Number of articles in the chunk: 6\n",
      "[INFO] [2025-01-28T10:42:05.281Z] Context split points: [374, 1916, 3860, 4309, 4775, 5443]\n",
      "[INFO] [2025-01-28T10:42:05.281Z] Correct article index: 3\n",
      "\n",
      "[INFO] [2025-01-28T10:42:05.281Z] Related Article Index 3:\n",
      "[INFO] [2025-01-28T10:42:05.282Z] Bermuda, tam adıyla Bermuda Adaları (diğer adıyla Somers Adaları), Atlas Okyanusu'nda,\n",
      "    ABD'nin doğu (Kuzey Carolina eyaletindeki Hatteras Burnu'nun yaklaşık 900 km doğusunda) ve Karayipler'in kuzey\n",
      "    açıklarında bir takımadadır. Birleşik Krallık'ın denizaşırı topraklarından biridir. Ana ada olan Bermuda adası dâhil\n",
      "    yedi ana ada ile 150 küçük ada ve kayalıktan oluşur. Toplam yüzölçümü 53,3 km²'dir. Başkenti Hamilton'dur, nüfus 65.000\n",
      "    civarındadır.\n",
      "\n",
      "[INFO] [2025-01-28T10:42:05.282Z] Unrelated Article Index 0:\n",
      "[INFO] [2025-01-28T10:42:05.282Z] Thingspiel (çoğulu Thingspiele), 1930'larda savaş öncesi Nazi Almanyası'nda kısa\n",
      "    süreli popülerlik kazanmış çok disiplinli bir açık hava tiyatrosu performansıydı. Thingplatz veya Thingstätte, bu tür\n",
      "    performanslar için özel olarak inşa edilmiş bir açık hava amfitiyatrosuydu. Yaklaşık 400 adet planlanmıştı, ancak 1933\n",
      "    ile 1939 yılları arasında sadece 40 tanesi inşa edildi.\n",
      "\n",
      "[INFO] [2025-01-28T10:42:05.282Z] Unrelated Article Index 1:\n",
      "[INFO] [2025-01-28T10:42:05.283Z] American Horror Story: Asylum (Türkçesi: Amerikan Korku Hikayesi: Akıl Hastanesi), FX\n",
      "    tarafından yayınlanan korku-gerilim dizisi American Horror Story'nin ikinci sezonudur. 17 Ekim 2012 - 23 Ocak 2013\n",
      "    tarihleri arasında yayınlanmıştır. İkinci sezonda konu gidişatı ve karakterler ilk sezondan bağımsız olduğu için, dizi\n",
      "    American Horror Story başlığı altında bir antoloji serisi olmuştur. Sezon, 1964 yılında kurgusal bir akıl hastanesi olan\n",
      "    Briarcliff Hastanesi'ndeki hastaların, görevlilerin geçmişteki ve gelecekteki hallerini işler. İlk sezondaki\n",
      "    karakterlerden Frances Conroy, Jessica Lange, Dylan McDermott, Sarah Paulson, Evan Peters, Zachary Quinto ve Lily Rabe\n",
      "    bu sezonda ana karakterleri canlandırmaktadır. İlk sezon gibi Asylum da eleştirmenlerden ve hayranlardan olumlu\n",
      "    eleştiriler aldı. Jessica Lange'in, James Cromwell'in, Zachary Quinto'nun, Sarah Paulson'un ve Lily Rabe'in\n",
      "    oyunculukları yer yer çok övüldü. İkinci sezon, Emmy Ödüllerinden toplamda 17 ödül kazandı. Ödüller arasında En İyi TV\n",
      "    Dizisi Performansları ve Jessica Lange'in, Sarah Paulson'un, James Cromwell'in ve Zachary Quinto'nun oyunculuk dalında\n",
      "    aday oldukları dallarda Cromwell, En İyi Dizi veya Film dalındaki En İyi Yardımcı Oyuncu ödülünü aldı. 3.\n",
      "    Eleştirmenlerin Seçimi Televizyon Ödüllerinde ise Quinto ve Paulson, Yardımcı Oyuncu ödüllerini aldılar. Antoloji serisi\n",
      "    olması dışında Lily Rabe, Naomi Grossman ve John Cromwell gibi bazı kadro oyuncularının, dizinin dördüncü sezonu\n",
      "    American Horror Story: Freak Show'daki karakterlerle bağlantısı da vardır.\n",
      "\n",
      "[INFO] [2025-01-28T10:42:05.283Z] Unrelated Article Index 2:\n",
      "[INFO] [2025-01-28T10:42:05.283Z] TARDIS (Time And Relative Dimension In Space) (Türkçe: Uzaydaki zaman ve izafi boyut),\n",
      "    İngiliz bilimkurgu dizisi Doctor Who'daki uzay ve zamanda herhangi bir yere gidebilen, Gallifrey adlı bir gezegende\n",
      "    yaşayan Zaman Lordları tarafından yaratılan bir zaman makinesidir. Bazen adı \"The Blue Box\" yani \"Mavi Kulübe\" olarak da\n",
      "    geçer. Asıl şekli olmasa da dışarıdan 1963 yılı Londrasından kalma bir polis telefon kulübesi olarak görünmektedir.\n",
      "    Şekil değiştirmesini sağlayan kamuflaj ünitesi bozulduktan sonra Doktor onu tamir etmemiş, öyle bırakmıştır. Aynı anda 6\n",
      "    kişinin kullanabilme kapasitesi olan bu zaman makinesinin aynı zamanda içi dışından daha büyüktür. TARDIS'in içinde\n",
      "    uyuma bölümleri, özel ihtiyaç odaları, gardırop, kütüphane, havuz, inziva odası ve kontrol odası bulunuyor. TARDIS içini\n",
      "    kontrol edebilir, yeni odalar ekleyebilir ve bazı odaları silebilir. TARDIS, taşıdığı yolculara farklı dilleri anlama ve\n",
      "    konuşma yetisi veren bir sisteme sahiptir. Ayrıca her TARDIS'in kendine has bir zekası ve kişiliği vardır. Doktor onu\n",
      "    çalmıştır ya da kendi söylediğine göre ödünç almıştır ve onunla birlikte son büyük zaman savaşından kaçmayı başarmıştır.\n",
      "    \"The Doctor's Wife\" bölümünde TARDIS insan görünümündedir ve Doktor'un kendisini çaldığını değil de kendisinin Doktor'u\n",
      "    çaldığını iddia eder. Doctor Who dizisi İngiltere'nin her yerine yayıldıktan sonra popüler kültür arasına girmeyi de\n",
      "    başarmıştır. \"TARDIS\" kelimesi artık içi dışından büyük görünen herhangi bir şeyin adı olmuştur. Kavramsal tarihi\n",
      "    1963'te Doctor Who dizisi yazılırken, yazan kişiler Doktor'un zaman makinesinin neye benzemesi gerektiğini\n",
      "    tartışmaktaydılar. Belli bir şekilde tutmak için \"Police Box\" olarak yapılmasına karar verilmişti. Ve the ship's\n",
      "    \"chameleon circuit\" adlı bölümde şeklinin aynı olmasının nedeni açıklanmıştı. Diğer Zaman Lordları TARDIS'in bir diğer\n",
      "    adı olan TT Kapsülü yani Time Travel Capsule (Zaman Yolculuğu Kapsülü) adını kullanmaktadırlar.\n",
      "\n",
      "[INFO] [2025-01-28T10:42:05.284Z] Unrelated Article Index 4:\n",
      "[INFO] [2025-01-28T10:42:05.284Z] Ekonomi tarihi veya iktisat tarihi, geçmişte yaşanan ekonomik olguların nasıl\n",
      "    geliştiği konusunda çalışan bilim dalı. Ekonomi tarihinin analizi; tarihsel durumlara ekonomik teorilerin uygulanması,\n",
      "    tarihsel yöntemler ve istatistiksel yöntemlerin bir kombinasyonu kullanılarak ele alınır. Bu başlık, sosyal tarihin\n",
      "    örtüşen bazı alanları (demografik tarih gibi) ve işletme tarihi konularını içerir. Ekonomi tarihinin kantitatif\n",
      "    incelenmesine, cliometri de denmektedir.\n",
      "\n",
      "[INFO] [2025-01-28T10:42:05.284Z] Unrelated Article Index 5:\n",
      "[INFO] [2025-01-28T10:42:05.284Z] Yoshiwara (Japonca: 吉原), Japonya'da Edo'da bulunan bir yūkaku idi. 1617'de kurulmuş\n",
      "    olup Tokugawa şogunluğu tarafından 17. yüzyılın başlarında, Kyoto'daki Shimabara ve Osaka'daki Shinmachi'nin yanı sıra\n",
      "    17. yüzyılın başlarında kurulan üç lisanslı ve tanınmış kırmızı fener mahallesinden biriydi. Şogunluk tarafından, yeni\n",
      "    zengin chōnin (tüccar) sınıflarının zevklerini azaltmak ve tecrit etmek için yaratılan, Yoshiwara'da sunulan eğlence,\n",
      "    diğer lisanslı bölgelerin yanı sıra, sonunda, moda yoldaşları olarak tanınacak geyşaların ortaya çıkardı. Chōnin\n",
      "    sınıfları ve aynı zamanda kırmızı ışıklı bölgelerin üst sınıf nezaketçileri olan oiranların azalmasına neden oldu.\n",
      "\n"
     ]
    }
   ],
   "source": [
    "pretty_print_chunk(raw_data_df, chunk_bermuda_unique_id)"
   ]
  },
  {
   "cell_type": "markdown",
   "metadata": {},
   "source": [
    "### Get Articles as List\n",
    "\n",
    "Bir chunk içerisinde bulunan tüm paragrafları bir liste olarak alalım.\n",
    "\n",
    "- İlerde bunu farklı context lerde bulunan paragrafları birleştirerek daha büyük chunk lar elde etmek için kullanacağız.\n"
   ]
  },
  {
   "cell_type": "code",
   "execution_count": 29,
   "metadata": {},
   "outputs": [],
   "source": [
    "def get_articles(data_df, chunk_unique_id):\n",
    "    chunk_df = data_df[data_df['id'] == chunk_unique_id]\n",
    "    number_of_articles = chunk_df['number_of_articles'].values[0]\n",
    "    # logger.debug(\"Number of articles in the chunk: \" + str(number_of_articles))\n",
    "\n",
    "    context_split_points_array = [int(x) for x in chunk_df['ctx_split_points'].values[0][1:-1].split(\",\")]\n",
    "\n",
    "    articles = []\n",
    "\n",
    "    context_start_idx = 0\n",
    "    for i in range(number_of_articles):\n",
    "        context_end_idx = context_split_points_array[i]\n",
    "        articles.append(chunk_df['context'].values[0][context_start_idx:context_end_idx])\n",
    "        context_start_idx = context_end_idx\n",
    "\n",
    "    # logger.debug(\"Shape of the articles: \" + str(len(articles)))\n",
    "\n",
    "    return articles"
   ]
  },
  {
   "cell_type": "code",
   "execution_count": 30,
   "metadata": {},
   "outputs": [
    {
     "name": "stdout",
     "output_type": "stream",
     "text": [
      "[INFO] [2025-01-28T10:42:05.293Z] Article 0:\n",
      "[INFO] [2025-01-28T10:42:05.293Z] Thingspiel (çoğulu Thingspiele), 1930'larda savaş öncesi Nazi Almanyası'nda kısa\n",
      "    süreli popülerlik kazanmış çok disiplinli bir açık hava tiyatrosu performansıydı. Thingplatz veya Thingstätte, bu tür\n",
      "    performanslar için özel olarak inşa edilmiş bir açık hava amfitiyatrosuydu. Yaklaşık 400 adet planlanmıştı, ancak 1933\n",
      "    ile 1939 yılları arasında sadece 40 tanesi inşa edildi.\n",
      "\n",
      "[INFO] [2025-01-28T10:42:05.294Z] Article 1:\n",
      "[INFO] [2025-01-28T10:42:05.294Z] American Horror Story: Asylum (Türkçesi: Amerikan Korku Hikayesi: Akıl Hastanesi), FX\n",
      "    tarafından yayınlanan korku-gerilim dizisi American Horror Story'nin ikinci sezonudur. 17 Ekim 2012 - 23 Ocak 2013\n",
      "    tarihleri arasında yayınlanmıştır. İkinci sezonda konu gidişatı ve karakterler ilk sezondan bağımsız olduğu için, dizi\n",
      "    American Horror Story başlığı altında bir antoloji serisi olmuştur. Sezon, 1964 yılında kurgusal bir akıl hastanesi olan\n",
      "    Briarcliff Hastanesi'ndeki hastaların, görevlilerin geçmişteki ve gelecekteki hallerini işler. İlk sezondaki\n",
      "    karakterlerden Frances Conroy, Jessica Lange, Dylan McDermott, Sarah Paulson, Evan Peters, Zachary Quinto ve Lily Rabe\n",
      "    bu sezonda ana karakterleri canlandırmaktadır. İlk sezon gibi Asylum da eleştirmenlerden ve hayranlardan olumlu\n",
      "    eleştiriler aldı. Jessica Lange'in, James Cromwell'in, Zachary Quinto'nun, Sarah Paulson'un ve Lily Rabe'in\n",
      "    oyunculukları yer yer çok övüldü. İkinci sezon, Emmy Ödüllerinden toplamda 17 ödül kazandı. Ödüller arasında En İyi TV\n",
      "    Dizisi Performansları ve Jessica Lange'in, Sarah Paulson'un, James Cromwell'in ve Zachary Quinto'nun oyunculuk dalında\n",
      "    aday oldukları dallarda Cromwell, En İyi Dizi veya Film dalındaki En İyi Yardımcı Oyuncu ödülünü aldı. 3.\n",
      "    Eleştirmenlerin Seçimi Televizyon Ödüllerinde ise Quinto ve Paulson, Yardımcı Oyuncu ödüllerini aldılar. Antoloji serisi\n",
      "    olması dışında Lily Rabe, Naomi Grossman ve John Cromwell gibi bazı kadro oyuncularının, dizinin dördüncü sezonu\n",
      "    American Horror Story: Freak Show'daki karakterlerle bağlantısı da vardır.\n",
      "\n",
      "[INFO] [2025-01-28T10:42:05.295Z] Article 2:\n",
      "[INFO] [2025-01-28T10:42:05.295Z] TARDIS (Time And Relative Dimension In Space) (Türkçe: Uzaydaki zaman ve izafi boyut),\n",
      "    İngiliz bilimkurgu dizisi Doctor Who'daki uzay ve zamanda herhangi bir yere gidebilen, Gallifrey adlı bir gezegende\n",
      "    yaşayan Zaman Lordları tarafından yaratılan bir zaman makinesidir. Bazen adı \"The Blue Box\" yani \"Mavi Kulübe\" olarak da\n",
      "    geçer. Asıl şekli olmasa da dışarıdan 1963 yılı Londrasından kalma bir polis telefon kulübesi olarak görünmektedir.\n",
      "    Şekil değiştirmesini sağlayan kamuflaj ünitesi bozulduktan sonra Doktor onu tamir etmemiş, öyle bırakmıştır. Aynı anda 6\n",
      "    kişinin kullanabilme kapasitesi olan bu zaman makinesinin aynı zamanda içi dışından daha büyüktür. TARDIS'in içinde\n",
      "    uyuma bölümleri, özel ihtiyaç odaları, gardırop, kütüphane, havuz, inziva odası ve kontrol odası bulunuyor. TARDIS içini\n",
      "    kontrol edebilir, yeni odalar ekleyebilir ve bazı odaları silebilir. TARDIS, taşıdığı yolculara farklı dilleri anlama ve\n",
      "    konuşma yetisi veren bir sisteme sahiptir. Ayrıca her TARDIS'in kendine has bir zekası ve kişiliği vardır. Doktor onu\n",
      "    çalmıştır ya da kendi söylediğine göre ödünç almıştır ve onunla birlikte son büyük zaman savaşından kaçmayı başarmıştır.\n",
      "    \"The Doctor's Wife\" bölümünde TARDIS insan görünümündedir ve Doktor'un kendisini çaldığını değil de kendisinin Doktor'u\n",
      "    çaldığını iddia eder. Doctor Who dizisi İngiltere'nin her yerine yayıldıktan sonra popüler kültür arasına girmeyi de\n",
      "    başarmıştır. \"TARDIS\" kelimesi artık içi dışından büyük görünen herhangi bir şeyin adı olmuştur. Kavramsal tarihi\n",
      "    1963'te Doctor Who dizisi yazılırken, yazan kişiler Doktor'un zaman makinesinin neye benzemesi gerektiğini\n",
      "    tartışmaktaydılar. Belli bir şekilde tutmak için \"Police Box\" olarak yapılmasına karar verilmişti. Ve the ship's\n",
      "    \"chameleon circuit\" adlı bölümde şeklinin aynı olmasının nedeni açıklanmıştı. Diğer Zaman Lordları TARDIS'in bir diğer\n",
      "    adı olan TT Kapsülü yani Time Travel Capsule (Zaman Yolculuğu Kapsülü) adını kullanmaktadırlar.\n",
      "\n",
      "[INFO] [2025-01-28T10:42:05.296Z] Article 3:\n",
      "[INFO] [2025-01-28T10:42:05.296Z] Bermuda, tam adıyla Bermuda Adaları (diğer adıyla Somers Adaları), Atlas Okyanusu'nda,\n",
      "    ABD'nin doğu (Kuzey Carolina eyaletindeki Hatteras Burnu'nun yaklaşık 900 km doğusunda) ve Karayipler'in kuzey\n",
      "    açıklarında bir takımadadır. Birleşik Krallık'ın denizaşırı topraklarından biridir. Ana ada olan Bermuda adası dâhil\n",
      "    yedi ana ada ile 150 küçük ada ve kayalıktan oluşur. Toplam yüzölçümü 53,3 km²'dir. Başkenti Hamilton'dur, nüfus 65.000\n",
      "    civarındadır.\n",
      "\n",
      "[INFO] [2025-01-28T10:42:05.296Z] Article 4:\n",
      "[INFO] [2025-01-28T10:42:05.296Z] Ekonomi tarihi veya iktisat tarihi, geçmişte yaşanan ekonomik olguların nasıl\n",
      "    geliştiği konusunda çalışan bilim dalı. Ekonomi tarihinin analizi; tarihsel durumlara ekonomik teorilerin uygulanması,\n",
      "    tarihsel yöntemler ve istatistiksel yöntemlerin bir kombinasyonu kullanılarak ele alınır. Bu başlık, sosyal tarihin\n",
      "    örtüşen bazı alanları (demografik tarih gibi) ve işletme tarihi konularını içerir. Ekonomi tarihinin kantitatif\n",
      "    incelenmesine, cliometri de denmektedir.\n",
      "\n",
      "[INFO] [2025-01-28T10:42:05.297Z] Article 5:\n",
      "[INFO] [2025-01-28T10:42:05.297Z] Yoshiwara (Japonca: 吉原), Japonya'da Edo'da bulunan bir yūkaku idi. 1617'de kurulmuş\n",
      "    olup Tokugawa şogunluğu tarafından 17. yüzyılın başlarında, Kyoto'daki Shimabara ve Osaka'daki Shinmachi'nin yanı sıra\n",
      "    17. yüzyılın başlarında kurulan üç lisanslı ve tanınmış kırmızı fener mahallesinden biriydi. Şogunluk tarafından, yeni\n",
      "    zengin chōnin (tüccar) sınıflarının zevklerini azaltmak ve tecrit etmek için yaratılan, Yoshiwara'da sunulan eğlence,\n",
      "    diğer lisanslı bölgelerin yanı sıra, sonunda, moda yoldaşları olarak tanınacak geyşaların ortaya çıkardı. Chōnin\n",
      "    sınıfları ve aynı zamanda kırmızı ışıklı bölgelerin üst sınıf nezaketçileri olan oiranların azalmasına neden oldu.\n",
      "\n"
     ]
    }
   ],
   "source": [
    "article_array = get_articles(raw_data_df, chunk_bermuda_unique_id)\n",
    "\n",
    "for i, article in enumerate(article_array):\n",
    "    logger.info(f\"Article {i}:\")\n",
    "    logger.info(article)"
   ]
  },
  {
   "cell_type": "markdown",
   "metadata": {},
   "source": [
    "### Get Related (Correct) Article\n",
    "\n",
    "Doğru cevabın bulunduğu paragrafı alalım.\n"
   ]
  },
  {
   "cell_type": "code",
   "execution_count": 31,
   "metadata": {},
   "outputs": [],
   "source": [
    "def get_related_correct_article(data_df, chunk_unique_id):\n",
    "    articles = get_articles(data_df, chunk_unique_id)\n",
    "\n",
    "    chunk_df = data_df[data_df['id'] == chunk_unique_id]\n",
    "    correct_article_index = chunk_df['correct_intro_idx'].values[0]\n",
    "\n",
    "    return articles[correct_article_index]"
   ]
  },
  {
   "cell_type": "code",
   "execution_count": 32,
   "metadata": {},
   "outputs": [
    {
     "name": "stdout",
     "output_type": "stream",
     "text": [
      "[INFO] [2025-01-28T10:42:05.304Z] Related correct article for the chunk: \n",
      "[INFO] [2025-01-28T10:42:05.306Z] Bermuda, tam adıyla Bermuda Adaları (diğer adıyla Somers Adaları), Atlas Okyanusu'nda,\n",
      "    ABD'nin doğu (Kuzey Carolina eyaletindeki Hatteras Burnu'nun yaklaşık 900 km doğusunda) ve Karayipler'in kuzey\n",
      "    açıklarında bir takımadadır. Birleşik Krallık'ın denizaşırı topraklarından biridir. Ana ada olan Bermuda adası dâhil\n",
      "    yedi ana ada ile 150 küçük ada ve kayalıktan oluşur. Toplam yüzölçümü 53,3 km²'dir. Başkenti Hamilton'dur, nüfus 65.000\n",
      "    civarındadır.\n",
      "\n"
     ]
    }
   ],
   "source": [
    "logger.info(\"Related correct article for the chunk: \")\n",
    "logger.info(get_related_correct_article(raw_data_df, chunk_bermuda_unique_id))"
   ]
  },
  {
   "cell_type": "markdown",
   "metadata": {},
   "source": [
    "# Negatif Cevapların İncelenmesi\n",
    "\n",
    "Dataset içerisinde bulunan negatif cevaplar eğitim sırasında modelin yanlış öğrenmesine sebep olabilir. Bu nedenle negatif cevaplar incelenerek, verisetinden çıkarılacaktır.\n"
   ]
  },
  {
   "cell_type": "code",
   "execution_count": 33,
   "metadata": {},
   "outputs": [
    {
     "name": "stdout",
     "output_type": "stream",
     "text": [
      "[INFO] [2025-01-28T10:42:05.310Z] Shape of the negative samples dataframe: (274, 8)\n",
      "\n",
      "[INFO] [2025-01-28T10:42:05.310Z] Chunk Unique ID: 2c981fd9-2047-4a44-b20d-525074c81053\n",
      "[INFO] [2025-01-28T10:42:05.311Z] Quesiton in the chunk: Ericsson Mediaroom hangi cihazlar üzerinden hizmet sunuyor?\n",
      "[INFO] [2025-01-28T10:42:05.312Z] Expected answer: Bilmediğim bir konuya dair soru sordunuz. Başka bir konuda yardımcı\n",
      "    olabilir miyim?\n",
      "\n",
      "[INFO] [2025-01-28T10:42:05.312Z] Is response negative: True\n",
      "[INFO] [2025-01-28T10:42:05.312Z] Number of articles in the chunk: 1\n",
      "[INFO] [2025-01-28T10:42:05.313Z] Context split points: [799]\n",
      "[INFO] [2025-01-28T10:42:05.313Z] Correct article index: -1\n",
      "\n",
      "[INFO] [2025-01-28T10:42:05.313Z] Unrelated Article Index 0:\n",
      "[INFO] [2025-01-28T10:42:05.314Z] Boole cebiri değişkenlerin değerinin doğru ve yanlış olabildiği bir cebir altkoludur.\n",
      "    Doğru ve yanlış değerleri genelde sırasıyla 1 ve 0 olarak ifade edilir. Değişken değerlerinin sayı, işlemlerin ise\n",
      "    toplama ve çarpma olduğu temel cebrin aksine Boole cebrinde ∧ işareti ile ifade edilen \"ve\", ∨ işareti ile ifade edilen\n",
      "    \"veya\",  ¬ ile ifade edilen \"değil\" işlemleri bulunur. Boole cebri ismini George Boole'den alır ve bu ismin ilk kez 1913\n",
      "    yılında Sheffer tarafından önerildiği iddia edilmektedir. Sayısal devrelerin analiz ve tasarımı boole cebrini temel\n",
      "    alır. Bu sistemde yer alan “1” ve “0”, sırasıyla açık (İngilizcesi: ON) ve kapalı (İngilizcesi: OFF) devrelerle eş\n",
      "    anlamlıdır. Sayısal bilgisayar devreleri uygulamasında, ikili değişkenler üzerinde tanımlanan sayısal operasyonları\n",
      "    gösterir.\n",
      "\n"
     ]
    }
   ],
   "source": [
    "# Duplicate olanlar içerisinde negatif olduğunu bildiğimiz bir örneği seçip inceleyelim.\n",
    "negatif_sample_df = duplicates_df[duplicates_df['is_negative_response'] == 1]\n",
    "\n",
    "logger.info(\"Shape of the negative samples dataframe: \" + str(negatif_sample_df.shape))\n",
    "print()\n",
    "\n",
    "pretty_print_chunk(negatif_sample_df, '2c981fd9-2047-4a44-b20d-525074c81053')"
   ]
  },
  {
   "cell_type": "markdown",
   "metadata": {},
   "source": [
    "Yukarıdan anlaşıldığı üzere chunk içerisinde doğru cevap yoksa bilmediğim bir konu diye LLM'in dönmesi bekleniyor.\n",
    "\n",
    "- Bu durum ayrı bir araştırma konusu olduğu için bu çalışma kapsamına alınmamıştır.\n",
    "- Ama ileride incelemek için güzel bir nokta olduğu söylenebilir.\n",
    "- 274 tane negatif cevap çıkarılmış oldu.\n",
    "\n",
    "Kalan veri seti üzerinde negatif cevaplar varsa çıkaralım.\n"
   ]
  },
  {
   "cell_type": "code",
   "execution_count": 34,
   "metadata": {},
   "outputs": [
    {
     "name": "stdout",
     "output_type": "stream",
     "text": [
      "[INFO] [2025-01-28T10:42:05.318Z] Shape of the negative responses dataframe: (0, 8)\n"
     ]
    }
   ],
   "source": [
    "negative_responses_df = raw_data_df[raw_data_df['is_negative_response'] == 1]\n",
    "\n",
    "logger.info(\"Shape of the negative responses dataframe: \" + str(negative_responses_df.shape))"
   ]
  },
  {
   "cell_type": "markdown",
   "metadata": {},
   "source": [
    "Yukarıdan anlaşılacağı üzere kullanacağımız veri seti üzerinde negatif data kalmamıştır.\n"
   ]
  },
  {
   "cell_type": "markdown",
   "metadata": {},
   "source": [
    "# Modellerin Yüklemesi\n",
    "\n",
    "Bu proje kapsamında 2 tane modeli karşılaştıracağız. Bunlar:\n",
    "\n",
    "- https://huggingface.co/ytu-ce-cosmos/Turkish-Llama-8b-DPO-v0.1\n",
    "- https://huggingface.co/Metin/Gemma-2-9b-it-TR-DPO-V1\n"
   ]
  },
  {
   "cell_type": "markdown",
   "metadata": {},
   "source": [
    "## Cosmos LLaMa Instruct-DPO\n",
    "\n",
    "- https://huggingface.co/Metin/Gemma-2-9b-it-TR-DPO-V1\n"
   ]
  },
  {
   "cell_type": "code",
   "execution_count": 36,
   "metadata": {},
   "outputs": [],
   "source": [
    "cosmos_model_name = \"cosmos_dpo\""
   ]
  },
  {
   "cell_type": "markdown",
   "metadata": {},
   "source": [
    "## Gemma-2-9b-it-TR-DPO-V1\n",
    "\n",
    "- https://huggingface.co/Metin/Gemma-2-9b-it-TR-DPO-V1\n"
   ]
  },
  {
   "cell_type": "code",
   "execution_count": null,
   "metadata": {},
   "outputs": [],
   "source": [
    "import torch\n",
    "from transformers import AutoTokenizer, AutoModelForCausalLM\n",
    "\n",
    "gemma_model_id = \"Metin/Gemma-2-9b-it-TR-DPO-V1\"\n",
    "gemma_model_name = \"gemma_2_9b\"\n",
    "\n",
    "gemma_tokenizer = AutoTokenizer.from_pretrained(gemma_model_id)\n",
    "\n",
    "gemma_model = AutoModelForCausalLM.from_pretrained(\n",
    "    gemma_model_id,\n",
    "    torch_dtype=torch.bfloat16,\n",
    "    device_map=\"auto\",\n",
    ")\n",
    "\n",
    "gemma_terminators = [\n",
    "    gemma_tokenizer.eos_token_id,\n",
    "    gemma_tokenizer.convert_tokens_to_ids(\"<|eot_id|>\")\n",
    "]"
   ]
  },
  {
   "cell_type": "markdown",
   "metadata": {},
   "source": [
    "İndirilmiş olan modelin çalışmasını aşağıdaki örnek ile deneyelim.\n"
   ]
  },
  {
   "cell_type": "code",
   "execution_count": null,
   "metadata": {},
   "outputs": [],
   "source": [
    "messages = [\n",
    "    {\n",
    "        \"role\": \"user\",\n",
    "        \"content\": \"Soru: Bir arabanın deposu 60 litre benzin alabiliyor. Araba her 100 kilometrede 8 litre benzin tüketiyor. Depo tamamen doluyken araba kaç kilometre yol alabilir?\"\n",
    "    },\n",
    "]\n",
    "\n",
    "gemma_input_ids = gemma_tokenizer.apply_chat_template(\n",
    "    messages,\n",
    "    add_generation_prompt=True,\n",
    "    return_tensors=\"pt\"\n",
    ").to(gemma_model.device)\n",
    "\n",
    "gemma_outputs = gemma_model.generate(\n",
    "    gemma_input_ids,\n",
    "    max_new_tokens=256,\n",
    "    eos_token_id=gemma_terminators,\n",
    "    do_sample=True,\n",
    "    temperature=0.6,\n",
    "    top_p=0.9,\n",
    ")\n",
    "response = gemma_outputs[0][gemma_input_ids.shape[-1]:]\n",
    "print(gemma_tokenizer.decode(response, skip_special_tokens=True))"
   ]
  },
  {
   "cell_type": "markdown",
   "metadata": {},
   "source": [
    "Modelin veri seti üzerinde çalıştırılabilmesi için bir fonksiyon yazalım.\n",
    "\n",
    "- Bu fonksiyon ile veri seti üzerindeki belirlenen bir soru için context içerisindeki doğru cevabı bulmaya çalışacağız.\n"
   ]
  },
  {
   "cell_type": "code",
   "execution_count": 27,
   "metadata": {},
   "outputs": [],
   "source": [
    "def generate_answer_for_gemma_model(question, related_context):\n",
    "    messages = [\n",
    "        {\"role\": \"user\", \"content\": f\"Question: {question}, Context: {related_context}\"},\n",
    "    ]\n",
    "\n",
    "    gemma_input_ids = gemma_tokenizer.apply_chat_template(\n",
    "        messages,\n",
    "        add_generation_prompt=True,\n",
    "        return_tensors=\"pt\"\n",
    "    ).to(gemma_model.device)\n",
    "\n",
    "    gemma_outputs = gemma_model.generate(\n",
    "        gemma_input_ids,\n",
    "        max_new_tokens=256,\n",
    "        eos_token_id=gemma_terminators,\n",
    "        do_sample=True,\n",
    "        temperature=0.6,\n",
    "        top_p=0.9,\n",
    "    )\n",
    "\n",
    "    response = gemma_outputs[0][gemma_input_ids.shape[-1]:]\n",
    "    generated_answer = gemma_tokenizer.decode(response, skip_special_tokens=True)\n",
    "\n",
    "    return generated_answer"
   ]
  },
  {
   "cell_type": "markdown",
   "metadata": {},
   "source": [
    "Yukarıdakilere ek olarak birde Bermuda adaları ile ilgili örnek üzerinde LLM'in cevabını görelim.\n"
   ]
  },
  {
   "cell_type": "code",
   "execution_count": null,
   "metadata": {},
   "outputs": [],
   "source": [
    "pretty_print_chunk(raw_data_df, chunk_bermuda_unique_id)"
   ]
  },
  {
   "cell_type": "code",
   "execution_count": null,
   "metadata": {},
   "outputs": [],
   "source": [
    "question = get_question(raw_data_df, chunk_bermuda_unique_id)\n",
    "related_context = get_context(raw_data_df, chunk_bermuda_unique_id)\n",
    "\n",
    "generated_answer = generate_answer_for_gemma_model(question, related_context)\n",
    "print(generated_answer)"
   ]
  },
  {
   "cell_type": "markdown",
   "metadata": {},
   "source": [
    "# Context Oluşturan Fonksiyon\n",
    "\n",
    "Burada istenen formatta context oluşturan bir fonksiyon yazalım. Bu fonksiyonu proje kapsamında verilen tasklar için kullanacağız.\n"
   ]
  },
  {
   "cell_type": "code",
   "execution_count": 30,
   "metadata": {},
   "outputs": [],
   "source": [
    "import time\n",
    "\n",
    "\n",
    "def prepare_new_context(data_df, num_of_evaluated_questions, total_number_of_articles_in_ctx, correct_article_loc_index):\n",
    "\n",
    "    if num_of_evaluated_questions < 1:\n",
    "        logger.error(\"Number of evaluated questions should be greater than 0. Got: \" +\n",
    "                     str(num_of_evaluated_questions) + \"!\")\n",
    "        assert False\n",
    "\n",
    "    if len(data_df) < num_of_evaluated_questions:\n",
    "        logger.error(\"Number of evaluated questions should be less than or equal to the number of samples in the data frame. Got: \" +\n",
    "                     str(num_of_evaluated_questions) + \"!. Data frame size: \" + str(len(data_df)))\n",
    "        assert False\n",
    "\n",
    "    expected_data_frame_size = num_of_evaluated_questions + total_number_of_articles_in_ctx\n",
    "    if len(data_df) < expected_data_frame_size:\n",
    "        logger.error(\"Number of evaluated questions + total number of articles in context should be less than or equal to the number of samples in the data frame. Got: \" +\n",
    "                     str(expected_data_frame_size) + \"!. Data frame size: \" + str(len(data_df)))\n",
    "        assert False\n",
    "\n",
    "    if total_number_of_articles_in_ctx < 1 or total_number_of_articles_in_ctx > 15:\n",
    "        logger.error(\"Total number of articles in context should be between 1 and 15. Got: \" +\n",
    "                     str(total_number_of_articles_in_ctx) + \"!\")\n",
    "        assert False\n",
    "\n",
    "    if correct_article_loc_index < 0:\n",
    "        logger.error(\"Correct article index should be equal or greater than 0. Got: \" +\n",
    "                     str(correct_article_loc_index) + \"!\")\n",
    "        assert False\n",
    "\n",
    "    if correct_article_loc_index > total_number_of_articles_in_ctx:\n",
    "        logger.error(\"Correct article index should be less than or equal total number of articles in context. Got: \" +\n",
    "                     str(correct_article_loc_index) + \"!\")\n",
    "        assert False\n",
    "\n",
    "    print()\n",
    "    logger.info(\n",
    "        \"-\" * 20 + f\" Context Preparation Started \" + \"-\" * 20)\n",
    "    logger.info(\n",
    "        \"-\" * 8 + f\" Articles in Context: {total_number_of_articles_in_ctx}, Total Number of Context: {num_of_evaluated_questions} \" + \"-\" * 8)\n",
    "    print()\n",
    "    start_time = time.time()\n",
    "\n",
    "    prepared_data_df = pd.DataFrame()\n",
    "\n",
    "    for i in range(num_of_evaluated_questions):\n",
    "\n",
    "        logger.info(\n",
    "            \"*\" * 12 + f\" Context Preparation for Question {i + 1} of {num_of_evaluated_questions} Started \" + \"*\" * 12)\n",
    "        chunk_unique_id = data_df.iloc[i]['id']\n",
    "\n",
    "        question = data_df.iloc[i]['question']\n",
    "        logger.info(f\"Question {i + 1}: {question}\")\n",
    "\n",
    "        answer = data_df.iloc[i]['answer']\n",
    "        logger.info(f\"Expected answer {i + 1}: {answer}\")\n",
    "\n",
    "        is_negative_response = data_df.iloc[i]['is_negative_response']\n",
    "\n",
    "        # article sayısı beklenen değerden fazla olana kadar yeni irrelevant article eklenir.\n",
    "        unrelated_number_of_article_array = []\n",
    "        j = 1\n",
    "        while (True):\n",
    "            unrelated_chunk_unique_id = data_df.iloc[i + j]['id']\n",
    "\n",
    "            array = get_articles(data_df, unrelated_chunk_unique_id)\n",
    "            for k in range(len(array)):\n",
    "                unrelated_number_of_article_array.append(array[k])\n",
    "\n",
    "            if len(unrelated_number_of_article_array) > total_number_of_articles_in_ctx:\n",
    "                break\n",
    "\n",
    "            j += 1\n",
    "\n",
    "        logger.info(f\"Total number of the unrelated articles: {len(unrelated_number_of_article_array)}\")\n",
    "\n",
    "        related_correct_article = get_related_correct_article(data_df, chunk_unique_id)\n",
    "        new_context = \"\"\n",
    "        total_length = 0\n",
    "\n",
    "        # create a ctx_split_points something like this: [413, 1352, 2033, 2295, 2872]\n",
    "        ctx_split_points = \"[\"\n",
    "        for k in range(len(unrelated_number_of_article_array)):\n",
    "\n",
    "            article = \"\"\n",
    "            if k == correct_article_loc_index:\n",
    "                article = related_correct_article\n",
    "                logger.info(f\"Length of the related article[{k}]: {len(related_correct_article)}\")\n",
    "                logger.info(f\"article[{k}]: {article}\")\n",
    "            else:\n",
    "                article = unrelated_number_of_article_array[k]\n",
    "                logger.info(f\"Length of the unrelated article[{k}]: {len(article)}\")\n",
    "                logger.debug(f\"article[{k}]: {article}\")\n",
    "\n",
    "            new_context += article\n",
    "            total_length += len(article)\n",
    "            ctx_split_points += str(total_length) + \", \"\n",
    "\n",
    "            if k + 1 == total_number_of_articles_in_ctx:\n",
    "                break\n",
    "\n",
    "        # Remove the last comma and space, and add the closing bracket\n",
    "        ctx_split_points = ctx_split_points[:-2] + \"]\"\n",
    "        logger.info(f\"Context split points: {ctx_split_points}\")\n",
    "\n",
    "        # Add new sample to the DataFrame\n",
    "        new_sample_df = pd.DataFrame({\n",
    "            'id': [chunk_unique_id],\n",
    "            'question': [question],\n",
    "            'answer': [answer],\n",
    "            'context': [new_context],\n",
    "            'is_negative_response': [is_negative_response],\n",
    "            'number_of_articles': total_number_of_articles_in_ctx,\n",
    "            'ctx_split_points': ctx_split_points,\n",
    "            'correct_intro_idx': [correct_article_loc_index]\n",
    "        })\n",
    "\n",
    "        check_number_of_articles_and_split_points_match(new_sample_df, chunk_unique_id)\n",
    "\n",
    "        prepared_data_df = pd.concat([prepared_data_df, new_sample_df], ignore_index=True)\n",
    "        logger.info(\n",
    "            \"*\" * 12 + f\" Context Preparation for Question {i + 1} of {num_of_evaluated_questions} Ended \" + \"*\" * 12)\n",
    "        print()\n",
    "\n",
    "    elapsed_time = time.time() - start_time\n",
    "    logger.info(\"Elapsed time for context preparation: \" + str(elapsed_time) + \" seconds\")\n",
    "\n",
    "    logger.info(\n",
    "        \"-\" * 8 + f\" Articles in Context: {total_number_of_articles_in_ctx}, Total Number of Context: {num_of_evaluated_questions} \" + \"-\" * 8)\n",
    "    logger.info(\"-\" * 20 + f\" Context Preparation Ended \" + \"-\" * 20)\n",
    "    print()\n",
    "\n",
    "    return prepared_data_df"
   ]
  },
  {
   "cell_type": "markdown",
   "metadata": {},
   "source": [
    "Fonksiyonun çalışmasını aşağıdaki şekilde doğrulayalım.\n",
    "\n",
    "- Verilen dataframe içerisinden kullanılmak üzere 3 tane genişletilmiş context içeren data frame oluşturalım.\n",
    "- Her context içerisinde 15 tane makale olsun.\n",
    "- Doğru makaleler 8. sırada bulunsun.\n"
   ]
  },
  {
   "cell_type": "code",
   "execution_count": null,
   "metadata": {},
   "outputs": [],
   "source": [
    "prepared_context_data_df = prepare_new_context(raw_data_df, 3, 15, 8)\n",
    "\n",
    "prepared_context_data_df.head()"
   ]
  },
  {
   "cell_type": "markdown",
   "metadata": {},
   "source": [
    "# A) Correlation Between Longer Context and Answer Success\n",
    "\n",
    "Doğru chunk ı içeren context uzadıkça (1, 5, 10, 15) llm (cosmos dpo ve gemma2 9b it) cevaplama başarısı (doğru chunk ortada), En az 100 soru üzerinde RAGAS evaluation.\n"
   ]
  },
  {
   "cell_type": "code",
   "execution_count": 32,
   "metadata": {},
   "outputs": [],
   "source": [
    "# TODO: This is used just for algorithm testing purposes. It should be updated to 100.\n",
    "NUM_OF_EVALUATED_QUESTIONS = 1\n",
    "# NUM_OF_EVALUATED_QUESTIONS = 100\n",
    "\n",
    "# TODO: This is used just for algorithm testing purposes. It should be updated to [1, 5, 10, 15]\n",
    "context_length_array = [1]\n",
    "# context_length_array = [10]\n",
    "# context_length_array = [1, 5, 10, 15]\n",
    "\n",
    "# Tüm context i başarılı bir şekilde oluşturmaya yetecek büyüklükte bir subset seç\n",
    "selected_questions_df = raw_data_df.sample(n=150, random_state=42)"
   ]
  },
  {
   "cell_type": "code",
   "execution_count": 33,
   "metadata": {},
   "outputs": [],
   "source": [
    "def save_llm_answers_for_context_length(results_df, model_name, length_of_context):\n",
    "    # add time stamp to each file name for unique file names and further analysis\n",
    "    time_stamp = time.strftime(\"%Y_%m_%d-%H_%M_%S\")\n",
    "    file_name = f'{LLM_ANSWERS_DIR}/{time_stamp}_{model_name}_llm_answers_for_cntx_length_{length_of_context}.csv'\n",
    "\n",
    "    results_df.to_csv(file_name, index=True)\n",
    "    logger.info(f\"Answers are saved to the file: '{file_name}'\")\n",
    "    return file_name\n",
    "\n",
    "\n",
    "def get_llm_answers_for_context_length(model_name):\n",
    "    file_names = []\n",
    "\n",
    "    for total_number_of_articles_in_ctx in context_length_array:\n",
    "        correct_article_loc_index = total_number_of_articles_in_ctx // 2\n",
    "\n",
    "        prepared_context_data_df = prepare_new_context(\n",
    "            selected_questions_df, NUM_OF_EVALUATED_QUESTIONS, total_number_of_articles_in_ctx, correct_article_loc_index)\n",
    "\n",
    "        prepared_context_data_df[f'{model_name}_answer'] = \"\"\n",
    "        prepared_context_data_df['answer_generation_time'] = \"\"\n",
    "\n",
    "        for i in range(NUM_OF_EVALUATED_QUESTIONS):\n",
    "            chunk_unique_id = prepared_context_data_df.iloc[i]['id']\n",
    "            index_of_chunk = prepared_context_data_df['id'] == chunk_unique_id\n",
    "\n",
    "            question = get_question(prepared_context_data_df, chunk_unique_id)\n",
    "            related_context = get_context(prepared_context_data_df, chunk_unique_id)\n",
    "\n",
    "            start_time = time.time()\n",
    "            generated_answer = \"\"\n",
    "            if model_name == gemma_model_name:\n",
    "                generated_answer = generate_answer_for_gemma_model(question, related_context)\n",
    "            else:\n",
    "                logger.error(f\"Model name '{model_name}' is not supported!\")\n",
    "                assert False\n",
    "\n",
    "            elapsed_time = time.time() - start_time\n",
    "            elapsed_time = \"{:.1f}\".format(elapsed_time)  # shows as 1.3 s format\n",
    "            logger.info(\"Elapsed time for answer generation to question \" +\n",
    "                        str(i + 1) + \": \" + str(elapsed_time) + \" seconds\")\n",
    "\n",
    "            prepared_context_data_df.loc[index_of_chunk, f'{model_name}_answer'] = generated_answer\n",
    "            prepared_context_data_df.loc[index_of_chunk, 'answer_generation_time'] = elapsed_time\n",
    "\n",
    "        # save result to a file\n",
    "        file_name = save_llm_answers_for_context_length(\n",
    "            prepared_context_data_df, model_name, total_number_of_articles_in_ctx)\n",
    "        file_names.append(file_name)\n",
    "\n",
    "    return file_names"
   ]
  },
  {
   "cell_type": "code",
   "execution_count": null,
   "metadata": {},
   "outputs": [],
   "source": [
    "file_names = get_llm_answers_for_context_length(gemma_model_name)"
   ]
  },
  {
   "cell_type": "markdown",
   "metadata": {},
   "source": [
    "## Model Sonuçlarının Grafikleştirilmesi\n"
   ]
  },
  {
   "cell_type": "code",
   "execution_count": null,
   "metadata": {},
   "outputs": [],
   "source": [
    "# NOTE: Burada sadece google colab üzerinde çalıştırılan kodun çıktısı olan dosyalar kullanıldı.\n",
    "#  Diğer eğitim süreleri çok uzun olduğu için buraya dahil edilmedi.\n",
    "#  Aşağıda ragas evaluation yapılırkende bu dosyalar kullanılacak.\n",
    "\n",
    "# TODO: Comment this lines if you want to see local run results\n",
    "# Load the LLM answers from the file coming from google colab\n",
    "gemma_llm_answers_file_names = [\n",
    "    '2025_01_26-18_33_19_gemma_2_9b_llm_answers_for_cntx_length_1.csv',\n",
    "    '2025_01_26-19_16_06_gemma_2_9b_llm_answers_for_cntx_length_5.csv',\n",
    "    '2025_01_26-20_19_14_gemma_2_9b_llm_answers_for_cntx_length_10.csv',\n",
    "    '2025_01_26-21_46_10_gemma_2_9b_llm_answers_for_cntx_length_15.csv',\n",
    "]\n",
    "\n",
    "gemma_llm_answers_file_names\n",
    "\n",
    "# print file names in llm_answer folder in python\n",
    "# !ls -l {LLM_ANSWERS_DIR}"
   ]
  },
  {
   "cell_type": "markdown",
   "metadata": {},
   "source": [
    "Bir cevabın oluşturulması için geçen ortalama süreyi aşağıdaki şekilde grafiğe dökelim.\n",
    "\n",
    "- Her context uzunluğu için 100 sorunun ortalama süresini temsil etmektedir.\n"
   ]
  },
  {
   "cell_type": "code",
   "execution_count": 122,
   "metadata": {},
   "outputs": [
    {
     "name": "stdout",
     "output_type": "stream",
     "text": [
      "[INFO] [2025-01-28T01:44:59.555Z] File: 2025_01_26-18_33_19_gemma_2_9b_llm_answers_for_cntx_length_1\n",
      "[INFO] [2025-01-28T01:44:59.557Z] Mean time for generating answers by Gemma for context length 1: 24.95 seconds\n",
      "[INFO] [2025-01-28T01:44:59.558Z] Shape of the dataframe: (100, 11)\n",
      "\n",
      "[INFO] [2025-01-28T01:44:59.575Z] File: 2025_01_26-19_16_06_gemma_2_9b_llm_answers_for_cntx_length_5\n",
      "[INFO] [2025-01-28T01:44:59.576Z] Mean time for generating answers by Gemma for context length 5: 25.65 seconds\n",
      "[INFO] [2025-01-28T01:44:59.577Z] Shape of the dataframe: (100, 11)\n",
      "\n",
      "[INFO] [2025-01-28T01:44:59.595Z] File: 2025_01_26-20_19_14_gemma_2_9b_llm_answers_for_cntx_length_10\n",
      "[INFO] [2025-01-28T01:44:59.596Z] Mean time for generating answers by Gemma for context length 10: 30.32 seconds\n",
      "[INFO] [2025-01-28T01:44:59.596Z] Shape of the dataframe: (100, 11)\n",
      "\n",
      "[INFO] [2025-01-28T01:44:59.618Z] File: 2025_01_26-21_46_10_gemma_2_9b_llm_answers_for_cntx_length_15\n",
      "[INFO] [2025-01-28T01:44:59.619Z] Mean time for generating answers by Gemma for context length 15: 24.58 seconds\n",
      "[INFO] [2025-01-28T01:44:59.619Z] Shape of the dataframe: (100, 11)\n",
      "\n"
     ]
    },
    {
     "data": {
      "image/png": "[encoded data removed]",
      "text/plain": [
       "<Figure size 1200x600 with 1 Axes>"
      ]
     },
     "metadata": {},
     "output_type": "display_data"
    }
   ],
   "source": [
    "# Plot the mean time for each context length\n",
    "import matplotlib.pyplot as plt\n",
    "\n",
    "model_name_for_plot = ''\n",
    "context_len_array = []\n",
    "mean_times_array = []\n",
    "for file_name in gemma_llm_answers_file_names:\n",
    "    # For compatibilty in local run\n",
    "    file_name = os.path.splitext(os.path.basename(file_name))[0]\n",
    "    df = pd.read_csv(LLM_ANSWERS_DIR + '/' + file_name + '.csv')\n",
    "\n",
    "    if 'cosmos' in file_name:\n",
    "        model_name_for_plot = 'Cosmos'\n",
    "    elif 'gemma' in file_name:\n",
    "        model_name_for_plot = 'Gemma'\n",
    "\n",
    "    logger.info(f\"File: {file_name}\")\n",
    "\n",
    "    context_len = df['number_of_articles'][0].astype(int)\n",
    "    context_len_array.append(context_len)\n",
    "\n",
    "    mean_times = df['answer_generation_time'].astype(float).mean()\n",
    "    mean_times_array.append(mean_times)\n",
    "\n",
    "    logger.info(f\"Mean time for generating answers by {model_name_for_plot} for context length {\n",
    "                context_len}: {mean_times:.2f} seconds\")\n",
    "    logger.info(\"Shape of the dataframe: \" + str(df.shape))\n",
    "    print()\n",
    "\n",
    "\n",
    "plt.figure(figsize=(12, 6))\n",
    "plt.bar(context_len_array, mean_times_array, width=2, alpha=0.7,\n",
    "        label=f'{model_name_for_plot} Mean Times', color='red', align='center')\n",
    "\n",
    "# Add seconds on top of the bars\n",
    "for i in range(len(context_len_array)):\n",
    "    plt.text(context_len_array[i], mean_times_array[i] + 0.5, f\"{mean_times_array[i]:.2f} s\", ha='center')\n",
    "\n",
    "# Set x-axis ticks to show all values\n",
    "plt.xticks(context_len_array)\n",
    "\n",
    "plt.xlabel('Context Length')\n",
    "plt.ylabel('Mean Time (seconds)')\n",
    "plt.title(f'Mean Time for Generating Answers by Model {model_name_for_plot}')\n",
    "plt.legend()\n",
    "plt.grid(axis='y')\n",
    "plt.show()"
   ]
  },
  {
   "cell_type": "markdown",
   "metadata": {},
   "source": [
    "## Mean Time Comparision Between Models (Cosmos vs Gemma)\n"
   ]
  },
  {
   "cell_type": "code",
   "execution_count": 123,
   "metadata": {},
   "outputs": [
    {
     "data": {
      "text/plain": [
       "['2025_01_26-18_33_19_gemma_2_9b_llm_answers_for_cntx_length_1.csv',\n",
       " '2025_01_26-19_16_06_gemma_2_9b_llm_answers_for_cntx_length_5.csv',\n",
       " '2025_01_26-20_19_14_gemma_2_9b_llm_answers_for_cntx_length_10.csv',\n",
       " '2025_01_26-21_46_10_gemma_2_9b_llm_answers_for_cntx_length_15.csv',\n",
       " '2025_01_26-16_41_10_cosmos_dpo_llm_answers_for_cntx_length_1.csv',\n",
       " '2025_01_26-16_50_39_cosmos_dpo_llm_answers_for_cntx_length_5.csv',\n",
       " '2025_01_26-17_02_32_cosmos_dpo_llm_answers_for_cntx_length_10.csv',\n",
       " '2025_01_26-17_20_21_cosmos_dpo_llm_answers_for_cntx_length_15.csv']"
      ]
     },
     "execution_count": 123,
     "metadata": {},
     "output_type": "execute_result"
    }
   ],
   "source": [
    "# NOTE: Burada sadece google colab üzerinde çalıştırılan kodun çıktısı olan dosyalar kullanıldı.\n",
    "\n",
    "# Load the LLM answers from the file coming from google colab\n",
    "all_llm_answers_file_names = [\n",
    "    # gemma model\n",
    "    '2025_01_26-18_33_19_gemma_2_9b_llm_answers_for_cntx_length_1.csv',\n",
    "    '2025_01_26-19_16_06_gemma_2_9b_llm_answers_for_cntx_length_5.csv',\n",
    "    '2025_01_26-20_19_14_gemma_2_9b_llm_answers_for_cntx_length_10.csv',\n",
    "    '2025_01_26-21_46_10_gemma_2_9b_llm_answers_for_cntx_length_15.csv',\n",
    "    # cosmos model\n",
    "    '2025_01_26-16_41_10_cosmos_dpo_llm_answers_for_cntx_length_1.csv',\n",
    "    '2025_01_26-16_50_39_cosmos_dpo_llm_answers_for_cntx_length_5.csv',\n",
    "    '2025_01_26-17_02_32_cosmos_dpo_llm_answers_for_cntx_length_10.csv',\n",
    "    '2025_01_26-17_20_21_cosmos_dpo_llm_answers_for_cntx_length_15.csv',\n",
    "]\n",
    "\n",
    "all_llm_answers_file_names"
   ]
  },
  {
   "cell_type": "code",
   "execution_count": 124,
   "metadata": {},
   "outputs": [
    {
     "name": "stdout",
     "output_type": "stream",
     "text": [
      "[INFO] [2025-01-28T01:46:06.700Z] File: 2025_01_26-18_33_19_gemma_2_9b_llm_answers_for_cntx_length_1\n",
      "[INFO] [2025-01-28T01:46:06.702Z] Mean time for generating answers by Gemma for context length 1: 24.95 seconds\n",
      "[INFO] [2025-01-28T01:46:06.702Z] Shape of the dataframe: (100, 11)\n",
      "\n",
      "[INFO] [2025-01-28T01:46:06.717Z] File: 2025_01_26-19_16_06_gemma_2_9b_llm_answers_for_cntx_length_5\n",
      "[INFO] [2025-01-28T01:46:06.719Z] Mean time for generating answers by Gemma for context length 5: 25.65 seconds\n",
      "[INFO] [2025-01-28T01:46:06.720Z] Shape of the dataframe: (100, 11)\n",
      "\n",
      "[INFO] [2025-01-28T01:46:06.748Z] File: 2025_01_26-20_19_14_gemma_2_9b_llm_answers_for_cntx_length_10\n",
      "[INFO] [2025-01-28T01:46:06.749Z] Mean time for generating answers by Gemma for context length 10: 30.32 seconds\n",
      "[INFO] [2025-01-28T01:46:06.750Z] Shape of the dataframe: (100, 11)\n",
      "\n",
      "[INFO] [2025-01-28T01:46:06.771Z] File: 2025_01_26-21_46_10_gemma_2_9b_llm_answers_for_cntx_length_15\n",
      "[INFO] [2025-01-28T01:46:06.771Z] Mean time for generating answers by Gemma for context length 15: 24.58 seconds\n",
      "[INFO] [2025-01-28T01:46:06.772Z] Shape of the dataframe: (100, 11)\n",
      "\n",
      "[INFO] [2025-01-28T01:46:06.779Z] File: 2025_01_26-16_41_10_cosmos_dpo_llm_answers_for_cntx_length_1\n",
      "[INFO] [2025-01-28T01:46:06.780Z] Mean time for generating answers by Cosmos for context length 1: 5.65 seconds\n",
      "[INFO] [2025-01-28T01:46:06.780Z] Shape of the dataframe: (100, 11)\n",
      "\n",
      "[INFO] [2025-01-28T01:46:06.791Z] File: 2025_01_26-16_50_39_cosmos_dpo_llm_answers_for_cntx_length_5\n",
      "[INFO] [2025-01-28T01:46:06.791Z] Mean time for generating answers by Cosmos for context length 5: 5.67 seconds\n",
      "[INFO] [2025-01-28T01:46:06.791Z] Shape of the dataframe: (100, 11)\n",
      "\n",
      "[INFO] [2025-01-28T01:46:06.805Z] File: 2025_01_26-17_02_32_cosmos_dpo_llm_answers_for_cntx_length_10\n",
      "[INFO] [2025-01-28T01:46:06.805Z] Mean time for generating answers by Cosmos for context length 10: 7.10 seconds\n",
      "[INFO] [2025-01-28T01:46:06.806Z] Shape of the dataframe: (100, 11)\n",
      "\n",
      "[INFO] [2025-01-28T01:46:06.821Z] File: 2025_01_26-17_20_21_cosmos_dpo_llm_answers_for_cntx_length_15\n",
      "[INFO] [2025-01-28T01:46:06.821Z] Mean time for generating answers by Cosmos for context length 15: 10.65 seconds\n",
      "[INFO] [2025-01-28T01:46:06.822Z] Shape of the dataframe: (100, 11)\n",
      "\n"
     ]
    },
    {
     "data": {
      "image/png": "[encoded data removed]",
      "text/plain": [
       "<Figure size 1200x600 with 1 Axes>"
      ]
     },
     "metadata": {},
     "output_type": "display_data"
    }
   ],
   "source": [
    "# Plot the mean time for each context length\n",
    "import matplotlib.pyplot as plt\n",
    "\n",
    "model_name_for_plot = ''\n",
    "\n",
    "cosmos_mean_times_array = []\n",
    "cosmos_context_len_array = []\n",
    "gemma_mean_times_array = []\n",
    "gemma_context_len_array = []\n",
    "for file_name in all_llm_answers_file_names:\n",
    "    # For compatibilty in local run\n",
    "    file_name = os.path.splitext(os.path.basename(file_name))[0]\n",
    "    df = pd.read_csv(LLM_ANSWERS_DIR + '/' + file_name + '.csv')\n",
    "\n",
    "    logger.info(f\"File: {file_name}\")\n",
    "    mean_times = df['answer_generation_time'].astype(float).mean()\n",
    "    context_len = df['number_of_articles'][0].astype(int)\n",
    "\n",
    "    if 'cosmos' in file_name:\n",
    "        model_name_for_plot = 'Cosmos'\n",
    "        cosmos_mean_times_array.append(mean_times)\n",
    "        cosmos_context_len_array.append(context_len)\n",
    "    elif 'gemma' in file_name:\n",
    "        model_name_for_plot = 'Gemma'\n",
    "        gemma_mean_times_array.append(mean_times)\n",
    "        gemma_context_len_array.append(context_len)\n",
    "\n",
    "    logger.info(f\"Mean time for generating answers by {model_name_for_plot} for context length {context_len}: \" +\n",
    "                f\"{mean_times:.2f} seconds\")\n",
    "    logger.info(\"Shape of the dataframe: \" + str(df.shape))\n",
    "    print()\n",
    "\n",
    "\n",
    "plt.figure(figsize=(12, 6))\n",
    "\n",
    "plt.bar(cosmos_context_len_array, cosmos_mean_times_array, width=2, alpha=0.7,\n",
    "        label=f'Cosmos Mean Times', color='green', align='center')\n",
    "plt.bar(gemma_context_len_array, gemma_mean_times_array, width=2, alpha=0.7,\n",
    "        label=f'Gemma Mean Times', color='red', align='edge')\n",
    "\n",
    "# Add seconds on top of the bars\n",
    "for i in range(len(cosmos_context_len_array)):\n",
    "    plt.text(cosmos_context_len_array[i], cosmos_mean_times_array[i] +\n",
    "             0.5, f\"{cosmos_mean_times_array[i]:.2f} s\", ha='center')\n",
    "\n",
    "for i in range(len(gemma_context_len_array)):\n",
    "    plt.text(gemma_context_len_array[i] + 1, gemma_mean_times_array[i] +\n",
    "             0.5, f\"{gemma_mean_times_array[i]:.2f} s\", ha='center')\n",
    "\n",
    "# Set x-axis ticks to show all values\n",
    "plt.xticks(context_len_array)\n",
    "\n",
    "plt.xlabel('Context Length')\n",
    "plt.ylabel('Mean Time (seconds)')\n",
    "plt.title(f'Mean Time for Generating Answers by Model Cosmos vs Gemma')\n",
    "plt.legend()\n",
    "plt.grid(axis='y')\n",
    "plt.show()"
   ]
  },
  {
   "cell_type": "markdown",
   "metadata": {},
   "source": [
    "## Ragas Evaluation\n",
    "\n",
    "- Question: What is the capital of Turkey?\n",
    "- Ground Truth: Correct answer\n",
    "- Answer: To evaluate\n",
    "- Context: To evaluate\n"
   ]
  },
  {
   "cell_type": "markdown",
   "metadata": {},
   "source": [
    "| Veri Seti                             | data samples | Ragas Response     | Veri Olarak Örnek Değer                                                                                                                                                                                                                                                                                                                                                                                                                                                                                                                                                                                                                                                                                                                                                                                                                                                                           |\n",
    "| ------------------------------------- | ------------ | ------------------ | ------------------------------------------------------------------------------------------------------------------------------------------------------------------------------------------------------------------------------------------------------------------------------------------------------------------------------------------------------------------------------------------------------------------------------------------------------------------------------------------------------------------------------------------------------------------------------------------------------------------------------------------------------------------------------------------------------------------------------------------------------------------------------------------------------------------------------------------------------------------------------------------------- |\n",
    "| question                              | question     | user input         | Cezayir Deniz Muharebesi'nin Osmanlı İmparatorluğu için önemi nedir?                                                                                                                                                                                                                                                                                                                                                                                                                                                                                                                                                                                                                                                                                                                                                                                                                              |\n",
    "| answer                                | ground truth | reference          | Cezayir Deniz Muharebesi, Osmanlı İmparatorluğu için büyük bir stratejik önem taşıyordu. Bu zafer, Akdeniz'de Osmanlı hakimiyetini güçlendirdi ve İspanya'nın bölgedeki etkisini zayıflattı. Ayrıca, Barbaros Hayreddin Paşa'yı Osmanlı donanmasının en önemli komutanlarından biri haline getirdi ve Osmanlı denizciliğinin gücünü tüm dünyaya gösterdi.                                                                                                                                                                                                                                                                                                                                                                                                                                                                                                                                         |\n",
    "| gemma_2_9b_answer / cosmos_dpo_answer | answer       | response           | Cezayir Deniz Muharebesi, Osmanlı İmparatorluğu için çok önemli bir zafer olarak tarihe geçti. <br><br>İşte önemleri:<br><br>1. **Akdeniz'deki Osmanlı hakimiyetinin pekişmesi:** Bu zafer, Osmanlı donanmasının Akdeniz'deki gücünü gösterdi ve İspanyol hakimiyetine karşı önemli bir adım atılmasını sağladı.<br><br>2. **Cezayir eyaletinin güvenliği:** Cezayir, Osmanlı İmparatorluğu için stratejik öneme sahip bir liman kentiydi. İspanyol saldırıları nedeniyle sürekli tehdit altında olan Cezayir'in güvenliği bu zaferle sağlandı.<br><br>3. **Barbaros Hayreddin Paşa'nın ününün artması:** Barbaros Hayreddin Paşa, bu zaferle birlikte ünlü bir denizci ve komutan olarak ün kazandı.<br><br>4. **Osmanlı İmparatorluğu'nun ekonomik gücünün artması:** Cezayir, ticaret yollarında önemli bir merkezdi. Bu zafer, Osmanlı İmparatorluğu'nun Akdeniz'deki ticaret gücünü artırdı. |\n",
    "| context                               | contexts     | retrieved_contexts | Cezayir Deniz Muharebesi, Osmanlı İmparatorluğu'na bağlı Cezayir eyaletinin Barbaros Hayreddin Paşa komutasındaki donanmasının 1529 yazında Cezayir kenti açıklarında İspanyol filosunu mağlup ettiği askerî çarpışma.                                                                                                                                                                                                                                                                                                                                                                                                                                                                                                                                                                                                                                                                            |\n"
   ]
  },
  {
   "cell_type": "code",
   "execution_count": 96,
   "metadata": {},
   "outputs": [],
   "source": [
    "import time\n",
    "\n",
    "\n",
    "def save_scores(llm_answers_file_name, llm_answers_df):\n",
    "    # add time stamp to each file name for unique file names and further analysis\n",
    "    time_stamp = time.strftime(\"%Y_%m_%d-%H_%M_%S\")\n",
    "\n",
    "    file_name = f'{RAGAS_SCORES_DIR}/{llm_answers_file_name}_{time_stamp}_ragas_scores.csv'\n",
    "\n",
    "    llm_answers_df.to_csv(file_name, index=True)\n",
    "    logger.info(f\"Scores are saved to the file: '{file_name}'\")\n",
    "\n",
    "    return file_name"
   ]
  },
  {
   "cell_type": "code",
   "execution_count": 91,
   "metadata": {},
   "outputs": [],
   "source": [
    "from datasets import Dataset\n",
    "from ragas import evaluate\n",
    "from ragas.metrics import faithfulness, answer_correctness, answer_relevancy\n",
    "\n",
    "import os\n",
    "\n",
    "# TODO: Replace the api key with the correct one from https://platform.openai.com/settings/organization/api-keys\n",
    "# os.environ[\"OPENAI_API_KEY\"] = \"Your API Key\"\n",
    "\n",
    "\n",
    "def get_ragas_scores(file_names):\n",
    "    ragas_scores_file_names = []\n",
    "\n",
    "    model_name_for_ragas_score_eval = ''\n",
    "    for file_name in file_names:\n",
    "        logger.info(f\"Evaluating ragas score for the file: {file_name}\")\n",
    "\n",
    "        llm_answers_df = pd.read_csv(LLM_ANSWERS_DIR + '/' + file_name)\n",
    "        logger.info(\"Shape of the dataframe: \" + str(llm_answers_df.shape))\n",
    "        print()\n",
    "\n",
    "        # Add new columns to store the metrics\n",
    "        llm_answers_df[f'faithfulness'] = \"\"\n",
    "        llm_answers_df['answer_correctness'] = \"\"\n",
    "        llm_answers_df['answer_relevancy'] = \"\"\n",
    "\n",
    "        if 'cosmos' in file_name:\n",
    "            model_name_for_ragas_score_eval = cosmos_model_name\n",
    "        elif 'gemma' in file_name:\n",
    "            model_name_for_ragas_score_eval = gemma_model_name\n",
    "\n",
    "        for i in range(len(llm_answers_df)):\n",
    "            data_sample = {\n",
    "                'question': [\n",
    "                    llm_answers_df.iloc[i]['question'],\n",
    "                ],\n",
    "                'ground_truth': [\n",
    "                    llm_answers_df.iloc[i]['answer'],\n",
    "                ],\n",
    "                'answer': [\n",
    "                    llm_answers_df.iloc[i][f'{model_name_for_ragas_score_eval}_answer'],\n",
    "                ],\n",
    "                'contexts': [\n",
    "                    [\n",
    "                        llm_answers_df.iloc[i]['context'],\n",
    "                    ],\n",
    "                ]\n",
    "            }\n",
    "\n",
    "            dataset = Dataset.from_dict(data_sample)\n",
    "            score = evaluate(dataset, metrics=[faithfulness, answer_correctness, answer_relevancy])\n",
    "            logger.info(f\"Scores for the question {i + 1} of {len(llm_answers_df)}\\n: {score}\")\n",
    "\n",
    "            score_df = score.to_pandas()\n",
    "\n",
    "            chunk_unique_id = llm_answers_df.iloc[i]['id']\n",
    "            index_of_chunk = llm_answers_df['id'] == chunk_unique_id\n",
    "\n",
    "            llm_answers_df.loc[index_of_chunk, 'faithfulness'] = score_df.iloc[0].get('faithfulness')\n",
    "            llm_answers_df.loc[index_of_chunk, 'answer_correctness'] = score_df.iloc[0].get('answer_correctness')\n",
    "            llm_answers_df.loc[index_of_chunk, 'answer_relevancy'] = score_df.iloc[0].get('answer_relevancy')\n",
    "\n",
    "        # get just file name without path and extension\n",
    "        temp_fn = os.path.splitext(os.path.basename(file_name))[0]\n",
    "\n",
    "        fn = save_scores(temp_fn, llm_answers_df)\n",
    "        ragas_scores_file_names.append(fn)\n",
    "\n",
    "    return ragas_scores_file_names"
   ]
  },
  {
   "cell_type": "code",
   "execution_count": null,
   "metadata": {},
   "outputs": [],
   "source": [
    "ragas_scores_file_names = get_ragas_scores(gemma_llm_answers_file_names)"
   ]
  },
  {
   "cell_type": "code",
   "execution_count": null,
   "metadata": {},
   "outputs": [],
   "source": [
    "ragas_scores_file_names"
   ]
  },
  {
   "cell_type": "markdown",
   "metadata": {},
   "source": [
    "## Mean Faithfulness\n"
   ]
  },
  {
   "cell_type": "code",
   "execution_count": 103,
   "metadata": {},
   "outputs": [],
   "source": [
    "gemma_task_a_ragas_scores_file_names = [\n",
    "    '2025_01_26-18_33_19_gemma_2_9b_llm_answers_for_cntx_length_1_2025_01_27-22_18_57_ragas_scores.csv',\n",
    "    '2025_01_26-19_16_06_gemma_2_9b_llm_answers_for_cntx_length_5_2025_01_27-23_00_42_ragas_scores.csv',\n",
    "    '2025_01_26-20_19_14_gemma_2_9b_llm_answers_for_cntx_length_10_2025_01_27-23_37_30_ragas_scores.csv',\n",
    "    '2025_01_26-21_46_10_gemma_2_9b_llm_answers_for_cntx_length_15_2025_01_28-00_10_25_ragas_scores.csv',\n",
    "]"
   ]
  },
  {
   "cell_type": "code",
   "execution_count": 127,
   "metadata": {},
   "outputs": [],
   "source": [
    "# Plot the mean time for each context length\n",
    "import matplotlib.pyplot as plt\n",
    "\n",
    "\n",
    "def plot_faithfulness_ragas_metric(file_names):\n",
    "\n",
    "    model_name_for_plot = ''\n",
    "    context_len_array = []\n",
    "    mean_faithfulness_array = []\n",
    "    for file_name in file_names:\n",
    "        # For compatibilty in local run\n",
    "        file_name = os.path.splitext(os.path.basename(file_name))[0]\n",
    "        df = pd.read_csv(RAGAS_SCORES_DIR + '/' + file_name + '.csv')\n",
    "\n",
    "        if 'cosmos' in file_name:\n",
    "            model_name_for_plot = 'Cosmos'\n",
    "        elif 'gemma' in file_name:\n",
    "            model_name_for_plot = 'Gemma'\n",
    "\n",
    "        logger.info(f\"File: {file_name}\")\n",
    "\n",
    "        context_len = df['number_of_articles'][0].astype(int)\n",
    "        context_len_array.append(context_len)\n",
    "\n",
    "        mean_faithfulness = df['faithfulness'].astype(float).mean()\n",
    "        mean_faithfulness_array.append(mean_faithfulness)\n",
    "\n",
    "        logger.info(f\"Mean faithfulness for generated answers by {model_name_for_plot} for context length {\n",
    "                    context_len}: {mean_faithfulness:.2f}\")\n",
    "        logger.info(\"Shape of the dataframe: \" + str(df.shape))\n",
    "        print()\n",
    "\n",
    "    plt.figure(figsize=(12, 6))\n",
    "    plt.bar(context_len_array, mean_faithfulness_array, width=2, alpha=0.7,\n",
    "            label=f'{model_name_for_plot} Mean Faithfulness', color='red', align='center')\n",
    "\n",
    "    # Add values on top of the bars\n",
    "    for i in range(len(context_len_array)):\n",
    "        plt.text(context_len_array[i], mean_faithfulness_array[i] + 0.011,\n",
    "                 f\"{mean_faithfulness_array[i]:.2f}\", ha='center')\n",
    "\n",
    "    # Set x-axis ticks to show all values\n",
    "    plt.xticks(context_len_array)\n",
    "\n",
    "    plt.xlabel('Context Length')\n",
    "    plt.ylabel('Mean Faithfulness')\n",
    "    plt.title(f'Mean Faithfulness of Generated Answers by Model {model_name_for_plot}')\n",
    "    plt.legend(loc='upper left')\n",
    "    plt.grid(axis='y')\n",
    "    plt.show()"
   ]
  },
  {
   "cell_type": "code",
   "execution_count": 128,
   "metadata": {},
   "outputs": [
    {
     "name": "stdout",
     "output_type": "stream",
     "text": [
      "[INFO] [2025-01-28T01:59:32.805Z] File:\n",
      "    2025_01_26-18_33_19_gemma_2_9b_llm_answers_for_cntx_length_1_2025_01_27-22_18_57_ragas_scores\n",
      "\n",
      "[INFO] [2025-01-28T01:59:32.806Z] Mean faithfulness for generated answers by Gemma for context length 1: 0.57\n",
      "[INFO] [2025-01-28T01:59:32.806Z] Shape of the dataframe: (100, 15)\n",
      "\n",
      "[INFO] [2025-01-28T01:59:32.817Z] File:\n",
      "    2025_01_26-19_16_06_gemma_2_9b_llm_answers_for_cntx_length_5_2025_01_27-23_00_42_ragas_scores\n",
      "\n",
      "[INFO] [2025-01-28T01:59:32.817Z] Mean faithfulness for generated answers by Gemma for context length 5: 0.68\n",
      "[INFO] [2025-01-28T01:59:32.817Z] Shape of the dataframe: (100, 15)\n",
      "\n",
      "[INFO] [2025-01-28T01:59:32.844Z] File:\n",
      "    2025_01_26-20_19_14_gemma_2_9b_llm_answers_for_cntx_length_10_2025_01_27-23_37_30_ragas_scores\n",
      "\n",
      "[INFO] [2025-01-28T01:59:32.847Z] Mean faithfulness for generated answers by Gemma for context length 10: 0.73\n",
      "[INFO] [2025-01-28T01:59:32.848Z] Shape of the dataframe: (100, 15)\n",
      "\n",
      "[INFO] [2025-01-28T01:59:32.876Z] File:\n",
      "    2025_01_26-21_46_10_gemma_2_9b_llm_answers_for_cntx_length_15_2025_01_28-00_10_25_ragas_scores\n",
      "\n",
      "[INFO] [2025-01-28T01:59:32.877Z] Mean faithfulness for generated answers by Gemma for context length 15: 0.69\n",
      "[INFO] [2025-01-28T01:59:32.877Z] Shape of the dataframe: (100, 15)\n",
      "\n"
     ]
    },
    {
     "data": {
      "image/png": "[encoded data removed]",
      "text/plain": [
       "<Figure size 1200x600 with 1 Axes>"
      ]
     },
     "metadata": {},
     "output_type": "display_data"
    }
   ],
   "source": [
    "plot_faithfulness_ragas_metric(gemma_task_a_ragas_scores_file_names)"
   ]
  },
  {
   "cell_type": "markdown",
   "metadata": {},
   "source": [
    "## Mean Answer Correctness\n"
   ]
  },
  {
   "cell_type": "code",
   "execution_count": 137,
   "metadata": {},
   "outputs": [],
   "source": [
    "# Plot the mean time for each context length\n",
    "import matplotlib.pyplot as plt\n",
    "\n",
    "\n",
    "def plot_answer_correctness_ragas_metric(file_names):\n",
    "\n",
    "    model_name_for_plot = ''\n",
    "    context_len_array = []\n",
    "    mean_answer_correctness_array = []\n",
    "    for file_name in file_names:\n",
    "        # For compatibilty in local run\n",
    "        file_name = os.path.splitext(os.path.basename(file_name))[0]\n",
    "        df = pd.read_csv(RAGAS_SCORES_DIR + '/' + file_name + '.csv')\n",
    "\n",
    "        if 'cosmos' in file_name:\n",
    "            model_name_for_plot = 'Cosmos'\n",
    "        elif 'gemma' in file_name:\n",
    "            model_name_for_plot = 'Gemma'\n",
    "\n",
    "        logger.info(f\"File: {file_name}\")\n",
    "\n",
    "        context_len = df['number_of_articles'][0].astype(int)\n",
    "        context_len_array.append(context_len)\n",
    "\n",
    "        mean_answer_correctness = df['answer_correctness'].astype(float).mean()\n",
    "        mean_answer_correctness_array.append(mean_answer_correctness)\n",
    "\n",
    "        logger.info(f\"Mean answer correctness for generated answers by {model_name_for_plot} for context length {\n",
    "                    context_len}: {mean_answer_correctness:.2f}\")\n",
    "        logger.info(\"Shape of the dataframe: \" + str(df.shape))\n",
    "        print()\n",
    "\n",
    "    plt.figure(figsize=(12, 6))\n",
    "    plt.bar(context_len_array, mean_answer_correctness_array, width=2, alpha=0.7,\n",
    "            label=f'{model_name_for_plot} Answer Correctness', color='red', align='center')\n",
    "\n",
    "    # Add values on top of the bars\n",
    "    for i in range(len(context_len_array)):\n",
    "        plt.text(context_len_array[i], mean_answer_correctness_array[i] + 0.011,\n",
    "                 f\"{mean_answer_correctness_array[i]:.2f}\", ha='center')\n",
    "\n",
    "    # Set x-axis ticks to show all values\n",
    "    plt.xticks(context_len_array)\n",
    "\n",
    "    plt.xlabel('Context Length')\n",
    "    plt.ylabel('Mean Answer Correctness')\n",
    "    plt.title(f'Mean Answer Correctness of Generated Answers by Model {model_name_for_plot}')\n",
    "    plt.legend(loc='upper center')\n",
    "    plt.grid(axis='y')\n",
    "    plt.show()"
   ]
  },
  {
   "cell_type": "code",
   "execution_count": 138,
   "metadata": {},
   "outputs": [
    {
     "name": "stdout",
     "output_type": "stream",
     "text": [
      "[INFO] [2025-01-28T02:30:31.502Z] File:\n",
      "    2025_01_26-18_33_19_gemma_2_9b_llm_answers_for_cntx_length_1_2025_01_27-22_18_57_ragas_scores\n",
      "\n",
      "[INFO] [2025-01-28T02:30:31.503Z] Mean answer correctness for generated answers by Gemma for context length 1: 0.67\n",
      "[INFO] [2025-01-28T02:30:31.503Z] Shape of the dataframe: (100, 15)\n",
      "\n",
      "[INFO] [2025-01-28T02:30:31.512Z] File:\n",
      "    2025_01_26-19_16_06_gemma_2_9b_llm_answers_for_cntx_length_5_2025_01_27-23_00_42_ragas_scores\n",
      "\n",
      "[INFO] [2025-01-28T02:30:31.513Z] Mean answer correctness for generated answers by Gemma for context length 5: 0.68\n",
      "[INFO] [2025-01-28T02:30:31.513Z] Shape of the dataframe: (100, 15)\n",
      "\n",
      "[INFO] [2025-01-28T02:30:31.526Z] File:\n",
      "    2025_01_26-20_19_14_gemma_2_9b_llm_answers_for_cntx_length_10_2025_01_27-23_37_30_ragas_scores\n",
      "\n",
      "[INFO] [2025-01-28T02:30:31.527Z] Mean answer correctness for generated answers by Gemma for context length 10: 0.62\n",
      "[INFO] [2025-01-28T02:30:31.527Z] Shape of the dataframe: (100, 15)\n",
      "\n",
      "[INFO] [2025-01-28T02:30:31.543Z] File:\n",
      "    2025_01_26-21_46_10_gemma_2_9b_llm_answers_for_cntx_length_15_2025_01_28-00_10_25_ragas_scores\n",
      "\n",
      "[INFO] [2025-01-28T02:30:31.544Z] Mean answer correctness for generated answers by Gemma for context length 15: 0.63\n",
      "[INFO] [2025-01-28T02:30:31.544Z] Shape of the dataframe: (100, 15)\n",
      "\n"
     ]
    },
    {
     "data": {
      "image/png": "[encoded data removed]",
      "text/plain": [
       "<Figure size 1200x600 with 1 Axes>"
      ]
     },
     "metadata": {},
     "output_type": "display_data"
    }
   ],
   "source": [
    "plot_answer_correctness_ragas_metric(gemma_task_a_ragas_scores_file_names)"
   ]
  },
  {
   "cell_type": "markdown",
   "metadata": {},
   "source": [
    "## Mean Answer Relevancy\n"
   ]
  },
  {
   "cell_type": "code",
   "execution_count": 139,
   "metadata": {},
   "outputs": [],
   "source": [
    "# Plot the mean time for each context length\n",
    "import matplotlib.pyplot as plt\n",
    "\n",
    "\n",
    "def plot_answer_relevancy_ragas_metric(file_names):\n",
    "\n",
    "    model_name_for_plot = ''\n",
    "    context_len_array = []\n",
    "    mean_answer_relevancy_array = []\n",
    "    for file_name in file_names:\n",
    "        # For compatibilty in local run\n",
    "        file_name = os.path.splitext(os.path.basename(file_name))[0]\n",
    "        df = pd.read_csv(RAGAS_SCORES_DIR + '/' + file_name + '.csv')\n",
    "\n",
    "        if 'cosmos' in file_name:\n",
    "            model_name_for_plot = 'Cosmos'\n",
    "        elif 'gemma' in file_name:\n",
    "            model_name_for_plot = 'Gemma'\n",
    "\n",
    "        logger.info(f\"File: {file_name}\")\n",
    "\n",
    "        context_len = df['number_of_articles'][0].astype(int)\n",
    "        context_len_array.append(context_len)\n",
    "\n",
    "        mean_answer_relevancy = df['answer_relevancy'].astype(float).mean()\n",
    "        mean_answer_relevancy_array.append(mean_answer_relevancy)\n",
    "\n",
    "        logger.info(f\"Mean answer relevancy for generated answers by {model_name_for_plot} for context length {\n",
    "                    context_len}: {mean_answer_relevancy:.2f}\")\n",
    "        logger.info(\"Shape of the dataframe: \" + str(df.shape))\n",
    "        print()\n",
    "\n",
    "    plt.figure(figsize=(12, 6))\n",
    "    plt.bar(context_len_array, mean_answer_relevancy_array, width=2, alpha=0.7,\n",
    "            label=f'{model_name_for_plot} Answer Relevancy', color='red', align='center')\n",
    "\n",
    "    # Add values on top of the bars\n",
    "    for i in range(len(context_len_array)):\n",
    "        plt.text(context_len_array[i], mean_answer_relevancy_array[i] + 0.011,\n",
    "                 f\"{mean_answer_relevancy_array[i]:.2f}\", ha='center')\n",
    "\n",
    "    # Set x-axis ticks to show all values\n",
    "    plt.xticks(context_len_array)\n",
    "\n",
    "    plt.xlabel('Context Length')\n",
    "    plt.ylabel('Mean Answer Relevancy')\n",
    "    plt.title(f'Mean Answer Relevancy of Generated Answers by Model {model_name_for_plot}')\n",
    "    plt.legend(loc='upper center')\n",
    "    plt.grid(axis='y')\n",
    "    plt.show()"
   ]
  },
  {
   "cell_type": "code",
   "execution_count": 140,
   "metadata": {},
   "outputs": [
    {
     "name": "stdout",
     "output_type": "stream",
     "text": [
      "[INFO] [2025-01-28T02:55:30.503Z] File:\n",
      "    2025_01_26-18_33_19_gemma_2_9b_llm_answers_for_cntx_length_1_2025_01_27-22_18_57_ragas_scores\n",
      "\n",
      "[INFO] [2025-01-28T02:55:30.503Z] Mean answer relevancy for generated answers by Gemma for context length 1: 0.81\n",
      "[INFO] [2025-01-28T02:55:30.503Z] Shape of the dataframe: (100, 15)\n",
      "\n",
      "[INFO] [2025-01-28T02:55:30.511Z] File:\n",
      "    2025_01_26-19_16_06_gemma_2_9b_llm_answers_for_cntx_length_5_2025_01_27-23_00_42_ragas_scores\n",
      "\n",
      "[INFO] [2025-01-28T02:55:30.512Z] Mean answer relevancy for generated answers by Gemma for context length 5: 0.67\n",
      "[INFO] [2025-01-28T02:55:30.512Z] Shape of the dataframe: (100, 15)\n",
      "\n",
      "[INFO] [2025-01-28T02:55:30.524Z] File:\n",
      "    2025_01_26-20_19_14_gemma_2_9b_llm_answers_for_cntx_length_10_2025_01_27-23_37_30_ragas_scores\n",
      "\n",
      "[INFO] [2025-01-28T02:55:30.524Z] Mean answer relevancy for generated answers by Gemma for context length 10: 0.66\n",
      "[INFO] [2025-01-28T02:55:30.524Z] Shape of the dataframe: (100, 15)\n",
      "\n",
      "[INFO] [2025-01-28T02:55:30.539Z] File:\n",
      "    2025_01_26-21_46_10_gemma_2_9b_llm_answers_for_cntx_length_15_2025_01_28-00_10_25_ragas_scores\n",
      "\n",
      "[INFO] [2025-01-28T02:55:30.539Z] Mean answer relevancy for generated answers by Gemma for context length 15: 0.72\n",
      "[INFO] [2025-01-28T02:55:30.539Z] Shape of the dataframe: (100, 15)\n",
      "\n"
     ]
    },
    {
     "data": {
      "image/png": "[encoded data removed]",
      "text/plain": [
       "<Figure size 1200x600 with 1 Axes>"
      ]
     },
     "metadata": {},
     "output_type": "display_data"
    }
   ],
   "source": [
    "plot_answer_relevancy_ragas_metric(gemma_task_a_ragas_scores_file_names)"
   ]
  },
  {
   "cell_type": "markdown",
   "metadata": {},
   "source": [
    "# B) Correlation Between Context Position of Correct Answer and Answer Success\n",
    "\n",
    "Doğru chunk ın 15 chunk tan oluşan context teki konumunun (1:8:15) llm cevaplama başarısına etkisi, En az 50 soru üzerinde RAGAS evaluation yap.\n"
   ]
  },
  {
   "cell_type": "code",
   "execution_count": 40,
   "metadata": {},
   "outputs": [],
   "source": [
    "# TODO: This is used just for algorithm testing purposes. It should be updated to 50.\n",
    "# NUM_OF_EVALUATED_QUESTIONS = 1\n",
    "NUM_OF_EVALUATED_QUESTIONS = 50\n",
    "\n",
    "# TODO: This is used just for algorithm testing purposes. It should be updated to [1, 8, 15]\n",
    "# position_of_correct_answer_array = [3]\n",
    "position_of_correct_answer_array = [1, 8, 15]"
   ]
  },
  {
   "cell_type": "code",
   "execution_count": 41,
   "metadata": {},
   "outputs": [],
   "source": [
    "def save_llm_answers_for_context_position_of_correct_answer(results_df, model_name, position_of_correct_answer):\n",
    "    # add time stamp to each file name for unique file names and further analysis\n",
    "    time_stamp = time.strftime(\"%Y_%m_%d-%H_%M_%S\")\n",
    "    file_name = f'{LLM_ANSWERS_DIR}/{time_stamp}_{model_name}_llm_answers_for_cntx_length_15_' + \\\n",
    "        f'and_position_of_correct_answer_{position_of_correct_answer}.csv'\n",
    "\n",
    "    results_df.to_csv(file_name, index=True)\n",
    "    logger.info(f\"Answers are saved to the file: '{file_name}'\")\n",
    "    return file_name\n",
    "\n",
    "\n",
    "def get_llm_answers_for_context_position_of_correct_answer(model_name):\n",
    "    file_names = []\n",
    "\n",
    "    for position_of_correct_answer in position_of_correct_answer_array:\n",
    "\n",
    "        prepared_context_data_df = prepare_new_context(\n",
    "            selected_questions_df, NUM_OF_EVALUATED_QUESTIONS, 15, position_of_correct_answer - 1)\n",
    "\n",
    "        prepared_context_data_df[f'{model_name}_answer'] = \"\"\n",
    "        prepared_context_data_df['answer_generation_time'] = \"\"\n",
    "\n",
    "        for i in range(NUM_OF_EVALUATED_QUESTIONS):\n",
    "            chunk_unique_id = prepared_context_data_df.iloc[i]['id']\n",
    "            index_of_chunk = prepared_context_data_df['id'] == chunk_unique_id\n",
    "\n",
    "            question = get_question(prepared_context_data_df, chunk_unique_id)\n",
    "            related_context = get_context(prepared_context_data_df, chunk_unique_id)\n",
    "\n",
    "            start_time = time.time()\n",
    "            generated_answer = \"\"\n",
    "            if model_name == gemma_model_name:\n",
    "                generated_answer = generate_answer_for_gemma_model(question, related_context)\n",
    "            else:\n",
    "                logger.error(f\"Model name '{model_name}' is not supported!\")\n",
    "                assert False\n",
    "\n",
    "            elapsed_time = time.time() - start_time\n",
    "            elapsed_time = \"{:.1f}\".format(elapsed_time)  # shows as 1.3 s format\n",
    "            logger.info(\"Elapsed time for answer generation to question \" +\n",
    "                        str(i + 1) + \": \" + str(elapsed_time) + \" seconds\")\n",
    "\n",
    "            prepared_context_data_df.loc[index_of_chunk, f'{model_name}_answer'] = generated_answer\n",
    "            prepared_context_data_df.loc[index_of_chunk, 'answer_generation_time'] = elapsed_time\n",
    "\n",
    "        # save result to a file\n",
    "        file_name = save_llm_answers_for_context_position_of_correct_answer(\n",
    "            prepared_context_data_df, model_name, position_of_correct_answer)\n",
    "        file_names.append(file_name)\n",
    "\n",
    "    return file_names"
   ]
  },
  {
   "cell_type": "code",
   "execution_count": null,
   "metadata": {},
   "outputs": [],
   "source": [
    "file_names = get_llm_answers_for_context_position_of_correct_answer(gemma_model_name)"
   ]
  },
  {
   "cell_type": "code",
   "execution_count": null,
   "metadata": {},
   "outputs": [],
   "source": [
    "file_names"
   ]
  },
  {
   "cell_type": "markdown",
   "metadata": {},
   "source": [
    "## Model Sonuçlarının Grafikleştirilmesi\n"
   ]
  },
  {
   "cell_type": "code",
   "execution_count": null,
   "metadata": {},
   "outputs": [],
   "source": [
    "# NOTE: Burada sadece google colab üzerinde çalıştırılan kodun çıktısı olan dosyalar kullanıldı.\n",
    "#  Diğer eğitim süreleri çok uzun olduğu için buraya dahil edilmedi.\n",
    "#  Aşağıda ragas evaluation yapılırkende bu dosyalar kullanılacak.\n",
    "\n",
    "# TODO: Comment this lines if you want to see local run results\n",
    "# Load the LLM answers from the file coming from google colab\n",
    "task_b_file_names = [\n",
    "    '2025_01_27-12_40_21_gemma_2_9b_llm_answers_for_cntx_length_15_and_position_of_correct_answer_1.csv',\n",
    "    '2025_01_27-13_00_31_gemma_2_9b_llm_answers_for_cntx_length_15_and_position_of_correct_answer_8.csv',\n",
    "    '2025_01_27-13_20_42_gemma_2_9b_llm_answers_for_cntx_length_15_and_position_of_correct_answer_15.csv',\n",
    "]\n",
    "\n",
    "task_b_file_names\n",
    "\n",
    "# print file names in llm_answer folder in python\n",
    "# !ls -l {LLM_ANSWERS_DIR}"
   ]
  },
  {
   "cell_type": "markdown",
   "metadata": {},
   "source": [
    "Bir cevabın oluşturulması için geçen ortalama süreyi aşağıdaki şekilde grafiğe dökelim.\n",
    "\n",
    "- Her context pozisyonu için 50 sorunun ortalama süresini temsil etmektedir.\n"
   ]
  },
  {
   "cell_type": "code",
   "execution_count": null,
   "metadata": {},
   "outputs": [],
   "source": [
    "# Plot the mean time for each context position\n",
    "import matplotlib.pyplot as plt\n",
    "\n",
    "model_name_for_plot = ''\n",
    "correct_answer_postion_array = []\n",
    "mean_times_array = []\n",
    "for file_name in task_b_file_names:\n",
    "    logger.info(f\"File: {file_name}\")\n",
    "\n",
    "    # For compatibilty in local run\n",
    "    file_name = os.path.splitext(os.path.basename(file_name))[0]\n",
    "    df = pd.read_csv(LLM_ANSWERS_DIR + '/' + file_name + '.csv')\n",
    "\n",
    "    if 'cosmos' in file_name:\n",
    "        model_name_for_plot = 'Cosmos'\n",
    "    elif 'gemma' in file_name:\n",
    "        model_name_for_plot = 'Gemma'\n",
    "\n",
    "    correct_answer_postion = df['correct_intro_idx'][0].astype(int) + 1\n",
    "    correct_answer_postion_array.append(correct_answer_postion)\n",
    "\n",
    "    mean_times = df['answer_generation_time'].astype(float).mean()\n",
    "    mean_times_array.append(mean_times)\n",
    "\n",
    "    logger.info(f\"Mean time for generating answers by {model_name_for_plot} for correct answer postion {\n",
    "                correct_answer_postion}: {mean_times:.2f} seconds\")\n",
    "    logger.info(\"Shape of the dataframe: \" + str(df.shape))\n",
    "    print()\n",
    "\n",
    "\n",
    "plt.figure(figsize=(12, 7))\n",
    "plt.bar(correct_answer_postion_array, mean_times_array, width=2, alpha=0.7,\n",
    "        label=f'{model_name_for_plot} Mean Times', color='red', align='center')\n",
    "\n",
    "# Add seconds on top of the bars\n",
    "for i in range(len(correct_answer_postion_array)):\n",
    "    plt.text(correct_answer_postion_array[i], mean_times_array[i] + 0.5, f\"{mean_times_array[i]:.2f} s\", ha='center')\n",
    "\n",
    "# Set x-axis ticks to show all values\n",
    "plt.xticks(correct_answer_postion_array)\n",
    "\n",
    "plt.xlabel('Context Position of Correct Answer in 15-Length Context')\n",
    "plt.ylabel('Mean Time (seconds)')\n",
    "plt.title(f'Mean Time for Generating Answers by Model {model_name_for_plot}')\n",
    "plt.legend(loc='center right')\n",
    "plt.grid(axis='y')\n",
    "plt.show()"
   ]
  },
  {
   "cell_type": "markdown",
   "metadata": {},
   "source": [
    "## Mean Time Comparision Between Models (Cosmos vs Gemma)\n"
   ]
  },
  {
   "cell_type": "code",
   "execution_count": 141,
   "metadata": {},
   "outputs": [
    {
     "data": {
      "text/plain": [
       "['2025_01_27-12_40_21_gemma_2_9b_llm_answers_for_cntx_length_15_and_position_of_correct_answer_1.csv',\n",
       " '2025_01_27-13_00_31_gemma_2_9b_llm_answers_for_cntx_length_15_and_position_of_correct_answer_8.csv',\n",
       " '2025_01_27-13_20_42_gemma_2_9b_llm_answers_for_cntx_length_15_and_position_of_correct_answer_15.csv',\n",
       " '2025_01_27-13_23_49_cosmos_dpo_llm_answers_for_cntx_length_15_and_position_of_correct_answer_1.csv',\n",
       " '2025_01_27-13_27_58_cosmos_dpo_llm_answers_for_cntx_length_15_and_position_of_correct_answer_8.csv',\n",
       " '2025_01_27-13_32_15_cosmos_dpo_llm_answers_for_cntx_length_15_and_position_of_correct_answer_15.csv']"
      ]
     },
     "execution_count": 141,
     "metadata": {},
     "output_type": "execute_result"
    }
   ],
   "source": [
    "# NOTE: Burada sadece google colab üzerinde çalıştırılan kodun çıktısı olan dosyalar kullanıldı.\n",
    "#  Diğer eğitim süreleri çok uzun olduğu için buraya dahil edilmedi.\n",
    "#  Aşağıda ragas evaluation yapılırkende bu dosyalar kullanılacak.\n",
    "\n",
    "# TODO: Comment this lines if you want to see local run results\n",
    "# Load the LLM answers from the file coming from google colab\n",
    "task_b_all_file_names = [\n",
    "    '2025_01_27-12_40_21_gemma_2_9b_llm_answers_for_cntx_length_15_and_position_of_correct_answer_1.csv',\n",
    "    '2025_01_27-13_00_31_gemma_2_9b_llm_answers_for_cntx_length_15_and_position_of_correct_answer_8.csv',\n",
    "    '2025_01_27-13_20_42_gemma_2_9b_llm_answers_for_cntx_length_15_and_position_of_correct_answer_15.csv',\n",
    "    '2025_01_27-13_23_49_cosmos_dpo_llm_answers_for_cntx_length_15_and_position_of_correct_answer_1.csv',\n",
    "    '2025_01_27-13_27_58_cosmos_dpo_llm_answers_for_cntx_length_15_and_position_of_correct_answer_8.csv',\n",
    "    '2025_01_27-13_32_15_cosmos_dpo_llm_answers_for_cntx_length_15_and_position_of_correct_answer_15.csv',\n",
    "]\n",
    "\n",
    "task_b_all_file_names\n",
    "\n",
    "# print file names in llm_answer folder in python\n",
    "# !ls -l {LLM_ANSWERS_DIR}"
   ]
  },
  {
   "cell_type": "code",
   "execution_count": 142,
   "metadata": {},
   "outputs": [
    {
     "name": "stdout",
     "output_type": "stream",
     "text": [
      "[INFO] [2025-01-28T03:16:59.281Z] File:\n",
      "    2025_01_27-12_40_21_gemma_2_9b_llm_answers_for_cntx_length_15_and_position_of_correct_answer_1\n",
      "\n",
      "[INFO] [2025-01-28T03:16:59.282Z] Mean time for generating answers by Gemma for correct answer postion 1: 24.12 seconds\n",
      "[INFO] [2025-01-28T03:16:59.283Z] Shape of the dataframe: (50, 11)\n",
      "\n",
      "[INFO] [2025-01-28T03:16:59.295Z] File:\n",
      "    2025_01_27-13_00_31_gemma_2_9b_llm_answers_for_cntx_length_15_and_position_of_correct_answer_8\n",
      "\n",
      "[INFO] [2025-01-28T03:16:59.295Z] Mean time for generating answers by Gemma for correct answer postion 8: 24.19 seconds\n",
      "[INFO] [2025-01-28T03:16:59.296Z] Shape of the dataframe: (50, 11)\n",
      "\n",
      "[INFO] [2025-01-28T03:16:59.308Z] File:\n",
      "    2025_01_27-13_20_42_gemma_2_9b_llm_answers_for_cntx_length_15_and_position_of_correct_answer_15\n",
      "\n",
      "[INFO] [2025-01-28T03:16:59.309Z] Mean time for generating answers by Gemma for correct answer postion 15: 24.17 seconds\n",
      "[INFO] [2025-01-28T03:16:59.309Z] Shape of the dataframe: (50, 11)\n",
      "\n",
      "[INFO] [2025-01-28T03:16:59.319Z] File:\n",
      "    2025_01_27-13_23_49_cosmos_dpo_llm_answers_for_cntx_length_15_and_position_of_correct_answer_1\n",
      "\n",
      "[INFO] [2025-01-28T03:16:59.319Z] Mean time for generating answers by Cosmos for correct answer postion 1: 8.45 seconds\n",
      "[INFO] [2025-01-28T03:16:59.319Z] Shape of the dataframe: (50, 11)\n",
      "\n",
      "[INFO] [2025-01-28T03:16:59.328Z] File:\n",
      "    2025_01_27-13_27_58_cosmos_dpo_llm_answers_for_cntx_length_15_and_position_of_correct_answer_8\n",
      "\n",
      "[INFO] [2025-01-28T03:16:59.328Z] Mean time for generating answers by Cosmos for correct answer postion 8: 4.94 seconds\n",
      "[INFO] [2025-01-28T03:16:59.328Z] Shape of the dataframe: (50, 11)\n",
      "\n",
      "[INFO] [2025-01-28T03:16:59.336Z] File:\n",
      "    2025_01_27-13_32_15_cosmos_dpo_llm_answers_for_cntx_length_15_and_position_of_correct_answer_15\n",
      "\n",
      "[INFO] [2025-01-28T03:16:59.337Z] Mean time for generating answers by Cosmos for correct answer postion 15: 5.11 seconds\n",
      "[INFO] [2025-01-28T03:16:59.337Z] Shape of the dataframe: (50, 11)\n",
      "\n"
     ]
    },
    {
     "data": {
      "image/png": "[encoded data removed]",
      "text/plain": [
       "<Figure size 1200x600 with 1 Axes>"
      ]
     },
     "metadata": {},
     "output_type": "display_data"
    }
   ],
   "source": [
    "# Plot the mean time for each context length\n",
    "import matplotlib.pyplot as plt\n",
    "\n",
    "model_name_for_plot = ''\n",
    "\n",
    "cosmos_mean_times_array = []\n",
    "cosmos_correct_answer_postion_array = []\n",
    "gemma_mean_times_array = []\n",
    "gemma_correct_answer_postion_array = []\n",
    "for file_name in task_b_all_file_names:\n",
    "    # For compatibilty in local run\n",
    "    file_name = os.path.splitext(os.path.basename(file_name))[0]\n",
    "    df = pd.read_csv(LLM_ANSWERS_DIR + '/' + file_name + '.csv')\n",
    "\n",
    "    logger.info(f\"File: {file_name}\")\n",
    "    mean_times = df['answer_generation_time'].astype(float).mean()\n",
    "    correct_answer_postion = df['correct_intro_idx'][0].astype(int) + 1\n",
    "\n",
    "    if 'cosmos' in file_name:\n",
    "        model_name_for_plot = 'Cosmos'\n",
    "        cosmos_mean_times_array.append(mean_times)\n",
    "        cosmos_correct_answer_postion_array.append(correct_answer_postion)\n",
    "    elif 'gemma' in file_name:\n",
    "        model_name_for_plot = 'Gemma'\n",
    "        gemma_mean_times_array.append(mean_times)\n",
    "        gemma_correct_answer_postion_array.append(correct_answer_postion)\n",
    "\n",
    "    logger.info(f\"Mean time for generating answers by {model_name_for_plot} for correct answer postion {\n",
    "                correct_answer_postion}: {mean_times:.2f} seconds\")\n",
    "    logger.info(\"Shape of the dataframe: \" + str(df.shape))\n",
    "    print()\n",
    "\n",
    "plt.figure(figsize=(12, 6))\n",
    "\n",
    "plt.bar(cosmos_correct_answer_postion_array, cosmos_mean_times_array, width=2, alpha=0.7,\n",
    "        label=f'Cosmos Mean Times', color='green', align='center')\n",
    "plt.bar(gemma_correct_answer_postion_array, gemma_mean_times_array, width=2, alpha=0.7,\n",
    "        label=f'Gemma Mean Times', color='red', align='edge')\n",
    "\n",
    "# Add seconds on top of the bars\n",
    "for i in range(len(cosmos_correct_answer_postion_array)):\n",
    "    plt.text(cosmos_correct_answer_postion_array[i], cosmos_mean_times_array[i] +\n",
    "             0.5, f\"{cosmos_mean_times_array[i]:.2f} s\", ha='center')\n",
    "\n",
    "for i in range(len(gemma_correct_answer_postion_array)):\n",
    "    plt.text(gemma_correct_answer_postion_array[i] + 1, gemma_mean_times_array[i] +\n",
    "             0.5, f\"{gemma_mean_times_array[i]:.2f} s\", ha='center')\n",
    "\n",
    "# Set x-axis ticks to show all values\n",
    "plt.xticks(cosmos_correct_answer_postion_array)\n",
    "\n",
    "plt.xlabel('Context Position of Correct Answer in 15-Length Context')\n",
    "plt.ylabel('Mean Time (seconds)')\n",
    "plt.title(f'Mean Time for Generating Answers by Model Cosmos vs Gemma')\n",
    "plt.legend(loc='center right')\n",
    "\n",
    "plt.grid(axis='y')\n",
    "plt.show()"
   ]
  },
  {
   "cell_type": "markdown",
   "metadata": {},
   "source": [
    "## RAGAS Evaluations\n"
   ]
  },
  {
   "cell_type": "markdown",
   "metadata": {},
   "source": [
    "## Mean Faithfulness\n"
   ]
  },
  {
   "cell_type": "code",
   "execution_count": 1,
   "metadata": {},
   "outputs": [],
   "source": [
    "gemma_task_b_ragas_scores_file_names = [\n",
    "    '2025_01_27-12_40_21_gemma_2_9b_llm_answers_for_cntx_length_15_and_position_of_correct_answer_1_2025_01_27-23_19_33_ragas_scores.csv',\n",
    "    '2025_01_27-13_00_31_gemma_2_9b_llm_answers_for_cntx_length_15_and_position_of_correct_answer_8_2025_01_27-23_41_15_ragas_scores.csv',\n",
    "    '2025_01_27-13_20_42_gemma_2_9b_llm_answers_for_cntx_length_15_and_position_of_correct_answer_15_2025_01_27-23_58_25_ragas_scores.csv',\n",
    "]"
   ]
  },
  {
   "cell_type": "code",
   "execution_count": 145,
   "metadata": {},
   "outputs": [],
   "source": [
    "# Plot the mean time for each context length\n",
    "import matplotlib.pyplot as plt\n",
    "\n",
    "\n",
    "def plot_faithfulness_ragas_metric_for_task_b(file_names):\n",
    "\n",
    "    model_name_for_plot = ''\n",
    "    correct_answer_postion_array = []\n",
    "    mean_faithfulness_array = []\n",
    "    for file_name in file_names:\n",
    "        # For compatibilty in local run\n",
    "        file_name = os.path.splitext(os.path.basename(file_name))[0]\n",
    "        df = pd.read_csv(RAGAS_SCORES_DIR + '/' + file_name + '.csv')\n",
    "\n",
    "        if 'cosmos' in file_name:\n",
    "            model_name_for_plot = 'Cosmos'\n",
    "        elif 'gemma' in file_name:\n",
    "            model_name_for_plot = 'Gemma'\n",
    "\n",
    "        logger.info(f\"File: {file_name}\")\n",
    "\n",
    "        correct_answer_postion = df['correct_intro_idx'][0].astype(int) + 1\n",
    "        correct_answer_postion_array.append(correct_answer_postion)\n",
    "\n",
    "        mean_faithfulness = df['faithfulness'].astype(float).mean()\n",
    "        mean_faithfulness_array.append(mean_faithfulness)\n",
    "\n",
    "        logger.info(f\"Mean faithfulness for generated answers by {model_name_for_plot} for correct answer postion {\n",
    "            correct_answer_postion}: {mean_faithfulness:.2f}\")\n",
    "        logger.info(\"Shape of the dataframe: \" + str(df.shape))\n",
    "        print()\n",
    "\n",
    "    plt.figure(figsize=(12, 6))\n",
    "    plt.bar(correct_answer_postion_array, mean_faithfulness_array, width=2, alpha=0.7,\n",
    "            label=f'{model_name_for_plot} Mean Faithfulness', color='red', align='center')\n",
    "\n",
    "    # Add values on top of the bars\n",
    "    for i in range(len(correct_answer_postion_array)):\n",
    "        plt.text(correct_answer_postion_array[i], mean_faithfulness_array[i] + 0.011,\n",
    "                 f\"{mean_faithfulness_array[i]:.2f}\", ha='center')\n",
    "\n",
    "    # Set x-axis ticks to show all values\n",
    "    plt.xticks(correct_answer_postion_array)\n",
    "\n",
    "    plt.xlabel('Context Position of Correct Answer in 15-Length Context')\n",
    "    plt.ylabel('Mean Faithfulness')\n",
    "    plt.title(f'Mean Faithfulness of Generated Answers by Model {model_name_for_plot}')\n",
    "    plt.legend()\n",
    "    plt.grid(axis='y')\n",
    "    plt.show()"
   ]
  },
  {
   "cell_type": "code",
   "execution_count": 146,
   "metadata": {},
   "outputs": [
    {
     "name": "stdout",
     "output_type": "stream",
     "text": [
      "[INFO] [2025-01-28T03:35:31.668Z] File: 2025_01_27-\n",
      "    12_40_21_gemma_2_9b_llm_answers_for_cntx_length_15_and_position_of_correct_answer_1_2025_01_27-23_19_33_ragas_scores\n",
      "\n",
      "[INFO] [2025-01-28T03:35:31.670Z] Mean faithfulness for generated answers by Gemma for correct answer postion 1: 0.61\n",
      "[INFO] [2025-01-28T03:35:31.671Z] Shape of the dataframe: (50, 15)\n",
      "\n",
      "[INFO] [2025-01-28T03:35:31.691Z] File: 2025_01_27-\n",
      "    13_00_31_gemma_2_9b_llm_answers_for_cntx_length_15_and_position_of_correct_answer_8_2025_01_27-23_41_15_ragas_scores\n",
      "\n",
      "[INFO] [2025-01-28T03:35:31.692Z] Mean faithfulness for generated answers by Gemma for correct answer postion 8: 0.75\n",
      "[INFO] [2025-01-28T03:35:31.693Z] Shape of the dataframe: (50, 15)\n",
      "\n",
      "[INFO] [2025-01-28T03:35:31.716Z] File: 2025_01_27-\n",
      "    13_20_42_gemma_2_9b_llm_answers_for_cntx_length_15_and_position_of_correct_answer_15_2025_01_27-23_58_25_ragas_scores\n",
      "\n",
      "[INFO] [2025-01-28T03:35:31.716Z] Mean faithfulness for generated answers by Gemma for correct answer postion 15: 0.69\n",
      "[INFO] [2025-01-28T03:35:31.717Z] Shape of the dataframe: (50, 15)\n",
      "\n"
     ]
    },
    {
     "data": {
      "image/png": "[encoded data removed]",
      "text/plain": [
       "<Figure size 1200x600 with 1 Axes>"
      ]
     },
     "metadata": {},
     "output_type": "display_data"
    }
   ],
   "source": [
    "plot_faithfulness_ragas_metric_for_task_b(gemma_task_b_ragas_scores_file_names)"
   ]
  },
  {
   "cell_type": "markdown",
   "metadata": {},
   "source": [
    "# Answer Correctness\n"
   ]
  },
  {
   "cell_type": "code",
   "execution_count": 6,
   "metadata": {},
   "outputs": [],
   "source": [
    "# Plot the mean time for each context length\n",
    "import matplotlib.pyplot as plt\n",
    "import os\n",
    "import pandas as pd\n",
    "\n",
    "\n",
    "def plot_answer_correctness_ragas_metric_for_task_b(file_names):\n",
    "\n",
    "    model_name_for_plot = ''\n",
    "    correct_answer_postion_array = []\n",
    "    mean_answer_correctness_array = []\n",
    "    for file_name in file_names:\n",
    "        # For compatibilty in local run\n",
    "        file_name = os.path.splitext(os.path.basename(file_name))[0]\n",
    "        df = pd.read_csv(RAGAS_SCORES_DIR + '/' + file_name + '.csv')\n",
    "\n",
    "        if 'cosmos' in file_name:\n",
    "            model_name_for_plot = 'Cosmos'\n",
    "        elif 'gemma' in file_name:\n",
    "            model_name_for_plot = 'Gemma'\n",
    "\n",
    "        logger.info(f\"File: {file_name}\")\n",
    "\n",
    "        correct_answer_postion = df['correct_intro_idx'][0].astype(int) + 1\n",
    "        correct_answer_postion_array.append(correct_answer_postion)\n",
    "\n",
    "        mean_answer_correctness = df['answer_correctness'].astype(float).mean()\n",
    "        mean_answer_correctness_array.append(mean_answer_correctness)\n",
    "\n",
    "        logger.info(f\"Mean answer correctness for generated answers by {model_name_for_plot} for correct answer postion {\n",
    "            correct_answer_postion}: {mean_answer_correctness:.2f}\")\n",
    "        logger.info(\"Shape of the dataframe: \" + str(df.shape))\n",
    "        print()\n",
    "\n",
    "    plt.figure(figsize=(12, 6))\n",
    "    plt.bar(correct_answer_postion_array, mean_answer_correctness_array, width=2, alpha=0.7,\n",
    "            label=f'{model_name_for_plot} Mean Answer Correctness', color='red', align='center')\n",
    "\n",
    "    # Add values on top of the bars\n",
    "    for i in range(len(correct_answer_postion_array)):\n",
    "        plt.text(correct_answer_postion_array[i], mean_answer_correctness_array[i] + 0.011,\n",
    "                 f\"{mean_answer_correctness_array[i]:.2f}\", ha='center')\n",
    "\n",
    "    # Set x-axis ticks to show all values\n",
    "    plt.xticks(correct_answer_postion_array)\n",
    "\n",
    "    plt.xlabel('Context Position of Correct Answer in 15-Length Context')\n",
    "    plt.ylabel('Mean Answer Correctness')\n",
    "    plt.title(f'Mean Answer Correctness of Generated Answers by Model {model_name_for_plot}')\n",
    "    plt.legend()\n",
    "    plt.grid(axis='y')\n",
    "    plt.show()"
   ]
  },
  {
   "cell_type": "code",
   "execution_count": null,
   "metadata": {},
   "outputs": [
    {
     "name": "stdout",
     "output_type": "stream",
     "text": [
      "[INFO] [2025-01-28T09:35:27.437Z] File: 2025_01_27-\n",
      "    12_40_21_gemma_2_9b_llm_answers_for_cntx_length_15_and_position_of_correct_answer_1_2025_01_27-23_19_33_ragas_scores\n",
      "\n"
     ]
    },
    {
     "name": "stdout",
     "output_type": "stream",
     "text": [
      "[INFO] [2025-01-28T09:35:27.438Z] Mean answer correctness for generated answers by Gemma for correct answer postion 1:\n",
      "    0.62\n",
      "\n",
      "[INFO] [2025-01-28T09:35:27.439Z] Shape of the dataframe: (50, 15)\n",
      "\n",
      "[INFO] [2025-01-28T09:35:27.450Z] File: 2025_01_27-\n",
      "    13_00_31_gemma_2_9b_llm_answers_for_cntx_length_15_and_position_of_correct_answer_8_2025_01_27-23_41_15_ragas_scores\n",
      "\n",
      "[INFO] [2025-01-28T09:35:27.451Z] Mean answer correctness for generated answers by Gemma for correct answer postion 8:\n",
      "    0.61\n",
      "\n",
      "[INFO] [2025-01-28T09:35:27.452Z] Shape of the dataframe: (50, 15)\n",
      "\n",
      "[INFO] [2025-01-28T09:35:27.461Z] File: 2025_01_27-\n",
      "    13_20_42_gemma_2_9b_llm_answers_for_cntx_length_15_and_position_of_correct_answer_15_2025_01_27-23_58_25_ragas_scores\n",
      "\n",
      "[INFO] [2025-01-28T09:35:27.462Z] Mean answer correctness for generated answers by Gemma for correct answer postion 15:\n",
      "    0.69\n",
      "\n",
      "[INFO] [2025-01-28T09:35:27.462Z] Shape of the dataframe: (50, 15)\n",
      "\n"
     ]
    },
    {
     "data": {
      "image/png": "[encoded data removed]",
      "text/plain": [
       "<Figure size 1200x600 with 1 Axes>"
      ]
     },
     "metadata": {},
     "output_type": "display_data"
    }
   ],
   "source": [
    "plot_answer_correctness_ragas_metric_for_task_b(gemma_task_b_ragas_scores_file_names)"
   ]
  },
  {
   "cell_type": "markdown",
   "metadata": {},
   "source": [
    "# Answer Relevancy\n"
   ]
  },
  {
   "cell_type": "code",
   "execution_count": 10,
   "metadata": {},
   "outputs": [],
   "source": [
    "# Plot the mean time for each context length\n",
    "import matplotlib.pyplot as plt\n",
    "import os\n",
    "import pandas as pd\n",
    "\n",
    "\n",
    "def plot_answer_relevancy_ragas_metric_for_task_b(file_names):\n",
    "\n",
    "    model_name_for_plot = ''\n",
    "    correct_answer_postion_array = []\n",
    "    mean_answer_relevancy_array = []\n",
    "    for file_name in file_names:\n",
    "        # For compatibilty in local run\n",
    "        file_name = os.path.splitext(os.path.basename(file_name))[0]\n",
    "        df = pd.read_csv(RAGAS_SCORES_DIR + '/' + file_name + '.csv')\n",
    "\n",
    "        if 'cosmos' in file_name:\n",
    "            model_name_for_plot = 'Cosmos'\n",
    "        elif 'gemma' in file_name:\n",
    "            model_name_for_plot = 'Gemma'\n",
    "\n",
    "        logger.info(f\"File: {file_name}\")\n",
    "\n",
    "        correct_answer_postion = df['correct_intro_idx'][0].astype(int) + 1\n",
    "        correct_answer_postion_array.append(correct_answer_postion)\n",
    "\n",
    "        mean_answer_relevancy = df['answer_relevancy'].astype(float).mean()\n",
    "        mean_answer_relevancy_array.append(mean_answer_relevancy)\n",
    "\n",
    "        logger.info(f\"Mean answer relevancy for generated answers by {model_name_for_plot} for correct answer postion {\n",
    "            correct_answer_postion}: {mean_answer_relevancy:.2f}\")\n",
    "        logger.info(\"Shape of the dataframe: \" + str(df.shape))\n",
    "        print()\n",
    "\n",
    "    plt.figure(figsize=(12, 6))\n",
    "    plt.bar(correct_answer_postion_array, mean_answer_relevancy_array, width=2, alpha=0.7,\n",
    "            label=f'{model_name_for_plot} Mean Answer Relevancy', color='red', align='center')\n",
    "\n",
    "    # Add values on top of the bars\n",
    "    for i in range(len(correct_answer_postion_array)):\n",
    "        plt.text(correct_answer_postion_array[i], mean_answer_relevancy_array[i] + 0.011,\n",
    "                 f\"{mean_answer_relevancy_array[i]:.2f}\", ha='center')\n",
    "\n",
    "    # Set x-axis ticks to show all values\n",
    "    plt.xticks(correct_answer_postion_array)\n",
    "\n",
    "    plt.xlabel('Context Position of Correct Answer in 15-Length Context')\n",
    "    plt.ylabel('Mean Answer Relevancy')\n",
    "    plt.title(f'Mean Answer Relevancy of Generated Answers by Model {model_name_for_plot}')\n",
    "    plt.legend()\n",
    "    plt.grid(axis='y')\n",
    "    plt.show()"
   ]
  },
  {
   "cell_type": "code",
   "execution_count": 11,
   "metadata": {},
   "outputs": [
    {
     "name": "stdout",
     "output_type": "stream",
     "text": [
      "[INFO] [2025-01-28T09:54:18.604Z] File: 2025_01_27-\n",
      "    12_40_21_gemma_2_9b_llm_answers_for_cntx_length_15_and_position_of_correct_answer_1_2025_01_27-23_19_33_ragas_scores\n",
      "\n",
      "[INFO] [2025-01-28T09:54:18.605Z] Mean answer relevancy for generated answers by Gemma for correct answer postion 1:\n",
      "    0.73\n",
      "\n",
      "[INFO] [2025-01-28T09:54:18.605Z] Shape of the dataframe: (50, 15)\n",
      "\n",
      "[INFO] [2025-01-28T09:54:18.615Z] File: 2025_01_27-\n",
      "    13_00_31_gemma_2_9b_llm_answers_for_cntx_length_15_and_position_of_correct_answer_8_2025_01_27-23_41_15_ragas_scores\n",
      "\n",
      "[INFO] [2025-01-28T09:54:18.615Z] Mean answer relevancy for generated answers by Gemma for correct answer postion 8:\n",
      "    0.67\n",
      "\n",
      "[INFO] [2025-01-28T09:54:18.616Z] Shape of the dataframe: (50, 15)\n",
      "\n",
      "[INFO] [2025-01-28T09:54:18.625Z] File: 2025_01_27-\n",
      "    13_20_42_gemma_2_9b_llm_answers_for_cntx_length_15_and_position_of_correct_answer_15_2025_01_27-23_58_25_ragas_scores\n",
      "\n",
      "[INFO] [2025-01-28T09:54:18.626Z] Mean answer relevancy for generated answers by Gemma for correct answer postion 15:\n",
      "    0.67\n",
      "\n",
      "[INFO] [2025-01-28T09:54:18.626Z] Shape of the dataframe: (50, 15)\n",
      "\n"
     ]
    },
    {
     "data": {
      "image/png": "[encoded data removed]",
      "text/plain": [
       "<Figure size 1200x600 with 1 Axes>"
      ]
     },
     "metadata": {},
     "output_type": "display_data"
    }
   ],
   "source": [
    "plot_answer_relevancy_ragas_metric_for_task_b(gemma_task_b_ragas_scores_file_names)"
   ]
  },
  {
   "cell_type": "markdown",
   "metadata": {},
   "source": [
    "# Referanslar\n",
    "\n",
    "- [Used Dataset: Metin/WikiRAG-TR](https://huggingface.co/datasets/Metin/WikiRAG-TR)\n",
    "- [Used Model: ytu-ce-cosmos/Turkish-Llama-8b-DPO-v0.1](https://huggingface.co/ytu-ce-cosmos/Turkish-Llama-8b-DPO-v0.1)\n",
    "- [x] [Overview of Metrics](https://docs.ragas.io/en/latest/concepts/metrics/overview/)\n",
    "- [x] [List of available metrics](https://docs.ragas.io/en/latest/concepts/metrics/available_metrics/)\n",
    "  - Retrieval Augmented Generation Metrics\n",
    "    - [x] [Context Precision](https://docs.ragas.io/en/latest/concepts/metrics/available_metrics/context_precision/)\n",
    "    - [x] [Context Recall](https://docs.ragas.io/en/latest/concepts/metrics/available_metrics/context_recall/)\n",
    "    - [x] [Context Entities Recall](https://docs.ragas.io/en/latest/concepts/metrics/available_metrics/context_entities_recall/)\n",
    "    - [x] [Noise Sensitivity](https://docs.ragas.io/en/latest/concepts/metrics/available_metrics/noise_sensitivity/)\n",
    "    - [x] [Response Relevancy or Answer Relevancy](https://docs.ragas.io/en/latest/concepts/metrics/available_metrics/answer_relevance/)\n",
    "    - [x] [Faithfulness](https://docs.ragas.io/en/latest/concepts/metrics/available_metrics/faithfulness/)\n",
    "    - [x] [Multi modal faithfulness](https://docs.ragas.io/en/latest/concepts/metrics/available_metrics/multi_modal_faithfulness/)\n",
    "    - [x] [Multi modal relevance](https://docs.ragas.io/en/latest/concepts/metrics/available_metrics/multi_modal_relevance/)\n",
    "  - RAGAS ile alakalı olmayan diğerlerine de bakılması faydalı olabilir. Proje kapsamında ben sadece RAGAS ile alakalı olanları inceledim.\n",
    "- [x] [github -> amazon-science -> RAGChecker](https://github.com/amazon-science/RAGChecker/tree/main)\n",
    "- [x] [RAGAS: How to Evaluate a RAG Application Like a Pro for Beginners](https://www.youtube.com/watch?v=5fp6e5nhJRk)\n",
    "- [x] [Chat Templates](https://huggingface.co/docs/transformers/main/en/chat_templating)\n",
    "  - [ ] TODO: Advanced: Tool use / function calling başlığında kaldım.\n"
   ]
  }
 ],
 "metadata": {
  "kernelspec": {
   "display_name": "python_3_12_2_venv",
   "language": "python",
   "name": "python3"
  },
  "language_info": {
   "codemirror_mode": {
    "name": "ipython",
    "version": 3
   },
   "file_extension": ".py",
   "mimetype": "text/x-python",
   "name": "python",
   "nbconvert_exporter": "python",
   "pygments_lexer": "ipython3",
   "version": "3.12.3"
  }
 },
 "nbformat": 4,
 "nbformat_minor": 2
}
