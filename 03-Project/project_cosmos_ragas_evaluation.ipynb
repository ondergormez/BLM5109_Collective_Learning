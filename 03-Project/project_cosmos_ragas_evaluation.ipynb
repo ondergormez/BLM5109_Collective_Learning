{
 "cells": [
  {
   "cell_type": "code",
   "execution_count": 1,
   "metadata": {},
   "outputs": [
    {
     "name": "stdout",
     "output_type": "stream",
     "text": [
      "Google Colab is not enabled. Running locally.\n"
     ]
    }
   ],
   "source": [
    "import os\n",
    "\n",
    "PROJECT_DIR = ''\n",
    "\n",
    "IS_GOOGLE_COLAB_ENABLED = False\n",
    "\n",
    "if IS_GOOGLE_COLAB_ENABLED:\n",
    "    print('Google Colab is enabled. Running on Google Colab.')\n",
    "\n",
    "    from google.colab import drive\n",
    "    # Mount Google Drive\n",
    "    drive.mount('/content/drive', force_remount=True)\n",
    "\n",
    "    PROJECT_DIR = '/content/drive/MyDrive/Colab/'\n",
    "\n",
    "    # Ensure the directory exists\n",
    "    os.makedirs(PROJECT_DIR, exist_ok=True)\n",
    "\n",
    "else:\n",
    "    print('Google Colab is not enabled. Running locally.')\n",
    "\n",
    "    # Local configuration and folder setup\n",
    "    PROJECT_DIR = '/Users/ondergormez/Repos/BLM5109_Collective_Learning/03-Project/'\n",
    "\n",
    "LLM_ANSWERS_DIR = PROJECT_DIR + 'llm_answers'\n",
    "RAGAS_SCORES_DIR = PROJECT_DIR + 'ragas_scores'\n",
    "\n",
    "# Ensure the directory exists\n",
    "os.makedirs(LLM_ANSWERS_DIR, exist_ok=True)\n",
    "os.makedirs(RAGAS_SCORES_DIR, exist_ok=True)"
   ]
  },
  {
   "cell_type": "markdown",
   "metadata": {},
   "source": [
    "# Logger Kullanımı\n",
    "\n",
    "- Oluşturulan kod içerisinde loglama işlemleri için `logging` kütüphanesi kullanılmıştır.\n",
    "- Böylelikle geliştirme aşamasında debug için koyulan kodların çıktılarına bakılarak hata ayıklama işlemleri yapılabilir. Bu kodların çıktıları rapor sunulurken kaldırılacaktır.\n"
   ]
  },
  {
   "cell_type": "code",
   "execution_count": 2,
   "metadata": {},
   "outputs": [
    {
     "name": "stdout",
     "output_type": "stream",
     "text": [
      "[INFO] [2025-01-28T00:47:17.693Z] Logging is configured successfully.\n"
     ]
    }
   ],
   "source": [
    "import logging\n",
    "import logging.config\n",
    "import yaml\n",
    "import textwrap\n",
    "\n",
    "\n",
    "class CustomFormatter(logging.Formatter):\n",
    "\n",
    "    def format(self, record):\n",
    "        wrapped_message = super().format(record)\n",
    "\n",
    "        # wrap the log messages to 120 characters to better fit the screen\n",
    "        if (len(wrapped_message) > 120):\n",
    "            wrapped_message = \"\\n\".join(textwrap.wrap(wrapped_message, width=120))\n",
    "\n",
    "            # indent the wrapped lines but not the first line\n",
    "            first_line, rest = wrapped_message.split('\\n', 1)\n",
    "            wrapped_message = first_line + '\\n' + textwrap.indent(rest, ' ' * 4) + '\\n'\n",
    "\n",
    "        return wrapped_message\n",
    "\n",
    "\n",
    "LOGGER_CONFIG_FILE = PROJECT_DIR + 'logger_config.yaml'\n",
    "\n",
    "# Load the YAML configuration\n",
    "with open(LOGGER_CONFIG_FILE, 'r') as file:\n",
    "    config = yaml.safe_load(file.read())\n",
    "    logging.config.dictConfig(config)\n",
    "\n",
    "# Apply the custom formatter to the selected handler\n",
    "logger = logging.getLogger(\"default_logger\")\n",
    "for handler in logger.handlers:\n",
    "    if isinstance(handler, logging.StreamHandler):\n",
    "        handler.setFormatter(CustomFormatter(handler.formatter._fmt, datefmt=handler.formatter.datefmt))\n",
    "\n",
    "# TODO: Set the log level to INFO\n",
    "# logger.setLevel(logging.DEBUG)\n",
    "logger.setLevel(logging.INFO)\n",
    "\n",
    "\n",
    "logger.debug(\"This is a debug message that will be wrapped after 140 characters. \" * 10)\n",
    "logger.info(\"Logging is configured successfully.\")"
   ]
  },
  {
   "cell_type": "code",
   "execution_count": 3,
   "metadata": {},
   "outputs": [
    {
     "data": {
      "text/plain": [
       "['2025_01_27-13_23_49_cosmos_dpo_llm_answers_for_cntx_length_15_and_position_of_correct_answer_1.csv',\n",
       " '2025_01_27-13_27_58_cosmos_dpo_llm_answers_for_cntx_length_15_and_position_of_correct_answer_8.csv',\n",
       " '2025_01_27-13_32_15_cosmos_dpo_llm_answers_for_cntx_length_15_and_position_of_correct_answer_15.csv']"
      ]
     },
     "execution_count": 3,
     "metadata": {},
     "output_type": "execute_result"
    }
   ],
   "source": [
    "cosmos_model_name = \"cosmos_dpo\"\n",
    "cosmos_llm_answers_task_b_file_names = [\n",
    "    '2025_01_27-13_23_49_cosmos_dpo_llm_answers_for_cntx_length_15_and_position_of_correct_answer_1.csv',\n",
    "    '2025_01_27-13_27_58_cosmos_dpo_llm_answers_for_cntx_length_15_and_position_of_correct_answer_8.csv',\n",
    "    '2025_01_27-13_32_15_cosmos_dpo_llm_answers_for_cntx_length_15_and_position_of_correct_answer_15.csv',\n",
    "]\n",
    "\n",
    "cosmos_llm_answers_task_b_file_names"
   ]
  },
  {
   "cell_type": "code",
   "execution_count": 4,
   "metadata": {},
   "outputs": [],
   "source": [
    "import time\n",
    "\n",
    "\n",
    "def save_scores(llm_answers_file_name, llm_answers_df):\n",
    "    # add time stamp to each file name for unique file names and further analysis\n",
    "    time_stamp = time.strftime(\"%Y_%m_%d-%H_%M_%S\")\n",
    "\n",
    "    file_name = f'{RAGAS_SCORES_DIR}/{llm_answers_file_name}_{time_stamp}_ragas_scores.csv'\n",
    "\n",
    "    llm_answers_df.to_csv(file_name, index=True)\n",
    "    logger.info(f\"Scores are saved to the file: '{file_name}'\")\n",
    "\n",
    "    return file_name"
   ]
  },
  {
   "cell_type": "code",
   "execution_count": 5,
   "metadata": {},
   "outputs": [],
   "source": [
    "from datasets import Dataset\n",
    "from ragas import evaluate\n",
    "from ragas.metrics import faithfulness, answer_correctness, answer_relevancy\n",
    "import pandas as pd\n",
    "\n",
    "import os\n",
    "\n",
    "# TODO: Replace the api key with the correct one from https://platform.openai.com/settings/organization/api-keys\n",
    "# os.environ[\"OPENAI_API_KEY\"] = \"Your API Key\"\n",
    "\n",
    "\n",
    "def get_ragas_scores(file_names):\n",
    "    ragas_scores_file_names = []\n",
    "\n",
    "    model_name_for_ragas_score_eval = ''\n",
    "    for file_name in file_names:\n",
    "        logger.info(f\"Evaluating ragas score for the file: {file_name}\")\n",
    "\n",
    "        llm_answers_df = pd.read_csv(LLM_ANSWERS_DIR + '/' + file_name)\n",
    "        logger.info(\"Shape of the dataframe: \" + str(llm_answers_df.shape))\n",
    "        print()\n",
    "\n",
    "        # Add new columns to store the metrics\n",
    "        llm_answers_df[f'faithfulness'] = \"\"\n",
    "        llm_answers_df['answer_correctness'] = \"\"\n",
    "        llm_answers_df['answer_relevancy'] = \"\"\n",
    "\n",
    "        if 'cosmos' in file_name:\n",
    "            model_name_for_ragas_score_eval = cosmos_model_name\n",
    "        elif 'gemma' in file_name:\n",
    "            model_name_for_ragas_score_eval = gemma_model_name\n",
    "\n",
    "        for i in range(len(llm_answers_df)):\n",
    "            data_sample = {\n",
    "                'question': [\n",
    "                    llm_answers_df.iloc[i]['question'],\n",
    "                ],\n",
    "                'ground_truth': [\n",
    "                    llm_answers_df.iloc[i]['answer'],\n",
    "                ],\n",
    "                'answer': [\n",
    "                    llm_answers_df.iloc[i][f'{model_name_for_ragas_score_eval}_answer'],\n",
    "                ],\n",
    "                'contexts': [\n",
    "                    [\n",
    "                        llm_answers_df.iloc[i]['context'],\n",
    "                    ],\n",
    "                ]\n",
    "            }\n",
    "\n",
    "            dataset = Dataset.from_dict(data_sample)\n",
    "            score = evaluate(dataset, metrics=[faithfulness, answer_correctness, answer_relevancy])\n",
    "            logger.info(f\"Scores for the question {i + 1} of {len(llm_answers_df)}\\n: {score}\")\n",
    "\n",
    "            score_df = score.to_pandas()\n",
    "\n",
    "            chunk_unique_id = llm_answers_df.iloc[i]['id']\n",
    "            index_of_chunk = llm_answers_df['id'] == chunk_unique_id\n",
    "\n",
    "            llm_answers_df.loc[index_of_chunk, 'faithfulness'] = score_df.iloc[0].get('faithfulness')\n",
    "            llm_answers_df.loc[index_of_chunk, 'answer_correctness'] = score_df.iloc[0].get('answer_correctness')\n",
    "            llm_answers_df.loc[index_of_chunk, 'answer_relevancy'] = score_df.iloc[0].get('answer_relevancy')\n",
    "\n",
    "        # get just file name without path and extension\n",
    "        temp_fn = os.path.splitext(os.path.basename(file_name))[0]\n",
    "\n",
    "        fn = save_scores(temp_fn, llm_answers_df)\n",
    "        ragas_scores_file_names.append(fn)\n",
    "\n",
    "    return ragas_scores_file_names"
   ]
  },
  {
   "cell_type": "code",
   "execution_count": 6,
   "metadata": {},
   "outputs": [
    {
     "name": "stdout",
     "output_type": "stream",
     "text": [
      "[INFO] [2025-01-28T00:47:18.643Z] Evaluating ragas score for the file:\n",
      "    2025_01_27-13_23_49_cosmos_dpo_llm_answers_for_cntx_length_15_and_position_of_correct_answer_1.csv\n",
      "\n",
      "[INFO] [2025-01-28T00:47:18.651Z] Shape of the dataframe: (50, 11)\n",
      "\n"
     ]
    },
    {
     "data": {
      "application/vnd.jupyter.widget-view+json": {
       "model_id": "ac3d4b4e3eff4d968cf73400e7881b97",
       "version_major": 2,
       "version_minor": 0
      },
      "text/plain": [
       "Evaluating:   0%|          | 0/3 [00:00<?, ?it/s]"
      ]
     },
     "metadata": {},
     "output_type": "display_data"
    },
    {
     "name": "stdout",
     "output_type": "stream",
     "text": [
      "[INFO] [2025-01-28T00:47:45.810Z] Scores for the question 1 of 50 : {'faithfulness': 0.8889, 'answer_correctness':\n",
      "    0.3223, 'answer_relevancy': 0.7940}\n",
      "\n"
     ]
    },
    {
     "data": {
      "application/vnd.jupyter.widget-view+json": {
       "model_id": "0d482295a13a49b5bb2468405f825021",
       "version_major": 2,
       "version_minor": 0
      },
      "text/plain": [
       "Evaluating:   0%|          | 0/3 [00:00<?, ?it/s]"
      ]
     },
     "metadata": {},
     "output_type": "display_data"
    },
    {
     "name": "stdout",
     "output_type": "stream",
     "text": [
      "[INFO] [2025-01-28T00:48:05.867Z] Scores for the question 2 of 50 : {'faithfulness': 0.4000, 'answer_correctness':\n",
      "    0.6134, 'answer_relevancy': 0.8788}\n",
      "\n"
     ]
    },
    {
     "data": {
      "application/vnd.jupyter.widget-view+json": {
       "model_id": "fb99040ce5b5435fa41fb7a79a148c55",
       "version_major": 2,
       "version_minor": 0
      },
      "text/plain": [
       "Evaluating:   0%|          | 0/3 [00:00<?, ?it/s]"
      ]
     },
     "metadata": {},
     "output_type": "display_data"
    },
    {
     "name": "stdout",
     "output_type": "stream",
     "text": [
      "[INFO] [2025-01-28T00:48:31.800Z] Scores for the question 3 of 50 : {'faithfulness': 0.0000, 'answer_correctness':\n",
      "    0.3854, 'answer_relevancy': 0.8655}\n",
      "\n"
     ]
    },
    {
     "data": {
      "application/vnd.jupyter.widget-view+json": {
       "model_id": "8ece8d17c6084783bc16cbec1ec96145",
       "version_major": 2,
       "version_minor": 0
      },
      "text/plain": [
       "Evaluating:   0%|          | 0/3 [00:00<?, ?it/s]"
      ]
     },
     "metadata": {},
     "output_type": "display_data"
    },
    {
     "name": "stdout",
     "output_type": "stream",
     "text": [
      "[INFO] [2025-01-28T00:48:55.697Z] Scores for the question 4 of 50 : {'faithfulness': 1.0000, 'answer_correctness':\n",
      "    0.4484, 'answer_relevancy': 0.8575}\n",
      "\n"
     ]
    },
    {
     "data": {
      "application/vnd.jupyter.widget-view+json": {
       "model_id": "1b5ae62d24104283b45623b2107f7e00",
       "version_major": 2,
       "version_minor": 0
      },
      "text/plain": [
       "Evaluating:   0%|          | 0/3 [00:00<?, ?it/s]"
      ]
     },
     "metadata": {},
     "output_type": "display_data"
    },
    {
     "name": "stdout",
     "output_type": "stream",
     "text": [
      "[INFO] [2025-01-28T00:49:12.323Z] Scores for the question 5 of 50 : {'faithfulness': 0.2500, 'answer_correctness':\n",
      "    0.6785, 'answer_relevancy': 0.9130}\n",
      "\n"
     ]
    },
    {
     "data": {
      "application/vnd.jupyter.widget-view+json": {
       "model_id": "063fbe4bb3304384bb28562e521ce4bf",
       "version_major": 2,
       "version_minor": 0
      },
      "text/plain": [
       "Evaluating:   0%|          | 0/3 [00:00<?, ?it/s]"
      ]
     },
     "metadata": {},
     "output_type": "display_data"
    },
    {
     "name": "stdout",
     "output_type": "stream",
     "text": [
      "[INFO] [2025-01-28T00:49:45.437Z] Scores for the question 6 of 50 : {'faithfulness': 1.0000, 'answer_correctness':\n",
      "    0.2905, 'answer_relevancy': 0.0000}\n",
      "\n"
     ]
    },
    {
     "data": {
      "application/vnd.jupyter.widget-view+json": {
       "model_id": "22d71ff5816045f38edf0a856e827c38",
       "version_major": 2,
       "version_minor": 0
      },
      "text/plain": [
       "Evaluating:   0%|          | 0/3 [00:00<?, ?it/s]"
      ]
     },
     "metadata": {},
     "output_type": "display_data"
    },
    {
     "name": "stdout",
     "output_type": "stream",
     "text": [
      "[INFO] [2025-01-28T00:50:05.515Z] Scores for the question 7 of 50 : {'faithfulness': 1.0000, 'answer_correctness':\n",
      "    0.3498, 'answer_relevancy': 0.7249}\n",
      "\n"
     ]
    },
    {
     "data": {
      "application/vnd.jupyter.widget-view+json": {
       "model_id": "84b46cf9dc2b43e993810a3bb695750d",
       "version_major": 2,
       "version_minor": 0
      },
      "text/plain": [
       "Evaluating:   0%|          | 0/3 [00:00<?, ?it/s]"
      ]
     },
     "metadata": {},
     "output_type": "display_data"
    },
    {
     "name": "stdout",
     "output_type": "stream",
     "text": [
      "[INFO] [2025-01-28T00:50:29.789Z] Scores for the question 8 of 50 : {'faithfulness': 0.9000, 'answer_correctness':\n",
      "    0.3427, 'answer_relevancy': 0.8724}\n",
      "\n"
     ]
    },
    {
     "data": {
      "application/vnd.jupyter.widget-view+json": {
       "model_id": "01896da6274348128efec42834b593fc",
       "version_major": 2,
       "version_minor": 0
      },
      "text/plain": [
       "Evaluating:   0%|          | 0/3 [00:00<?, ?it/s]"
      ]
     },
     "metadata": {},
     "output_type": "display_data"
    },
    {
     "name": "stdout",
     "output_type": "stream",
     "text": [
      "[INFO] [2025-01-28T00:50:47.178Z] Scores for the question 9 of 50 : {'faithfulness': 0.8333, 'answer_correctness':\n",
      "    0.3614, 'answer_relevancy': 0.7998}\n",
      "\n"
     ]
    },
    {
     "data": {
      "application/vnd.jupyter.widget-view+json": {
       "model_id": "ee4dfe29c1254bbb963d2927d1634200",
       "version_major": 2,
       "version_minor": 0
      },
      "text/plain": [
       "Evaluating:   0%|          | 0/3 [00:00<?, ?it/s]"
      ]
     },
     "metadata": {},
     "output_type": "display_data"
    },
    {
     "name": "stdout",
     "output_type": "stream",
     "text": [
      "[INFO] [2025-01-28T00:51:15.403Z] Scores for the question 10 of 50 : {'faithfulness': 0.8889, 'answer_correctness':\n",
      "    0.5439, 'answer_relevancy': 0.8247}\n",
      "\n"
     ]
    },
    {
     "data": {
      "application/vnd.jupyter.widget-view+json": {
       "model_id": "8100cee9fc5e4aa18231b4271c5ce552",
       "version_major": 2,
       "version_minor": 0
      },
      "text/plain": [
       "Evaluating:   0%|          | 0/3 [00:00<?, ?it/s]"
      ]
     },
     "metadata": {},
     "output_type": "display_data"
    },
    {
     "name": "stdout",
     "output_type": "stream",
     "text": [
      "[INFO] [2025-01-28T00:51:35.055Z] Scores for the question 11 of 50 : {'faithfulness': 0.6000, 'answer_correctness':\n",
      "    0.5755, 'answer_relevancy': 0.8740}\n",
      "\n"
     ]
    },
    {
     "data": {
      "application/vnd.jupyter.widget-view+json": {
       "model_id": "d8000ed5fc474a56977db397ee14b0d4",
       "version_major": 2,
       "version_minor": 0
      },
      "text/plain": [
       "Evaluating:   0%|          | 0/3 [00:00<?, ?it/s]"
      ]
     },
     "metadata": {},
     "output_type": "display_data"
    },
    {
     "name": "stdout",
     "output_type": "stream",
     "text": [
      "[INFO] [2025-01-28T00:52:06.601Z] Scores for the question 12 of 50 : {'faithfulness': 0.9231, 'answer_correctness':\n",
      "    0.4303, 'answer_relevancy': 0.8520}\n",
      "\n"
     ]
    },
    {
     "data": {
      "application/vnd.jupyter.widget-view+json": {
       "model_id": "e85f529aae0047b79319bd6828256d36",
       "version_major": 2,
       "version_minor": 0
      },
      "text/plain": [
       "Evaluating:   0%|          | 0/3 [00:00<?, ?it/s]"
      ]
     },
     "metadata": {},
     "output_type": "display_data"
    },
    {
     "name": "stdout",
     "output_type": "stream",
     "text": [
      "[INFO] [2025-01-28T00:52:23.817Z] Scores for the question 13 of 50 : {'faithfulness': 1.0000, 'answer_correctness':\n",
      "    0.4254, 'answer_relevancy': 0.0000}\n",
      "\n"
     ]
    },
    {
     "data": {
      "application/vnd.jupyter.widget-view+json": {
       "model_id": "bdc0f040df1d4733bae2eeb43ebfa654",
       "version_major": 2,
       "version_minor": 0
      },
      "text/plain": [
       "Evaluating:   0%|          | 0/3 [00:00<?, ?it/s]"
      ]
     },
     "metadata": {},
     "output_type": "display_data"
    },
    {
     "name": "stdout",
     "output_type": "stream",
     "text": [
      "[INFO] [2025-01-28T00:54:26.740Z] Scores for the question 14 of 50 : {'faithfulness': 1.0000, 'answer_correctness':\n",
      "    0.3165, 'answer_relevancy': 0.8590}\n",
      "\n"
     ]
    },
    {
     "data": {
      "application/vnd.jupyter.widget-view+json": {
       "model_id": "188caa700f4b45b8b6d27f6c78107019",
       "version_major": 2,
       "version_minor": 0
      },
      "text/plain": [
       "Evaluating:   0%|          | 0/3 [00:00<?, ?it/s]"
      ]
     },
     "metadata": {},
     "output_type": "display_data"
    },
    {
     "name": "stdout",
     "output_type": "stream",
     "text": [
      "[INFO] [2025-01-28T00:54:47.027Z] Scores for the question 15 of 50 : {'faithfulness': 1.0000, 'answer_correctness':\n",
      "    0.5375, 'answer_relevancy': 0.8753}\n",
      "\n"
     ]
    },
    {
     "data": {
      "application/vnd.jupyter.widget-view+json": {
       "model_id": "e803d86adada43288619cc87989ef410",
       "version_major": 2,
       "version_minor": 0
      },
      "text/plain": [
       "Evaluating:   0%|          | 0/3 [00:00<?, ?it/s]"
      ]
     },
     "metadata": {},
     "output_type": "display_data"
    },
    {
     "name": "stdout",
     "output_type": "stream",
     "text": [
      "[INFO] [2025-01-28T00:55:04.369Z] Scores for the question 16 of 50 : {'faithfulness': 0.8000, 'answer_correctness':\n",
      "    0.4009, 'answer_relevancy': 0.8664}\n",
      "\n"
     ]
    },
    {
     "data": {
      "application/vnd.jupyter.widget-view+json": {
       "model_id": "64645bf3baf54c1dbdbe5c60ee22a707",
       "version_major": 2,
       "version_minor": 0
      },
      "text/plain": [
       "Evaluating:   0%|          | 0/3 [00:00<?, ?it/s]"
      ]
     },
     "metadata": {},
     "output_type": "display_data"
    },
    {
     "name": "stdout",
     "output_type": "stream",
     "text": [
      "[INFO] [2025-01-28T00:55:30.104Z] Scores for the question 17 of 50 : {'faithfulness': 1.0000, 'answer_correctness':\n",
      "    0.5697, 'answer_relevancy': 0.8586}\n",
      "\n"
     ]
    },
    {
     "data": {
      "application/vnd.jupyter.widget-view+json": {
       "model_id": "2199ab3440da4ba4975484b4d78f9517",
       "version_major": 2,
       "version_minor": 0
      },
      "text/plain": [
       "Evaluating:   0%|          | 0/3 [00:00<?, ?it/s]"
      ]
     },
     "metadata": {},
     "output_type": "display_data"
    },
    {
     "name": "stdout",
     "output_type": "stream",
     "text": [
      "[INFO] [2025-01-28T00:55:53.687Z] Scores for the question 18 of 50 : {'faithfulness': 1.0000, 'answer_correctness':\n",
      "    0.3153, 'answer_relevancy': 0.7609}\n",
      "\n"
     ]
    },
    {
     "data": {
      "application/vnd.jupyter.widget-view+json": {
       "model_id": "e3ad3ce26e7a4d58b77c8272d7d1b463",
       "version_major": 2,
       "version_minor": 0
      },
      "text/plain": [
       "Evaluating:   0%|          | 0/3 [00:00<?, ?it/s]"
      ]
     },
     "metadata": {},
     "output_type": "display_data"
    },
    {
     "name": "stdout",
     "output_type": "stream",
     "text": [
      "[INFO] [2025-01-28T00:56:15.813Z] Scores for the question 19 of 50 : {'faithfulness': 0.9231, 'answer_correctness':\n",
      "    0.6427, 'answer_relevancy': 0.8014}\n",
      "\n"
     ]
    },
    {
     "data": {
      "application/vnd.jupyter.widget-view+json": {
       "model_id": "6f4f3ed5c2c14eea98b36a2be640351c",
       "version_major": 2,
       "version_minor": 0
      },
      "text/plain": [
       "Evaluating:   0%|          | 0/3 [00:00<?, ?it/s]"
      ]
     },
     "metadata": {},
     "output_type": "display_data"
    },
    {
     "name": "stdout",
     "output_type": "stream",
     "text": [
      "[INFO] [2025-01-28T00:56:37.418Z] Scores for the question 20 of 50 : {'faithfulness': 0.9000, 'answer_correctness':\n",
      "    0.3273, 'answer_relevancy': 0.7881}\n",
      "\n"
     ]
    },
    {
     "data": {
      "application/vnd.jupyter.widget-view+json": {
       "model_id": "ae95d413d51549efb4299f216a896757",
       "version_major": 2,
       "version_minor": 0
      },
      "text/plain": [
       "Evaluating:   0%|          | 0/3 [00:00<?, ?it/s]"
      ]
     },
     "metadata": {},
     "output_type": "display_data"
    },
    {
     "name": "stdout",
     "output_type": "stream",
     "text": [
      "[INFO] [2025-01-28T00:57:00.791Z] Scores for the question 21 of 50 : {'faithfulness': 1.0000, 'answer_correctness':\n",
      "    0.2122, 'answer_relevancy': 0.0000}\n",
      "\n"
     ]
    },
    {
     "data": {
      "application/vnd.jupyter.widget-view+json": {
       "model_id": "0c611f4e691249fc8726300fe84cfa2d",
       "version_major": 2,
       "version_minor": 0
      },
      "text/plain": [
       "Evaluating:   0%|          | 0/3 [00:00<?, ?it/s]"
      ]
     },
     "metadata": {},
     "output_type": "display_data"
    },
    {
     "name": "stdout",
     "output_type": "stream",
     "text": [
      "[INFO] [2025-01-28T00:57:24.141Z] Scores for the question 22 of 50 : {'faithfulness': 1.0000, 'answer_correctness':\n",
      "    0.3204, 'answer_relevancy': 0.0000}\n",
      "\n"
     ]
    },
    {
     "data": {
      "application/vnd.jupyter.widget-view+json": {
       "model_id": "e5050783d96f4f85b6289d7e51951187",
       "version_major": 2,
       "version_minor": 0
      },
      "text/plain": [
       "Evaluating:   0%|          | 0/3 [00:00<?, ?it/s]"
      ]
     },
     "metadata": {},
     "output_type": "display_data"
    },
    {
     "name": "stdout",
     "output_type": "stream",
     "text": [
      "[INFO] [2025-01-28T00:57:49.533Z] Scores for the question 23 of 50 : {'faithfulness': 1.0000, 'answer_correctness':\n",
      "    0.4437, 'answer_relevancy': 0.0000}\n",
      "\n"
     ]
    },
    {
     "data": {
      "application/vnd.jupyter.widget-view+json": {
       "model_id": "d2a9610cefd34a60bfe53e5292ee1585",
       "version_major": 2,
       "version_minor": 0
      },
      "text/plain": [
       "Evaluating:   0%|          | 0/3 [00:00<?, ?it/s]"
      ]
     },
     "metadata": {},
     "output_type": "display_data"
    },
    {
     "name": "stdout",
     "output_type": "stream",
     "text": [
      "[INFO] [2025-01-28T00:58:14.431Z] Scores for the question 24 of 50 : {'faithfulness': 0.6667, 'answer_correctness':\n",
      "    0.3458, 'answer_relevancy': 0.0000}\n",
      "\n"
     ]
    },
    {
     "data": {
      "application/vnd.jupyter.widget-view+json": {
       "model_id": "de9ded9fd8084a25b66361fd1ce2fa41",
       "version_major": 2,
       "version_minor": 0
      },
      "text/plain": [
       "Evaluating:   0%|          | 0/3 [00:00<?, ?it/s]"
      ]
     },
     "metadata": {},
     "output_type": "display_data"
    },
    {
     "name": "stdout",
     "output_type": "stream",
     "text": [
      "[INFO] [2025-01-28T00:58:38.874Z] Scores for the question 25 of 50 : {'faithfulness': 1.0000, 'answer_correctness':\n",
      "    0.3531, 'answer_relevancy': 0.8398}\n",
      "\n"
     ]
    },
    {
     "data": {
      "application/vnd.jupyter.widget-view+json": {
       "model_id": "d2f91418e1594928a1a9e4ca88656a9d",
       "version_major": 2,
       "version_minor": 0
      },
      "text/plain": [
       "Evaluating:   0%|          | 0/3 [00:00<?, ?it/s]"
      ]
     },
     "metadata": {},
     "output_type": "display_data"
    },
    {
     "name": "stdout",
     "output_type": "stream",
     "text": [
      "[INFO] [2025-01-28T00:58:52.711Z] Scores for the question 26 of 50 : {'faithfulness': 0.3333, 'answer_correctness':\n",
      "    0.6406, 'answer_relevancy': 0.7535}\n",
      "\n"
     ]
    },
    {
     "data": {
      "application/vnd.jupyter.widget-view+json": {
       "model_id": "9619948f63db438b935de7c1ae4571b4",
       "version_major": 2,
       "version_minor": 0
      },
      "text/plain": [
       "Evaluating:   0%|          | 0/3 [00:00<?, ?it/s]"
      ]
     },
     "metadata": {},
     "output_type": "display_data"
    },
    {
     "name": "stdout",
     "output_type": "stream",
     "text": [
      "[INFO] [2025-01-28T00:59:05.017Z] Scores for the question 27 of 50 : {'faithfulness': 1.0000, 'answer_correctness':\n",
      "    0.8434, 'answer_relevancy': 0.8895}\n",
      "\n"
     ]
    },
    {
     "data": {
      "application/vnd.jupyter.widget-view+json": {
       "model_id": "9059a550dcc244509cad380a38eaf951",
       "version_major": 2,
       "version_minor": 0
      },
      "text/plain": [
       "Evaluating:   0%|          | 0/3 [00:00<?, ?it/s]"
      ]
     },
     "metadata": {},
     "output_type": "display_data"
    },
    {
     "name": "stdout",
     "output_type": "stream",
     "text": [
      "[INFO] [2025-01-28T00:59:24.884Z] Scores for the question 28 of 50 : {'faithfulness': 1.0000, 'answer_correctness':\n",
      "    0.9753, 'answer_relevancy': 0.8123}\n",
      "\n"
     ]
    },
    {
     "data": {
      "application/vnd.jupyter.widget-view+json": {
       "model_id": "863ce472ca1a4cea91c4b78cb8610c04",
       "version_major": 2,
       "version_minor": 0
      },
      "text/plain": [
       "Evaluating:   0%|          | 0/3 [00:00<?, ?it/s]"
      ]
     },
     "metadata": {},
     "output_type": "display_data"
    },
    {
     "name": "stdout",
     "output_type": "stream",
     "text": [
      "[INFO] [2025-01-28T00:59:49.407Z] Scores for the question 29 of 50 : {'faithfulness': 1.0000, 'answer_correctness':\n",
      "    0.6748, 'answer_relevancy': 0.8072}\n",
      "\n"
     ]
    },
    {
     "data": {
      "application/vnd.jupyter.widget-view+json": {
       "model_id": "86d99c133db541a9952c5f5a41014dd0",
       "version_major": 2,
       "version_minor": 0
      },
      "text/plain": [
       "Evaluating:   0%|          | 0/3 [00:00<?, ?it/s]"
      ]
     },
     "metadata": {},
     "output_type": "display_data"
    },
    {
     "name": "stdout",
     "output_type": "stream",
     "text": [
      "[INFO] [2025-01-28T01:00:09.002Z] Scores for the question 30 of 50 : {'faithfulness': 0.3333, 'answer_correctness':\n",
      "    0.2178, 'answer_relevancy': 0.7920}\n",
      "\n"
     ]
    },
    {
     "data": {
      "application/vnd.jupyter.widget-view+json": {
       "model_id": "3065949eb4f64c88b7ecb35b808d9dca",
       "version_major": 2,
       "version_minor": 0
      },
      "text/plain": [
       "Evaluating:   0%|          | 0/3 [00:00<?, ?it/s]"
      ]
     },
     "metadata": {},
     "output_type": "display_data"
    },
    {
     "name": "stdout",
     "output_type": "stream",
     "text": [
      "[INFO] [2025-01-28T01:00:41.529Z] Scores for the question 31 of 50 : {'faithfulness': 0.5000, 'answer_correctness':\n",
      "    0.4212, 'answer_relevancy': 0.7831}\n",
      "\n"
     ]
    },
    {
     "data": {
      "application/vnd.jupyter.widget-view+json": {
       "model_id": "f152a0912f624711a9334a5a9ed919df",
       "version_major": 2,
       "version_minor": 0
      },
      "text/plain": [
       "Evaluating:   0%|          | 0/3 [00:00<?, ?it/s]"
      ]
     },
     "metadata": {},
     "output_type": "display_data"
    },
    {
     "name": "stdout",
     "output_type": "stream",
     "text": [
      "[INFO] [2025-01-28T01:00:53.422Z] Scores for the question 32 of 50 : {'faithfulness': 1.0000, 'answer_correctness':\n",
      "    0.9941, 'answer_relevancy': 0.8774}\n",
      "\n"
     ]
    },
    {
     "data": {
      "application/vnd.jupyter.widget-view+json": {
       "model_id": "a9ecceaad44b4c7b9b1109fdfb9d9570",
       "version_major": 2,
       "version_minor": 0
      },
      "text/plain": [
       "Evaluating:   0%|          | 0/3 [00:00<?, ?it/s]"
      ]
     },
     "metadata": {},
     "output_type": "display_data"
    },
    {
     "name": "stdout",
     "output_type": "stream",
     "text": [
      "[INFO] [2025-01-28T01:01:19.084Z] Scores for the question 33 of 50 : {'faithfulness': 1.0000, 'answer_correctness':\n",
      "    0.5615, 'answer_relevancy': 0.7901}\n",
      "\n"
     ]
    },
    {
     "data": {
      "application/vnd.jupyter.widget-view+json": {
       "model_id": "91d748d042ee4a85b1c498ebe69399c3",
       "version_major": 2,
       "version_minor": 0
      },
      "text/plain": [
       "Evaluating:   0%|          | 0/3 [00:00<?, ?it/s]"
      ]
     },
     "metadata": {},
     "output_type": "display_data"
    },
    {
     "name": "stdout",
     "output_type": "stream",
     "text": [
      "[INFO] [2025-01-28T01:01:45.945Z] Scores for the question 34 of 50 : {'faithfulness': 1.0000, 'answer_correctness':\n",
      "    0.3059, 'answer_relevancy': 0.0000}\n",
      "\n"
     ]
    },
    {
     "data": {
      "application/vnd.jupyter.widget-view+json": {
       "model_id": "57981a4eb07246b284e4ea521a6baeb8",
       "version_major": 2,
       "version_minor": 0
      },
      "text/plain": [
       "Evaluating:   0%|          | 0/3 [00:00<?, ?it/s]"
      ]
     },
     "metadata": {},
     "output_type": "display_data"
    },
    {
     "name": "stdout",
     "output_type": "stream",
     "text": [
      "[INFO] [2025-01-28T01:02:07.282Z] Scores for the question 35 of 50 : {'faithfulness': 0.5000, 'answer_correctness':\n",
      "    0.3183, 'answer_relevancy': 0.7901}\n",
      "\n"
     ]
    },
    {
     "data": {
      "application/vnd.jupyter.widget-view+json": {
       "model_id": "45b8d271c3454c1eae9945a2d7f09c2a",
       "version_major": 2,
       "version_minor": 0
      },
      "text/plain": [
       "Evaluating:   0%|          | 0/3 [00:00<?, ?it/s]"
      ]
     },
     "metadata": {},
     "output_type": "display_data"
    },
    {
     "name": "stdout",
     "output_type": "stream",
     "text": [
      "[INFO] [2025-01-28T01:02:19.963Z] Scores for the question 36 of 50 : {'faithfulness': 0.0000, 'answer_correctness':\n",
      "    0.8263, 'answer_relevancy': 0.8780}\n",
      "\n"
     ]
    },
    {
     "data": {
      "application/vnd.jupyter.widget-view+json": {
       "model_id": "bd20d572d0cd46fe9775b79c4409c42b",
       "version_major": 2,
       "version_minor": 0
      },
      "text/plain": [
       "Evaluating:   0%|          | 0/3 [00:00<?, ?it/s]"
      ]
     },
     "metadata": {},
     "output_type": "display_data"
    },
    {
     "name": "stdout",
     "output_type": "stream",
     "text": [
      "[INFO] [2025-01-28T01:02:54.348Z] Scores for the question 37 of 50 : {'faithfulness': 0.7500, 'answer_correctness':\n",
      "    0.6344, 'answer_relevancy': 0.8717}\n",
      "\n"
     ]
    },
    {
     "data": {
      "application/vnd.jupyter.widget-view+json": {
       "model_id": "c61d2bd738da40a4a953d7e0b32d181d",
       "version_major": 2,
       "version_minor": 0
      },
      "text/plain": [
       "Evaluating:   0%|          | 0/3 [00:00<?, ?it/s]"
      ]
     },
     "metadata": {},
     "output_type": "display_data"
    },
    {
     "name": "stderr",
     "output_type": "stream",
     "text": [
      "Exception raised in Job[1]: TimeoutError()\n"
     ]
    },
    {
     "name": "stdout",
     "output_type": "stream",
     "text": [
      "[INFO] [2025-01-28T01:05:55.260Z] Scores for the question 38 of 50 : {'faithfulness': 1.0000, 'answer_correctness': nan,\n",
      "    'answer_relevancy': 0.8464}\n",
      "\n"
     ]
    },
    {
     "data": {
      "application/vnd.jupyter.widget-view+json": {
       "model_id": "edf3872a27844b0cb79832768f2f3986",
       "version_major": 2,
       "version_minor": 0
      },
      "text/plain": [
       "Evaluating:   0%|          | 0/3 [00:00<?, ?it/s]"
      ]
     },
     "metadata": {},
     "output_type": "display_data"
    },
    {
     "name": "stdout",
     "output_type": "stream",
     "text": [
      "[INFO] [2025-01-28T01:06:17.103Z] Scores for the question 39 of 50 : {'faithfulness': 0.9286, 'answer_correctness':\n",
      "    0.7198, 'answer_relevancy': 0.7309}\n",
      "\n"
     ]
    },
    {
     "data": {
      "application/vnd.jupyter.widget-view+json": {
       "model_id": "5a15aa86242c478784ed4cd57e006ca0",
       "version_major": 2,
       "version_minor": 0
      },
      "text/plain": [
       "Evaluating:   0%|          | 0/3 [00:00<?, ?it/s]"
      ]
     },
     "metadata": {},
     "output_type": "display_data"
    },
    {
     "name": "stdout",
     "output_type": "stream",
     "text": [
      "[INFO] [2025-01-28T01:06:39.019Z] Scores for the question 40 of 50 : {'faithfulness': 0.4286, 'answer_correctness':\n",
      "    0.7762, 'answer_relevancy': 0.8599}\n",
      "\n"
     ]
    },
    {
     "data": {
      "application/vnd.jupyter.widget-view+json": {
       "model_id": "e72eb7ebdc804562a2b631473881ea62",
       "version_major": 2,
       "version_minor": 0
      },
      "text/plain": [
       "Evaluating:   0%|          | 0/3 [00:00<?, ?it/s]"
      ]
     },
     "metadata": {},
     "output_type": "display_data"
    },
    {
     "name": "stdout",
     "output_type": "stream",
     "text": [
      "[INFO] [2025-01-28T01:07:05.321Z] Scores for the question 41 of 50 : {'faithfulness': 0.9231, 'answer_correctness':\n",
      "    0.2884, 'answer_relevancy': 0.0000}\n",
      "\n"
     ]
    },
    {
     "data": {
      "application/vnd.jupyter.widget-view+json": {
       "model_id": "ff2359d811b343f3a25b6dd421d8f49a",
       "version_major": 2,
       "version_minor": 0
      },
      "text/plain": [
       "Evaluating:   0%|          | 0/3 [00:00<?, ?it/s]"
      ]
     },
     "metadata": {},
     "output_type": "display_data"
    },
    {
     "name": "stdout",
     "output_type": "stream",
     "text": [
      "[INFO] [2025-01-28T01:07:21.216Z] Scores for the question 42 of 50 : {'faithfulness': 0.3333, 'answer_correctness':\n",
      "    0.6124, 'answer_relevancy': 0.9234}\n",
      "\n"
     ]
    },
    {
     "data": {
      "application/vnd.jupyter.widget-view+json": {
       "model_id": "455c37f3efd14c4191facc87b816de8c",
       "version_major": 2,
       "version_minor": 0
      },
      "text/plain": [
       "Evaluating:   0%|          | 0/3 [00:00<?, ?it/s]"
      ]
     },
     "metadata": {},
     "output_type": "display_data"
    },
    {
     "name": "stdout",
     "output_type": "stream",
     "text": [
      "[INFO] [2025-01-28T01:07:37.702Z] Scores for the question 43 of 50 : {'faithfulness': 0.4000, 'answer_correctness':\n",
      "    0.7007, 'answer_relevancy': 0.9134}\n",
      "\n"
     ]
    },
    {
     "data": {
      "application/vnd.jupyter.widget-view+json": {
       "model_id": "b718308a02ea496db360f52d98998d16",
       "version_major": 2,
       "version_minor": 0
      },
      "text/plain": [
       "Evaluating:   0%|          | 0/3 [00:00<?, ?it/s]"
      ]
     },
     "metadata": {},
     "output_type": "display_data"
    },
    {
     "name": "stdout",
     "output_type": "stream",
     "text": [
      "[INFO] [2025-01-28T01:07:53.388Z] Scores for the question 44 of 50 : {'faithfulness': 0.8750, 'answer_correctness':\n",
      "    0.2029, 'answer_relevancy': 0.7997}\n",
      "\n"
     ]
    },
    {
     "data": {
      "application/vnd.jupyter.widget-view+json": {
       "model_id": "52f18ef9b34b42a5909b1e58bf30b4ce",
       "version_major": 2,
       "version_minor": 0
      },
      "text/plain": [
       "Evaluating:   0%|          | 0/3 [00:00<?, ?it/s]"
      ]
     },
     "metadata": {},
     "output_type": "display_data"
    },
    {
     "name": "stdout",
     "output_type": "stream",
     "text": [
      "[INFO] [2025-01-28T01:08:17.704Z] Scores for the question 45 of 50 : {'faithfulness': 1.0000, 'answer_correctness':\n",
      "    0.3596, 'answer_relevancy': 0.7360}\n",
      "\n"
     ]
    },
    {
     "data": {
      "application/vnd.jupyter.widget-view+json": {
       "model_id": "0ee42bc13e4c4b0288fb95de4c7cb71b",
       "version_major": 2,
       "version_minor": 0
      },
      "text/plain": [
       "Evaluating:   0%|          | 0/3 [00:00<?, ?it/s]"
      ]
     },
     "metadata": {},
     "output_type": "display_data"
    },
    {
     "name": "stdout",
     "output_type": "stream",
     "text": [
      "[INFO] [2025-01-28T01:08:47.961Z] Scores for the question 46 of 50 : {'faithfulness': 0.9231, 'answer_correctness':\n",
      "    0.2960, 'answer_relevancy': 0.0000}\n",
      "\n"
     ]
    },
    {
     "data": {
      "application/vnd.jupyter.widget-view+json": {
       "model_id": "4aac2d2dfeef4fa1a0521c0c00461852",
       "version_major": 2,
       "version_minor": 0
      },
      "text/plain": [
       "Evaluating:   0%|          | 0/3 [00:00<?, ?it/s]"
      ]
     },
     "metadata": {},
     "output_type": "display_data"
    },
    {
     "name": "stdout",
     "output_type": "stream",
     "text": [
      "[INFO] [2025-01-28T01:09:17.883Z] Scores for the question 47 of 50 : {'faithfulness': 0.6667, 'answer_correctness':\n",
      "    0.5559, 'answer_relevancy': 0.8595}\n",
      "\n"
     ]
    },
    {
     "data": {
      "application/vnd.jupyter.widget-view+json": {
       "model_id": "9b332dbee2c84b1fa7d56b07dd3a2c50",
       "version_major": 2,
       "version_minor": 0
      },
      "text/plain": [
       "Evaluating:   0%|          | 0/3 [00:00<?, ?it/s]"
      ]
     },
     "metadata": {},
     "output_type": "display_data"
    },
    {
     "name": "stdout",
     "output_type": "stream",
     "text": [
      "[INFO] [2025-01-28T01:09:35.737Z] Scores for the question 48 of 50 : {'faithfulness': 1.0000, 'answer_correctness':\n",
      "    0.3700, 'answer_relevancy': 0.7558}\n",
      "\n"
     ]
    },
    {
     "data": {
      "application/vnd.jupyter.widget-view+json": {
       "model_id": "7664848476a84db6af19c3291b677e6c",
       "version_major": 2,
       "version_minor": 0
      },
      "text/plain": [
       "Evaluating:   0%|          | 0/3 [00:00<?, ?it/s]"
      ]
     },
     "metadata": {},
     "output_type": "display_data"
    },
    {
     "name": "stdout",
     "output_type": "stream",
     "text": [
      "[INFO] [2025-01-28T01:10:11.238Z] Scores for the question 49 of 50 : {'faithfulness': 0.9231, 'answer_correctness':\n",
      "    0.4170, 'answer_relevancy': 0.0000}\n",
      "\n"
     ]
    },
    {
     "data": {
      "application/vnd.jupyter.widget-view+json": {
       "model_id": "a0b6fa7bca8848499d37d91a11d80678",
       "version_major": 2,
       "version_minor": 0
      },
      "text/plain": [
       "Evaluating:   0%|          | 0/3 [00:00<?, ?it/s]"
      ]
     },
     "metadata": {},
     "output_type": "display_data"
    },
    {
     "name": "stdout",
     "output_type": "stream",
     "text": [
      "[INFO] [2025-01-28T01:10:30.625Z] Scores for the question 50 of 50 : {'faithfulness': 0.9091, 'answer_correctness':\n",
      "    0.3342, 'answer_relevancy': 0.7338}\n",
      "\n",
      "[INFO] [2025-01-28T01:10:30.640Z] Scores are saved to the file: '/Users/ondergormez/Repos/BLM5109_Collective_Learning/03\n",
      "    -Project/ragas_scores/2025_01_27-\n",
      "    13_23_49_cosmos_dpo_llm_answers_for_cntx_length_15_and_position_of_correct_answer_1_2025_01_28-\n",
      "    01_10_30_ragas_scores.csv'\n",
      "\n",
      "[INFO] [2025-01-28T01:10:30.641Z] Evaluating ragas score for the file:\n",
      "    2025_01_27-13_27_58_cosmos_dpo_llm_answers_for_cntx_length_15_and_position_of_correct_answer_8.csv\n",
      "\n",
      "[INFO] [2025-01-28T01:10:30.653Z] Shape of the dataframe: (50, 11)\n",
      "\n"
     ]
    },
    {
     "data": {
      "application/vnd.jupyter.widget-view+json": {
       "model_id": "4f4bd072baf2404fb45013269428137b",
       "version_major": 2,
       "version_minor": 0
      },
      "text/plain": [
       "Evaluating:   0%|          | 0/3 [00:00<?, ?it/s]"
      ]
     },
     "metadata": {},
     "output_type": "display_data"
    },
    {
     "name": "stdout",
     "output_type": "stream",
     "text": [
      "[INFO] [2025-01-28T01:10:52.080Z] Scores for the question 1 of 50 : {'faithfulness': 0.3333, 'answer_correctness':\n",
      "    0.5706, 'answer_relevancy': 0.9148}\n",
      "\n"
     ]
    },
    {
     "data": {
      "application/vnd.jupyter.widget-view+json": {
       "model_id": "61484fc5ea114e578405b62c73990323",
       "version_major": 2,
       "version_minor": 0
      },
      "text/plain": [
       "Evaluating:   0%|          | 0/3 [00:00<?, ?it/s]"
      ]
     },
     "metadata": {},
     "output_type": "display_data"
    },
    {
     "name": "stdout",
     "output_type": "stream",
     "text": [
      "[INFO] [2025-01-28T01:11:05.805Z] Scores for the question 2 of 50 : {'faithfulness': 0.6667, 'answer_correctness':\n",
      "    0.4204, 'answer_relevancy': 0.8450}\n",
      "\n"
     ]
    },
    {
     "data": {
      "application/vnd.jupyter.widget-view+json": {
       "model_id": "e4709ae59be246fea65f8054fec15f34",
       "version_major": 2,
       "version_minor": 0
      },
      "text/plain": [
       "Evaluating:   0%|          | 0/3 [00:00<?, ?it/s]"
      ]
     },
     "metadata": {},
     "output_type": "display_data"
    },
    {
     "name": "stdout",
     "output_type": "stream",
     "text": [
      "[INFO] [2025-01-28T01:11:32.467Z] Scores for the question 3 of 50 : {'faithfulness': 0.4167, 'answer_correctness':\n",
      "    0.6121, 'answer_relevancy': 0.8755}\n",
      "\n"
     ]
    },
    {
     "data": {
      "application/vnd.jupyter.widget-view+json": {
       "model_id": "8d310a17b32b4a17911eb1d34bb8f3df",
       "version_major": 2,
       "version_minor": 0
      },
      "text/plain": [
       "Evaluating:   0%|          | 0/3 [00:00<?, ?it/s]"
      ]
     },
     "metadata": {},
     "output_type": "display_data"
    },
    {
     "name": "stdout",
     "output_type": "stream",
     "text": [
      "[INFO] [2025-01-28T01:11:51.783Z] Scores for the question 4 of 50 : {'faithfulness': 1.0000, 'answer_correctness':\n",
      "    0.5370, 'answer_relevancy': 0.8431}\n",
      "\n"
     ]
    },
    {
     "data": {
      "application/vnd.jupyter.widget-view+json": {
       "model_id": "c7dfad55f6ba4892904dc35fb00246ae",
       "version_major": 2,
       "version_minor": 0
      },
      "text/plain": [
       "Evaluating:   0%|          | 0/3 [00:00<?, ?it/s]"
      ]
     },
     "metadata": {},
     "output_type": "display_data"
    },
    {
     "name": "stdout",
     "output_type": "stream",
     "text": [
      "[INFO] [2025-01-28T01:12:07.480Z] Scores for the question 5 of 50 : {'faithfulness': 0.4286, 'answer_correctness':\n",
      "    0.4773, 'answer_relevancy': 0.8582}\n",
      "\n"
     ]
    },
    {
     "data": {
      "application/vnd.jupyter.widget-view+json": {
       "model_id": "6d2e29796a0447cd84bfd18dc538474e",
       "version_major": 2,
       "version_minor": 0
      },
      "text/plain": [
       "Evaluating:   0%|          | 0/3 [00:00<?, ?it/s]"
      ]
     },
     "metadata": {},
     "output_type": "display_data"
    },
    {
     "name": "stdout",
     "output_type": "stream",
     "text": [
      "[INFO] [2025-01-28T01:12:24.356Z] Scores for the question 6 of 50 : {'faithfulness': 0.3333, 'answer_correctness':\n",
      "    0.6981, 'answer_relevancy': 0.8317}\n",
      "\n"
     ]
    },
    {
     "data": {
      "application/vnd.jupyter.widget-view+json": {
       "model_id": "1cf01be2f9904682bdf611b47c8a4ecd",
       "version_major": 2,
       "version_minor": 0
      },
      "text/plain": [
       "Evaluating:   0%|          | 0/3 [00:00<?, ?it/s]"
      ]
     },
     "metadata": {},
     "output_type": "display_data"
    },
    {
     "name": "stdout",
     "output_type": "stream",
     "text": [
      "[INFO] [2025-01-28T01:12:35.406Z] Scores for the question 7 of 50 : {'faithfulness': 1.0000, 'answer_correctness':\n",
      "    0.8404, 'answer_relevancy': 0.8219}\n",
      "\n"
     ]
    },
    {
     "data": {
      "application/vnd.jupyter.widget-view+json": {
       "model_id": "c76548c5b1b24195aa26619b94452bc1",
       "version_major": 2,
       "version_minor": 0
      },
      "text/plain": [
       "Evaluating:   0%|          | 0/3 [00:00<?, ?it/s]"
      ]
     },
     "metadata": {},
     "output_type": "display_data"
    },
    {
     "name": "stdout",
     "output_type": "stream",
     "text": [
      "[INFO] [2025-01-28T01:12:46.218Z] Scores for the question 8 of 50 : {'faithfulness': 1.0000, 'answer_correctness':\n",
      "    0.6172, 'answer_relevancy': 0.8817}\n",
      "\n"
     ]
    },
    {
     "data": {
      "application/vnd.jupyter.widget-view+json": {
       "model_id": "4318e87295a14448b1d26725cdce5d8e",
       "version_major": 2,
       "version_minor": 0
      },
      "text/plain": [
       "Evaluating:   0%|          | 0/3 [00:00<?, ?it/s]"
      ]
     },
     "metadata": {},
     "output_type": "display_data"
    },
    {
     "name": "stdout",
     "output_type": "stream",
     "text": [
      "[INFO] [2025-01-28T01:13:03.004Z] Scores for the question 9 of 50 : {'faithfulness': 0.5000, 'answer_correctness':\n",
      "    0.4468, 'answer_relevancy': 0.7866}\n",
      "\n"
     ]
    },
    {
     "data": {
      "application/vnd.jupyter.widget-view+json": {
       "model_id": "a63eed0006a4430c985c1d34de7fdce5",
       "version_major": 2,
       "version_minor": 0
      },
      "text/plain": [
       "Evaluating:   0%|          | 0/3 [00:00<?, ?it/s]"
      ]
     },
     "metadata": {},
     "output_type": "display_data"
    },
    {
     "name": "stdout",
     "output_type": "stream",
     "text": [
      "[INFO] [2025-01-28T01:13:19.578Z] Scores for the question 10 of 50 : {'faithfulness': 1.0000, 'answer_correctness':\n",
      "    0.9912, 'answer_relevancy': 0.8737}\n",
      "\n"
     ]
    },
    {
     "data": {
      "application/vnd.jupyter.widget-view+json": {
       "model_id": "b96c93f848cd4636beea857d469c2630",
       "version_major": 2,
       "version_minor": 0
      },
      "text/plain": [
       "Evaluating:   0%|          | 0/3 [00:00<?, ?it/s]"
      ]
     },
     "metadata": {},
     "output_type": "display_data"
    },
    {
     "name": "stdout",
     "output_type": "stream",
     "text": [
      "[INFO] [2025-01-28T01:13:33.910Z] Scores for the question 11 of 50 : {'faithfulness': 1.0000, 'answer_correctness':\n",
      "    0.6862, 'answer_relevancy': 0.8741}\n",
      "\n"
     ]
    },
    {
     "data": {
      "application/vnd.jupyter.widget-view+json": {
       "model_id": "89c3210e22c8473da32adbaa7f59bee1",
       "version_major": 2,
       "version_minor": 0
      },
      "text/plain": [
       "Evaluating:   0%|          | 0/3 [00:00<?, ?it/s]"
      ]
     },
     "metadata": {},
     "output_type": "display_data"
    },
    {
     "name": "stdout",
     "output_type": "stream",
     "text": [
      "[INFO] [2025-01-28T01:13:54.067Z] Scores for the question 12 of 50 : {'faithfulness': 1.0000, 'answer_correctness':\n",
      "    0.8847, 'answer_relevancy': 0.8721}\n",
      "\n"
     ]
    },
    {
     "data": {
      "application/vnd.jupyter.widget-view+json": {
       "model_id": "ebc931850f9946a5ad59dc64f64f266f",
       "version_major": 2,
       "version_minor": 0
      },
      "text/plain": [
       "Evaluating:   0%|          | 0/3 [00:00<?, ?it/s]"
      ]
     },
     "metadata": {},
     "output_type": "display_data"
    },
    {
     "name": "stdout",
     "output_type": "stream",
     "text": [
      "[INFO] [2025-01-28T01:14:13.274Z] Scores for the question 13 of 50 : {'faithfulness': 1.0000, 'answer_correctness':\n",
      "    0.6905, 'answer_relevancy': 0.9844}\n",
      "\n"
     ]
    },
    {
     "data": {
      "application/vnd.jupyter.widget-view+json": {
       "model_id": "bd3450d127c9452b8589b7b54b289160",
       "version_major": 2,
       "version_minor": 0
      },
      "text/plain": [
       "Evaluating:   0%|          | 0/3 [00:00<?, ?it/s]"
      ]
     },
     "metadata": {},
     "output_type": "display_data"
    },
    {
     "name": "stdout",
     "output_type": "stream",
     "text": [
      "[INFO] [2025-01-28T01:14:33.109Z] Scores for the question 14 of 50 : {'faithfulness': 1.0000, 'answer_correctness':\n",
      "    0.3002, 'answer_relevancy': 0.7210}\n",
      "\n"
     ]
    },
    {
     "data": {
      "application/vnd.jupyter.widget-view+json": {
       "model_id": "7d1f0da8bf5e4485b692e1962ab1ddd8",
       "version_major": 2,
       "version_minor": 0
      },
      "text/plain": [
       "Evaluating:   0%|          | 0/3 [00:00<?, ?it/s]"
      ]
     },
     "metadata": {},
     "output_type": "display_data"
    },
    {
     "name": "stdout",
     "output_type": "stream",
     "text": [
      "[INFO] [2025-01-28T01:14:53.647Z] Scores for the question 15 of 50 : {'faithfulness': 1.0000, 'answer_correctness':\n",
      "    0.8371, 'answer_relevancy': 0.8988}\n",
      "\n"
     ]
    },
    {
     "data": {
      "application/vnd.jupyter.widget-view+json": {
       "model_id": "7114425a6e884bc782d49dde615d614b",
       "version_major": 2,
       "version_minor": 0
      },
      "text/plain": [
       "Evaluating:   0%|          | 0/3 [00:00<?, ?it/s]"
      ]
     },
     "metadata": {},
     "output_type": "display_data"
    },
    {
     "name": "stdout",
     "output_type": "stream",
     "text": [
      "[INFO] [2025-01-28T01:15:12.477Z] Scores for the question 16 of 50 : {'faithfulness': 0.0000, 'answer_correctness':\n",
      "    0.6150, 'answer_relevancy': 0.8709}\n",
      "\n"
     ]
    },
    {
     "data": {
      "application/vnd.jupyter.widget-view+json": {
       "model_id": "ae8b30cdc0ce4ff8adb2b21a1cde2c02",
       "version_major": 2,
       "version_minor": 0
      },
      "text/plain": [
       "Evaluating:   0%|          | 0/3 [00:00<?, ?it/s]"
      ]
     },
     "metadata": {},
     "output_type": "display_data"
    },
    {
     "name": "stdout",
     "output_type": "stream",
     "text": [
      "[INFO] [2025-01-28T01:15:28.560Z] Scores for the question 17 of 50 : {'faithfulness': 1.0000, 'answer_correctness':\n",
      "    0.5299, 'answer_relevancy': 0.8369}\n",
      "\n"
     ]
    },
    {
     "data": {
      "application/vnd.jupyter.widget-view+json": {
       "model_id": "de31a090bdab4979940540f70d41c8ac",
       "version_major": 2,
       "version_minor": 0
      },
      "text/plain": [
       "Evaluating:   0%|          | 0/3 [00:00<?, ?it/s]"
      ]
     },
     "metadata": {},
     "output_type": "display_data"
    },
    {
     "name": "stdout",
     "output_type": "stream",
     "text": [
      "[INFO] [2025-01-28T01:15:39.275Z] Scores for the question 18 of 50 : {'faithfulness': 1.0000, 'answer_correctness':\n",
      "    0.9965, 'answer_relevancy': 0.8673}\n",
      "\n"
     ]
    },
    {
     "data": {
      "application/vnd.jupyter.widget-view+json": {
       "model_id": "37af87244b3c4dc3ba39c2406a925166",
       "version_major": 2,
       "version_minor": 0
      },
      "text/plain": [
       "Evaluating:   0%|          | 0/3 [00:00<?, ?it/s]"
      ]
     },
     "metadata": {},
     "output_type": "display_data"
    },
    {
     "name": "stdout",
     "output_type": "stream",
     "text": [
      "[INFO] [2025-01-28T01:15:53.233Z] Scores for the question 19 of 50 : {'faithfulness': 1.0000, 'answer_correctness':\n",
      "    0.6422, 'answer_relevancy': 0.8610}\n",
      "\n"
     ]
    },
    {
     "data": {
      "application/vnd.jupyter.widget-view+json": {
       "model_id": "3172114cba95459b92b83b364202481c",
       "version_major": 2,
       "version_minor": 0
      },
      "text/plain": [
       "Evaluating:   0%|          | 0/3 [00:00<?, ?it/s]"
      ]
     },
     "metadata": {},
     "output_type": "display_data"
    },
    {
     "name": "stdout",
     "output_type": "stream",
     "text": [
      "[INFO] [2025-01-28T01:16:05.892Z] Scores for the question 20 of 50 : {'faithfulness': 0.5000, 'answer_correctness':\n",
      "    0.5287, 'answer_relevancy': 0.8693}\n",
      "\n"
     ]
    },
    {
     "data": {
      "application/vnd.jupyter.widget-view+json": {
       "model_id": "7ed4dcecd9a9469b97c7d128ad4f9084",
       "version_major": 2,
       "version_minor": 0
      },
      "text/plain": [
       "Evaluating:   0%|          | 0/3 [00:00<?, ?it/s]"
      ]
     },
     "metadata": {},
     "output_type": "display_data"
    },
    {
     "name": "stdout",
     "output_type": "stream",
     "text": [
      "[INFO] [2025-01-28T01:16:16.814Z] Scores for the question 21 of 50 : {'faithfulness': 1.0000, 'answer_correctness':\n",
      "    0.2233, 'answer_relevancy': 0.8491}\n",
      "\n"
     ]
    },
    {
     "data": {
      "application/vnd.jupyter.widget-view+json": {
       "model_id": "45441f38986d421ab7e5fa869b9e5306",
       "version_major": 2,
       "version_minor": 0
      },
      "text/plain": [
       "Evaluating:   0%|          | 0/3 [00:00<?, ?it/s]"
      ]
     },
     "metadata": {},
     "output_type": "display_data"
    },
    {
     "name": "stdout",
     "output_type": "stream",
     "text": [
      "[INFO] [2025-01-28T01:16:31.411Z] Scores for the question 22 of 50 : {'faithfulness': 1.0000, 'answer_correctness':\n",
      "    0.6159, 'answer_relevancy': 0.8658}\n",
      "\n"
     ]
    },
    {
     "data": {
      "application/vnd.jupyter.widget-view+json": {
       "model_id": "f148f048f9344a0fb7b6a5230af8db02",
       "version_major": 2,
       "version_minor": 0
      },
      "text/plain": [
       "Evaluating:   0%|          | 0/3 [00:00<?, ?it/s]"
      ]
     },
     "metadata": {},
     "output_type": "display_data"
    },
    {
     "name": "stdout",
     "output_type": "stream",
     "text": [
      "[INFO] [2025-01-28T01:16:48.252Z] Scores for the question 23 of 50 : {'faithfulness': 1.0000, 'answer_correctness':\n",
      "    0.6406, 'answer_relevancy': 0.8252}\n",
      "\n"
     ]
    },
    {
     "data": {
      "application/vnd.jupyter.widget-view+json": {
       "model_id": "4b516e1880754244a890b7f198109fe4",
       "version_major": 2,
       "version_minor": 0
      },
      "text/plain": [
       "Evaluating:   0%|          | 0/3 [00:00<?, ?it/s]"
      ]
     },
     "metadata": {},
     "output_type": "display_data"
    },
    {
     "name": "stdout",
     "output_type": "stream",
     "text": [
      "[INFO] [2025-01-28T01:17:00.430Z] Scores for the question 24 of 50 : {'faithfulness': 1.0000, 'answer_correctness':\n",
      "    0.8017, 'answer_relevancy': 0.0000}\n",
      "\n"
     ]
    },
    {
     "data": {
      "application/vnd.jupyter.widget-view+json": {
       "model_id": "c070a38c221b4f60b67df41e6f234c9b",
       "version_major": 2,
       "version_minor": 0
      },
      "text/plain": [
       "Evaluating:   0%|          | 0/3 [00:00<?, ?it/s]"
      ]
     },
     "metadata": {},
     "output_type": "display_data"
    },
    {
     "name": "stdout",
     "output_type": "stream",
     "text": [
      "[INFO] [2025-01-28T01:17:11.754Z] Scores for the question 25 of 50 : {'faithfulness': 1.0000, 'answer_correctness':\n",
      "    0.4857, 'answer_relevancy': 0.8089}\n",
      "\n"
     ]
    },
    {
     "data": {
      "application/vnd.jupyter.widget-view+json": {
       "model_id": "1f719239168849959ac7a3afac41593b",
       "version_major": 2,
       "version_minor": 0
      },
      "text/plain": [
       "Evaluating:   0%|          | 0/3 [00:00<?, ?it/s]"
      ]
     },
     "metadata": {},
     "output_type": "display_data"
    },
    {
     "name": "stdout",
     "output_type": "stream",
     "text": [
      "[INFO] [2025-01-28T01:17:31.345Z] Scores for the question 26 of 50 : {'faithfulness': 1.0000, 'answer_correctness':\n",
      "    0.3332, 'answer_relevancy': 0.8043}\n",
      "\n"
     ]
    },
    {
     "data": {
      "application/vnd.jupyter.widget-view+json": {
       "model_id": "e369deff5b974afca8f73e5c09b16c4d",
       "version_major": 2,
       "version_minor": 0
      },
      "text/plain": [
       "Evaluating:   0%|          | 0/3 [00:00<?, ?it/s]"
      ]
     },
     "metadata": {},
     "output_type": "display_data"
    },
    {
     "name": "stdout",
     "output_type": "stream",
     "text": [
      "[INFO] [2025-01-28T01:17:43.379Z] Scores for the question 27 of 50 : {'faithfulness': 1.0000, 'answer_correctness':\n",
      "    0.7408, 'answer_relevancy': 0.8895}\n",
      "\n"
     ]
    },
    {
     "data": {
      "application/vnd.jupyter.widget-view+json": {
       "model_id": "9750450ae8934499a41890a58a40d7e2",
       "version_major": 2,
       "version_minor": 0
      },
      "text/plain": [
       "Evaluating:   0%|          | 0/3 [00:00<?, ?it/s]"
      ]
     },
     "metadata": {},
     "output_type": "display_data"
    },
    {
     "name": "stdout",
     "output_type": "stream",
     "text": [
      "[INFO] [2025-01-28T01:18:10.491Z] Scores for the question 28 of 50 : {'faithfulness': 1.0000, 'answer_correctness':\n",
      "    0.9796, 'answer_relevancy': 0.7663}\n",
      "\n"
     ]
    },
    {
     "data": {
      "application/vnd.jupyter.widget-view+json": {
       "model_id": "ca6864f338f448b38d3b1801e081f47b",
       "version_major": 2,
       "version_minor": 0
      },
      "text/plain": [
       "Evaluating:   0%|          | 0/3 [00:00<?, ?it/s]"
      ]
     },
     "metadata": {},
     "output_type": "display_data"
    },
    {
     "name": "stdout",
     "output_type": "stream",
     "text": [
      "[INFO] [2025-01-28T01:18:32.299Z] Scores for the question 29 of 50 : {'faithfulness': 1.0000, 'answer_correctness':\n",
      "    0.8454, 'answer_relevancy': 0.8523}\n",
      "\n"
     ]
    },
    {
     "data": {
      "application/vnd.jupyter.widget-view+json": {
       "model_id": "0b73dfe69c7f4fd8a1f322cdf170078e",
       "version_major": 2,
       "version_minor": 0
      },
      "text/plain": [
       "Evaluating:   0%|          | 0/3 [00:00<?, ?it/s]"
      ]
     },
     "metadata": {},
     "output_type": "display_data"
    },
    {
     "name": "stdout",
     "output_type": "stream",
     "text": [
      "[INFO] [2025-01-28T01:18:54.771Z] Scores for the question 30 of 50 : {'faithfulness': 0.7692, 'answer_correctness':\n",
      "    0.2183, 'answer_relevancy': 0.7920}\n",
      "\n"
     ]
    },
    {
     "data": {
      "application/vnd.jupyter.widget-view+json": {
       "model_id": "8a866d962e1a4ca1a363453641899fef",
       "version_major": 2,
       "version_minor": 0
      },
      "text/plain": [
       "Evaluating:   0%|          | 0/3 [00:00<?, ?it/s]"
      ]
     },
     "metadata": {},
     "output_type": "display_data"
    },
    {
     "name": "stdout",
     "output_type": "stream",
     "text": [
      "[INFO] [2025-01-28T01:19:18.404Z] Scores for the question 31 of 50 : {'faithfulness': 1.0000, 'answer_correctness':\n",
      "    0.3911, 'answer_relevancy': 0.7485}\n",
      "\n"
     ]
    },
    {
     "data": {
      "application/vnd.jupyter.widget-view+json": {
       "model_id": "c8ff565d0fc244709d0c84c668855222",
       "version_major": 2,
       "version_minor": 0
      },
      "text/plain": [
       "Evaluating:   0%|          | 0/3 [00:00<?, ?it/s]"
      ]
     },
     "metadata": {},
     "output_type": "display_data"
    },
    {
     "name": "stdout",
     "output_type": "stream",
     "text": [
      "[INFO] [2025-01-28T01:19:30.113Z] Scores for the question 32 of 50 : {'faithfulness': 1.0000, 'answer_correctness':\n",
      "    0.5360, 'answer_relevancy': 0.8414}\n",
      "\n"
     ]
    },
    {
     "data": {
      "application/vnd.jupyter.widget-view+json": {
       "model_id": "19bdee636d65401382a80eba1a80abeb",
       "version_major": 2,
       "version_minor": 0
      },
      "text/plain": [
       "Evaluating:   0%|          | 0/3 [00:00<?, ?it/s]"
      ]
     },
     "metadata": {},
     "output_type": "display_data"
    },
    {
     "name": "stdout",
     "output_type": "stream",
     "text": [
      "[INFO] [2025-01-28T01:19:47.538Z] Scores for the question 33 of 50 : {'faithfulness': 1.0000, 'answer_correctness':\n",
      "    0.7999, 'answer_relevancy': 0.7767}\n",
      "\n"
     ]
    },
    {
     "data": {
      "application/vnd.jupyter.widget-view+json": {
       "model_id": "6382a8fa2f9943c295e94c3ffce571ee",
       "version_major": 2,
       "version_minor": 0
      },
      "text/plain": [
       "Evaluating:   0%|          | 0/3 [00:00<?, ?it/s]"
      ]
     },
     "metadata": {},
     "output_type": "display_data"
    },
    {
     "name": "stdout",
     "output_type": "stream",
     "text": [
      "[INFO] [2025-01-28T01:20:03.538Z] Scores for the question 34 of 50 : {'faithfulness': 1.0000, 'answer_correctness':\n",
      "    0.3953, 'answer_relevancy': 0.9560}\n",
      "\n"
     ]
    },
    {
     "data": {
      "application/vnd.jupyter.widget-view+json": {
       "model_id": "5d8a6cb384ba45c5bc08f3ccaffa5e73",
       "version_major": 2,
       "version_minor": 0
      },
      "text/plain": [
       "Evaluating:   0%|          | 0/3 [00:00<?, ?it/s]"
      ]
     },
     "metadata": {},
     "output_type": "display_data"
    },
    {
     "name": "stdout",
     "output_type": "stream",
     "text": [
      "[INFO] [2025-01-28T01:20:25.543Z] Scores for the question 35 of 50 : {'faithfulness': 0.1111, 'answer_correctness':\n",
      "    0.3301, 'answer_relevancy': 0.7882}\n",
      "\n"
     ]
    },
    {
     "data": {
      "application/vnd.jupyter.widget-view+json": {
       "model_id": "150b97a96cf44b7687b3cf6047afcd94",
       "version_major": 2,
       "version_minor": 0
      },
      "text/plain": [
       "Evaluating:   0%|          | 0/3 [00:00<?, ?it/s]"
      ]
     },
     "metadata": {},
     "output_type": "display_data"
    },
    {
     "name": "stdout",
     "output_type": "stream",
     "text": [
      "[INFO] [2025-01-28T01:20:46.445Z] Scores for the question 36 of 50 : {'faithfulness': 0.9091, 'answer_correctness':\n",
      "    0.2063, 'answer_relevancy': 0.0000}\n",
      "\n"
     ]
    },
    {
     "data": {
      "application/vnd.jupyter.widget-view+json": {
       "model_id": "33200bfb43ae43e5bec91858800eeb72",
       "version_major": 2,
       "version_minor": 0
      },
      "text/plain": [
       "Evaluating:   0%|          | 0/3 [00:00<?, ?it/s]"
      ]
     },
     "metadata": {},
     "output_type": "display_data"
    },
    {
     "name": "stdout",
     "output_type": "stream",
     "text": [
      "[INFO] [2025-01-28T01:21:02.112Z] Scores for the question 37 of 50 : {'faithfulness': 1.0000, 'answer_correctness':\n",
      "    0.5350, 'answer_relevancy': 0.8485}\n",
      "\n"
     ]
    },
    {
     "data": {
      "application/vnd.jupyter.widget-view+json": {
       "model_id": "0fab98b912d24bbe9979c648ff17c118",
       "version_major": 2,
       "version_minor": 0
      },
      "text/plain": [
       "Evaluating:   0%|          | 0/3 [00:00<?, ?it/s]"
      ]
     },
     "metadata": {},
     "output_type": "display_data"
    },
    {
     "name": "stdout",
     "output_type": "stream",
     "text": [
      "[INFO] [2025-01-28T01:21:15.662Z] Scores for the question 38 of 50 : {'faithfulness': 1.0000, 'answer_correctness':\n",
      "    0.8790, 'answer_relevancy': 0.8994}\n",
      "\n"
     ]
    },
    {
     "data": {
      "application/vnd.jupyter.widget-view+json": {
       "model_id": "c3411b85c6714c7fb80e3b3185e34108",
       "version_major": 2,
       "version_minor": 0
      },
      "text/plain": [
       "Evaluating:   0%|          | 0/3 [00:00<?, ?it/s]"
      ]
     },
     "metadata": {},
     "output_type": "display_data"
    },
    {
     "name": "stdout",
     "output_type": "stream",
     "text": [
      "[INFO] [2025-01-28T01:21:38.262Z] Scores for the question 39 of 50 : {'faithfulness': 1.0000, 'answer_correctness':\n",
      "    0.6578, 'answer_relevancy': 0.7662}\n",
      "\n"
     ]
    },
    {
     "data": {
      "application/vnd.jupyter.widget-view+json": {
       "model_id": "ee53f2fcea1a4de59216a4a6c1d4941b",
       "version_major": 2,
       "version_minor": 0
      },
      "text/plain": [
       "Evaluating:   0%|          | 0/3 [00:00<?, ?it/s]"
      ]
     },
     "metadata": {},
     "output_type": "display_data"
    },
    {
     "name": "stdout",
     "output_type": "stream",
     "text": [
      "[INFO] [2025-01-28T01:21:59.986Z] Scores for the question 40 of 50 : {'faithfulness': 0.6000, 'answer_correctness':\n",
      "    0.4401, 'answer_relevancy': 0.8599}\n",
      "\n"
     ]
    },
    {
     "data": {
      "application/vnd.jupyter.widget-view+json": {
       "model_id": "fc57de413053438b8c01a63df79fdf50",
       "version_major": 2,
       "version_minor": 0
      },
      "text/plain": [
       "Evaluating:   0%|          | 0/3 [00:00<?, ?it/s]"
      ]
     },
     "metadata": {},
     "output_type": "display_data"
    },
    {
     "name": "stdout",
     "output_type": "stream",
     "text": [
      "[INFO] [2025-01-28T01:22:30.937Z] Scores for the question 41 of 50 : {'faithfulness': 1.0000, 'answer_correctness':\n",
      "    0.4288, 'answer_relevancy': 0.7303}\n",
      "\n"
     ]
    },
    {
     "data": {
      "application/vnd.jupyter.widget-view+json": {
       "model_id": "b11584b3e0d9404392697c2d7e66190b",
       "version_major": 2,
       "version_minor": 0
      },
      "text/plain": [
       "Evaluating:   0%|          | 0/3 [00:00<?, ?it/s]"
      ]
     },
     "metadata": {},
     "output_type": "display_data"
    },
    {
     "name": "stdout",
     "output_type": "stream",
     "text": [
      "[INFO] [2025-01-28T01:22:54.025Z] Scores for the question 42 of 50 : {'faithfulness': 0.5714, 'answer_correctness':\n",
      "    0.6373, 'answer_relevancy': 0.8656}\n",
      "\n"
     ]
    },
    {
     "data": {
      "application/vnd.jupyter.widget-view+json": {
       "model_id": "7bc3652d3ba64c0b99daf166aec4c1fa",
       "version_major": 2,
       "version_minor": 0
      },
      "text/plain": [
       "Evaluating:   0%|          | 0/3 [00:00<?, ?it/s]"
      ]
     },
     "metadata": {},
     "output_type": "display_data"
    },
    {
     "name": "stdout",
     "output_type": "stream",
     "text": [
      "[INFO] [2025-01-28T01:23:10.206Z] Scores for the question 43 of 50 : {'faithfulness': 0.8333, 'answer_correctness':\n",
      "    0.6153, 'answer_relevancy': 0.9134}\n",
      "\n"
     ]
    },
    {
     "data": {
      "application/vnd.jupyter.widget-view+json": {
       "model_id": "3bca58b88053475c9fc65e9a88b48b7a",
       "version_major": 2,
       "version_minor": 0
      },
      "text/plain": [
       "Evaluating:   0%|          | 0/3 [00:00<?, ?it/s]"
      ]
     },
     "metadata": {},
     "output_type": "display_data"
    },
    {
     "name": "stdout",
     "output_type": "stream",
     "text": [
      "[INFO] [2025-01-28T01:23:32.386Z] Scores for the question 44 of 50 : {'faithfulness': 1.0000, 'answer_correctness':\n",
      "    0.6709, 'answer_relevancy': 0.9541}\n",
      "\n"
     ]
    },
    {
     "data": {
      "application/vnd.jupyter.widget-view+json": {
       "model_id": "97971892aa774cea9d7dd50611f15371",
       "version_major": 2,
       "version_minor": 0
      },
      "text/plain": [
       "Evaluating:   0%|          | 0/3 [00:00<?, ?it/s]"
      ]
     },
     "metadata": {},
     "output_type": "display_data"
    },
    {
     "name": "stdout",
     "output_type": "stream",
     "text": [
      "[INFO] [2025-01-28T01:23:44.221Z] Scores for the question 45 of 50 : {'faithfulness': 1.0000, 'answer_correctness':\n",
      "    0.8417, 'answer_relevancy': 0.8929}\n",
      "\n"
     ]
    },
    {
     "data": {
      "application/vnd.jupyter.widget-view+json": {
       "model_id": "c660273ed8d341799ad8402910bb89bf",
       "version_major": 2,
       "version_minor": 0
      },
      "text/plain": [
       "Evaluating:   0%|          | 0/3 [00:00<?, ?it/s]"
      ]
     },
     "metadata": {},
     "output_type": "display_data"
    },
    {
     "name": "stdout",
     "output_type": "stream",
     "text": [
      "[INFO] [2025-01-28T01:24:03.493Z] Scores for the question 46 of 50 : {'faithfulness': 1.0000, 'answer_correctness':\n",
      "    0.7373, 'answer_relevancy': 0.8423}\n",
      "\n"
     ]
    },
    {
     "data": {
      "application/vnd.jupyter.widget-view+json": {
       "model_id": "499ca5f7c8944e889252062648979d05",
       "version_major": 2,
       "version_minor": 0
      },
      "text/plain": [
       "Evaluating:   0%|          | 0/3 [00:00<?, ?it/s]"
      ]
     },
     "metadata": {},
     "output_type": "display_data"
    },
    {
     "name": "stdout",
     "output_type": "stream",
     "text": [
      "[INFO] [2025-01-28T01:24:19.619Z] Scores for the question 47 of 50 : {'faithfulness': 0.8000, 'answer_correctness':\n",
      "    0.4822, 'answer_relevancy': 0.8468}\n",
      "\n"
     ]
    },
    {
     "data": {
      "application/vnd.jupyter.widget-view+json": {
       "model_id": "7c14c2d1d72b43919a8f98e87f35c648",
       "version_major": 2,
       "version_minor": 0
      },
      "text/plain": [
       "Evaluating:   0%|          | 0/3 [00:00<?, ?it/s]"
      ]
     },
     "metadata": {},
     "output_type": "display_data"
    },
    {
     "name": "stdout",
     "output_type": "stream",
     "text": [
      "[INFO] [2025-01-28T01:24:30.107Z] Scores for the question 48 of 50 : {'faithfulness': 1.0000, 'answer_correctness':\n",
      "    0.7310, 'answer_relevancy': 0.7997}\n",
      "\n"
     ]
    },
    {
     "data": {
      "application/vnd.jupyter.widget-view+json": {
       "model_id": "d4bc228ae16941eb8ec51537b99a621c",
       "version_major": 2,
       "version_minor": 0
      },
      "text/plain": [
       "Evaluating:   0%|          | 0/3 [00:00<?, ?it/s]"
      ]
     },
     "metadata": {},
     "output_type": "display_data"
    },
    {
     "name": "stdout",
     "output_type": "stream",
     "text": [
      "[INFO] [2025-01-28T01:24:44.695Z] Scores for the question 49 of 50 : {'faithfulness': 0.6667, 'answer_correctness':\n",
      "    0.5817, 'answer_relevancy': 0.8672}\n",
      "\n"
     ]
    },
    {
     "data": {
      "application/vnd.jupyter.widget-view+json": {
       "model_id": "0df00cc4b5bd427b9b95a17a9394e16c",
       "version_major": 2,
       "version_minor": 0
      },
      "text/plain": [
       "Evaluating:   0%|          | 0/3 [00:00<?, ?it/s]"
      ]
     },
     "metadata": {},
     "output_type": "display_data"
    },
    {
     "name": "stdout",
     "output_type": "stream",
     "text": [
      "[INFO] [2025-01-28T01:24:55.416Z] Scores for the question 50 of 50 : {'faithfulness': 1.0000, 'answer_correctness':\n",
      "    0.9926, 'answer_relevancy': 0.9193}\n",
      "\n",
      "[INFO] [2025-01-28T01:24:55.424Z] Scores are saved to the file: '/Users/ondergormez/Repos/BLM5109_Collective_Learning/03\n",
      "    -Project/ragas_scores/2025_01_27-\n",
      "    13_27_58_cosmos_dpo_llm_answers_for_cntx_length_15_and_position_of_correct_answer_8_2025_01_28-\n",
      "    01_24_55_ragas_scores.csv'\n",
      "\n",
      "[INFO] [2025-01-28T01:24:55.424Z] Evaluating ragas score for the file:\n",
      "    2025_01_27-13_32_15_cosmos_dpo_llm_answers_for_cntx_length_15_and_position_of_correct_answer_15.csv\n",
      "\n",
      "[INFO] [2025-01-28T01:24:55.432Z] Shape of the dataframe: (50, 11)\n",
      "\n"
     ]
    },
    {
     "data": {
      "application/vnd.jupyter.widget-view+json": {
       "model_id": "a630ed2d692e4b74ad42e62369859c23",
       "version_major": 2,
       "version_minor": 0
      },
      "text/plain": [
       "Evaluating:   0%|          | 0/3 [00:00<?, ?it/s]"
      ]
     },
     "metadata": {},
     "output_type": "display_data"
    },
    {
     "name": "stdout",
     "output_type": "stream",
     "text": [
      "[INFO] [2025-01-28T01:25:13.834Z] Scores for the question 1 of 50 : {'faithfulness': 0.5000, 'answer_correctness':\n",
      "    0.6897, 'answer_relevancy': 0.8724}\n",
      "\n"
     ]
    },
    {
     "data": {
      "application/vnd.jupyter.widget-view+json": {
       "model_id": "2c11315cb19044f68ba0b570ea989ad5",
       "version_major": 2,
       "version_minor": 0
      },
      "text/plain": [
       "Evaluating:   0%|          | 0/3 [00:00<?, ?it/s]"
      ]
     },
     "metadata": {},
     "output_type": "display_data"
    },
    {
     "name": "stdout",
     "output_type": "stream",
     "text": [
      "[INFO] [2025-01-28T01:25:28.688Z] Scores for the question 2 of 50 : {'faithfulness': 0.7500, 'answer_correctness':\n",
      "    0.6481, 'answer_relevancy': 0.8335}\n",
      "\n"
     ]
    },
    {
     "data": {
      "application/vnd.jupyter.widget-view+json": {
       "model_id": "6cdc9d193e0c4162a687fd5a0f31e37b",
       "version_major": 2,
       "version_minor": 0
      },
      "text/plain": [
       "Evaluating:   0%|          | 0/3 [00:00<?, ?it/s]"
      ]
     },
     "metadata": {},
     "output_type": "display_data"
    },
    {
     "name": "stdout",
     "output_type": "stream",
     "text": [
      "[INFO] [2025-01-28T01:25:52.356Z] Scores for the question 3 of 50 : {'faithfulness': 0.7273, 'answer_correctness':\n",
      "    0.2147, 'answer_relevancy': 0.8475}\n",
      "\n"
     ]
    },
    {
     "data": {
      "application/vnd.jupyter.widget-view+json": {
       "model_id": "66c181d3fc2c4e07be4e34c6d9b3610a",
       "version_major": 2,
       "version_minor": 0
      },
      "text/plain": [
       "Evaluating:   0%|          | 0/3 [00:00<?, ?it/s]"
      ]
     },
     "metadata": {},
     "output_type": "display_data"
    },
    {
     "name": "stdout",
     "output_type": "stream",
     "text": [
      "[INFO] [2025-01-28T01:26:07.945Z] Scores for the question 4 of 50 : {'faithfulness': 1.0000, 'answer_correctness':\n",
      "    0.7428, 'answer_relevancy': 0.8416}\n",
      "\n"
     ]
    },
    {
     "data": {
      "application/vnd.jupyter.widget-view+json": {
       "model_id": "7481f7a265f440a485cd94c52701f9b6",
       "version_major": 2,
       "version_minor": 0
      },
      "text/plain": [
       "Evaluating:   0%|          | 0/3 [00:00<?, ?it/s]"
      ]
     },
     "metadata": {},
     "output_type": "display_data"
    },
    {
     "name": "stdout",
     "output_type": "stream",
     "text": [
      "[INFO] [2025-01-28T01:26:27.575Z] Scores for the question 5 of 50 : {'faithfulness': 0.2500, 'answer_correctness':\n",
      "    0.7738, 'answer_relevancy': 0.8582}\n",
      "\n"
     ]
    },
    {
     "data": {
      "application/vnd.jupyter.widget-view+json": {
       "model_id": "8dc22826df364797906c417e13d24299",
       "version_major": 2,
       "version_minor": 0
      },
      "text/plain": [
       "Evaluating:   0%|          | 0/3 [00:00<?, ?it/s]"
      ]
     },
     "metadata": {},
     "output_type": "display_data"
    },
    {
     "name": "stdout",
     "output_type": "stream",
     "text": [
      "[INFO] [2025-01-28T01:26:43.397Z] Scores for the question 6 of 50 : {'faithfulness': 1.0000, 'answer_correctness':\n",
      "    0.5632, 'answer_relevancy': 0.8136}\n",
      "\n"
     ]
    },
    {
     "data": {
      "application/vnd.jupyter.widget-view+json": {
       "model_id": "3aec8cc9ee824508bec9212185ec32de",
       "version_major": 2,
       "version_minor": 0
      },
      "text/plain": [
       "Evaluating:   0%|          | 0/3 [00:00<?, ?it/s]"
      ]
     },
     "metadata": {},
     "output_type": "display_data"
    },
    {
     "name": "stdout",
     "output_type": "stream",
     "text": [
      "[INFO] [2025-01-28T01:26:55.551Z] Scores for the question 7 of 50 : {'faithfulness': 1.0000, 'answer_correctness':\n",
      "    0.4863, 'answer_relevancy': 0.8340}\n",
      "\n"
     ]
    },
    {
     "data": {
      "application/vnd.jupyter.widget-view+json": {
       "model_id": "8dfb15ca04254978bad1b3396688010e",
       "version_major": 2,
       "version_minor": 0
      },
      "text/plain": [
       "Evaluating:   0%|          | 0/3 [00:00<?, ?it/s]"
      ]
     },
     "metadata": {},
     "output_type": "display_data"
    },
    {
     "name": "stdout",
     "output_type": "stream",
     "text": [
      "[INFO] [2025-01-28T01:27:05.798Z] Scores for the question 8 of 50 : {'faithfulness': 1.0000, 'answer_correctness':\n",
      "    0.6158, 'answer_relevancy': 0.8817}\n",
      "\n"
     ]
    },
    {
     "data": {
      "application/vnd.jupyter.widget-view+json": {
       "model_id": "3b68f7c35953444c957e94cdc657061e",
       "version_major": 2,
       "version_minor": 0
      },
      "text/plain": [
       "Evaluating:   0%|          | 0/3 [00:00<?, ?it/s]"
      ]
     },
     "metadata": {},
     "output_type": "display_data"
    },
    {
     "name": "stdout",
     "output_type": "stream",
     "text": [
      "[INFO] [2025-01-28T01:27:19.251Z] Scores for the question 9 of 50 : {'faithfulness': 0.3333, 'answer_correctness':\n",
      "    0.5674, 'answer_relevancy': 0.8642}\n",
      "\n"
     ]
    },
    {
     "data": {
      "application/vnd.jupyter.widget-view+json": {
       "model_id": "fdcd8d508b054899949b570de06d3799",
       "version_major": 2,
       "version_minor": 0
      },
      "text/plain": [
       "Evaluating:   0%|          | 0/3 [00:00<?, ?it/s]"
      ]
     },
     "metadata": {},
     "output_type": "display_data"
    },
    {
     "name": "stdout",
     "output_type": "stream",
     "text": [
      "[INFO] [2025-01-28T01:27:30.722Z] Scores for the question 10 of 50 : {'faithfulness': 0.8000, 'answer_correctness':\n",
      "    0.6681, 'answer_relevancy': 0.8737}\n",
      "\n"
     ]
    },
    {
     "data": {
      "application/vnd.jupyter.widget-view+json": {
       "model_id": "6fb7e7b6404e4211945470a0471e7e88",
       "version_major": 2,
       "version_minor": 0
      },
      "text/plain": [
       "Evaluating:   0%|          | 0/3 [00:00<?, ?it/s]"
      ]
     },
     "metadata": {},
     "output_type": "display_data"
    },
    {
     "name": "stdout",
     "output_type": "stream",
     "text": [
      "[INFO] [2025-01-28T01:27:48.388Z] Scores for the question 11 of 50 : {'faithfulness': 0.7143, 'answer_correctness':\n",
      "    0.6138, 'answer_relevancy': 0.8533}\n",
      "\n"
     ]
    },
    {
     "data": {
      "application/vnd.jupyter.widget-view+json": {
       "model_id": "e2f5cc371a774eca9bc0838a8c06722a",
       "version_major": 2,
       "version_minor": 0
      },
      "text/plain": [
       "Evaluating:   0%|          | 0/3 [00:00<?, ?it/s]"
      ]
     },
     "metadata": {},
     "output_type": "display_data"
    },
    {
     "name": "stdout",
     "output_type": "stream",
     "text": [
      "[INFO] [2025-01-28T01:28:05.302Z] Scores for the question 12 of 50 : {'faithfulness': 1.0000, 'answer_correctness':\n",
      "    0.9915, 'answer_relevancy': 0.8767}\n",
      "\n"
     ]
    },
    {
     "data": {
      "application/vnd.jupyter.widget-view+json": {
       "model_id": "0bc57da7fd1e457e8da5975f78be5b6e",
       "version_major": 2,
       "version_minor": 0
      },
      "text/plain": [
       "Evaluating:   0%|          | 0/3 [00:00<?, ?it/s]"
      ]
     },
     "metadata": {},
     "output_type": "display_data"
    },
    {
     "name": "stdout",
     "output_type": "stream",
     "text": [
      "[INFO] [2025-01-28T01:28:29.528Z] Scores for the question 13 of 50 : {'faithfulness': 1.0000, 'answer_correctness':\n",
      "    0.6410, 'answer_relevancy': 0.9270}\n",
      "\n"
     ]
    },
    {
     "data": {
      "application/vnd.jupyter.widget-view+json": {
       "model_id": "8c341f67d3da4e85b653ce5cd1e21636",
       "version_major": 2,
       "version_minor": 0
      },
      "text/plain": [
       "Evaluating:   0%|          | 0/3 [00:00<?, ?it/s]"
      ]
     },
     "metadata": {},
     "output_type": "display_data"
    },
    {
     "name": "stdout",
     "output_type": "stream",
     "text": [
      "[INFO] [2025-01-28T01:28:43.058Z] Scores for the question 14 of 50 : {'faithfulness': 1.0000, 'answer_correctness':\n",
      "    0.6611, 'answer_relevancy': 0.8592}\n",
      "\n"
     ]
    },
    {
     "data": {
      "application/vnd.jupyter.widget-view+json": {
       "model_id": "3b37b5b6765c43b296976f4a2bfa19e7",
       "version_major": 2,
       "version_minor": 0
      },
      "text/plain": [
       "Evaluating:   0%|          | 0/3 [00:00<?, ?it/s]"
      ]
     },
     "metadata": {},
     "output_type": "display_data"
    },
    {
     "name": "stdout",
     "output_type": "stream",
     "text": [
      "[INFO] [2025-01-28T01:29:03.643Z] Scores for the question 15 of 50 : {'faithfulness': 1.0000, 'answer_correctness':\n",
      "    0.5336, 'answer_relevancy': 0.8990}\n",
      "\n"
     ]
    },
    {
     "data": {
      "application/vnd.jupyter.widget-view+json": {
       "model_id": "4ac852686cf74a8992ae8ed6ba76f223",
       "version_major": 2,
       "version_minor": 0
      },
      "text/plain": [
       "Evaluating:   0%|          | 0/3 [00:00<?, ?it/s]"
      ]
     },
     "metadata": {},
     "output_type": "display_data"
    },
    {
     "name": "stdout",
     "output_type": "stream",
     "text": [
      "[INFO] [2025-01-28T01:29:25.545Z] Scores for the question 16 of 50 : {'faithfulness': 0.7143, 'answer_correctness':\n",
      "    0.4664, 'answer_relevancy': 0.8620}\n",
      "\n"
     ]
    },
    {
     "data": {
      "application/vnd.jupyter.widget-view+json": {
       "model_id": "f8e860f83adb475bab63619fe1774813",
       "version_major": 2,
       "version_minor": 0
      },
      "text/plain": [
       "Evaluating:   0%|          | 0/3 [00:00<?, ?it/s]"
      ]
     },
     "metadata": {},
     "output_type": "display_data"
    },
    {
     "name": "stdout",
     "output_type": "stream",
     "text": [
      "[INFO] [2025-01-28T01:29:40.656Z] Scores for the question 17 of 50 : {'faithfulness': 1.0000, 'answer_correctness':\n",
      "    0.5660, 'answer_relevancy': 0.8616}\n",
      "\n"
     ]
    },
    {
     "data": {
      "application/vnd.jupyter.widget-view+json": {
       "model_id": "61953ffd0cf646f5ba35ddb70c88e1ce",
       "version_major": 2,
       "version_minor": 0
      },
      "text/plain": [
       "Evaluating:   0%|          | 0/3 [00:00<?, ?it/s]"
      ]
     },
     "metadata": {},
     "output_type": "display_data"
    },
    {
     "name": "stdout",
     "output_type": "stream",
     "text": [
      "[INFO] [2025-01-28T01:29:53.049Z] Scores for the question 18 of 50 : {'faithfulness': 0.1667, 'answer_correctness':\n",
      "    0.6068, 'answer_relevancy': 0.8594}\n",
      "\n"
     ]
    },
    {
     "data": {
      "application/vnd.jupyter.widget-view+json": {
       "model_id": "8073e9e3d355479ca3b7bbd31f371dbd",
       "version_major": 2,
       "version_minor": 0
      },
      "text/plain": [
       "Evaluating:   0%|          | 0/3 [00:00<?, ?it/s]"
      ]
     },
     "metadata": {},
     "output_type": "display_data"
    },
    {
     "name": "stdout",
     "output_type": "stream",
     "text": [
      "[INFO] [2025-01-28T01:30:15.613Z] Scores for the question 19 of 50 : {'faithfulness': 0.8750, 'answer_correctness':\n",
      "    0.7814, 'answer_relevancy': 0.8579}\n",
      "\n"
     ]
    },
    {
     "data": {
      "application/vnd.jupyter.widget-view+json": {
       "model_id": "271ccf1aea9b43b1a8e1a9cf32aa4ce1",
       "version_major": 2,
       "version_minor": 0
      },
      "text/plain": [
       "Evaluating:   0%|          | 0/3 [00:00<?, ?it/s]"
      ]
     },
     "metadata": {},
     "output_type": "display_data"
    },
    {
     "name": "stdout",
     "output_type": "stream",
     "text": [
      "[INFO] [2025-01-28T01:30:30.137Z] Scores for the question 20 of 50 : {'faithfulness': 0.6000, 'answer_correctness':\n",
      "    0.8164, 'answer_relevancy': 0.9155}\n",
      "\n"
     ]
    },
    {
     "data": {
      "application/vnd.jupyter.widget-view+json": {
       "model_id": "fdb75aa8d8014d708fa357d8744c176e",
       "version_major": 2,
       "version_minor": 0
      },
      "text/plain": [
       "Evaluating:   0%|          | 0/3 [00:00<?, ?it/s]"
      ]
     },
     "metadata": {},
     "output_type": "display_data"
    },
    {
     "name": "stdout",
     "output_type": "stream",
     "text": [
      "[INFO] [2025-01-28T01:30:41.859Z] Scores for the question 21 of 50 : {'faithfulness': 1.0000, 'answer_correctness':\n",
      "    0.2203, 'answer_relevancy': 0.8656}\n",
      "\n"
     ]
    },
    {
     "data": {
      "application/vnd.jupyter.widget-view+json": {
       "model_id": "b060d67c7dc341dc86d8b866d478c409",
       "version_major": 2,
       "version_minor": 0
      },
      "text/plain": [
       "Evaluating:   0%|          | 0/3 [00:00<?, ?it/s]"
      ]
     },
     "metadata": {},
     "output_type": "display_data"
    },
    {
     "name": "stdout",
     "output_type": "stream",
     "text": [
      "[INFO] [2025-01-28T01:30:53.903Z] Scores for the question 22 of 50 : {'faithfulness': 0.6667, 'answer_correctness':\n",
      "    0.5382, 'answer_relevancy': 0.8901}\n",
      "\n"
     ]
    },
    {
     "data": {
      "application/vnd.jupyter.widget-view+json": {
       "model_id": "162311697f834ea2b959dd1a15dfb513",
       "version_major": 2,
       "version_minor": 0
      },
      "text/plain": [
       "Evaluating:   0%|          | 0/3 [00:00<?, ?it/s]"
      ]
     },
     "metadata": {},
     "output_type": "display_data"
    },
    {
     "name": "stdout",
     "output_type": "stream",
     "text": [
      "[INFO] [2025-01-28T01:31:08.318Z] Scores for the question 23 of 50 : {'faithfulness': 1.0000, 'answer_correctness':\n",
      "    0.6632, 'answer_relevancy': 0.8252}\n",
      "\n"
     ]
    },
    {
     "data": {
      "application/vnd.jupyter.widget-view+json": {
       "model_id": "5673141e618f438c9394aabf0f5ecae7",
       "version_major": 2,
       "version_minor": 0
      },
      "text/plain": [
       "Evaluating:   0%|          | 0/3 [00:00<?, ?it/s]"
      ]
     },
     "metadata": {},
     "output_type": "display_data"
    },
    {
     "name": "stdout",
     "output_type": "stream",
     "text": [
      "[INFO] [2025-01-28T01:31:23.203Z] Scores for the question 24 of 50 : {'faithfulness': 1.0000, 'answer_correctness':\n",
      "    0.6623, 'answer_relevancy': 0.0000}\n",
      "\n"
     ]
    },
    {
     "data": {
      "application/vnd.jupyter.widget-view+json": {
       "model_id": "c9799876286740119688de9870428e42",
       "version_major": 2,
       "version_minor": 0
      },
      "text/plain": [
       "Evaluating:   0%|          | 0/3 [00:00<?, ?it/s]"
      ]
     },
     "metadata": {},
     "output_type": "display_data"
    },
    {
     "name": "stdout",
     "output_type": "stream",
     "text": [
      "[INFO] [2025-01-28T01:31:47.975Z] Scores for the question 25 of 50 : {'faithfulness': 0.4444, 'answer_correctness':\n",
      "    0.4625, 'answer_relevancy': 0.8398}\n",
      "\n"
     ]
    },
    {
     "data": {
      "application/vnd.jupyter.widget-view+json": {
       "model_id": "e68143f7696a4fb789b55644c9e02332",
       "version_major": 2,
       "version_minor": 0
      },
      "text/plain": [
       "Evaluating:   0%|          | 0/3 [00:00<?, ?it/s]"
      ]
     },
     "metadata": {},
     "output_type": "display_data"
    },
    {
     "name": "stdout",
     "output_type": "stream",
     "text": [
      "[INFO] [2025-01-28T01:32:02.116Z] Scores for the question 26 of 50 : {'faithfulness': 1.0000, 'answer_correctness':\n",
      "    0.4089, 'answer_relevancy': 0.9143}\n",
      "\n"
     ]
    },
    {
     "data": {
      "application/vnd.jupyter.widget-view+json": {
       "model_id": "0c7e759ddfd14eb6affb140671ee4b09",
       "version_major": 2,
       "version_minor": 0
      },
      "text/plain": [
       "Evaluating:   0%|          | 0/3 [00:00<?, ?it/s]"
      ]
     },
     "metadata": {},
     "output_type": "display_data"
    },
    {
     "name": "stdout",
     "output_type": "stream",
     "text": [
      "[INFO] [2025-01-28T01:32:15.714Z] Scores for the question 27 of 50 : {'faithfulness': 0.8000, 'answer_correctness':\n",
      "    0.6893, 'answer_relevancy': 0.8895}\n",
      "\n"
     ]
    },
    {
     "data": {
      "application/vnd.jupyter.widget-view+json": {
       "model_id": "50602ad6eda24bc893933d16d7bf07bb",
       "version_major": 2,
       "version_minor": 0
      },
      "text/plain": [
       "Evaluating:   0%|          | 0/3 [00:00<?, ?it/s]"
      ]
     },
     "metadata": {},
     "output_type": "display_data"
    },
    {
     "name": "stdout",
     "output_type": "stream",
     "text": [
      "[INFO] [2025-01-28T01:32:36.677Z] Scores for the question 28 of 50 : {'faithfulness': 1.0000, 'answer_correctness':\n",
      "    0.8876, 'answer_relevancy': 0.7696}\n",
      "\n"
     ]
    },
    {
     "data": {
      "application/vnd.jupyter.widget-view+json": {
       "model_id": "360132ef4ea04cc7bf4ebecdc1918e15",
       "version_major": 2,
       "version_minor": 0
      },
      "text/plain": [
       "Evaluating:   0%|          | 0/3 [00:00<?, ?it/s]"
      ]
     },
     "metadata": {},
     "output_type": "display_data"
    },
    {
     "name": "stdout",
     "output_type": "stream",
     "text": [
      "[INFO] [2025-01-28T01:32:58.966Z] Scores for the question 29 of 50 : {'faithfulness': 1.0000, 'answer_correctness':\n",
      "    0.4838, 'answer_relevancy': 0.8523}\n",
      "\n"
     ]
    },
    {
     "data": {
      "application/vnd.jupyter.widget-view+json": {
       "model_id": "9dbdac4f1984430eb3befc30d2193bee",
       "version_major": 2,
       "version_minor": 0
      },
      "text/plain": [
       "Evaluating:   0%|          | 0/3 [00:00<?, ?it/s]"
      ]
     },
     "metadata": {},
     "output_type": "display_data"
    },
    {
     "name": "stdout",
     "output_type": "stream",
     "text": [
      "[INFO] [2025-01-28T01:33:12.017Z] Scores for the question 30 of 50 : {'faithfulness': 0.6667, 'answer_correctness':\n",
      "    0.2229, 'answer_relevancy': 0.9292}\n",
      "\n"
     ]
    },
    {
     "data": {
      "application/vnd.jupyter.widget-view+json": {
       "model_id": "bb37feebde244230bbaeb8b31b2c5688",
       "version_major": 2,
       "version_minor": 0
      },
      "text/plain": [
       "Evaluating:   0%|          | 0/3 [00:00<?, ?it/s]"
      ]
     },
     "metadata": {},
     "output_type": "display_data"
    },
    {
     "name": "stdout",
     "output_type": "stream",
     "text": [
      "[INFO] [2025-01-28T01:33:35.734Z] Scores for the question 31 of 50 : {'faithfulness': 1.0000, 'answer_correctness':\n",
      "    0.4218, 'answer_relevancy': 0.7831}\n",
      "\n"
     ]
    },
    {
     "data": {
      "application/vnd.jupyter.widget-view+json": {
       "model_id": "338ed0727af64158900bad32851f498a",
       "version_major": 2,
       "version_minor": 0
      },
      "text/plain": [
       "Evaluating:   0%|          | 0/3 [00:00<?, ?it/s]"
      ]
     },
     "metadata": {},
     "output_type": "display_data"
    },
    {
     "name": "stdout",
     "output_type": "stream",
     "text": [
      "[INFO] [2025-01-28T01:33:52.672Z] Scores for the question 32 of 50 : {'faithfulness': 0.4286, 'answer_correctness':\n",
      "    0.3892, 'answer_relevancy': 0.8536}\n",
      "\n"
     ]
    },
    {
     "data": {
      "application/vnd.jupyter.widget-view+json": {
       "model_id": "f4e6cd4252474958a914f1cacf24b9b1",
       "version_major": 2,
       "version_minor": 0
      },
      "text/plain": [
       "Evaluating:   0%|          | 0/3 [00:00<?, ?it/s]"
      ]
     },
     "metadata": {},
     "output_type": "display_data"
    },
    {
     "name": "stdout",
     "output_type": "stream",
     "text": [
      "[INFO] [2025-01-28T01:34:15.491Z] Scores for the question 33 of 50 : {'faithfulness': 1.0000, 'answer_correctness':\n",
      "    0.3709, 'answer_relevancy': 0.8271}\n",
      "\n"
     ]
    },
    {
     "data": {
      "application/vnd.jupyter.widget-view+json": {
       "model_id": "3435b1939d5945dd98a71e8d60f7dbf4",
       "version_major": 2,
       "version_minor": 0
      },
      "text/plain": [
       "Evaluating:   0%|          | 0/3 [00:00<?, ?it/s]"
      ]
     },
     "metadata": {},
     "output_type": "display_data"
    },
    {
     "name": "stdout",
     "output_type": "stream",
     "text": [
      "[INFO] [2025-01-28T01:34:31.304Z] Scores for the question 34 of 50 : {'faithfulness': 1.0000, 'answer_correctness':\n",
      "    0.6430, 'answer_relevancy': 0.8030}\n",
      "\n"
     ]
    },
    {
     "data": {
      "application/vnd.jupyter.widget-view+json": {
       "model_id": "cafb2fff801d40a39eb5ce1ae576c7df",
       "version_major": 2,
       "version_minor": 0
      },
      "text/plain": [
       "Evaluating:   0%|          | 0/3 [00:00<?, ?it/s]"
      ]
     },
     "metadata": {},
     "output_type": "display_data"
    },
    {
     "name": "stdout",
     "output_type": "stream",
     "text": [
      "[INFO] [2025-01-28T01:34:51.675Z] Scores for the question 35 of 50 : {'faithfulness': 0.1111, 'answer_correctness':\n",
      "    0.3800, 'answer_relevancy': 0.7828}\n",
      "\n"
     ]
    },
    {
     "data": {
      "application/vnd.jupyter.widget-view+json": {
       "model_id": "fd7c8d0d3e394d7ab6f57ed093d77f88",
       "version_major": 2,
       "version_minor": 0
      },
      "text/plain": [
       "Evaluating:   0%|          | 0/3 [00:00<?, ?it/s]"
      ]
     },
     "metadata": {},
     "output_type": "display_data"
    },
    {
     "name": "stdout",
     "output_type": "stream",
     "text": [
      "[INFO] [2025-01-28T01:35:00.134Z] Scores for the question 36 of 50 : {'faithfulness': 0.0000, 'answer_correctness':\n",
      "    0.8316, 'answer_relevancy': 0.8156}\n",
      "\n"
     ]
    },
    {
     "data": {
      "application/vnd.jupyter.widget-view+json": {
       "model_id": "ffaf1b34f3b141648ef3328b39cb2de5",
       "version_major": 2,
       "version_minor": 0
      },
      "text/plain": [
       "Evaluating:   0%|          | 0/3 [00:00<?, ?it/s]"
      ]
     },
     "metadata": {},
     "output_type": "display_data"
    },
    {
     "name": "stdout",
     "output_type": "stream",
     "text": [
      "[INFO] [2025-01-28T01:35:21.941Z] Scores for the question 37 of 50 : {'faithfulness': 0.0000, 'answer_correctness':\n",
      "    0.7862, 'answer_relevancy': 0.8717}\n",
      "\n"
     ]
    },
    {
     "data": {
      "application/vnd.jupyter.widget-view+json": {
       "model_id": "cea147191d4141d8960850f53fcc0e05",
       "version_major": 2,
       "version_minor": 0
      },
      "text/plain": [
       "Evaluating:   0%|          | 0/3 [00:00<?, ?it/s]"
      ]
     },
     "metadata": {},
     "output_type": "display_data"
    },
    {
     "name": "stdout",
     "output_type": "stream",
     "text": [
      "[INFO] [2025-01-28T01:35:39.663Z] Scores for the question 38 of 50 : {'faithfulness': 1.0000, 'answer_correctness':\n",
      "    0.6658, 'answer_relevancy': 0.8994}\n",
      "\n"
     ]
    },
    {
     "data": {
      "application/vnd.jupyter.widget-view+json": {
       "model_id": "06f20f6497bd4e568c2d3fc262b0591c",
       "version_major": 2,
       "version_minor": 0
      },
      "text/plain": [
       "Evaluating:   0%|          | 0/3 [00:00<?, ?it/s]"
      ]
     },
     "metadata": {},
     "output_type": "display_data"
    },
    {
     "name": "stdout",
     "output_type": "stream",
     "text": [
      "[INFO] [2025-01-28T01:35:58.300Z] Scores for the question 39 of 50 : {'faithfulness': 1.0000, 'answer_correctness':\n",
      "    0.6892, 'answer_relevancy': 0.7578}\n",
      "\n"
     ]
    },
    {
     "data": {
      "application/vnd.jupyter.widget-view+json": {
       "model_id": "e2c5620da31f4011a700aea252285e97",
       "version_major": 2,
       "version_minor": 0
      },
      "text/plain": [
       "Evaluating:   0%|          | 0/3 [00:00<?, ?it/s]"
      ]
     },
     "metadata": {},
     "output_type": "display_data"
    },
    {
     "name": "stdout",
     "output_type": "stream",
     "text": [
      "[INFO] [2025-01-28T01:36:23.310Z] Scores for the question 40 of 50 : {'faithfulness': 0.3333, 'answer_correctness':\n",
      "    0.4982, 'answer_relevancy': 0.8581}\n",
      "\n"
     ]
    },
    {
     "data": {
      "application/vnd.jupyter.widget-view+json": {
       "model_id": "0dc7b91cbfef45e29a590ebffd395ae0",
       "version_major": 2,
       "version_minor": 0
      },
      "text/plain": [
       "Evaluating:   0%|          | 0/3 [00:00<?, ?it/s]"
      ]
     },
     "metadata": {},
     "output_type": "display_data"
    },
    {
     "name": "stdout",
     "output_type": "stream",
     "text": [
      "[INFO] [2025-01-28T01:36:42.153Z] Scores for the question 41 of 50 : {'faithfulness': 1.0000, 'answer_correctness':\n",
      "    0.5281, 'answer_relevancy': 0.8594}\n",
      "\n"
     ]
    },
    {
     "data": {
      "application/vnd.jupyter.widget-view+json": {
       "model_id": "6b077db10544434c818622f3a553e37a",
       "version_major": 2,
       "version_minor": 0
      },
      "text/plain": [
       "Evaluating:   0%|          | 0/3 [00:00<?, ?it/s]"
      ]
     },
     "metadata": {},
     "output_type": "display_data"
    },
    {
     "name": "stdout",
     "output_type": "stream",
     "text": [
      "[INFO] [2025-01-28T01:37:01.980Z] Scores for the question 42 of 50 : {'faithfulness': 0.2857, 'answer_correctness':\n",
      "    0.6381, 'answer_relevancy': 0.8656}\n",
      "\n"
     ]
    },
    {
     "data": {
      "application/vnd.jupyter.widget-view+json": {
       "model_id": "e9dbee52e0fc4179985d284cb834a70d",
       "version_major": 2,
       "version_minor": 0
      },
      "text/plain": [
       "Evaluating:   0%|          | 0/3 [00:00<?, ?it/s]"
      ]
     },
     "metadata": {},
     "output_type": "display_data"
    },
    {
     "name": "stdout",
     "output_type": "stream",
     "text": [
      "[INFO] [2025-01-28T01:37:25.306Z] Scores for the question 43 of 50 : {'faithfulness': 0.8667, 'answer_correctness':\n",
      "    0.4866, 'answer_relevancy': 0.9134}\n",
      "\n"
     ]
    },
    {
     "data": {
      "application/vnd.jupyter.widget-view+json": {
       "model_id": "17b1955539b0428b85c22b56a6a765b8",
       "version_major": 2,
       "version_minor": 0
      },
      "text/plain": [
       "Evaluating:   0%|          | 0/3 [00:00<?, ?it/s]"
      ]
     },
     "metadata": {},
     "output_type": "display_data"
    },
    {
     "name": "stdout",
     "output_type": "stream",
     "text": [
      "[INFO] [2025-01-28T01:37:42.478Z] Scores for the question 44 of 50 : {'faithfulness': 1.0000, 'answer_correctness':\n",
      "    0.5994, 'answer_relevancy': 0.8328}\n",
      "\n"
     ]
    },
    {
     "data": {
      "application/vnd.jupyter.widget-view+json": {
       "model_id": "31d12600b7454698a67feca473830bed",
       "version_major": 2,
       "version_minor": 0
      },
      "text/plain": [
       "Evaluating:   0%|          | 0/3 [00:00<?, ?it/s]"
      ]
     },
     "metadata": {},
     "output_type": "display_data"
    },
    {
     "name": "stdout",
     "output_type": "stream",
     "text": [
      "[INFO] [2025-01-28T01:37:54.049Z] Scores for the question 45 of 50 : {'faithfulness': 1.0000, 'answer_correctness':\n",
      "    0.9923, 'answer_relevancy': 0.9139}\n",
      "\n"
     ]
    },
    {
     "data": {
      "application/vnd.jupyter.widget-view+json": {
       "model_id": "85f00f2199ae4d6d915ec7adeae076ff",
       "version_major": 2,
       "version_minor": 0
      },
      "text/plain": [
       "Evaluating:   0%|          | 0/3 [00:00<?, ?it/s]"
      ]
     },
     "metadata": {},
     "output_type": "display_data"
    },
    {
     "name": "stdout",
     "output_type": "stream",
     "text": [
      "[INFO] [2025-01-28T01:38:06.143Z] Scores for the question 46 of 50 : {'faithfulness': 1.0000, 'answer_correctness':\n",
      "    0.9912, 'answer_relevancy': 0.8806}\n",
      "\n"
     ]
    },
    {
     "data": {
      "application/vnd.jupyter.widget-view+json": {
       "model_id": "127f019b31e348a7a1b48e243d677881",
       "version_major": 2,
       "version_minor": 0
      },
      "text/plain": [
       "Evaluating:   0%|          | 0/3 [00:00<?, ?it/s]"
      ]
     },
     "metadata": {},
     "output_type": "display_data"
    },
    {
     "name": "stdout",
     "output_type": "stream",
     "text": [
      "[INFO] [2025-01-28T01:38:27.771Z] Scores for the question 47 of 50 : {'faithfulness': 1.0000, 'answer_correctness':\n",
      "    0.6907, 'answer_relevancy': 0.8804}\n",
      "\n"
     ]
    },
    {
     "data": {
      "application/vnd.jupyter.widget-view+json": {
       "model_id": "201e6fcc32584342ad0c314b4c9aef9a",
       "version_major": 2,
       "version_minor": 0
      },
      "text/plain": [
       "Evaluating:   0%|          | 0/3 [00:00<?, ?it/s]"
      ]
     },
     "metadata": {},
     "output_type": "display_data"
    },
    {
     "name": "stdout",
     "output_type": "stream",
     "text": [
      "[INFO] [2025-01-28T01:38:39.328Z] Scores for the question 48 of 50 : {'faithfulness': 0.5000, 'answer_correctness':\n",
      "    0.7285, 'answer_relevancy': 0.8149}\n",
      "\n"
     ]
    },
    {
     "data": {
      "application/vnd.jupyter.widget-view+json": {
       "model_id": "50f802691be2493aa47e93988f8a7a4f",
       "version_major": 2,
       "version_minor": 0
      },
      "text/plain": [
       "Evaluating:   0%|          | 0/3 [00:00<?, ?it/s]"
      ]
     },
     "metadata": {},
     "output_type": "display_data"
    },
    {
     "name": "stdout",
     "output_type": "stream",
     "text": [
      "[INFO] [2025-01-28T01:38:58.614Z] Scores for the question 49 of 50 : {'faithfulness': 0.6667, 'answer_correctness':\n",
      "    0.5792, 'answer_relevancy': 0.8355}\n",
      "\n"
     ]
    },
    {
     "data": {
      "application/vnd.jupyter.widget-view+json": {
       "model_id": "cb82ee36af8a4c848b991c68aac8f5bf",
       "version_major": 2,
       "version_minor": 0
      },
      "text/plain": [
       "Evaluating:   0%|          | 0/3 [00:00<?, ?it/s]"
      ]
     },
     "metadata": {},
     "output_type": "display_data"
    },
    {
     "name": "stdout",
     "output_type": "stream",
     "text": [
      "[INFO] [2025-01-28T01:39:24.100Z] Scores for the question 50 of 50 : {'faithfulness': 1.0000, 'answer_correctness':\n",
      "    0.9716, 'answer_relevancy': 0.0000}\n",
      "\n",
      "[INFO] [2025-01-28T01:39:24.117Z] Scores are saved to the file: '/Users/ondergormez/Repos/BLM5109_Collective_Learning/03\n",
      "    -Project/ragas_scores/2025_01_27-\n",
      "    13_32_15_cosmos_dpo_llm_answers_for_cntx_length_15_and_position_of_correct_answer_15_2025_01_28-\n",
      "    01_39_24_ragas_scores.csv'\n",
      "\n"
     ]
    }
   ],
   "source": [
    "ragas_scores_file_names = get_ragas_scores(cosmos_llm_answers_task_b_file_names)"
   ]
  },
  {
   "cell_type": "code",
   "execution_count": 7,
   "metadata": {},
   "outputs": [
    {
     "data": {
      "text/plain": [
       "['/Users/ondergormez/Repos/BLM5109_Collective_Learning/03-Project/ragas_scores/2025_01_27-13_23_49_cosmos_dpo_llm_answers_for_cntx_length_15_and_position_of_correct_answer_1_2025_01_28-01_10_30_ragas_scores.csv',\n",
       " '/Users/ondergormez/Repos/BLM5109_Collective_Learning/03-Project/ragas_scores/2025_01_27-13_27_58_cosmos_dpo_llm_answers_for_cntx_length_15_and_position_of_correct_answer_8_2025_01_28-01_24_55_ragas_scores.csv',\n",
       " '/Users/ondergormez/Repos/BLM5109_Collective_Learning/03-Project/ragas_scores/2025_01_27-13_32_15_cosmos_dpo_llm_answers_for_cntx_length_15_and_position_of_correct_answer_15_2025_01_28-01_39_24_ragas_scores.csv']"
      ]
     },
     "execution_count": 7,
     "metadata": {},
     "output_type": "execute_result"
    }
   ],
   "source": [
    "ragas_scores_file_names"
   ]
  }
 ],
 "metadata": {
  "kernelspec": {
   "display_name": "python_3_12_2_venv",
   "language": "python",
   "name": "python3"
  },
  "language_info": {
   "codemirror_mode": {
    "name": "ipython",
    "version": 3
   },
   "file_extension": ".py",
   "mimetype": "text/x-python",
   "name": "python",
   "nbconvert_exporter": "python",
   "pygments_lexer": "ipython3",
   "version": "3.12.3"
  }
 },
 "nbformat": 4,
 "nbformat_minor": 2
}
