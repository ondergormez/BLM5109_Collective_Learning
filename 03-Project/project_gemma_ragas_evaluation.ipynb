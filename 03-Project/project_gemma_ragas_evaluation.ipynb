{
 "cells": [
  {
   "cell_type": "code",
   "execution_count": 1,
   "metadata": {},
   "outputs": [
    {
     "name": "stdout",
     "output_type": "stream",
     "text": [
      "Google Colab is not enabled. Running locally.\n"
     ]
    }
   ],
   "source": [
    "import os\n",
    "\n",
    "PROJECT_DIR = ''\n",
    "\n",
    "IS_GOOGLE_COLAB_ENABLED = False\n",
    "\n",
    "if IS_GOOGLE_COLAB_ENABLED:\n",
    "    print('Google Colab is enabled. Running on Google Colab.')\n",
    "\n",
    "    from google.colab import drive\n",
    "    # Mount Google Drive\n",
    "    drive.mount('/content/drive', force_remount=True)\n",
    "\n",
    "    PROJECT_DIR = '/content/drive/MyDrive/Colab/'\n",
    "\n",
    "    # Ensure the directory exists\n",
    "    os.makedirs(PROJECT_DIR, exist_ok=True)\n",
    "\n",
    "else:\n",
    "    print('Google Colab is not enabled. Running locally.')\n",
    "\n",
    "    # Local configuration and folder setup\n",
    "    PROJECT_DIR = '/Users/ondergormez/Repos/BLM5109_Collective_Learning/03-Project/'\n",
    "\n",
    "LLM_ANSWERS_DIR = PROJECT_DIR + 'llm_answers'\n",
    "RAGAS_SCORES_DIR = PROJECT_DIR + 'ragas_scores'\n",
    "\n",
    "# Ensure the directory exists\n",
    "os.makedirs(LLM_ANSWERS_DIR, exist_ok=True)\n",
    "os.makedirs(RAGAS_SCORES_DIR, exist_ok=True)"
   ]
  },
  {
   "cell_type": "markdown",
   "metadata": {},
   "source": [
    "# Logger Kullanımı\n",
    "\n",
    "- Oluşturulan kod içerisinde loglama işlemleri için `logging` kütüphanesi kullanılmıştır.\n",
    "- Böylelikle geliştirme aşamasında debug için koyulan kodların çıktılarına bakılarak hata ayıklama işlemleri yapılabilir. Bu kodların çıktıları rapor sunulurken kaldırılacaktır.\n"
   ]
  },
  {
   "cell_type": "code",
   "execution_count": 2,
   "metadata": {},
   "outputs": [
    {
     "name": "stdout",
     "output_type": "stream",
     "text": [
      "[INFO] [2025-01-27T22:56:37.576Z] Logging is configured successfully.\n"
     ]
    }
   ],
   "source": [
    "import logging\n",
    "import logging.config\n",
    "import yaml\n",
    "import textwrap\n",
    "\n",
    "\n",
    "class CustomFormatter(logging.Formatter):\n",
    "\n",
    "    def format(self, record):\n",
    "        wrapped_message = super().format(record)\n",
    "\n",
    "        # wrap the log messages to 120 characters to better fit the screen\n",
    "        if (len(wrapped_message) > 120):\n",
    "            wrapped_message = \"\\n\".join(textwrap.wrap(wrapped_message, width=120))\n",
    "\n",
    "            # indent the wrapped lines but not the first line\n",
    "            first_line, rest = wrapped_message.split('\\n', 1)\n",
    "            wrapped_message = first_line + '\\n' + textwrap.indent(rest, ' ' * 4) + '\\n'\n",
    "\n",
    "        return wrapped_message\n",
    "\n",
    "\n",
    "LOGGER_CONFIG_FILE = PROJECT_DIR + 'logger_config.yaml'\n",
    "\n",
    "# Load the YAML configuration\n",
    "with open(LOGGER_CONFIG_FILE, 'r') as file:\n",
    "    config = yaml.safe_load(file.read())\n",
    "    logging.config.dictConfig(config)\n",
    "\n",
    "# Apply the custom formatter to the selected handler\n",
    "logger = logging.getLogger(\"default_logger\")\n",
    "for handler in logger.handlers:\n",
    "    if isinstance(handler, logging.StreamHandler):\n",
    "        handler.setFormatter(CustomFormatter(handler.formatter._fmt, datefmt=handler.formatter.datefmt))\n",
    "\n",
    "# TODO: Set the log level to INFO\n",
    "# logger.setLevel(logging.DEBUG)\n",
    "logger.setLevel(logging.INFO)\n",
    "\n",
    "\n",
    "logger.debug(\"This is a debug message that will be wrapped after 140 characters. \" * 10)\n",
    "logger.info(\"Logging is configured successfully.\")"
   ]
  },
  {
   "cell_type": "code",
   "execution_count": 3,
   "metadata": {},
   "outputs": [
    {
     "data": {
      "text/plain": [
       "['2025_01_27-12_40_21_gemma_2_9b_llm_answers_for_cntx_length_15_and_position_of_correct_answer_1.csv',\n",
       " '2025_01_27-13_00_31_gemma_2_9b_llm_answers_for_cntx_length_15_and_position_of_correct_answer_8.csv',\n",
       " '2025_01_27-13_20_42_gemma_2_9b_llm_answers_for_cntx_length_15_and_position_of_correct_answer_15.csv']"
      ]
     },
     "execution_count": 3,
     "metadata": {},
     "output_type": "execute_result"
    }
   ],
   "source": [
    "gemma_model_name = \"gemma_2_9b\"\n",
    "gemma_llm_answers_task_b_file_names = [\n",
    "    '2025_01_27-12_40_21_gemma_2_9b_llm_answers_for_cntx_length_15_and_position_of_correct_answer_1.csv',\n",
    "    '2025_01_27-13_00_31_gemma_2_9b_llm_answers_for_cntx_length_15_and_position_of_correct_answer_8.csv',\n",
    "    '2025_01_27-13_20_42_gemma_2_9b_llm_answers_for_cntx_length_15_and_position_of_correct_answer_15.csv',\n",
    "]\n",
    "\n",
    "gemma_llm_answers_task_b_file_names"
   ]
  },
  {
   "cell_type": "code",
   "execution_count": 4,
   "metadata": {},
   "outputs": [],
   "source": [
    "import time\n",
    "\n",
    "\n",
    "def save_scores(llm_answers_file_name, llm_answers_df):\n",
    "    # add time stamp to each file name for unique file names and further analysis\n",
    "    time_stamp = time.strftime(\"%Y_%m_%d-%H_%M_%S\")\n",
    "\n",
    "    file_name = f'{RAGAS_SCORES_DIR}/{llm_answers_file_name}_{time_stamp}_ragas_scores.csv'\n",
    "\n",
    "    llm_answers_df.to_csv(file_name, index=True)\n",
    "    logger.info(f\"Scores are saved to the file: '{file_name}'\")\n",
    "\n",
    "    return file_name"
   ]
  },
  {
   "cell_type": "code",
   "execution_count": 5,
   "metadata": {},
   "outputs": [],
   "source": [
    "from datasets import Dataset\n",
    "from ragas import evaluate\n",
    "from ragas.metrics import faithfulness, answer_correctness, answer_relevancy\n",
    "import pandas as pd\n",
    "\n",
    "import os\n",
    "\n",
    "# TODO: Replace the api key with the correct one from https://platform.openai.com/settings/organization/api-keys\n",
    "# os.environ[\"OPENAI_API_KEY\"] = \"Your API Key\"\n",
    "\n",
    "\n",
    "def get_ragas_scores(file_names):\n",
    "    ragas_scores_file_names = []\n",
    "\n",
    "    model_name_for_ragas_score_eval = ''\n",
    "    for file_name in file_names:\n",
    "        logger.info(f\"Evaluating ragas score for the file: {file_name}\")\n",
    "\n",
    "        llm_answers_df = pd.read_csv(LLM_ANSWERS_DIR + '/' + file_name)\n",
    "        logger.info(\"Shape of the dataframe: \" + str(llm_answers_df.shape))\n",
    "        print()\n",
    "\n",
    "        # Add new columns to store the metrics\n",
    "        llm_answers_df[f'faithfulness'] = \"\"\n",
    "        llm_answers_df['answer_correctness'] = \"\"\n",
    "        llm_answers_df['answer_relevancy'] = \"\"\n",
    "\n",
    "        if 'cosmos' in file_name:\n",
    "            model_name_for_ragas_score_eval = cosmos_model_name\n",
    "        elif 'gemma' in file_name:\n",
    "            model_name_for_ragas_score_eval = gemma_model_name\n",
    "\n",
    "        for i in range(len(llm_answers_df)):\n",
    "            data_sample = {\n",
    "                'question': [\n",
    "                    llm_answers_df.iloc[i]['question'],\n",
    "                ],\n",
    "                'ground_truth': [\n",
    "                    llm_answers_df.iloc[i]['answer'],\n",
    "                ],\n",
    "                'answer': [\n",
    "                    llm_answers_df.iloc[i][f'{model_name_for_ragas_score_eval}_answer'],\n",
    "                ],\n",
    "                'contexts': [\n",
    "                    [\n",
    "                        llm_answers_df.iloc[i]['context'],\n",
    "                    ],\n",
    "                ]\n",
    "            }\n",
    "\n",
    "            dataset = Dataset.from_dict(data_sample)\n",
    "            score = evaluate(dataset, metrics=[faithfulness, answer_correctness, answer_relevancy])\n",
    "            logger.info(f\"Scores for the question {i + 1} of {len(llm_answers_df)}\\n: {score}\")\n",
    "\n",
    "            score_df = score.to_pandas()\n",
    "\n",
    "            chunk_unique_id = llm_answers_df.iloc[i]['id']\n",
    "            index_of_chunk = llm_answers_df['id'] == chunk_unique_id\n",
    "\n",
    "            llm_answers_df.loc[index_of_chunk, 'faithfulness'] = score_df.iloc[0].get('faithfulness')\n",
    "            llm_answers_df.loc[index_of_chunk, 'answer_correctness'] = score_df.iloc[0].get('answer_correctness')\n",
    "            llm_answers_df.loc[index_of_chunk, 'answer_relevancy'] = score_df.iloc[0].get('answer_relevancy')\n",
    "\n",
    "        # get just file name without path and extension\n",
    "        temp_fn = os.path.splitext(os.path.basename(file_name))[0]\n",
    "\n",
    "        fn = save_scores(temp_fn, llm_answers_df)\n",
    "        ragas_scores_file_names.append(fn)\n",
    "\n",
    "    return ragas_scores_file_names"
   ]
  },
  {
   "cell_type": "code",
   "execution_count": 6,
   "metadata": {},
   "outputs": [
    {
     "name": "stdout",
     "output_type": "stream",
     "text": [
      "[INFO] [2025-01-27T22:56:38.518Z] Evaluating ragas score for the file:\n",
      "    2025_01_27-12_40_21_gemma_2_9b_llm_answers_for_cntx_length_15_and_position_of_correct_answer_1.csv\n",
      "\n",
      "[INFO] [2025-01-27T22:56:38.535Z] Shape of the dataframe: (50, 11)\n",
      "\n"
     ]
    },
    {
     "data": {
      "application/vnd.jupyter.widget-view+json": {
       "model_id": "0abf65c8502f4780ab5f449c1e3ce069",
       "version_major": 2,
       "version_minor": 0
      },
      "text/plain": [
       "Evaluating:   0%|          | 0/3 [00:00<?, ?it/s]"
      ]
     },
     "metadata": {},
     "output_type": "display_data"
    },
    {
     "name": "stdout",
     "output_type": "stream",
     "text": [
      "[INFO] [2025-01-27T22:57:06.113Z] Scores for the question 1 of 50 : {'faithfulness': 0.0000, 'answer_correctness':\n",
      "    0.7007, 'answer_relevancy': 0.9009}\n",
      "\n"
     ]
    },
    {
     "data": {
      "application/vnd.jupyter.widget-view+json": {
       "model_id": "d95f9bfbd2bb4bfc9249ea473af6aa7d",
       "version_major": 2,
       "version_minor": 0
      },
      "text/plain": [
       "Evaluating:   0%|          | 0/3 [00:00<?, ?it/s]"
      ]
     },
     "metadata": {},
     "output_type": "display_data"
    },
    {
     "name": "stdout",
     "output_type": "stream",
     "text": [
      "[INFO] [2025-01-27T22:57:39.389Z] Scores for the question 2 of 50 : {'faithfulness': 1.0000, 'answer_correctness':\n",
      "    0.4134, 'answer_relevancy': 1.0000}\n",
      "\n"
     ]
    },
    {
     "data": {
      "application/vnd.jupyter.widget-view+json": {
       "model_id": "bc9a91ba98bd4acf96bc6d5cd3bd26c2",
       "version_major": 2,
       "version_minor": 0
      },
      "text/plain": [
       "Evaluating:   0%|          | 0/3 [00:00<?, ?it/s]"
      ]
     },
     "metadata": {},
     "output_type": "display_data"
    },
    {
     "name": "stdout",
     "output_type": "stream",
     "text": [
      "[INFO] [2025-01-27T22:58:13.602Z] Scores for the question 3 of 50 : {'faithfulness': 0.7273, 'answer_correctness':\n",
      "    0.5019, 'answer_relevancy': 0.8781}\n",
      "\n"
     ]
    },
    {
     "data": {
      "application/vnd.jupyter.widget-view+json": {
       "model_id": "4d5a84851ba849219c1bc34db112b4b8",
       "version_major": 2,
       "version_minor": 0
      },
      "text/plain": [
       "Evaluating:   0%|          | 0/3 [00:00<?, ?it/s]"
      ]
     },
     "metadata": {},
     "output_type": "display_data"
    },
    {
     "name": "stdout",
     "output_type": "stream",
     "text": [
      "[INFO] [2025-01-27T22:58:37.998Z] Scores for the question 4 of 50 : {'faithfulness': 0.1250, 'answer_correctness':\n",
      "    0.3718, 'answer_relevancy': 0.8342}\n",
      "\n"
     ]
    },
    {
     "data": {
      "application/vnd.jupyter.widget-view+json": {
       "model_id": "92f139e7cf0f4380b7dc74a78eac54b7",
       "version_major": 2,
       "version_minor": 0
      },
      "text/plain": [
       "Evaluating:   0%|          | 0/3 [00:00<?, ?it/s]"
      ]
     },
     "metadata": {},
     "output_type": "display_data"
    },
    {
     "name": "stdout",
     "output_type": "stream",
     "text": [
      "[INFO] [2025-01-27T22:59:03.368Z] Scores for the question 5 of 50 : {'faithfulness': 1.0000, 'answer_correctness':\n",
      "    0.7259, 'answer_relevancy': 0.9935}\n",
      "\n"
     ]
    },
    {
     "data": {
      "application/vnd.jupyter.widget-view+json": {
       "model_id": "892dd295c8b54449b133356d508458ad",
       "version_major": 2,
       "version_minor": 0
      },
      "text/plain": [
       "Evaluating:   0%|          | 0/3 [00:00<?, ?it/s]"
      ]
     },
     "metadata": {},
     "output_type": "display_data"
    },
    {
     "name": "stdout",
     "output_type": "stream",
     "text": [
      "[INFO] [2025-01-27T22:59:29.993Z] Scores for the question 6 of 50 : {'faithfulness': 0.3000, 'answer_correctness':\n",
      "    0.7315, 'answer_relevancy': 0.8447}\n",
      "\n"
     ]
    },
    {
     "data": {
      "application/vnd.jupyter.widget-view+json": {
       "model_id": "d1d06d20f1e145e28553043805f29f4c",
       "version_major": 2,
       "version_minor": 0
      },
      "text/plain": [
       "Evaluating:   0%|          | 0/3 [00:00<?, ?it/s]"
      ]
     },
     "metadata": {},
     "output_type": "display_data"
    },
    {
     "name": "stdout",
     "output_type": "stream",
     "text": [
      "[INFO] [2025-01-27T22:59:46.217Z] Scores for the question 7 of 50 : {'faithfulness': 0.6667, 'answer_correctness':\n",
      "    0.9857, 'answer_relevancy': 0.8403}\n",
      "\n"
     ]
    },
    {
     "data": {
      "application/vnd.jupyter.widget-view+json": {
       "model_id": "91965298ead74a0b9080a38ec7712bfa",
       "version_major": 2,
       "version_minor": 0
      },
      "text/plain": [
       "Evaluating:   0%|          | 0/3 [00:00<?, ?it/s]"
      ]
     },
     "metadata": {},
     "output_type": "display_data"
    },
    {
     "name": "stdout",
     "output_type": "stream",
     "text": [
      "[INFO] [2025-01-27T22:59:59.812Z] Scores for the question 8 of 50 : {'faithfulness': 1.0000, 'answer_correctness':\n",
      "    0.6069, 'answer_relevancy': 0.9164}\n",
      "\n"
     ]
    },
    {
     "data": {
      "application/vnd.jupyter.widget-view+json": {
       "model_id": "56721daad15943a29841bf2aae739de9",
       "version_major": 2,
       "version_minor": 0
      },
      "text/plain": [
       "Evaluating:   0%|          | 0/3 [00:00<?, ?it/s]"
      ]
     },
     "metadata": {},
     "output_type": "display_data"
    },
    {
     "name": "stdout",
     "output_type": "stream",
     "text": [
      "[INFO] [2025-01-27T23:00:27.643Z] Scores for the question 9 of 50 : {'faithfulness': 0.0000, 'answer_correctness':\n",
      "    0.7626, 'answer_relevancy': 0.8290}\n",
      "\n"
     ]
    },
    {
     "data": {
      "application/vnd.jupyter.widget-view+json": {
       "model_id": "42eceddec63347c2911c5f6cfaefa0c3",
       "version_major": 2,
       "version_minor": 0
      },
      "text/plain": [
       "Evaluating:   0%|          | 0/3 [00:00<?, ?it/s]"
      ]
     },
     "metadata": {},
     "output_type": "display_data"
    },
    {
     "name": "stdout",
     "output_type": "stream",
     "text": [
      "[INFO] [2025-01-27T23:00:40.164Z] Scores for the question 10 of 50 : {'faithfulness': 1.0000, 'answer_correctness':\n",
      "    0.8374, 'answer_relevancy': 0.8425}\n",
      "\n"
     ]
    },
    {
     "data": {
      "application/vnd.jupyter.widget-view+json": {
       "model_id": "8bded8c2e03e4c0d8cb20566f0c63ddc",
       "version_major": 2,
       "version_minor": 0
      },
      "text/plain": [
       "Evaluating:   0%|          | 0/3 [00:00<?, ?it/s]"
      ]
     },
     "metadata": {},
     "output_type": "display_data"
    },
    {
     "name": "stdout",
     "output_type": "stream",
     "text": [
      "[INFO] [2025-01-27T23:01:01.292Z] Scores for the question 11 of 50 : {'faithfulness': 0.3333, 'answer_correctness':\n",
      "    0.6150, 'answer_relevancy': 0.8832}\n",
      "\n"
     ]
    },
    {
     "data": {
      "application/vnd.jupyter.widget-view+json": {
       "model_id": "299ceb1087d1403c92e78737b363e70d",
       "version_major": 2,
       "version_minor": 0
      },
      "text/plain": [
       "Evaluating:   0%|          | 0/3 [00:00<?, ?it/s]"
      ]
     },
     "metadata": {},
     "output_type": "display_data"
    },
    {
     "name": "stdout",
     "output_type": "stream",
     "text": [
      "[INFO] [2025-01-27T23:01:30.473Z] Scores for the question 12 of 50 : {'faithfulness': 1.0000, 'answer_correctness':\n",
      "    0.7344, 'answer_relevancy': 0.8543}\n",
      "\n"
     ]
    },
    {
     "data": {
      "application/vnd.jupyter.widget-view+json": {
       "model_id": "b31d9905d16342df91d59155f6bf4f1c",
       "version_major": 2,
       "version_minor": 0
      },
      "text/plain": [
       "Evaluating:   0%|          | 0/3 [00:00<?, ?it/s]"
      ]
     },
     "metadata": {},
     "output_type": "display_data"
    },
    {
     "name": "stdout",
     "output_type": "stream",
     "text": [
      "[INFO] [2025-01-27T23:01:51.572Z] Scores for the question 13 of 50 : {'faithfulness': 1.0000, 'answer_correctness':\n",
      "    0.7685, 'answer_relevancy': 0.7825}\n",
      "\n"
     ]
    },
    {
     "data": {
      "application/vnd.jupyter.widget-view+json": {
       "model_id": "ec14544af3e24f42928ace3bc7305bd5",
       "version_major": 2,
       "version_minor": 0
      },
      "text/plain": [
       "Evaluating:   0%|          | 0/3 [00:00<?, ?it/s]"
      ]
     },
     "metadata": {},
     "output_type": "display_data"
    },
    {
     "name": "stdout",
     "output_type": "stream",
     "text": [
      "[INFO] [2025-01-27T23:02:21.517Z] Scores for the question 14 of 50 : {'faithfulness': 0.3636, 'answer_correctness':\n",
      "    0.6112, 'answer_relevancy': 0.8707}\n",
      "\n"
     ]
    },
    {
     "data": {
      "application/vnd.jupyter.widget-view+json": {
       "model_id": "4ce3ef5328b64cd6a377b0cc1caeef71",
       "version_major": 2,
       "version_minor": 0
      },
      "text/plain": [
       "Evaluating:   0%|          | 0/3 [00:00<?, ?it/s]"
      ]
     },
     "metadata": {},
     "output_type": "display_data"
    },
    {
     "name": "stdout",
     "output_type": "stream",
     "text": [
      "[INFO] [2025-01-27T23:02:51.776Z] Scores for the question 15 of 50 : {'faithfulness': 0.6000, 'answer_correctness':\n",
      "    0.5830, 'answer_relevancy': 0.9225}\n",
      "\n"
     ]
    },
    {
     "data": {
      "application/vnd.jupyter.widget-view+json": {
       "model_id": "f69de50d05634ffb88e75e5743805531",
       "version_major": 2,
       "version_minor": 0
      },
      "text/plain": [
       "Evaluating:   0%|          | 0/3 [00:00<?, ?it/s]"
      ]
     },
     "metadata": {},
     "output_type": "display_data"
    },
    {
     "name": "stdout",
     "output_type": "stream",
     "text": [
      "[INFO] [2025-01-27T23:03:16.921Z] Scores for the question 16 of 50 : {'faithfulness': 0.3750, 'answer_correctness':\n",
      "    0.4518, 'answer_relevancy': 0.8791}\n",
      "\n"
     ]
    },
    {
     "data": {
      "application/vnd.jupyter.widget-view+json": {
       "model_id": "4b9a2e376e1c44a5ba884e21a4949a53",
       "version_major": 2,
       "version_minor": 0
      },
      "text/plain": [
       "Evaluating:   0%|          | 0/3 [00:00<?, ?it/s]"
      ]
     },
     "metadata": {},
     "output_type": "display_data"
    },
    {
     "name": "stdout",
     "output_type": "stream",
     "text": [
      "[INFO] [2025-01-27T23:03:49.592Z] Scores for the question 17 of 50 : {'faithfulness': 0.6667, 'answer_correctness':\n",
      "    0.7337, 'answer_relevancy': 0.8606}\n",
      "\n"
     ]
    },
    {
     "data": {
      "application/vnd.jupyter.widget-view+json": {
       "model_id": "088dddb155b04229bdc800f965e73437",
       "version_major": 2,
       "version_minor": 0
      },
      "text/plain": [
       "Evaluating:   0%|          | 0/3 [00:00<?, ?it/s]"
      ]
     },
     "metadata": {},
     "output_type": "display_data"
    },
    {
     "name": "stdout",
     "output_type": "stream",
     "text": [
      "[INFO] [2025-01-27T23:04:05.679Z] Scores for the question 18 of 50 : {'faithfulness': 0.4286, 'answer_correctness':\n",
      "    0.6862, 'answer_relevancy': 0.8907}\n",
      "\n"
     ]
    },
    {
     "data": {
      "application/vnd.jupyter.widget-view+json": {
       "model_id": "32f4cef26e8f4b6db7d65ecfa79c2eb2",
       "version_major": 2,
       "version_minor": 0
      },
      "text/plain": [
       "Evaluating:   0%|          | 0/3 [00:00<?, ?it/s]"
      ]
     },
     "metadata": {},
     "output_type": "display_data"
    },
    {
     "name": "stdout",
     "output_type": "stream",
     "text": [
      "[INFO] [2025-01-27T23:05:17.781Z] Scores for the question 19 of 50 : {'faithfulness': 0.2500, 'answer_correctness':\n",
      "    0.5607, 'answer_relevancy': 0.0000}\n",
      "\n"
     ]
    },
    {
     "data": {
      "application/vnd.jupyter.widget-view+json": {
       "model_id": "c88781ba7fdf4c52962419cd41749e26",
       "version_major": 2,
       "version_minor": 0
      },
      "text/plain": [
       "Evaluating:   0%|          | 0/3 [00:00<?, ?it/s]"
      ]
     },
     "metadata": {},
     "output_type": "display_data"
    },
    {
     "name": "stdout",
     "output_type": "stream",
     "text": [
      "[INFO] [2025-01-27T23:05:42.256Z] Scores for the question 20 of 50 : {'faithfulness': 0.5000, 'answer_correctness':\n",
      "    0.5841, 'answer_relevancy': 0.9462}\n",
      "\n"
     ]
    },
    {
     "data": {
      "application/vnd.jupyter.widget-view+json": {
       "model_id": "2c9b829b82ef4235b6dee4443afacc4a",
       "version_major": 2,
       "version_minor": 0
      },
      "text/plain": [
       "Evaluating:   0%|          | 0/3 [00:00<?, ?it/s]"
      ]
     },
     "metadata": {},
     "output_type": "display_data"
    },
    {
     "name": "stdout",
     "output_type": "stream",
     "text": [
      "[INFO] [2025-01-27T23:05:55.484Z] Scores for the question 21 of 50 : {'faithfulness': 1.0000, 'answer_correctness':\n",
      "    0.4778, 'answer_relevancy': 0.0000}\n",
      "\n"
     ]
    },
    {
     "data": {
      "application/vnd.jupyter.widget-view+json": {
       "model_id": "107b72eb0a74400da3ac542378fbc68b",
       "version_major": 2,
       "version_minor": 0
      },
      "text/plain": [
       "Evaluating:   0%|          | 0/3 [00:00<?, ?it/s]"
      ]
     },
     "metadata": {},
     "output_type": "display_data"
    },
    {
     "name": "stdout",
     "output_type": "stream",
     "text": [
      "[INFO] [2025-01-27T23:06:12.815Z] Scores for the question 22 of 50 : {'faithfulness': 1.0000, 'answer_correctness':\n",
      "    0.7962, 'answer_relevancy': 0.8798}\n",
      "\n"
     ]
    },
    {
     "data": {
      "application/vnd.jupyter.widget-view+json": {
       "model_id": "be8418a9fe1740ddbc546fe21f878c4b",
       "version_major": 2,
       "version_minor": 0
      },
      "text/plain": [
       "Evaluating:   0%|          | 0/3 [00:00<?, ?it/s]"
      ]
     },
     "metadata": {},
     "output_type": "display_data"
    },
    {
     "name": "stdout",
     "output_type": "stream",
     "text": [
      "[INFO] [2025-01-27T23:06:42.626Z] Scores for the question 23 of 50 : {'faithfulness': 0.5000, 'answer_correctness':\n",
      "    0.3461, 'answer_relevancy': 0.0000}\n",
      "\n"
     ]
    },
    {
     "data": {
      "application/vnd.jupyter.widget-view+json": {
       "model_id": "bc050d89373f4d0b9f68725fbebb313d",
       "version_major": 2,
       "version_minor": 0
      },
      "text/plain": [
       "Evaluating:   0%|          | 0/3 [00:00<?, ?it/s]"
      ]
     },
     "metadata": {},
     "output_type": "display_data"
    },
    {
     "name": "stdout",
     "output_type": "stream",
     "text": [
      "[INFO] [2025-01-27T23:07:00.750Z] Scores for the question 24 of 50 : {'faithfulness': 1.0000, 'answer_correctness':\n",
      "    0.4134, 'answer_relevancy': 0.0000}\n",
      "\n"
     ]
    },
    {
     "data": {
      "application/vnd.jupyter.widget-view+json": {
       "model_id": "93e5e10c007a4757bb43ea17371c7fdf",
       "version_major": 2,
       "version_minor": 0
      },
      "text/plain": [
       "Evaluating:   0%|          | 0/3 [00:00<?, ?it/s]"
      ]
     },
     "metadata": {},
     "output_type": "display_data"
    },
    {
     "name": "stdout",
     "output_type": "stream",
     "text": [
      "[INFO] [2025-01-27T23:07:30.038Z] Scores for the question 25 of 50 : {'faithfulness': 0.5000, 'answer_correctness':\n",
      "    0.7647, 'answer_relevancy': 0.8686}\n",
      "\n"
     ]
    },
    {
     "data": {
      "application/vnd.jupyter.widget-view+json": {
       "model_id": "7fbacb016fcf4b669e67e8ad049690e5",
       "version_major": 2,
       "version_minor": 0
      },
      "text/plain": [
       "Evaluating:   0%|          | 0/3 [00:00<?, ?it/s]"
      ]
     },
     "metadata": {},
     "output_type": "display_data"
    },
    {
     "name": "stdout",
     "output_type": "stream",
     "text": [
      "[INFO] [2025-01-27T23:07:57.802Z] Scores for the question 26 of 50 : {'faithfulness': 0.6000, 'answer_correctness':\n",
      "    0.4230, 'answer_relevancy': 0.0000}\n",
      "\n"
     ]
    },
    {
     "data": {
      "application/vnd.jupyter.widget-view+json": {
       "model_id": "7b5eeb370fa14659af2d250afa5fbb0b",
       "version_major": 2,
       "version_minor": 0
      },
      "text/plain": [
       "Evaluating:   0%|          | 0/3 [00:00<?, ?it/s]"
      ]
     },
     "metadata": {},
     "output_type": "display_data"
    },
    {
     "name": "stdout",
     "output_type": "stream",
     "text": [
      "[INFO] [2025-01-27T23:08:12.793Z] Scores for the question 27 of 50 : {'faithfulness': 0.6667, 'answer_correctness':\n",
      "    0.7321, 'answer_relevancy': 0.8663}\n",
      "\n"
     ]
    },
    {
     "data": {
      "application/vnd.jupyter.widget-view+json": {
       "model_id": "42701d7745614d6ebae8e9bcf5e0058d",
       "version_major": 2,
       "version_minor": 0
      },
      "text/plain": [
       "Evaluating:   0%|          | 0/3 [00:00<?, ?it/s]"
      ]
     },
     "metadata": {},
     "output_type": "display_data"
    },
    {
     "name": "stdout",
     "output_type": "stream",
     "text": [
      "[INFO] [2025-01-27T23:08:39.685Z] Scores for the question 28 of 50 : {'faithfulness': 1.0000, 'answer_correctness':\n",
      "    0.3259, 'answer_relevancy': 0.7756}\n",
      "\n"
     ]
    },
    {
     "data": {
      "application/vnd.jupyter.widget-view+json": {
       "model_id": "a90ffb17865343c48356edec2f70a0a5",
       "version_major": 2,
       "version_minor": 0
      },
      "text/plain": [
       "Evaluating:   0%|          | 0/3 [00:00<?, ?it/s]"
      ]
     },
     "metadata": {},
     "output_type": "display_data"
    },
    {
     "name": "stdout",
     "output_type": "stream",
     "text": [
      "[INFO] [2025-01-27T23:09:11.943Z] Scores for the question 29 of 50 : {'faithfulness': 0.8182, 'answer_correctness':\n",
      "    0.4468, 'answer_relevancy': 0.7472}\n",
      "\n"
     ]
    },
    {
     "data": {
      "application/vnd.jupyter.widget-view+json": {
       "model_id": "025c938989c84e34ad1b3a8f5d1bd69c",
       "version_major": 2,
       "version_minor": 0
      },
      "text/plain": [
       "Evaluating:   0%|          | 0/3 [00:00<?, ?it/s]"
      ]
     },
     "metadata": {},
     "output_type": "display_data"
    },
    {
     "name": "stdout",
     "output_type": "stream",
     "text": [
      "[INFO] [2025-01-27T23:09:35.894Z] Scores for the question 30 of 50 : {'faithfulness': 0.1000, 'answer_correctness':\n",
      "    0.2177, 'answer_relevancy': 0.8303}\n",
      "\n"
     ]
    },
    {
     "data": {
      "application/vnd.jupyter.widget-view+json": {
       "model_id": "453e0aa3922044068686d4fa44bff74d",
       "version_major": 2,
       "version_minor": 0
      },
      "text/plain": [
       "Evaluating:   0%|          | 0/3 [00:00<?, ?it/s]"
      ]
     },
     "metadata": {},
     "output_type": "display_data"
    },
    {
     "name": "stdout",
     "output_type": "stream",
     "text": [
      "[INFO] [2025-01-27T23:10:05.326Z] Scores for the question 31 of 50 : {'faithfulness': 0.7143, 'answer_correctness':\n",
      "    0.3995, 'answer_relevancy': 0.7581}\n",
      "\n"
     ]
    },
    {
     "data": {
      "application/vnd.jupyter.widget-view+json": {
       "model_id": "b5814e3b72fe4a799a95598845256f5c",
       "version_major": 2,
       "version_minor": 0
      },
      "text/plain": [
       "Evaluating:   0%|          | 0/3 [00:00<?, ?it/s]"
      ]
     },
     "metadata": {},
     "output_type": "display_data"
    },
    {
     "name": "stdout",
     "output_type": "stream",
     "text": [
      "[INFO] [2025-01-27T23:10:31.164Z] Scores for the question 32 of 50 : {'faithfulness': 0.2500, 'answer_correctness':\n",
      "    0.3636, 'answer_relevancy': 0.8771}\n",
      "\n"
     ]
    },
    {
     "data": {
      "application/vnd.jupyter.widget-view+json": {
       "model_id": "203176948e9147019255d211b8058f31",
       "version_major": 2,
       "version_minor": 0
      },
      "text/plain": [
       "Evaluating:   0%|          | 0/3 [00:00<?, ?it/s]"
      ]
     },
     "metadata": {},
     "output_type": "display_data"
    },
    {
     "name": "stdout",
     "output_type": "stream",
     "text": [
      "[INFO] [2025-01-27T23:10:59.770Z] Scores for the question 33 of 50 : {'faithfulness': 1.0000, 'answer_correctness':\n",
      "    0.7015, 'answer_relevancy': 0.7535}\n",
      "\n"
     ]
    },
    {
     "data": {
      "application/vnd.jupyter.widget-view+json": {
       "model_id": "114fe070cbb14019873891f98553a482",
       "version_major": 2,
       "version_minor": 0
      },
      "text/plain": [
       "Evaluating:   0%|          | 0/3 [00:00<?, ?it/s]"
      ]
     },
     "metadata": {},
     "output_type": "display_data"
    },
    {
     "name": "stdout",
     "output_type": "stream",
     "text": [
      "[INFO] [2025-01-27T23:11:38.164Z] Scores for the question 34 of 50 : {'faithfulness': 0.3750, 'answer_correctness':\n",
      "    0.5946, 'answer_relevancy': 0.8627}\n",
      "\n"
     ]
    },
    {
     "data": {
      "application/vnd.jupyter.widget-view+json": {
       "model_id": "391531d0cd5548d1ba5cc9777ffb02da",
       "version_major": 2,
       "version_minor": 0
      },
      "text/plain": [
       "Evaluating:   0%|          | 0/3 [00:00<?, ?it/s]"
      ]
     },
     "metadata": {},
     "output_type": "display_data"
    },
    {
     "name": "stdout",
     "output_type": "stream",
     "text": [
      "[INFO] [2025-01-27T23:12:14.569Z] Scores for the question 35 of 50 : {'faithfulness': 0.3333, 'answer_correctness':\n",
      "    0.8626, 'answer_relevancy': 0.0000}\n",
      "\n"
     ]
    },
    {
     "data": {
      "application/vnd.jupyter.widget-view+json": {
       "model_id": "352528364d24416d9cf1a22be69055c3",
       "version_major": 2,
       "version_minor": 0
      },
      "text/plain": [
       "Evaluating:   0%|          | 0/3 [00:00<?, ?it/s]"
      ]
     },
     "metadata": {},
     "output_type": "display_data"
    },
    {
     "name": "stdout",
     "output_type": "stream",
     "text": [
      "[INFO] [2025-01-27T23:12:37.585Z] Scores for the question 36 of 50 : {'faithfulness': 0.4000, 'answer_correctness':\n",
      "    0.5480, 'answer_relevancy': 0.0000}\n",
      "\n"
     ]
    },
    {
     "data": {
      "application/vnd.jupyter.widget-view+json": {
       "model_id": "2a30898aa59949b9b0b31fde49cb9645",
       "version_major": 2,
       "version_minor": 0
      },
      "text/plain": [
       "Evaluating:   0%|          | 0/3 [00:00<?, ?it/s]"
      ]
     },
     "metadata": {},
     "output_type": "display_data"
    },
    {
     "name": "stdout",
     "output_type": "stream",
     "text": [
      "[INFO] [2025-01-27T23:14:11.974Z] Scores for the question 37 of 50 : {'faithfulness': 0.4286, 'answer_correctness':\n",
      "    0.5504, 'answer_relevancy': 0.8659}\n",
      "\n"
     ]
    },
    {
     "data": {
      "application/vnd.jupyter.widget-view+json": {
       "model_id": "ae659eba7fed4198ac297f60cedfd7d3",
       "version_major": 2,
       "version_minor": 0
      },
      "text/plain": [
       "Evaluating:   0%|          | 0/3 [00:00<?, ?it/s]"
      ]
     },
     "metadata": {},
     "output_type": "display_data"
    },
    {
     "name": "stdout",
     "output_type": "stream",
     "text": [
      "[INFO] [2025-01-27T23:14:35.251Z] Scores for the question 38 of 50 : {'faithfulness': 0.8000, 'answer_correctness':\n",
      "    0.6176, 'answer_relevancy': 0.8959}\n",
      "\n"
     ]
    },
    {
     "data": {
      "application/vnd.jupyter.widget-view+json": {
       "model_id": "87fe4c08beac4cc89c44c7048e1119bb",
       "version_major": 2,
       "version_minor": 0
      },
      "text/plain": [
       "Evaluating:   0%|          | 0/3 [00:00<?, ?it/s]"
      ]
     },
     "metadata": {},
     "output_type": "display_data"
    },
    {
     "name": "stdout",
     "output_type": "stream",
     "text": [
      "[INFO] [2025-01-27T23:15:04.722Z] Scores for the question 39 of 50 : {'faithfulness': 1.0000, 'answer_correctness':\n",
      "    0.2824, 'answer_relevancy': 0.7335}\n",
      "\n"
     ]
    },
    {
     "data": {
      "application/vnd.jupyter.widget-view+json": {
       "model_id": "69afac1c7baa4221b1f623c8cd219276",
       "version_major": 2,
       "version_minor": 0
      },
      "text/plain": [
       "Evaluating:   0%|          | 0/3 [00:00<?, ?it/s]"
      ]
     },
     "metadata": {},
     "output_type": "display_data"
    },
    {
     "name": "stdout",
     "output_type": "stream",
     "text": [
      "[INFO] [2025-01-27T23:15:49.630Z] Scores for the question 40 of 50 : {'faithfulness': 0.6429, 'answer_correctness':\n",
      "    0.4643, 'answer_relevancy': 0.8599}\n",
      "\n"
     ]
    },
    {
     "data": {
      "application/vnd.jupyter.widget-view+json": {
       "model_id": "981a71f66a54428f878c669afe659bcb",
       "version_major": 2,
       "version_minor": 0
      },
      "text/plain": [
       "Evaluating:   0%|          | 0/3 [00:00<?, ?it/s]"
      ]
     },
     "metadata": {},
     "output_type": "display_data"
    },
    {
     "name": "stdout",
     "output_type": "stream",
     "text": [
      "[INFO] [2025-01-27T23:16:10.812Z] Scores for the question 41 of 50 : {'faithfulness': 0.0000, 'answer_correctness':\n",
      "    0.6776, 'answer_relevancy': 0.8474}\n",
      "\n"
     ]
    },
    {
     "data": {
      "application/vnd.jupyter.widget-view+json": {
       "model_id": "c4a39b09c7b04aedb608711614820e6f",
       "version_major": 2,
       "version_minor": 0
      },
      "text/plain": [
       "Evaluating:   0%|          | 0/3 [00:00<?, ?it/s]"
      ]
     },
     "metadata": {},
     "output_type": "display_data"
    },
    {
     "name": "stdout",
     "output_type": "stream",
     "text": [
      "[INFO] [2025-01-27T23:16:44.367Z] Scores for the question 42 of 50 : {'faithfulness': 0.4000, 'answer_correctness':\n",
      "    0.4018, 'answer_relevancy': 0.8491}\n",
      "\n"
     ]
    },
    {
     "data": {
      "application/vnd.jupyter.widget-view+json": {
       "model_id": "2409552c723d4e28a7c1f3951075affe",
       "version_major": 2,
       "version_minor": 0
      },
      "text/plain": [
       "Evaluating:   0%|          | 0/3 [00:00<?, ?it/s]"
      ]
     },
     "metadata": {},
     "output_type": "display_data"
    },
    {
     "name": "stdout",
     "output_type": "stream",
     "text": [
      "[INFO] [2025-01-27T23:17:13.371Z] Scores for the question 43 of 50 : {'faithfulness': 0.4444, 'answer_correctness':\n",
      "    0.5079, 'answer_relevancy': 0.9134}\n",
      "\n"
     ]
    },
    {
     "data": {
      "application/vnd.jupyter.widget-view+json": {
       "model_id": "f2a7802f447648c8869a465880b2b35a",
       "version_major": 2,
       "version_minor": 0
      },
      "text/plain": [
       "Evaluating:   0%|          | 0/3 [00:00<?, ?it/s]"
      ]
     },
     "metadata": {},
     "output_type": "display_data"
    },
    {
     "name": "stdout",
     "output_type": "stream",
     "text": [
      "[INFO] [2025-01-27T23:17:29.685Z] Scores for the question 44 of 50 : {'faithfulness': 1.0000, 'answer_correctness':\n",
      "    0.9775, 'answer_relevancy': 0.9650}\n",
      "\n"
     ]
    },
    {
     "data": {
      "application/vnd.jupyter.widget-view+json": {
       "model_id": "1da67d4ef1bc4c99aad00ffd829f1b2c",
       "version_major": 2,
       "version_minor": 0
      },
      "text/plain": [
       "Evaluating:   0%|          | 0/3 [00:00<?, ?it/s]"
      ]
     },
     "metadata": {},
     "output_type": "display_data"
    },
    {
     "name": "stdout",
     "output_type": "stream",
     "text": [
      "[INFO] [2025-01-27T23:17:52.928Z] Scores for the question 45 of 50 : {'faithfulness': 0.2000, 'answer_correctness':\n",
      "    0.9363, 'answer_relevancy': 0.9595}\n",
      "\n"
     ]
    },
    {
     "data": {
      "application/vnd.jupyter.widget-view+json": {
       "model_id": "f1a0347ea09e45fca6328f26562ebbb6",
       "version_major": 2,
       "version_minor": 0
      },
      "text/plain": [
       "Evaluating:   0%|          | 0/3 [00:00<?, ?it/s]"
      ]
     },
     "metadata": {},
     "output_type": "display_data"
    },
    {
     "name": "stdout",
     "output_type": "stream",
     "text": [
      "[INFO] [2025-01-27T23:18:14.869Z] Scores for the question 46 of 50 : {'faithfulness': 1.0000, 'answer_correctness':\n",
      "    0.6969, 'answer_relevancy': 0.9636}\n",
      "\n"
     ]
    },
    {
     "data": {
      "application/vnd.jupyter.widget-view+json": {
       "model_id": "d0099f30b95e4126856d0a9398ffc52e",
       "version_major": 2,
       "version_minor": 0
      },
      "text/plain": [
       "Evaluating:   0%|          | 0/3 [00:00<?, ?it/s]"
      ]
     },
     "metadata": {},
     "output_type": "display_data"
    },
    {
     "name": "stdout",
     "output_type": "stream",
     "text": [
      "[INFO] [2025-01-27T23:18:41.176Z] Scores for the question 47 of 50 : {'faithfulness': 1.0000, 'answer_correctness':\n",
      "    0.8681, 'answer_relevancy': 0.8760}\n",
      "\n"
     ]
    },
    {
     "data": {
      "application/vnd.jupyter.widget-view+json": {
       "model_id": "4219a9b36a464141862bd18991cf3ac3",
       "version_major": 2,
       "version_minor": 0
      },
      "text/plain": [
       "Evaluating:   0%|          | 0/3 [00:00<?, ?it/s]"
      ]
     },
     "metadata": {},
     "output_type": "display_data"
    },
    {
     "name": "stdout",
     "output_type": "stream",
     "text": [
      "[INFO] [2025-01-27T23:18:51.615Z] Scores for the question 48 of 50 : {'faithfulness': 0.5000, 'answer_correctness':\n",
      "    0.9750, 'answer_relevancy': 0.8198}\n",
      "\n"
     ]
    },
    {
     "data": {
      "application/vnd.jupyter.widget-view+json": {
       "model_id": "f2ded2357ba141cda41108faf9f8d6c9",
       "version_major": 2,
       "version_minor": 0
      },
      "text/plain": [
       "Evaluating:   0%|          | 0/3 [00:00<?, ?it/s]"
      ]
     },
     "metadata": {},
     "output_type": "display_data"
    },
    {
     "name": "stdout",
     "output_type": "stream",
     "text": [
      "[INFO] [2025-01-27T23:19:16.930Z] Scores for the question 49 of 50 : {'faithfulness': 0.5714, 'answer_correctness':\n",
      "    0.6121, 'answer_relevancy': 0.8323}\n",
      "\n"
     ]
    },
    {
     "data": {
      "application/vnd.jupyter.widget-view+json": {
       "model_id": "d07eed320cda432d95d48b3d578478e7",
       "version_major": 2,
       "version_minor": 0
      },
      "text/plain": [
       "Evaluating:   0%|          | 0/3 [00:00<?, ?it/s]"
      ]
     },
     "metadata": {},
     "output_type": "display_data"
    },
    {
     "name": "stdout",
     "output_type": "stream",
     "text": [
      "[INFO] [2025-01-27T23:19:33.601Z] Scores for the question 50 of 50 : {'faithfulness': 1.0000, 'answer_correctness':\n",
      "    0.9863, 'answer_relevancy': 0.0000}\n",
      "\n",
      "[INFO] [2025-01-27T23:19:33.623Z] Scores are saved to the file: '/Users/ondergormez/Repos/BLM5109_Collective_Learning/03\n",
      "    -Project/ragas_scores/2025_01_27-\n",
      "    12_40_21_gemma_2_9b_llm_answers_for_cntx_length_15_and_position_of_correct_answer_1_2025_01_27-\n",
      "    23_19_33_ragas_scores.csv'\n",
      "\n",
      "[INFO] [2025-01-27T23:19:33.623Z] Evaluating ragas score for the file:\n",
      "    2025_01_27-13_00_31_gemma_2_9b_llm_answers_for_cntx_length_15_and_position_of_correct_answer_8.csv\n",
      "\n",
      "[INFO] [2025-01-27T23:19:33.636Z] Shape of the dataframe: (50, 11)\n",
      "\n"
     ]
    },
    {
     "data": {
      "application/vnd.jupyter.widget-view+json": {
       "model_id": "fb193cda784b418ba702716043b45355",
       "version_major": 2,
       "version_minor": 0
      },
      "text/plain": [
       "Evaluating:   0%|          | 0/3 [00:00<?, ?it/s]"
      ]
     },
     "metadata": {},
     "output_type": "display_data"
    },
    {
     "name": "stdout",
     "output_type": "stream",
     "text": [
      "[INFO] [2025-01-27T23:19:56.339Z] Scores for the question 1 of 50 : {'faithfulness': 0.2500, 'answer_correctness':\n",
      "    0.7663, 'answer_relevancy': 0.9339}\n",
      "\n"
     ]
    },
    {
     "data": {
      "application/vnd.jupyter.widget-view+json": {
       "model_id": "e16941ec54f64fde8f321ecad73d6b46",
       "version_major": 2,
       "version_minor": 0
      },
      "text/plain": [
       "Evaluating:   0%|          | 0/3 [00:00<?, ?it/s]"
      ]
     },
     "metadata": {},
     "output_type": "display_data"
    },
    {
     "name": "stdout",
     "output_type": "stream",
     "text": [
      "[INFO] [2025-01-27T23:20:18.162Z] Scores for the question 2 of 50 : {'faithfulness': 0.8571, 'answer_correctness':\n",
      "    0.5108, 'answer_relevancy': 1.0000}\n",
      "\n"
     ]
    },
    {
     "data": {
      "application/vnd.jupyter.widget-view+json": {
       "model_id": "c8baad61495544008877e169033e8c4d",
       "version_major": 2,
       "version_minor": 0
      },
      "text/plain": [
       "Evaluating:   0%|          | 0/3 [00:00<?, ?it/s]"
      ]
     },
     "metadata": {},
     "output_type": "display_data"
    },
    {
     "name": "stdout",
     "output_type": "stream",
     "text": [
      "[INFO] [2025-01-27T23:20:48.276Z] Scores for the question 3 of 50 : {'faithfulness': 0.8333, 'answer_correctness':\n",
      "    0.6937, 'answer_relevancy': 0.9638}\n",
      "\n"
     ]
    },
    {
     "data": {
      "application/vnd.jupyter.widget-view+json": {
       "model_id": "1ad2a9ca8d2042338344d2981794bd8c",
       "version_major": 2,
       "version_minor": 0
      },
      "text/plain": [
       "Evaluating:   0%|          | 0/3 [00:00<?, ?it/s]"
      ]
     },
     "metadata": {},
     "output_type": "display_data"
    },
    {
     "name": "stdout",
     "output_type": "stream",
     "text": [
      "[INFO] [2025-01-27T23:21:13.195Z] Scores for the question 4 of 50 : {'faithfulness': 1.0000, 'answer_correctness':\n",
      "    0.5535, 'answer_relevancy': 0.8412}\n",
      "\n"
     ]
    },
    {
     "data": {
      "application/vnd.jupyter.widget-view+json": {
       "model_id": "33cc7779baed4095942664c719fe7fc2",
       "version_major": 2,
       "version_minor": 0
      },
      "text/plain": [
       "Evaluating:   0%|          | 0/3 [00:00<?, ?it/s]"
      ]
     },
     "metadata": {},
     "output_type": "display_data"
    },
    {
     "name": "stdout",
     "output_type": "stream",
     "text": [
      "[INFO] [2025-01-27T23:21:30.062Z] Scores for the question 5 of 50 : {'faithfulness': 1.0000, 'answer_correctness':\n",
      "    0.5325, 'answer_relevancy': 1.0000}\n",
      "\n"
     ]
    },
    {
     "data": {
      "application/vnd.jupyter.widget-view+json": {
       "model_id": "92bc2bb856504ab9a540aa27636c9085",
       "version_major": 2,
       "version_minor": 0
      },
      "text/plain": [
       "Evaluating:   0%|          | 0/3 [00:00<?, ?it/s]"
      ]
     },
     "metadata": {},
     "output_type": "display_data"
    },
    {
     "name": "stdout",
     "output_type": "stream",
     "text": [
      "[INFO] [2025-01-27T23:22:03.042Z] Scores for the question 6 of 50 : {'faithfulness': 1.0000, 'answer_correctness':\n",
      "    0.8568, 'answer_relevancy': 0.8084}\n",
      "\n"
     ]
    },
    {
     "data": {
      "application/vnd.jupyter.widget-view+json": {
       "model_id": "3f03788b03e94b6b8addbfd152c37992",
       "version_major": 2,
       "version_minor": 0
      },
      "text/plain": [
       "Evaluating:   0%|          | 0/3 [00:00<?, ?it/s]"
      ]
     },
     "metadata": {},
     "output_type": "display_data"
    },
    {
     "name": "stdout",
     "output_type": "stream",
     "text": [
      "[INFO] [2025-01-27T23:22:22.653Z] Scores for the question 7 of 50 : {'faithfulness': 1.0000, 'answer_correctness':\n",
      "    0.5624, 'answer_relevancy': 0.8314}\n",
      "\n"
     ]
    },
    {
     "data": {
      "application/vnd.jupyter.widget-view+json": {
       "model_id": "fc8ecc77e6b7462885adc198f1c82503",
       "version_major": 2,
       "version_minor": 0
      },
      "text/plain": [
       "Evaluating:   0%|          | 0/3 [00:00<?, ?it/s]"
      ]
     },
     "metadata": {},
     "output_type": "display_data"
    },
    {
     "name": "stdout",
     "output_type": "stream",
     "text": [
      "[INFO] [2025-01-27T23:22:49.599Z] Scores for the question 8 of 50 : {'faithfulness': 1.0000, 'answer_correctness':\n",
      "    0.6605, 'answer_relevancy': 0.8538}\n",
      "\n"
     ]
    },
    {
     "data": {
      "application/vnd.jupyter.widget-view+json": {
       "model_id": "35e1d6a1f2704aa7a374d34eeebb2d52",
       "version_major": 2,
       "version_minor": 0
      },
      "text/plain": [
       "Evaluating:   0%|          | 0/3 [00:00<?, ?it/s]"
      ]
     },
     "metadata": {},
     "output_type": "display_data"
    },
    {
     "name": "stdout",
     "output_type": "stream",
     "text": [
      "[INFO] [2025-01-27T23:23:16.983Z] Scores for the question 9 of 50 : {'faithfulness': 1.0000, 'answer_correctness':\n",
      "    0.5673, 'answer_relevancy': 0.8040}\n",
      "\n"
     ]
    },
    {
     "data": {
      "application/vnd.jupyter.widget-view+json": {
       "model_id": "f2a4f15e433144898e4e1f541958d774",
       "version_major": 2,
       "version_minor": 0
      },
      "text/plain": [
       "Evaluating:   0%|          | 0/3 [00:00<?, ?it/s]"
      ]
     },
     "metadata": {},
     "output_type": "display_data"
    },
    {
     "name": "stdout",
     "output_type": "stream",
     "text": [
      "[INFO] [2025-01-27T23:23:37.003Z] Scores for the question 10 of 50 : {'faithfulness': 0.3333, 'answer_correctness':\n",
      "    0.6661, 'answer_relevancy': 0.8620}\n",
      "\n"
     ]
    },
    {
     "data": {
      "application/vnd.jupyter.widget-view+json": {
       "model_id": "03394e9f30c041ea9d73acdac6d3e2e0",
       "version_major": 2,
       "version_minor": 0
      },
      "text/plain": [
       "Evaluating:   0%|          | 0/3 [00:00<?, ?it/s]"
      ]
     },
     "metadata": {},
     "output_type": "display_data"
    },
    {
     "name": "stdout",
     "output_type": "stream",
     "text": [
      "[INFO] [2025-01-27T23:23:55.279Z] Scores for the question 11 of 50 : {'faithfulness': 0.4000, 'answer_correctness':\n",
      "    0.6481, 'answer_relevancy': 0.8832}\n",
      "\n"
     ]
    },
    {
     "data": {
      "application/vnd.jupyter.widget-view+json": {
       "model_id": "cdfb2139eb4b48e1a9152bdfe6ea4bba",
       "version_major": 2,
       "version_minor": 0
      },
      "text/plain": [
       "Evaluating:   0%|          | 0/3 [00:00<?, ?it/s]"
      ]
     },
     "metadata": {},
     "output_type": "display_data"
    },
    {
     "name": "stdout",
     "output_type": "stream",
     "text": [
      "[INFO] [2025-01-27T23:24:23.885Z] Scores for the question 12 of 50 : {'faithfulness': 1.0000, 'answer_correctness':\n",
      "    0.7592, 'answer_relevancy': 0.8444}\n",
      "\n"
     ]
    },
    {
     "data": {
      "application/vnd.jupyter.widget-view+json": {
       "model_id": "cce06a83df1a4e79943e1aa2c842836c",
       "version_major": 2,
       "version_minor": 0
      },
      "text/plain": [
       "Evaluating:   0%|          | 0/3 [00:00<?, ?it/s]"
      ]
     },
     "metadata": {},
     "output_type": "display_data"
    },
    {
     "name": "stdout",
     "output_type": "stream",
     "text": [
      "[INFO] [2025-01-27T23:24:40.420Z] Scores for the question 13 of 50 : {'faithfulness': 1.0000, 'answer_correctness':\n",
      "    0.7716, 'answer_relevancy': 0.7726}\n",
      "\n"
     ]
    },
    {
     "data": {
      "application/vnd.jupyter.widget-view+json": {
       "model_id": "e44b31cd44ca449dad175ef95bbf5559",
       "version_major": 2,
       "version_minor": 0
      },
      "text/plain": [
       "Evaluating:   0%|          | 0/3 [00:00<?, ?it/s]"
      ]
     },
     "metadata": {},
     "output_type": "display_data"
    },
    {
     "name": "stdout",
     "output_type": "stream",
     "text": [
      "[INFO] [2025-01-27T23:24:59.070Z] Scores for the question 14 of 50 : {'faithfulness': 1.0000, 'answer_correctness':\n",
      "    0.7317, 'answer_relevancy': 0.8672}\n",
      "\n"
     ]
    },
    {
     "data": {
      "application/vnd.jupyter.widget-view+json": {
       "model_id": "a14911e0baa54cd7ad15e889885d0a24",
       "version_major": 2,
       "version_minor": 0
      },
      "text/plain": [
       "Evaluating:   0%|          | 0/3 [00:00<?, ?it/s]"
      ]
     },
     "metadata": {},
     "output_type": "display_data"
    },
    {
     "name": "stdout",
     "output_type": "stream",
     "text": [
      "[INFO] [2025-01-27T23:25:24.640Z] Scores for the question 15 of 50 : {'faithfulness': 0.8750, 'answer_correctness':\n",
      "    0.7890, 'answer_relevancy': 0.7910}\n",
      "\n"
     ]
    },
    {
     "data": {
      "application/vnd.jupyter.widget-view+json": {
       "model_id": "4b44731c08b04d3892a4a2726316ce21",
       "version_major": 2,
       "version_minor": 0
      },
      "text/plain": [
       "Evaluating:   0%|          | 0/3 [00:00<?, ?it/s]"
      ]
     },
     "metadata": {},
     "output_type": "display_data"
    },
    {
     "name": "stdout",
     "output_type": "stream",
     "text": [
      "[INFO] [2025-01-27T23:25:46.950Z] Scores for the question 16 of 50 : {'faithfulness': 0.0000, 'answer_correctness':\n",
      "    0.7075, 'answer_relevancy': 0.8791}\n",
      "\n"
     ]
    },
    {
     "data": {
      "application/vnd.jupyter.widget-view+json": {
       "model_id": "42c21ad3c0ae42fba896687830e345e9",
       "version_major": 2,
       "version_minor": 0
      },
      "text/plain": [
       "Evaluating:   0%|          | 0/3 [00:00<?, ?it/s]"
      ]
     },
     "metadata": {},
     "output_type": "display_data"
    },
    {
     "name": "stdout",
     "output_type": "stream",
     "text": [
      "[INFO] [2025-01-27T23:26:09.402Z] Scores for the question 17 of 50 : {'faithfulness': 1.0000, 'answer_correctness':\n",
      "    0.3618, 'answer_relevancy': 0.8198}\n",
      "\n"
     ]
    },
    {
     "data": {
      "application/vnd.jupyter.widget-view+json": {
       "model_id": "a8de18f0ec9b401e89995cf9e1ba7864",
       "version_major": 2,
       "version_minor": 0
      },
      "text/plain": [
       "Evaluating:   0%|          | 0/3 [00:00<?, ?it/s]"
      ]
     },
     "metadata": {},
     "output_type": "display_data"
    },
    {
     "name": "stdout",
     "output_type": "stream",
     "text": [
      "[INFO] [2025-01-27T23:26:21.177Z] Scores for the question 18 of 50 : {'faithfulness': 0.5000, 'answer_correctness':\n",
      "    0.7331, 'answer_relevancy': 0.9412}\n",
      "\n"
     ]
    },
    {
     "data": {
      "application/vnd.jupyter.widget-view+json": {
       "model_id": "8d256e97985549a38b60fa851dc5afe5",
       "version_major": 2,
       "version_minor": 0
      },
      "text/plain": [
       "Evaluating:   0%|          | 0/3 [00:00<?, ?it/s]"
      ]
     },
     "metadata": {},
     "output_type": "display_data"
    },
    {
     "name": "stdout",
     "output_type": "stream",
     "text": [
      "[INFO] [2025-01-27T23:26:43.098Z] Scores for the question 19 of 50 : {'faithfulness': 0.5000, 'answer_correctness':\n",
      "    0.5028, 'answer_relevancy': 0.0000}\n",
      "\n"
     ]
    },
    {
     "data": {
      "application/vnd.jupyter.widget-view+json": {
       "model_id": "c68bf791d48b4b09b48d3a14cd1ee60d",
       "version_major": 2,
       "version_minor": 0
      },
      "text/plain": [
       "Evaluating:   0%|          | 0/3 [00:00<?, ?it/s]"
      ]
     },
     "metadata": {},
     "output_type": "display_data"
    },
    {
     "name": "stderr",
     "output_type": "stream",
     "text": [
      "Exception raised in Job[2]: TimeoutError()\n"
     ]
    },
    {
     "name": "stdout",
     "output_type": "stream",
     "text": [
      "[INFO] [2025-01-27T23:29:44.301Z] Scores for the question 20 of 50 : {'faithfulness': 0.2857, 'answer_correctness':\n",
      "    0.7328, 'answer_relevancy': nan}\n",
      "\n"
     ]
    },
    {
     "data": {
      "application/vnd.jupyter.widget-view+json": {
       "model_id": "912d559f49284732b7119b3bb7efde98",
       "version_major": 2,
       "version_minor": 0
      },
      "text/plain": [
       "Evaluating:   0%|          | 0/3 [00:00<?, ?it/s]"
      ]
     },
     "metadata": {},
     "output_type": "display_data"
    },
    {
     "name": "stdout",
     "output_type": "stream",
     "text": [
      "[INFO] [2025-01-27T23:30:10.036Z] Scores for the question 21 of 50 : {'faithfulness': 1.0000, 'answer_correctness':\n",
      "    0.2205, 'answer_relevancy': 0.9221}\n",
      "\n"
     ]
    },
    {
     "data": {
      "application/vnd.jupyter.widget-view+json": {
       "model_id": "c7700b0bc5594681860f7d8eedbe8d7b",
       "version_major": 2,
       "version_minor": 0
      },
      "text/plain": [
       "Evaluating:   0%|          | 0/3 [00:00<?, ?it/s]"
      ]
     },
     "metadata": {},
     "output_type": "display_data"
    },
    {
     "name": "stdout",
     "output_type": "stream",
     "text": [
      "[INFO] [2025-01-27T23:30:24.371Z] Scores for the question 22 of 50 : {'faithfulness': 0.6000, 'answer_correctness':\n",
      "    0.5670, 'answer_relevancy': 0.0000}\n",
      "\n"
     ]
    },
    {
     "data": {
      "application/vnd.jupyter.widget-view+json": {
       "model_id": "0e9d66eee9484b36b1351af4bb68e467",
       "version_major": 2,
       "version_minor": 0
      },
      "text/plain": [
       "Evaluating:   0%|          | 0/3 [00:00<?, ?it/s]"
      ]
     },
     "metadata": {},
     "output_type": "display_data"
    },
    {
     "name": "stdout",
     "output_type": "stream",
     "text": [
      "[INFO] [2025-01-27T23:30:44.701Z] Scores for the question 23 of 50 : {'faithfulness': 1.0000, 'answer_correctness':\n",
      "    0.4798, 'answer_relevancy': 0.8454}\n",
      "\n"
     ]
    },
    {
     "data": {
      "application/vnd.jupyter.widget-view+json": {
       "model_id": "1a99302c224c4ad196d72a97bc302987",
       "version_major": 2,
       "version_minor": 0
      },
      "text/plain": [
       "Evaluating:   0%|          | 0/3 [00:00<?, ?it/s]"
      ]
     },
     "metadata": {},
     "output_type": "display_data"
    },
    {
     "name": "stdout",
     "output_type": "stream",
     "text": [
      "[INFO] [2025-01-27T23:31:01.879Z] Scores for the question 24 of 50 : {'faithfulness': 1.0000, 'answer_correctness':\n",
      "    0.9825, 'answer_relevancy': 0.0000}\n",
      "\n"
     ]
    },
    {
     "data": {
      "application/vnd.jupyter.widget-view+json": {
       "model_id": "67a46460310c4493b3094f0570a5ddbc",
       "version_major": 2,
       "version_minor": 0
      },
      "text/plain": [
       "Evaluating:   0%|          | 0/3 [00:00<?, ?it/s]"
      ]
     },
     "metadata": {},
     "output_type": "display_data"
    },
    {
     "name": "stdout",
     "output_type": "stream",
     "text": [
      "[INFO] [2025-01-27T23:31:26.247Z] Scores for the question 25 of 50 : {'faithfulness': 0.1429, 'answer_correctness':\n",
      "    0.7955, 'answer_relevancy': 0.8299}\n",
      "\n"
     ]
    },
    {
     "data": {
      "application/vnd.jupyter.widget-view+json": {
       "model_id": "895cb7e5f885489d8d48e287220c9417",
       "version_major": 2,
       "version_minor": 0
      },
      "text/plain": [
       "Evaluating:   0%|          | 0/3 [00:00<?, ?it/s]"
      ]
     },
     "metadata": {},
     "output_type": "display_data"
    },
    {
     "name": "stdout",
     "output_type": "stream",
     "text": [
      "[INFO] [2025-01-27T23:31:42.037Z] Scores for the question 26 of 50 : {'faithfulness': 0.7500, 'answer_correctness':\n",
      "    0.6112, 'answer_relevancy': 0.0000}\n",
      "\n"
     ]
    },
    {
     "data": {
      "application/vnd.jupyter.widget-view+json": {
       "model_id": "6f4a309aa55e447cb59b6e1b185ec19c",
       "version_major": 2,
       "version_minor": 0
      },
      "text/plain": [
       "Evaluating:   0%|          | 0/3 [00:00<?, ?it/s]"
      ]
     },
     "metadata": {},
     "output_type": "display_data"
    },
    {
     "name": "stdout",
     "output_type": "stream",
     "text": [
      "[INFO] [2025-01-27T23:31:54.452Z] Scores for the question 27 of 50 : {'faithfulness': 1.0000, 'answer_correctness':\n",
      "    0.7308, 'answer_relevancy': 0.8922}\n",
      "\n"
     ]
    },
    {
     "data": {
      "application/vnd.jupyter.widget-view+json": {
       "model_id": "73f7737d7c92423882fcc0f4d9750d20",
       "version_major": 2,
       "version_minor": 0
      },
      "text/plain": [
       "Evaluating:   0%|          | 0/3 [00:00<?, ?it/s]"
      ]
     },
     "metadata": {},
     "output_type": "display_data"
    },
    {
     "name": "stdout",
     "output_type": "stream",
     "text": [
      "[INFO] [2025-01-27T23:32:24.633Z] Scores for the question 28 of 50 : {'faithfulness': 1.0000, 'answer_correctness':\n",
      "    0.2071, 'answer_relevancy': 0.7560}\n",
      "\n"
     ]
    },
    {
     "data": {
      "application/vnd.jupyter.widget-view+json": {
       "model_id": "563eadaec94f416c8c1492feeb32ab58",
       "version_major": 2,
       "version_minor": 0
      },
      "text/plain": [
       "Evaluating:   0%|          | 0/3 [00:00<?, ?it/s]"
      ]
     },
     "metadata": {},
     "output_type": "display_data"
    },
    {
     "name": "stdout",
     "output_type": "stream",
     "text": [
      "[INFO] [2025-01-27T23:33:22.197Z] Scores for the question 29 of 50 : {'faithfulness': 1.0000, 'answer_correctness':\n",
      "    0.5282, 'answer_relevancy': 0.8423}\n",
      "\n"
     ]
    },
    {
     "data": {
      "application/vnd.jupyter.widget-view+json": {
       "model_id": "1329eee3ccc7484db22eef35a277029c",
       "version_major": 2,
       "version_minor": 0
      },
      "text/plain": [
       "Evaluating:   0%|          | 0/3 [00:00<?, ?it/s]"
      ]
     },
     "metadata": {},
     "output_type": "display_data"
    },
    {
     "name": "stdout",
     "output_type": "stream",
     "text": [
      "[INFO] [2025-01-27T23:33:45.282Z] Scores for the question 30 of 50 : {'faithfulness': 0.8000, 'answer_correctness':\n",
      "    0.2205, 'answer_relevancy': 0.0000}\n",
      "\n"
     ]
    },
    {
     "data": {
      "application/vnd.jupyter.widget-view+json": {
       "model_id": "03e6502ae4464dd386f5de5932ff66ca",
       "version_major": 2,
       "version_minor": 0
      },
      "text/plain": [
       "Evaluating:   0%|          | 0/3 [00:00<?, ?it/s]"
      ]
     },
     "metadata": {},
     "output_type": "display_data"
    },
    {
     "name": "stdout",
     "output_type": "stream",
     "text": [
      "[INFO] [2025-01-27T23:34:16.194Z] Scores for the question 31 of 50 : {'faithfulness': 0.3636, 'answer_correctness':\n",
      "    0.5699, 'answer_relevancy': 0.7535}\n",
      "\n"
     ]
    },
    {
     "data": {
      "application/vnd.jupyter.widget-view+json": {
       "model_id": "ee338b71cd914d5587cc743e89c58acb",
       "version_major": 2,
       "version_minor": 0
      },
      "text/plain": [
       "Evaluating:   0%|          | 0/3 [00:00<?, ?it/s]"
      ]
     },
     "metadata": {},
     "output_type": "display_data"
    },
    {
     "name": "stdout",
     "output_type": "stream",
     "text": [
      "[INFO] [2025-01-27T23:34:47.071Z] Scores for the question 32 of 50 : {'faithfulness': 1.0000, 'answer_correctness':\n",
      "    0.3749, 'answer_relevancy': 0.8771}\n",
      "\n"
     ]
    },
    {
     "data": {
      "application/vnd.jupyter.widget-view+json": {
       "model_id": "dfc5a18553e84c778bfee1f42bfc6b17",
       "version_major": 2,
       "version_minor": 0
      },
      "text/plain": [
       "Evaluating:   0%|          | 0/3 [00:00<?, ?it/s]"
      ]
     },
     "metadata": {},
     "output_type": "display_data"
    },
    {
     "name": "stdout",
     "output_type": "stream",
     "text": [
      "[INFO] [2025-01-27T23:35:22.844Z] Scores for the question 33 of 50 : {'faithfulness': 1.0000, 'answer_correctness':\n",
      "    0.6848, 'answer_relevancy': 0.7568}\n",
      "\n"
     ]
    },
    {
     "data": {
      "application/vnd.jupyter.widget-view+json": {
       "model_id": "54242cbb2d56438db3d2cb238772c558",
       "version_major": 2,
       "version_minor": 0
      },
      "text/plain": [
       "Evaluating:   0%|          | 0/3 [00:00<?, ?it/s]"
      ]
     },
     "metadata": {},
     "output_type": "display_data"
    },
    {
     "name": "stdout",
     "output_type": "stream",
     "text": [
      "[INFO] [2025-01-27T23:35:48.598Z] Scores for the question 34 of 50 : {'faithfulness': 0.9000, 'answer_correctness':\n",
      "    0.6055, 'answer_relevancy': 0.8540}\n",
      "\n"
     ]
    },
    {
     "data": {
      "application/vnd.jupyter.widget-view+json": {
       "model_id": "842617022bd44899a591176ae4fd893b",
       "version_major": 2,
       "version_minor": 0
      },
      "text/plain": [
       "Evaluating:   0%|          | 0/3 [00:00<?, ?it/s]"
      ]
     },
     "metadata": {},
     "output_type": "display_data"
    },
    {
     "name": "stdout",
     "output_type": "stream",
     "text": [
      "[INFO] [2025-01-27T23:36:11.753Z] Scores for the question 35 of 50 : {'faithfulness': 0.0833, 'answer_correctness':\n",
      "    0.4937, 'answer_relevancy': 0.8967}\n",
      "\n"
     ]
    },
    {
     "data": {
      "application/vnd.jupyter.widget-view+json": {
       "model_id": "e3586c30c87447808f87bc73a095ff0e",
       "version_major": 2,
       "version_minor": 0
      },
      "text/plain": [
       "Evaluating:   0%|          | 0/3 [00:00<?, ?it/s]"
      ]
     },
     "metadata": {},
     "output_type": "display_data"
    },
    {
     "name": "stdout",
     "output_type": "stream",
     "text": [
      "[INFO] [2025-01-27T23:36:24.739Z] Scores for the question 36 of 50 : {'faithfulness': 0.7500, 'answer_correctness':\n",
      "    0.5191, 'answer_relevancy': 0.0000}\n",
      "\n"
     ]
    },
    {
     "data": {
      "application/vnd.jupyter.widget-view+json": {
       "model_id": "a3f2eac877ec42d89fbc32546c902764",
       "version_major": 2,
       "version_minor": 0
      },
      "text/plain": [
       "Evaluating:   0%|          | 0/3 [00:00<?, ?it/s]"
      ]
     },
     "metadata": {},
     "output_type": "display_data"
    },
    {
     "name": "stdout",
     "output_type": "stream",
     "text": [
      "[INFO] [2025-01-27T23:36:45.456Z] Scores for the question 37 of 50 : {'faithfulness': 0.8000, 'answer_correctness':\n",
      "    0.7302, 'answer_relevancy': 0.0000}\n",
      "\n"
     ]
    },
    {
     "data": {
      "application/vnd.jupyter.widget-view+json": {
       "model_id": "f9b234f4ebb34a878b6c410a41b02254",
       "version_major": 2,
       "version_minor": 0
      },
      "text/plain": [
       "Evaluating:   0%|          | 0/3 [00:00<?, ?it/s]"
      ]
     },
     "metadata": {},
     "output_type": "display_data"
    },
    {
     "name": "stdout",
     "output_type": "stream",
     "text": [
      "[INFO] [2025-01-27T23:36:59.499Z] Scores for the question 38 of 50 : {'faithfulness': 1.0000, 'answer_correctness':\n",
      "    0.6597, 'answer_relevancy': 0.8960}\n",
      "\n"
     ]
    },
    {
     "data": {
      "application/vnd.jupyter.widget-view+json": {
       "model_id": "7af595e57b4543e1b38ec1cc31c25088",
       "version_major": 2,
       "version_minor": 0
      },
      "text/plain": [
       "Evaluating:   0%|          | 0/3 [00:00<?, ?it/s]"
      ]
     },
     "metadata": {},
     "output_type": "display_data"
    },
    {
     "name": "stdout",
     "output_type": "stream",
     "text": [
      "[INFO] [2025-01-27T23:37:21.345Z] Scores for the question 39 of 50 : {'faithfulness': 0.2857, 'answer_correctness':\n",
      "    0.2137, 'answer_relevancy': 0.0000}\n",
      "\n"
     ]
    },
    {
     "data": {
      "application/vnd.jupyter.widget-view+json": {
       "model_id": "4d37f5bf31ef4947beb4377a8cdd0c5d",
       "version_major": 2,
       "version_minor": 0
      },
      "text/plain": [
       "Evaluating:   0%|          | 0/3 [00:00<?, ?it/s]"
      ]
     },
     "metadata": {},
     "output_type": "display_data"
    },
    {
     "name": "stdout",
     "output_type": "stream",
     "text": [
      "[INFO] [2025-01-27T23:37:49.573Z] Scores for the question 40 of 50 : {'faithfulness': 0.3571, 'answer_correctness':\n",
      "    0.5210, 'answer_relevancy': 0.8599}\n",
      "\n"
     ]
    },
    {
     "data": {
      "application/vnd.jupyter.widget-view+json": {
       "model_id": "5342eb81a0e44f829231aa127c81c24b",
       "version_major": 2,
       "version_minor": 0
      },
      "text/plain": [
       "Evaluating:   0%|          | 0/3 [00:00<?, ?it/s]"
      ]
     },
     "metadata": {},
     "output_type": "display_data"
    },
    {
     "name": "stdout",
     "output_type": "stream",
     "text": [
      "[INFO] [2025-01-27T23:38:22.722Z] Scores for the question 41 of 50 : {'faithfulness': 0.2667, 'answer_correctness':\n",
      "    0.3746, 'answer_relevancy': 0.8083}\n",
      "\n"
     ]
    },
    {
     "data": {
      "application/vnd.jupyter.widget-view+json": {
       "model_id": "11f5862efc3d48939559a530af31970d",
       "version_major": 2,
       "version_minor": 0
      },
      "text/plain": [
       "Evaluating:   0%|          | 0/3 [00:00<?, ?it/s]"
      ]
     },
     "metadata": {},
     "output_type": "display_data"
    },
    {
     "name": "stdout",
     "output_type": "stream",
     "text": [
      "[INFO] [2025-01-27T23:38:45.086Z] Scores for the question 42 of 50 : {'faithfulness': 0.7500, 'answer_correctness':\n",
      "    0.5512, 'answer_relevancy': 0.0000}\n",
      "\n"
     ]
    },
    {
     "data": {
      "application/vnd.jupyter.widget-view+json": {
       "model_id": "fa2eba2b4bc946b19afaa438abc8293f",
       "version_major": 2,
       "version_minor": 0
      },
      "text/plain": [
       "Evaluating:   0%|          | 0/3 [00:00<?, ?it/s]"
      ]
     },
     "metadata": {},
     "output_type": "display_data"
    },
    {
     "name": "stdout",
     "output_type": "stream",
     "text": [
      "[INFO] [2025-01-27T23:39:04.111Z] Scores for the question 43 of 50 : {'faithfulness': 0.3000, 'answer_correctness':\n",
      "    0.4489, 'answer_relevancy': 0.9134}\n",
      "\n"
     ]
    },
    {
     "data": {
      "application/vnd.jupyter.widget-view+json": {
       "model_id": "3f8a6f7c772447df87077820699f7ffb",
       "version_major": 2,
       "version_minor": 0
      },
      "text/plain": [
       "Evaluating:   0%|          | 0/3 [00:00<?, ?it/s]"
      ]
     },
     "metadata": {},
     "output_type": "display_data"
    },
    {
     "name": "stdout",
     "output_type": "stream",
     "text": [
      "[INFO] [2025-01-27T23:39:20.653Z] Scores for the question 44 of 50 : {'faithfulness': 0.8750, 'answer_correctness':\n",
      "    0.8557, 'answer_relevancy': 0.9680}\n",
      "\n"
     ]
    },
    {
     "data": {
      "application/vnd.jupyter.widget-view+json": {
       "model_id": "486e9abef3b64a049db9e29e706b730e",
       "version_major": 2,
       "version_minor": 0
      },
      "text/plain": [
       "Evaluating:   0%|          | 0/3 [00:00<?, ?it/s]"
      ]
     },
     "metadata": {},
     "output_type": "display_data"
    },
    {
     "name": "stdout",
     "output_type": "stream",
     "text": [
      "[INFO] [2025-01-27T23:39:40.114Z] Scores for the question 45 of 50 : {'faithfulness': 0.8000, 'answer_correctness':\n",
      "    0.8263, 'answer_relevancy': 0.9621}\n",
      "\n"
     ]
    },
    {
     "data": {
      "application/vnd.jupyter.widget-view+json": {
       "model_id": "b87afa9a463f4e318081fe64f7ca75e7",
       "version_major": 2,
       "version_minor": 0
      },
      "text/plain": [
       "Evaluating:   0%|          | 0/3 [00:00<?, ?it/s]"
      ]
     },
     "metadata": {},
     "output_type": "display_data"
    },
    {
     "name": "stdout",
     "output_type": "stream",
     "text": [
      "[INFO] [2025-01-27T23:39:55.506Z] Scores for the question 46 of 50 : {'faithfulness': 1.0000, 'answer_correctness':\n",
      "    0.7313, 'answer_relevancy': 0.8639}\n",
      "\n"
     ]
    },
    {
     "data": {
      "application/vnd.jupyter.widget-view+json": {
       "model_id": "b55aedea101145fe9980c0af52780d4e",
       "version_major": 2,
       "version_minor": 0
      },
      "text/plain": [
       "Evaluating:   0%|          | 0/3 [00:00<?, ?it/s]"
      ]
     },
     "metadata": {},
     "output_type": "display_data"
    },
    {
     "name": "stdout",
     "output_type": "stream",
     "text": [
      "[INFO] [2025-01-27T23:40:18.204Z] Scores for the question 47 of 50 : {'faithfulness': 1.0000, 'answer_correctness':\n",
      "    0.8416, 'answer_relevancy': 0.8716}\n",
      "\n"
     ]
    },
    {
     "data": {
      "application/vnd.jupyter.widget-view+json": {
       "model_id": "f5bc28043dfd4e3e97506fbd9a9d6ea5",
       "version_major": 2,
       "version_minor": 0
      },
      "text/plain": [
       "Evaluating:   0%|          | 0/3 [00:00<?, ?it/s]"
      ]
     },
     "metadata": {},
     "output_type": "display_data"
    },
    {
     "name": "stdout",
     "output_type": "stream",
     "text": [
      "[INFO] [2025-01-27T23:40:29.782Z] Scores for the question 48 of 50 : {'faithfulness': 1.0000, 'answer_correctness':\n",
      "    0.8281, 'answer_relevancy': 0.0000}\n",
      "\n"
     ]
    },
    {
     "data": {
      "application/vnd.jupyter.widget-view+json": {
       "model_id": "c19149e4007e483590e38fdb76105ac9",
       "version_major": 2,
       "version_minor": 0
      },
      "text/plain": [
       "Evaluating:   0%|          | 0/3 [00:00<?, ?it/s]"
      ]
     },
     "metadata": {},
     "output_type": "display_data"
    },
    {
     "name": "stdout",
     "output_type": "stream",
     "text": [
      "[INFO] [2025-01-27T23:41:04.285Z] Scores for the question 49 of 50 : {'faithfulness': 1.0000, 'answer_correctness':\n",
      "    0.4761, 'answer_relevancy': 0.0000}\n",
      "\n"
     ]
    },
    {
     "data": {
      "application/vnd.jupyter.widget-view+json": {
       "model_id": "24ec46a712e7485199e913db251c020f",
       "version_major": 2,
       "version_minor": 0
      },
      "text/plain": [
       "Evaluating:   0%|          | 0/3 [00:00<?, ?it/s]"
      ]
     },
     "metadata": {},
     "output_type": "display_data"
    },
    {
     "name": "stdout",
     "output_type": "stream",
     "text": [
      "[INFO] [2025-01-27T23:41:15.758Z] Scores for the question 50 of 50 : {'faithfulness': 1.0000, 'answer_correctness':\n",
      "    0.7255, 'answer_relevancy': 0.7952}\n",
      "\n",
      "[INFO] [2025-01-27T23:41:15.778Z] Scores are saved to the file: '/Users/ondergormez/Repos/BLM5109_Collective_Learning/03\n",
      "    -Project/ragas_scores/2025_01_27-\n",
      "    13_00_31_gemma_2_9b_llm_answers_for_cntx_length_15_and_position_of_correct_answer_8_2025_01_27-\n",
      "    23_41_15_ragas_scores.csv'\n",
      "\n",
      "[INFO] [2025-01-27T23:41:15.780Z] Evaluating ragas score for the file:\n",
      "    2025_01_27-13_20_42_gemma_2_9b_llm_answers_for_cntx_length_15_and_position_of_correct_answer_15.csv\n",
      "\n",
      "[INFO] [2025-01-27T23:41:15.793Z] Shape of the dataframe: (50, 11)\n",
      "\n"
     ]
    },
    {
     "data": {
      "application/vnd.jupyter.widget-view+json": {
       "model_id": "eaa4814be69747028c4e99154fb76448",
       "version_major": 2,
       "version_minor": 0
      },
      "text/plain": [
       "Evaluating:   0%|          | 0/3 [00:00<?, ?it/s]"
      ]
     },
     "metadata": {},
     "output_type": "display_data"
    },
    {
     "name": "stdout",
     "output_type": "stream",
     "text": [
      "[INFO] [2025-01-27T23:41:39.143Z] Scores for the question 1 of 50 : {'faithfulness': 0.2000, 'answer_correctness':\n",
      "    0.7675, 'answer_relevancy': 0.8619}\n",
      "\n"
     ]
    },
    {
     "data": {
      "application/vnd.jupyter.widget-view+json": {
       "model_id": "906a399716b74c24998b9ee71dd480ce",
       "version_major": 2,
       "version_minor": 0
      },
      "text/plain": [
       "Evaluating:   0%|          | 0/3 [00:00<?, ?it/s]"
      ]
     },
     "metadata": {},
     "output_type": "display_data"
    },
    {
     "name": "stdout",
     "output_type": "stream",
     "text": [
      "[INFO] [2025-01-27T23:42:07.095Z] Scores for the question 2 of 50 : {'faithfulness': 0.9167, 'answer_correctness':\n",
      "    0.7597, 'answer_relevancy': 1.0000}\n",
      "\n"
     ]
    },
    {
     "data": {
      "application/vnd.jupyter.widget-view+json": {
       "model_id": "63c60ea0144b497fb9e78e7aa0d591bd",
       "version_major": 2,
       "version_minor": 0
      },
      "text/plain": [
       "Evaluating:   0%|          | 0/3 [00:00<?, ?it/s]"
      ]
     },
     "metadata": {},
     "output_type": "display_data"
    },
    {
     "name": "stdout",
     "output_type": "stream",
     "text": [
      "[INFO] [2025-01-27T23:42:37.738Z] Scores for the question 3 of 50 : {'faithfulness': 0.6000, 'answer_correctness':\n",
      "    0.6369, 'answer_relevancy': 0.9983}\n",
      "\n"
     ]
    },
    {
     "data": {
      "application/vnd.jupyter.widget-view+json": {
       "model_id": "2cd508b75fae41fb896883541440cb76",
       "version_major": 2,
       "version_minor": 0
      },
      "text/plain": [
       "Evaluating:   0%|          | 0/3 [00:00<?, ?it/s]"
      ]
     },
     "metadata": {},
     "output_type": "display_data"
    },
    {
     "name": "stdout",
     "output_type": "stream",
     "text": [
      "[INFO] [2025-01-27T23:42:57.523Z] Scores for the question 4 of 50 : {'faithfulness': 0.8000, 'answer_correctness':\n",
      "    0.5386, 'answer_relevancy': 0.8271}\n",
      "\n"
     ]
    },
    {
     "data": {
      "application/vnd.jupyter.widget-view+json": {
       "model_id": "316f86b424a441b5a28353ce61663af8",
       "version_major": 2,
       "version_minor": 0
      },
      "text/plain": [
       "Evaluating:   0%|          | 0/3 [00:00<?, ?it/s]"
      ]
     },
     "metadata": {},
     "output_type": "display_data"
    },
    {
     "name": "stdout",
     "output_type": "stream",
     "text": [
      "[INFO] [2025-01-27T23:43:12.031Z] Scores for the question 5 of 50 : {'faithfulness': 0.8000, 'answer_correctness':\n",
      "    0.8042, 'answer_relevancy': 0.9868}\n",
      "\n"
     ]
    },
    {
     "data": {
      "application/vnd.jupyter.widget-view+json": {
       "model_id": "b4ab22e33d6b491490954ff28d3c7859",
       "version_major": 2,
       "version_minor": 0
      },
      "text/plain": [
       "Evaluating:   0%|          | 0/3 [00:00<?, ?it/s]"
      ]
     },
     "metadata": {},
     "output_type": "display_data"
    },
    {
     "name": "stdout",
     "output_type": "stream",
     "text": [
      "[INFO] [2025-01-27T23:43:32.505Z] Scores for the question 6 of 50 : {'faithfulness': 0.8000, 'answer_correctness':\n",
      "    0.7325, 'answer_relevancy': 0.7974}\n",
      "\n"
     ]
    },
    {
     "data": {
      "application/vnd.jupyter.widget-view+json": {
       "model_id": "92052435a2e24e0a8674343b3b93f944",
       "version_major": 2,
       "version_minor": 0
      },
      "text/plain": [
       "Evaluating:   0%|          | 0/3 [00:00<?, ?it/s]"
      ]
     },
     "metadata": {},
     "output_type": "display_data"
    },
    {
     "name": "stdout",
     "output_type": "stream",
     "text": [
      "[INFO] [2025-01-27T23:43:47.081Z] Scores for the question 7 of 50 : {'faithfulness': 0.5000, 'answer_correctness':\n",
      "    0.9830, 'answer_relevancy': 0.8345}\n",
      "\n"
     ]
    },
    {
     "data": {
      "application/vnd.jupyter.widget-view+json": {
       "model_id": "b6cb53eaa829459b95b210d662e0fb5e",
       "version_major": 2,
       "version_minor": 0
      },
      "text/plain": [
       "Evaluating:   0%|          | 0/3 [00:00<?, ?it/s]"
      ]
     },
     "metadata": {},
     "output_type": "display_data"
    },
    {
     "name": "stdout",
     "output_type": "stream",
     "text": [
      "[INFO] [2025-01-27T23:43:59.870Z] Scores for the question 8 of 50 : {'faithfulness': 1.0000, 'answer_correctness':\n",
      "    0.7342, 'answer_relevancy': 0.9849}\n",
      "\n"
     ]
    },
    {
     "data": {
      "application/vnd.jupyter.widget-view+json": {
       "model_id": "5543474193e94dfd8393f3ff073b7849",
       "version_major": 2,
       "version_minor": 0
      },
      "text/plain": [
       "Evaluating:   0%|          | 0/3 [00:00<?, ?it/s]"
      ]
     },
     "metadata": {},
     "output_type": "display_data"
    },
    {
     "name": "stdout",
     "output_type": "stream",
     "text": [
      "[INFO] [2025-01-27T23:44:22.203Z] Scores for the question 9 of 50 : {'faithfulness': 0.4000, 'answer_correctness':\n",
      "    0.6381, 'answer_relevancy': 0.9808}\n",
      "\n"
     ]
    },
    {
     "data": {
      "application/vnd.jupyter.widget-view+json": {
       "model_id": "1ba22a69e23949e9bf25cedc938dc448",
       "version_major": 2,
       "version_minor": 0
      },
      "text/plain": [
       "Evaluating:   0%|          | 0/3 [00:00<?, ?it/s]"
      ]
     },
     "metadata": {},
     "output_type": "display_data"
    },
    {
     "name": "stdout",
     "output_type": "stream",
     "text": [
      "[INFO] [2025-01-27T23:44:41.398Z] Scores for the question 10 of 50 : {'faithfulness': 0.5000, 'answer_correctness':\n",
      "    0.8801, 'answer_relevancy': 0.8735}\n",
      "\n"
     ]
    },
    {
     "data": {
      "application/vnd.jupyter.widget-view+json": {
       "model_id": "9eb533e56782440fb095c809d5ff3766",
       "version_major": 2,
       "version_minor": 0
      },
      "text/plain": [
       "Evaluating:   0%|          | 0/3 [00:00<?, ?it/s]"
      ]
     },
     "metadata": {},
     "output_type": "display_data"
    },
    {
     "name": "stdout",
     "output_type": "stream",
     "text": [
      "[INFO] [2025-01-27T23:44:57.799Z] Scores for the question 11 of 50 : {'faithfulness': 0.4000, 'answer_correctness':\n",
      "    0.8656, 'answer_relevancy': 0.9641}\n",
      "\n"
     ]
    },
    {
     "data": {
      "application/vnd.jupyter.widget-view+json": {
       "model_id": "a5dc827f61884674b52d7c50fad898fb",
       "version_major": 2,
       "version_minor": 0
      },
      "text/plain": [
       "Evaluating:   0%|          | 0/3 [00:00<?, ?it/s]"
      ]
     },
     "metadata": {},
     "output_type": "display_data"
    },
    {
     "name": "stdout",
     "output_type": "stream",
     "text": [
      "[INFO] [2025-01-27T23:45:21.188Z] Scores for the question 12 of 50 : {'faithfulness': 1.0000, 'answer_correctness':\n",
      "    0.7596, 'answer_relevancy': 0.8444}\n",
      "\n"
     ]
    },
    {
     "data": {
      "application/vnd.jupyter.widget-view+json": {
       "model_id": "3c25e421dfa34c068f23458005f45be6",
       "version_major": 2,
       "version_minor": 0
      },
      "text/plain": [
       "Evaluating:   0%|          | 0/3 [00:00<?, ?it/s]"
      ]
     },
     "metadata": {},
     "output_type": "display_data"
    },
    {
     "name": "stdout",
     "output_type": "stream",
     "text": [
      "[INFO] [2025-01-27T23:45:37.224Z] Scores for the question 13 of 50 : {'faithfulness': 1.0000, 'answer_correctness':\n",
      "    0.9879, 'answer_relevancy': 0.8098}\n",
      "\n"
     ]
    },
    {
     "data": {
      "application/vnd.jupyter.widget-view+json": {
       "model_id": "b8f2cdeb716f401ab61e9b4ae4f2ccde",
       "version_major": 2,
       "version_minor": 0
      },
      "text/plain": [
       "Evaluating:   0%|          | 0/3 [00:00<?, ?it/s]"
      ]
     },
     "metadata": {},
     "output_type": "display_data"
    },
    {
     "name": "stdout",
     "output_type": "stream",
     "text": [
      "[INFO] [2025-01-27T23:45:54.508Z] Scores for the question 14 of 50 : {'faithfulness': 0.7143, 'answer_correctness':\n",
      "    0.8773, 'answer_relevancy': 0.8788}\n",
      "\n"
     ]
    },
    {
     "data": {
      "application/vnd.jupyter.widget-view+json": {
       "model_id": "f384a83c0511433d909a5faa3c33771a",
       "version_major": 2,
       "version_minor": 0
      },
      "text/plain": [
       "Evaluating:   0%|          | 0/3 [00:00<?, ?it/s]"
      ]
     },
     "metadata": {},
     "output_type": "display_data"
    },
    {
     "name": "stdout",
     "output_type": "stream",
     "text": [
      "[INFO] [2025-01-27T23:46:24.881Z] Scores for the question 15 of 50 : {'faithfulness': 0.7500, 'answer_correctness':\n",
      "    0.6118, 'answer_relevancy': 0.9156}\n",
      "\n"
     ]
    },
    {
     "data": {
      "application/vnd.jupyter.widget-view+json": {
       "model_id": "1a4613f3d0ca44de827d0924e0fc8f53",
       "version_major": 2,
       "version_minor": 0
      },
      "text/plain": [
       "Evaluating:   0%|          | 0/3 [00:00<?, ?it/s]"
      ]
     },
     "metadata": {},
     "output_type": "display_data"
    },
    {
     "name": "stdout",
     "output_type": "stream",
     "text": [
      "[INFO] [2025-01-27T23:46:52.363Z] Scores for the question 16 of 50 : {'faithfulness': 0.1111, 'answer_correctness':\n",
      "    0.8305, 'answer_relevancy': 0.8791}\n",
      "\n"
     ]
    },
    {
     "data": {
      "application/vnd.jupyter.widget-view+json": {
       "model_id": "bc9d06928c024d97ac5cb4975216dc93",
       "version_major": 2,
       "version_minor": 0
      },
      "text/plain": [
       "Evaluating:   0%|          | 0/3 [00:00<?, ?it/s]"
      ]
     },
     "metadata": {},
     "output_type": "display_data"
    },
    {
     "name": "stdout",
     "output_type": "stream",
     "text": [
      "[INFO] [2025-01-27T23:47:17.163Z] Scores for the question 17 of 50 : {'faithfulness': 1.0000, 'answer_correctness':\n",
      "    0.9363, 'answer_relevancy': 0.8507}\n",
      "\n"
     ]
    },
    {
     "data": {
      "application/vnd.jupyter.widget-view+json": {
       "model_id": "7ae5e80877e6491783894bf56c2e24fb",
       "version_major": 2,
       "version_minor": 0
      },
      "text/plain": [
       "Evaluating:   0%|          | 0/3 [00:00<?, ?it/s]"
      ]
     },
     "metadata": {},
     "output_type": "display_data"
    },
    {
     "name": "stdout",
     "output_type": "stream",
     "text": [
      "[INFO] [2025-01-27T23:47:30.278Z] Scores for the question 18 of 50 : {'faithfulness': 0.1667, 'answer_correctness':\n",
      "    0.8327, 'answer_relevancy': 0.9731}\n",
      "\n"
     ]
    },
    {
     "data": {
      "application/vnd.jupyter.widget-view+json": {
       "model_id": "c10c99c1c261453499895da45f9e6a79",
       "version_major": 2,
       "version_minor": 0
      },
      "text/plain": [
       "Evaluating:   0%|          | 0/3 [00:00<?, ?it/s]"
      ]
     },
     "metadata": {},
     "output_type": "display_data"
    },
    {
     "name": "stdout",
     "output_type": "stream",
     "text": [
      "[INFO] [2025-01-27T23:47:44.929Z] Scores for the question 19 of 50 : {'faithfulness': 0.4000, 'answer_correctness':\n",
      "    0.5280, 'answer_relevancy': 0.0000}\n",
      "\n"
     ]
    },
    {
     "data": {
      "application/vnd.jupyter.widget-view+json": {
       "model_id": "3f012fa16daf493ab4ff381c132640a7",
       "version_major": 2,
       "version_minor": 0
      },
      "text/plain": [
       "Evaluating:   0%|          | 0/3 [00:00<?, ?it/s]"
      ]
     },
     "metadata": {},
     "output_type": "display_data"
    },
    {
     "name": "stdout",
     "output_type": "stream",
     "text": [
      "[INFO] [2025-01-27T23:48:05.436Z] Scores for the question 20 of 50 : {'faithfulness': 0.6667, 'answer_correctness':\n",
      "    0.5894, 'answer_relevancy': 0.9461}\n",
      "\n"
     ]
    },
    {
     "data": {
      "application/vnd.jupyter.widget-view+json": {
       "model_id": "df83113af52f4546934a4c522694714a",
       "version_major": 2,
       "version_minor": 0
      },
      "text/plain": [
       "Evaluating:   0%|          | 0/3 [00:00<?, ?it/s]"
      ]
     },
     "metadata": {},
     "output_type": "display_data"
    },
    {
     "name": "stdout",
     "output_type": "stream",
     "text": [
      "[INFO] [2025-01-27T23:48:23.314Z] Scores for the question 21 of 50 : {'faithfulness': 0.7500, 'answer_correctness':\n",
      "    0.2274, 'answer_relevancy': 0.0000}\n",
      "\n"
     ]
    },
    {
     "data": {
      "application/vnd.jupyter.widget-view+json": {
       "model_id": "e5e9f63bf65448c59a2a7a33b985cbc0",
       "version_major": 2,
       "version_minor": 0
      },
      "text/plain": [
       "Evaluating:   0%|          | 0/3 [00:00<?, ?it/s]"
      ]
     },
     "metadata": {},
     "output_type": "display_data"
    },
    {
     "name": "stdout",
     "output_type": "stream",
     "text": [
      "[INFO] [2025-01-27T23:48:41.014Z] Scores for the question 22 of 50 : {'faithfulness': 0.5000, 'answer_correctness':\n",
      "    0.6642, 'answer_relevancy': 0.0000}\n",
      "\n"
     ]
    },
    {
     "data": {
      "application/vnd.jupyter.widget-view+json": {
       "model_id": "266cfa0a42ad4e00942c46b2ff28efa9",
       "version_major": 2,
       "version_minor": 0
      },
      "text/plain": [
       "Evaluating:   0%|          | 0/3 [00:00<?, ?it/s]"
      ]
     },
     "metadata": {},
     "output_type": "display_data"
    },
    {
     "name": "stdout",
     "output_type": "stream",
     "text": [
      "[INFO] [2025-01-27T23:48:57.097Z] Scores for the question 23 of 50 : {'faithfulness': 0.5000, 'answer_correctness':\n",
      "    0.5669, 'answer_relevancy': 0.8800}\n",
      "\n"
     ]
    },
    {
     "data": {
      "application/vnd.jupyter.widget-view+json": {
       "model_id": "b47a9fbba45948c18c286bb74887b284",
       "version_major": 2,
       "version_minor": 0
      },
      "text/plain": [
       "Evaluating:   0%|          | 0/3 [00:00<?, ?it/s]"
      ]
     },
     "metadata": {},
     "output_type": "display_data"
    },
    {
     "name": "stdout",
     "output_type": "stream",
     "text": [
      "[INFO] [2025-01-27T23:49:12.522Z] Scores for the question 24 of 50 : {'faithfulness': 1.0000, 'answer_correctness':\n",
      "    0.9860, 'answer_relevancy': 0.0000}\n",
      "\n"
     ]
    },
    {
     "data": {
      "application/vnd.jupyter.widget-view+json": {
       "model_id": "3016e087cb4346448ef4a5413d92a865",
       "version_major": 2,
       "version_minor": 0
      },
      "text/plain": [
       "Evaluating:   0%|          | 0/3 [00:00<?, ?it/s]"
      ]
     },
     "metadata": {},
     "output_type": "display_data"
    },
    {
     "name": "stdout",
     "output_type": "stream",
     "text": [
      "[INFO] [2025-01-27T23:49:42.165Z] Scores for the question 25 of 50 : {'faithfulness': 0.1250, 'answer_correctness':\n",
      "    0.7623, 'answer_relevancy': 0.8298}\n",
      "\n"
     ]
    },
    {
     "data": {
      "application/vnd.jupyter.widget-view+json": {
       "model_id": "5fe56f5c00ad437bbe9a1c1f437e6585",
       "version_major": 2,
       "version_minor": 0
      },
      "text/plain": [
       "Evaluating:   0%|          | 0/3 [00:00<?, ?it/s]"
      ]
     },
     "metadata": {},
     "output_type": "display_data"
    },
    {
     "name": "stdout",
     "output_type": "stream",
     "text": [
      "[INFO] [2025-01-27T23:50:03.725Z] Scores for the question 26 of 50 : {'faithfulness': 0.5556, 'answer_correctness':\n",
      "    0.4832, 'answer_relevancy': 0.0000}\n",
      "\n"
     ]
    },
    {
     "data": {
      "application/vnd.jupyter.widget-view+json": {
       "model_id": "2d1d1e33ad8d43be8dc26a260449490a",
       "version_major": 2,
       "version_minor": 0
      },
      "text/plain": [
       "Evaluating:   0%|          | 0/3 [00:00<?, ?it/s]"
      ]
     },
     "metadata": {},
     "output_type": "display_data"
    },
    {
     "name": "stdout",
     "output_type": "stream",
     "text": [
      "[INFO] [2025-01-27T23:50:15.933Z] Scores for the question 27 of 50 : {'faithfulness': 0.6667, 'answer_correctness':\n",
      "    0.7324, 'answer_relevancy': 0.8921}\n",
      "\n"
     ]
    },
    {
     "data": {
      "application/vnd.jupyter.widget-view+json": {
       "model_id": "6b825ee9ace84521855e21220e2b9a1c",
       "version_major": 2,
       "version_minor": 0
      },
      "text/plain": [
       "Evaluating:   0%|          | 0/3 [00:00<?, ?it/s]"
      ]
     },
     "metadata": {},
     "output_type": "display_data"
    },
    {
     "name": "stdout",
     "output_type": "stream",
     "text": [
      "[INFO] [2025-01-27T23:50:39.792Z] Scores for the question 28 of 50 : {'faithfulness': 0.8889, 'answer_correctness':\n",
      "    0.2024, 'answer_relevancy': 0.7753}\n",
      "\n"
     ]
    },
    {
     "data": {
      "application/vnd.jupyter.widget-view+json": {
       "model_id": "1659cc0a13db434ba715b41870648683",
       "version_major": 2,
       "version_minor": 0
      },
      "text/plain": [
       "Evaluating:   0%|          | 0/3 [00:00<?, ?it/s]"
      ]
     },
     "metadata": {},
     "output_type": "display_data"
    },
    {
     "name": "stdout",
     "output_type": "stream",
     "text": [
      "[INFO] [2025-01-27T23:51:05.847Z] Scores for the question 29 of 50 : {'faithfulness': 1.0000, 'answer_correctness':\n",
      "    0.8284, 'answer_relevancy': 0.8085}\n",
      "\n"
     ]
    },
    {
     "data": {
      "application/vnd.jupyter.widget-view+json": {
       "model_id": "0274249867614e9e8d2ebaa38b73f36b",
       "version_major": 2,
       "version_minor": 0
      },
      "text/plain": [
       "Evaluating:   0%|          | 0/3 [00:00<?, ?it/s]"
      ]
     },
     "metadata": {},
     "output_type": "display_data"
    },
    {
     "name": "stdout",
     "output_type": "stream",
     "text": [
      "[INFO] [2025-01-27T23:51:22.551Z] Scores for the question 30 of 50 : {'faithfulness': 0.7143, 'answer_correctness':\n",
      "    0.4191, 'answer_relevancy': 0.0000}\n",
      "\n"
     ]
    },
    {
     "data": {
      "application/vnd.jupyter.widget-view+json": {
       "model_id": "ea1040b3487e4d04bc320e36cca0f9d6",
       "version_major": 2,
       "version_minor": 0
      },
      "text/plain": [
       "Evaluating:   0%|          | 0/3 [00:00<?, ?it/s]"
      ]
     },
     "metadata": {},
     "output_type": "display_data"
    },
    {
     "name": "stdout",
     "output_type": "stream",
     "text": [
      "[INFO] [2025-01-27T23:51:44.077Z] Scores for the question 31 of 50 : {'faithfulness': 0.8333, 'answer_correctness':\n",
      "    0.5577, 'answer_relevancy': 0.7626}\n",
      "\n"
     ]
    },
    {
     "data": {
      "application/vnd.jupyter.widget-view+json": {
       "model_id": "8ad9b0e9bb9845429857ec6cb0517b80",
       "version_major": 2,
       "version_minor": 0
      },
      "text/plain": [
       "Evaluating:   0%|          | 0/3 [00:00<?, ?it/s]"
      ]
     },
     "metadata": {},
     "output_type": "display_data"
    },
    {
     "name": "stdout",
     "output_type": "stream",
     "text": [
      "[INFO] [2025-01-27T23:52:01.581Z] Scores for the question 32 of 50 : {'faithfulness': 1.0000, 'answer_correctness':\n",
      "    0.8385, 'answer_relevancy': 0.0000}\n",
      "\n"
     ]
    },
    {
     "data": {
      "application/vnd.jupyter.widget-view+json": {
       "model_id": "17c87e94a4fe415f94464577655d801a",
       "version_major": 2,
       "version_minor": 0
      },
      "text/plain": [
       "Evaluating:   0%|          | 0/3 [00:00<?, ?it/s]"
      ]
     },
     "metadata": {},
     "output_type": "display_data"
    },
    {
     "name": "stdout",
     "output_type": "stream",
     "text": [
      "[INFO] [2025-01-27T23:52:31.156Z] Scores for the question 33 of 50 : {'faithfulness': 1.0000, 'answer_correctness':\n",
      "    0.6811, 'answer_relevancy': 0.8391}\n",
      "\n"
     ]
    },
    {
     "data": {
      "application/vnd.jupyter.widget-view+json": {
       "model_id": "b4a3dfdda95644a1b0ca118807493fbb",
       "version_major": 2,
       "version_minor": 0
      },
      "text/plain": [
       "Evaluating:   0%|          | 0/3 [00:00<?, ?it/s]"
      ]
     },
     "metadata": {},
     "output_type": "display_data"
    },
    {
     "name": "stdout",
     "output_type": "stream",
     "text": [
      "[INFO] [2025-01-27T23:52:50.993Z] Scores for the question 34 of 50 : {'faithfulness': 0.6667, 'answer_correctness':\n",
      "    0.5294, 'answer_relevancy': 0.9426}\n",
      "\n"
     ]
    },
    {
     "data": {
      "application/vnd.jupyter.widget-view+json": {
       "model_id": "0c8ac422c0c9430c800b401987619b0c",
       "version_major": 2,
       "version_minor": 0
      },
      "text/plain": [
       "Evaluating:   0%|          | 0/3 [00:00<?, ?it/s]"
      ]
     },
     "metadata": {},
     "output_type": "display_data"
    },
    {
     "name": "stdout",
     "output_type": "stream",
     "text": [
      "[INFO] [2025-01-27T23:53:19.080Z] Scores for the question 35 of 50 : {'faithfulness': 0.0000, 'answer_correctness':\n",
      "    0.2893, 'answer_relevancy': 0.8037}\n",
      "\n"
     ]
    },
    {
     "data": {
      "application/vnd.jupyter.widget-view+json": {
       "model_id": "62f89774bfa84e9abea384656792c123",
       "version_major": 2,
       "version_minor": 0
      },
      "text/plain": [
       "Evaluating:   0%|          | 0/3 [00:00<?, ?it/s]"
      ]
     },
     "metadata": {},
     "output_type": "display_data"
    },
    {
     "name": "stdout",
     "output_type": "stream",
     "text": [
      "[INFO] [2025-01-27T23:53:36.547Z] Scores for the question 36 of 50 : {'faithfulness': 0.7500, 'answer_correctness':\n",
      "    0.4692, 'answer_relevancy': 0.0000}\n",
      "\n"
     ]
    },
    {
     "data": {
      "application/vnd.jupyter.widget-view+json": {
       "model_id": "3e62a3635a284deba9494d13662d7cfe",
       "version_major": 2,
       "version_minor": 0
      },
      "text/plain": [
       "Evaluating:   0%|          | 0/3 [00:00<?, ?it/s]"
      ]
     },
     "metadata": {},
     "output_type": "display_data"
    },
    {
     "name": "stdout",
     "output_type": "stream",
     "text": [
      "[INFO] [2025-01-27T23:54:02.697Z] Scores for the question 37 of 50 : {'faithfulness': 0.8462, 'answer_correctness':\n",
      "    0.9134, 'answer_relevancy': 0.0000}\n",
      "\n"
     ]
    },
    {
     "data": {
      "application/vnd.jupyter.widget-view+json": {
       "model_id": "26e35483d6be42429facbd86a9007cd3",
       "version_major": 2,
       "version_minor": 0
      },
      "text/plain": [
       "Evaluating:   0%|          | 0/3 [00:00<?, ?it/s]"
      ]
     },
     "metadata": {},
     "output_type": "display_data"
    },
    {
     "name": "stdout",
     "output_type": "stream",
     "text": [
      "[INFO] [2025-01-27T23:54:19.862Z] Scores for the question 38 of 50 : {'faithfulness': 0.8571, 'answer_correctness':\n",
      "    0.7406, 'answer_relevancy': 0.8946}\n",
      "\n"
     ]
    },
    {
     "data": {
      "application/vnd.jupyter.widget-view+json": {
       "model_id": "e3611f80ea924c86a5586af38651acfb",
       "version_major": 2,
       "version_minor": 0
      },
      "text/plain": [
       "Evaluating:   0%|          | 0/3 [00:00<?, ?it/s]"
      ]
     },
     "metadata": {},
     "output_type": "display_data"
    },
    {
     "name": "stdout",
     "output_type": "stream",
     "text": [
      "[INFO] [2025-01-27T23:54:45.363Z] Scores for the question 39 of 50 : {'faithfulness': 1.0000, 'answer_correctness':\n",
      "    0.1949, 'answer_relevancy': 0.6903}\n",
      "\n"
     ]
    },
    {
     "data": {
      "application/vnd.jupyter.widget-view+json": {
       "model_id": "35840360ec0144e3b9d1c9a2392d6e55",
       "version_major": 2,
       "version_minor": 0
      },
      "text/plain": [
       "Evaluating:   0%|          | 0/3 [00:00<?, ?it/s]"
      ]
     },
     "metadata": {},
     "output_type": "display_data"
    },
    {
     "name": "stdout",
     "output_type": "stream",
     "text": [
      "[INFO] [2025-01-27T23:55:04.570Z] Scores for the question 40 of 50 : {'faithfulness': 1.0000, 'answer_correctness':\n",
      "    0.7077, 'answer_relevancy': 0.8599}\n",
      "\n"
     ]
    },
    {
     "data": {
      "application/vnd.jupyter.widget-view+json": {
       "model_id": "7d94b228dce44a719373a30dd111da68",
       "version_major": 2,
       "version_minor": 0
      },
      "text/plain": [
       "Evaluating:   0%|          | 0/3 [00:00<?, ?it/s]"
      ]
     },
     "metadata": {},
     "output_type": "display_data"
    },
    {
     "name": "stdout",
     "output_type": "stream",
     "text": [
      "[INFO] [2025-01-27T23:55:23.359Z] Scores for the question 41 of 50 : {'faithfulness': 0.5000, 'answer_correctness':\n",
      "    0.7917, 'answer_relevancy': 0.8474}\n",
      "\n"
     ]
    },
    {
     "data": {
      "application/vnd.jupyter.widget-view+json": {
       "model_id": "3edb0463e0bb42ea805ef7d788db6d22",
       "version_major": 2,
       "version_minor": 0
      },
      "text/plain": [
       "Evaluating:   0%|          | 0/3 [00:00<?, ?it/s]"
      ]
     },
     "metadata": {},
     "output_type": "display_data"
    },
    {
     "name": "stdout",
     "output_type": "stream",
     "text": [
      "[INFO] [2025-01-27T23:55:42.638Z] Scores for the question 42 of 50 : {'faithfulness': 0.9000, 'answer_correctness':\n",
      "    0.4268, 'answer_relevancy': 0.0000}\n",
      "\n"
     ]
    },
    {
     "data": {
      "application/vnd.jupyter.widget-view+json": {
       "model_id": "5765fcb100d741789e88fc5f891bb11a",
       "version_major": 2,
       "version_minor": 0
      },
      "text/plain": [
       "Evaluating:   0%|          | 0/3 [00:00<?, ?it/s]"
      ]
     },
     "metadata": {},
     "output_type": "display_data"
    },
    {
     "name": "stdout",
     "output_type": "stream",
     "text": [
      "[INFO] [2025-01-27T23:56:04.624Z] Scores for the question 43 of 50 : {'faithfulness': 0.6667, 'answer_correctness':\n",
      "    0.5533, 'answer_relevancy': 0.9134}\n",
      "\n"
     ]
    },
    {
     "data": {
      "application/vnd.jupyter.widget-view+json": {
       "model_id": "c24430e5e0d448428840b4ee944a45a3",
       "version_major": 2,
       "version_minor": 0
      },
      "text/plain": [
       "Evaluating:   0%|          | 0/3 [00:00<?, ?it/s]"
      ]
     },
     "metadata": {},
     "output_type": "display_data"
    },
    {
     "name": "stdout",
     "output_type": "stream",
     "text": [
      "[INFO] [2025-01-27T23:56:22.026Z] Scores for the question 44 of 50 : {'faithfulness': 1.0000, 'answer_correctness':\n",
      "    0.9089, 'answer_relevancy': 0.9650}\n",
      "\n"
     ]
    },
    {
     "data": {
      "application/vnd.jupyter.widget-view+json": {
       "model_id": "21438b5e6c7648efb2da99d31e90e92c",
       "version_major": 2,
       "version_minor": 0
      },
      "text/plain": [
       "Evaluating:   0%|          | 0/3 [00:00<?, ?it/s]"
      ]
     },
     "metadata": {},
     "output_type": "display_data"
    },
    {
     "name": "stdout",
     "output_type": "stream",
     "text": [
      "[INFO] [2025-01-27T23:56:38.289Z] Scores for the question 45 of 50 : {'faithfulness': 0.6667, 'answer_correctness':\n",
      "    0.8310, 'answer_relevancy': 0.0000}\n",
      "\n"
     ]
    },
    {
     "data": {
      "application/vnd.jupyter.widget-view+json": {
       "model_id": "6f35a8386380499eae825d898a195e1d",
       "version_major": 2,
       "version_minor": 0
      },
      "text/plain": [
       "Evaluating:   0%|          | 0/3 [00:00<?, ?it/s]"
      ]
     },
     "metadata": {},
     "output_type": "display_data"
    },
    {
     "name": "stdout",
     "output_type": "stream",
     "text": [
      "[INFO] [2025-01-27T23:56:57.666Z] Scores for the question 46 of 50 : {'faithfulness': 1.0000, 'answer_correctness':\n",
      "    0.8326, 'answer_relevancy': 0.8423}\n",
      "\n"
     ]
    },
    {
     "data": {
      "application/vnd.jupyter.widget-view+json": {
       "model_id": "07588bd6bd34447790a6b616422a9672",
       "version_major": 2,
       "version_minor": 0
      },
      "text/plain": [
       "Evaluating:   0%|          | 0/3 [00:00<?, ?it/s]"
      ]
     },
     "metadata": {},
     "output_type": "display_data"
    },
    {
     "name": "stdout",
     "output_type": "stream",
     "text": [
      "[INFO] [2025-01-27T23:57:33.900Z] Scores for the question 47 of 50 : {'faithfulness': 0.4615, 'answer_correctness':\n",
      "    0.6995, 'answer_relevancy': 0.8750}\n",
      "\n"
     ]
    },
    {
     "data": {
      "application/vnd.jupyter.widget-view+json": {
       "model_id": "babd9ce13d6340219bdf3fc919256fbf",
       "version_major": 2,
       "version_minor": 0
      },
      "text/plain": [
       "Evaluating:   0%|          | 0/3 [00:00<?, ?it/s]"
      ]
     },
     "metadata": {},
     "output_type": "display_data"
    },
    {
     "name": "stdout",
     "output_type": "stream",
     "text": [
      "[INFO] [2025-01-27T23:57:43.823Z] Scores for the question 48 of 50 : {'faithfulness': 1.0000, 'answer_correctness':\n",
      "    0.6029, 'answer_relevancy': 0.8149}\n",
      "\n"
     ]
    },
    {
     "data": {
      "application/vnd.jupyter.widget-view+json": {
       "model_id": "15cf4748d960421a9d5e16bca8cf8db3",
       "version_major": 2,
       "version_minor": 0
      },
      "text/plain": [
       "Evaluating:   0%|          | 0/3 [00:00<?, ?it/s]"
      ]
     },
     "metadata": {},
     "output_type": "display_data"
    },
    {
     "name": "stdout",
     "output_type": "stream",
     "text": [
      "[INFO] [2025-01-27T23:58:11.892Z] Scores for the question 49 of 50 : {'faithfulness': 0.1250, 'answer_correctness':\n",
      "    0.6622, 'answer_relevancy': 0.0000}\n",
      "\n"
     ]
    },
    {
     "data": {
      "application/vnd.jupyter.widget-view+json": {
       "model_id": "f3483b8b36eb4ef5a06302e27d0dee0b",
       "version_major": 2,
       "version_minor": 0
      },
      "text/plain": [
       "Evaluating:   0%|          | 0/3 [00:00<?, ?it/s]"
      ]
     },
     "metadata": {},
     "output_type": "display_data"
    },
    {
     "name": "stdout",
     "output_type": "stream",
     "text": [
      "[INFO] [2025-01-27T23:58:25.963Z] Scores for the question 50 of 50 : {'faithfulness': 1.0000, 'answer_correctness':\n",
      "    0.9834, 'answer_relevancy': 0.9176}\n",
      "\n",
      "[INFO] [2025-01-27T23:58:25.984Z] Scores are saved to the file: '/Users/ondergormez/Repos/BLM5109_Collective_Learning/03\n",
      "    -Project/ragas_scores/2025_01_27-\n",
      "    13_20_42_gemma_2_9b_llm_answers_for_cntx_length_15_and_position_of_correct_answer_15_2025_01_27-\n",
      "    23_58_25_ragas_scores.csv'\n",
      "\n"
     ]
    }
   ],
   "source": [
    "ragas_scores_file_names = get_ragas_scores(gemma_llm_answers_task_b_file_names)"
   ]
  },
  {
   "cell_type": "code",
   "execution_count": 7,
   "metadata": {},
   "outputs": [
    {
     "data": {
      "text/plain": [
       "['/Users/ondergormez/Repos/BLM5109_Collective_Learning/03-Project/ragas_scores/2025_01_27-12_40_21_gemma_2_9b_llm_answers_for_cntx_length_15_and_position_of_correct_answer_1_2025_01_27-23_19_33_ragas_scores.csv',\n",
       " '/Users/ondergormez/Repos/BLM5109_Collective_Learning/03-Project/ragas_scores/2025_01_27-13_00_31_gemma_2_9b_llm_answers_for_cntx_length_15_and_position_of_correct_answer_8_2025_01_27-23_41_15_ragas_scores.csv',\n",
       " '/Users/ondergormez/Repos/BLM5109_Collective_Learning/03-Project/ragas_scores/2025_01_27-13_20_42_gemma_2_9b_llm_answers_for_cntx_length_15_and_position_of_correct_answer_15_2025_01_27-23_58_25_ragas_scores.csv']"
      ]
     },
     "execution_count": 7,
     "metadata": {},
     "output_type": "execute_result"
    }
   ],
   "source": [
    "ragas_scores_file_names"
   ]
  }
 ],
 "metadata": {
  "kernelspec": {
   "display_name": "python_3_12_2_venv",
   "language": "python",
   "name": "python3"
  },
  "language_info": {
   "codemirror_mode": {
    "name": "ipython",
    "version": 3
   },
   "file_extension": ".py",
   "mimetype": "text/x-python",
   "name": "python",
   "nbconvert_exporter": "python",
   "pygments_lexer": "ipython3",
   "version": "3.12.3"
  }
 },
 "nbformat": 4,
 "nbformat_minor": 2
}
